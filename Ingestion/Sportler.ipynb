{
  "nbformat": 4,
  "nbformat_minor": 0,
  "metadata": {
    "colab": {
      "name": "Sportler.ipynb",
      "provenance": [],
      "collapsed_sections": []
    },
    "kernelspec": {
      "name": "python3",
      "display_name": "Python 3"
    }
  },
  "cells": [
    {
      "cell_type": "code",
      "metadata": {
        "id": "6E11q1711nmO",
        "colab_type": "code",
        "colab": {
          "base_uri": "https://localhost:8080/",
          "height": 1000
        },
        "outputId": "26222f96-8f2f-4483-fd8c-b3cf9469511b"
      },
      "source": [
        "!pip install selenium\n",
        "!apt-get update\n",
        "!apt install chromium-chromedriver\n",
        "!cp /usr/lib/chromium-browser/chromedriver /usr/bin"
      ],
      "execution_count": null,
      "outputs": [
        {
          "output_type": "stream",
          "text": [
            "Collecting selenium\n",
            "\u001b[?25l  Downloading https://files.pythonhosted.org/packages/80/d6/4294f0b4bce4de0abf13e17190289f9d0613b0a44e5dd6a7f5ca98459853/selenium-3.141.0-py2.py3-none-any.whl (904kB)\n",
            "\u001b[K     |████████████████████████████████| 911kB 3.2MB/s \n",
            "\u001b[?25hRequirement already satisfied: urllib3 in /usr/local/lib/python3.6/dist-packages (from selenium) (1.24.3)\n",
            "Installing collected packages: selenium\n",
            "Successfully installed selenium-3.141.0\n",
            "Get:1 https://cloud.r-project.org/bin/linux/ubuntu bionic-cran35/ InRelease [3,626 B]\n",
            "Ign:2 https://developer.download.nvidia.com/compute/cuda/repos/ubuntu1804/x86_64  InRelease\n",
            "Ign:3 https://developer.download.nvidia.com/compute/machine-learning/repos/ubuntu1804/x86_64  InRelease\n",
            "Get:4 https://developer.download.nvidia.com/compute/cuda/repos/ubuntu1804/x86_64  Release [697 B]\n",
            "Get:5 http://security.ubuntu.com/ubuntu bionic-security InRelease [88.7 kB]\n",
            "Hit:6 https://developer.download.nvidia.com/compute/machine-learning/repos/ubuntu1804/x86_64  Release\n",
            "Get:7 https://developer.download.nvidia.com/compute/cuda/repos/ubuntu1804/x86_64  Release.gpg [836 B]\n",
            "Hit:8 http://ppa.launchpad.net/graphics-drivers/ppa/ubuntu bionic InRelease\n",
            "Hit:9 http://archive.ubuntu.com/ubuntu bionic InRelease\n",
            "Get:10 http://archive.ubuntu.com/ubuntu bionic-updates InRelease [88.7 kB]\n",
            "Get:11 http://ppa.launchpad.net/marutter/c2d4u3.5/ubuntu bionic InRelease [15.4 kB]\n",
            "Get:13 http://archive.ubuntu.com/ubuntu bionic-backports InRelease [74.6 kB]\n",
            "Ign:14 https://developer.download.nvidia.com/compute/cuda/repos/ubuntu1804/x86_64  Packages\n",
            "Get:14 https://developer.download.nvidia.com/compute/cuda/repos/ubuntu1804/x86_64  Packages [255 kB]\n",
            "Get:15 http://ppa.launchpad.net/marutter/c2d4u3.5/ubuntu bionic/main Sources [1,855 kB]\n",
            "Get:16 http://security.ubuntu.com/ubuntu bionic-security/universe amd64 Packages [882 kB]\n",
            "Get:17 http://archive.ubuntu.com/ubuntu bionic-updates/multiverse amd64 Packages [27.1 kB]\n",
            "Get:18 http://archive.ubuntu.com/ubuntu bionic-updates/universe amd64 Packages [1,413 kB]\n",
            "Get:19 http://security.ubuntu.com/ubuntu bionic-security/main amd64 Packages [1,037 kB]\n",
            "Get:20 http://archive.ubuntu.com/ubuntu bionic-updates/main amd64 Packages [1,334 kB]\n",
            "Get:21 http://archive.ubuntu.com/ubuntu bionic-updates/restricted amd64 Packages [116 kB]\n",
            "Get:22 http://ppa.launchpad.net/marutter/c2d4u3.5/ubuntu bionic/main amd64 Packages [895 kB]\n",
            "Fetched 8,088 kB in 3s (2,527 kB/s)\n",
            "Reading package lists... Done\n",
            "Reading package lists... Done\n",
            "Building dependency tree       \n",
            "Reading state information... Done\n",
            "The following package was automatically installed and is no longer required:\n",
            "  libnvidia-common-440\n",
            "Use 'apt autoremove' to remove it.\n",
            "The following additional packages will be installed:\n",
            "  chromium-browser chromium-browser-l10n chromium-codecs-ffmpeg-extra\n",
            "Suggested packages:\n",
            "  webaccounts-chromium-extension unity-chromium-extension adobe-flashplugin\n",
            "The following NEW packages will be installed:\n",
            "  chromium-browser chromium-browser-l10n chromium-chromedriver\n",
            "  chromium-codecs-ffmpeg-extra\n",
            "0 upgraded, 4 newly installed, 0 to remove and 50 not upgraded.\n",
            "Need to get 76.2 MB of archives.\n",
            "After this operation, 255 MB of additional disk space will be used.\n",
            "Get:1 http://archive.ubuntu.com/ubuntu bionic-updates/universe amd64 chromium-codecs-ffmpeg-extra amd64 84.0.4147.105-0ubuntu0.18.04.1 [1,118 kB]\n",
            "Get:2 http://archive.ubuntu.com/ubuntu bionic-updates/universe amd64 chromium-browser amd64 84.0.4147.105-0ubuntu0.18.04.1 [67.4 MB]\n",
            "Get:3 http://archive.ubuntu.com/ubuntu bionic-updates/universe amd64 chromium-browser-l10n all 84.0.4147.105-0ubuntu0.18.04.1 [3,379 kB]\n",
            "Get:4 http://archive.ubuntu.com/ubuntu bionic-updates/universe amd64 chromium-chromedriver amd64 84.0.4147.105-0ubuntu0.18.04.1 [4,354 kB]\n",
            "Fetched 76.2 MB in 4s (21.3 MB/s)\n",
            "Selecting previously unselected package chromium-codecs-ffmpeg-extra.\n",
            "(Reading database ... 144487 files and directories currently installed.)\n",
            "Preparing to unpack .../chromium-codecs-ffmpeg-extra_84.0.4147.105-0ubuntu0.18.04.1_amd64.deb ...\n",
            "Unpacking chromium-codecs-ffmpeg-extra (84.0.4147.105-0ubuntu0.18.04.1) ...\n",
            "Selecting previously unselected package chromium-browser.\n",
            "Preparing to unpack .../chromium-browser_84.0.4147.105-0ubuntu0.18.04.1_amd64.deb ...\n",
            "Unpacking chromium-browser (84.0.4147.105-0ubuntu0.18.04.1) ...\n",
            "Selecting previously unselected package chromium-browser-l10n.\n",
            "Preparing to unpack .../chromium-browser-l10n_84.0.4147.105-0ubuntu0.18.04.1_all.deb ...\n",
            "Unpacking chromium-browser-l10n (84.0.4147.105-0ubuntu0.18.04.1) ...\n",
            "Selecting previously unselected package chromium-chromedriver.\n",
            "Preparing to unpack .../chromium-chromedriver_84.0.4147.105-0ubuntu0.18.04.1_amd64.deb ...\n",
            "Unpacking chromium-chromedriver (84.0.4147.105-0ubuntu0.18.04.1) ...\n",
            "Setting up chromium-codecs-ffmpeg-extra (84.0.4147.105-0ubuntu0.18.04.1) ...\n",
            "Setting up chromium-browser (84.0.4147.105-0ubuntu0.18.04.1) ...\n",
            "update-alternatives: using /usr/bin/chromium-browser to provide /usr/bin/x-www-browser (x-www-browser) in auto mode\n",
            "update-alternatives: using /usr/bin/chromium-browser to provide /usr/bin/gnome-www-browser (gnome-www-browser) in auto mode\n",
            "Setting up chromium-chromedriver (84.0.4147.105-0ubuntu0.18.04.1) ...\n",
            "Setting up chromium-browser-l10n (84.0.4147.105-0ubuntu0.18.04.1) ...\n",
            "Processing triggers for hicolor-icon-theme (0.17-2) ...\n",
            "Processing triggers for mime-support (3.60ubuntu1) ...\n",
            "Processing triggers for man-db (2.8.3-2ubuntu0.1) ...\n",
            "cp: '/usr/lib/chromium-browser/chromedriver' and '/usr/bin/chromedriver' are the same file\n"
          ],
          "name": "stdout"
        }
      ]
    },
    {
      "cell_type": "code",
      "metadata": {
        "id": "YRt5yEXxA-jW",
        "colab_type": "code",
        "colab": {}
      },
      "source": [
        "import sys\n",
        "sys.path.insert(0,'/usr/lib/chromium-browser/chromedriver')\n",
        "from selenium import webdriver\n",
        "from tqdm import tqdm_notebook as tqdm\n",
        "import pandas\n",
        "import json\n",
        "import pprint"
      ],
      "execution_count": null,
      "outputs": []
    },
    {
      "cell_type": "code",
      "metadata": {
        "id": "DTfvdy_gBCBU",
        "colab_type": "code",
        "colab": {}
      },
      "source": [
        "chrome_options = webdriver.ChromeOptions()\n",
        "chrome_options.add_argument('--headless')\n",
        "chrome_options.add_argument('--no-sandbox')\n",
        "chrome_options.add_argument('--disable-dev-shm-usage')"
      ],
      "execution_count": null,
      "outputs": []
    },
    {
      "cell_type": "code",
      "metadata": {
        "id": "v0F53Zz7JRN2",
        "colab_type": "code",
        "colab": {
          "base_uri": "https://localhost:8080/",
          "height": 122
        },
        "outputId": "d4f647c3-6c66-4bc3-9e46-63ca494a5f11"
      },
      "source": [
        "from google.colab import drive\n",
        "drive.mount('/content/drive/')\n"
      ],
      "execution_count": null,
      "outputs": [
        {
          "output_type": "stream",
          "text": [
            "Go to this URL in a browser: https://accounts.google.com/o/oauth2/auth?client_id=947318989803-6bn6qk8qdgf4n4g3pfee6491hc0brc4i.apps.googleusercontent.com&redirect_uri=urn%3aietf%3awg%3aoauth%3a2.0%3aoob&response_type=code&scope=email%20https%3a%2f%2fwww.googleapis.com%2fauth%2fdocs.test%20https%3a%2f%2fwww.googleapis.com%2fauth%2fdrive%20https%3a%2f%2fwww.googleapis.com%2fauth%2fdrive.photos.readonly%20https%3a%2f%2fwww.googleapis.com%2fauth%2fpeopleapi.readonly\n",
            "\n",
            "Enter your authorization code:\n",
            "··········\n",
            "Mounted at /content/drive/\n"
          ],
          "name": "stdout"
        }
      ]
    },
    {
      "cell_type": "markdown",
      "metadata": {
        "id": "o2_06rHcDKyn",
        "colab_type": "text"
      },
      "source": [
        "**Iniziamo lo scraping su sportlter prendendo la sezione Uomo.**"
      ]
    },
    {
      "cell_type": "code",
      "metadata": {
        "id": "D6MLvqs9BIzI",
        "colab_type": "code",
        "colab": {
          "base_uri": "https://localhost:8080/",
          "height": 51
        },
        "outputId": "d9a8e6d4-7bd3-4451-bc76-6828cb1023b5"
      },
      "source": [
        "import time\n",
        "wd = webdriver.Chrome('chromedriver',chrome_options=chrome_options)\n",
        "wd.get(\"https://www.sportler.com/it/l/abbigliamento-running-uomo?pageResults=24&page=1\")\n",
        "time.sleep(3)\n",
        "wd.find_element_by_css_selector(\"button.iubenda-cs-accept-btn.iubenda-cs-btn-primary\").click()"
      ],
      "execution_count": null,
      "outputs": [
        {
          "output_type": "stream",
          "text": [
            "/usr/local/lib/python3.6/dist-packages/ipykernel_launcher.py:2: DeprecationWarning: use options instead of chrome_options\n",
            "  \n"
          ],
          "name": "stderr"
        }
      ]
    },
    {
      "cell_type": "code",
      "metadata": {
        "id": "iBCZSC4dWfKW",
        "colab_type": "code",
        "colab": {
          "base_uri": "https://localhost:8080/",
          "height": 357
        },
        "outputId": "2cb752a1-cf86-4f32-c17b-77f3893206db"
      },
      "source": [
        "wd.save_screenshot('screenshot.png')\n",
        "\n",
        "%pylab inline\n",
        "import matplotlib.pyplot as plt\n",
        "import matplotlib.image as mpimg\n",
        "img=mpimg.imread('/content/screenshot.png')\n",
        "imgplot = plt.imshow(img)\n",
        "plt.show()"
      ],
      "execution_count": null,
      "outputs": [
        {
          "output_type": "stream",
          "text": [
            "Populating the interactive namespace from numpy and matplotlib\n"
          ],
          "name": "stdout"
        },
        {
          "output_type": "stream",
          "text": [
            "/usr/local/lib/python3.6/dist-packages/IPython/core/magics/pylab.py:161: UserWarning: pylab import has clobbered these variables: ['f', 'randint']\n",
            "`%matplotlib` prevents importing * from pylab and numpy\n",
            "  \"\\n`%matplotlib` prevents importing * from pylab and numpy\"\n"
          ],
          "name": "stderr"
        },
        {
          "output_type": "display_data",
          "data": {
            "image/png": "[encoded data removed]",
            "text/plain": [
              "<Figure size 432x288 with 1 Axes>"
            ]
          },
          "metadata": {
            "tags": [],
            "needs_background": "light"
          }
        }
      ]
    },
    {
      "cell_type": "code",
      "metadata": {
        "id": "Eufjm-I1FUQU",
        "colab_type": "code",
        "colab": {}
      },
      "source": [
        "list_items = wd.find_elements_by_css_selector(\"div.singleProductBox\")"
      ],
      "execution_count": null,
      "outputs": []
    },
    {
      "cell_type": "code",
      "metadata": {
        "id": "3-rNpBLNN1N9",
        "colab_type": "code",
        "colab": {
          "base_uri": "https://localhost:8080/",
          "height": 38
        },
        "outputId": "042ded7f-c62d-4ec5-d521-a996c081f082"
      },
      "source": [
        "%%html\n",
        "<marquee style='width: 10%; color: orange;'><b>Let's Parse!</b></marquee>\n",
        "<marquee style='width: 10%; color: blue;'><b>Let's Parse!</b></marquee>\n",
        "<marquee style='width: 10%; color: pink;'><b>Let's Parse!</b></marquee>\n",
        "<marquee style='width: 10%; color: gold;'><b>Let's Parse!</b></marquee>\n",
        "<marquee style='width: 10%; color: green;'><b>Let's Parse!</b></marquee>\n",
        "<marquee style='width: 10%; color: black;'><b>Let's Parse!</b></marquee>\n",
        "<marquee style='width: 10%; color: purple;'><b>Let's Parse!</b></marquee>\n",
        "<marquee style='width: 10%; color: brown;'><b>Let's Parse!</b></marquee>\n",
        "<marquee style='width: 10%; color: silver;'><b>Let's Parse!</b></marquee>\n"
      ],
      "execution_count": null,
      "outputs": [
        {
          "output_type": "display_data",
          "data": {
            "text/html": [
              "<marquee style='width: 10%; color: orange;'><b>Let's Parse!</b></marquee>\n",
              "<marquee style='width: 10%; color: blue;'><b>Let's Parse!</b></marquee>\n",
              "<marquee style='width: 10%; color: pink;'><b>Let's Parse!</b></marquee>\n",
              "<marquee style='width: 10%; color: gold;'><b>Let's Parse!</b></marquee>\n",
              "<marquee style='width: 10%; color: green;'><b>Let's Parse!</b></marquee>\n",
              "<marquee style='width: 10%; color: black;'><b>Let's Parse!</b></marquee>\n",
              "<marquee style='width: 10%; color: purple;'><b>Let's Parse!</b></marquee>\n",
              "<marquee style='width: 10%; color: brown;'><b>Let's Parse!</b></marquee>\n",
              "<marquee style='width: 10%; color: silver;'><b>Let's Parse!</b></marquee>"
            ],
            "text/plain": [
              "<IPython.core.display.HTML object>"
            ]
          },
          "metadata": {
            "tags": []
          }
        }
      ]
    },
    {
      "cell_type": "markdown",
      "metadata": {
        "id": "9Sn0txryfR4c",
        "colab_type": "text"
      },
      "source": [
        "Defining Parse function to retrieve all products ID, URL, type and Gender"
      ]
    },
    {
      "cell_type": "code",
      "metadata": {
        "id": "tD3KLUrIfTJd",
        "colab_type": "code",
        "colab": {}
      },
      "source": [
        "def parse_project(item):\n",
        "  url = item.find_elements_by_css_selector(\"a\")[0].get_attribute(\"href\")\n",
        "  #ID is in URL. There are few products with 7 digits length ID\n",
        "  try: \n",
        "    id = str(re.findall(r'\\D([0-9]{8})\\D',url))[2:10]\n",
        "    if id==\"\":\n",
        "      id = str(re.findall(r'\\D([0-9]{7})\\D',url))[2:9]\n",
        "  except:\n",
        "    id='not exists'\n",
        "  if sex == 'uomo':\n",
        "    gender='man'\n",
        "  else:\n",
        "    gender='woman'  \n",
        "\n",
        "  #brand=item.find_elements_by_css_selector(\"h1 span.text-upercase\")[0].text\n",
        "  #name = item.find_elements_by_xpath(\"//*[@id='Detail_MainForm']/div/h1/span[3]\").text\n",
        "  return {'url': url,\n",
        "          'id': id,\n",
        "          'gender':sex,\n",
        "          'type':ty}\n"
      ],
      "execution_count": null,
      "outputs": []
    },
    {
      "cell_type": "markdown",
      "metadata": {
        "id": "SR-xG0FIgf7u",
        "colab_type": "text"
      },
      "source": [
        "**Download link and url for all pages for women and men and all types of products 'abbigliamento' and 'scarpe'**"
      ]
    },
    {
      "cell_type": "code",
      "metadata": {
        "id": "nkofmsCGgwQA",
        "colab_type": "code",
        "colab": {
          "base_uri": "https://localhost:8080/",
          "height": 1000
        },
        "outputId": "32c5f9c5-d9f7-4b29-830e-5543bb9c0201"
      },
      "source": [
        "import time\n",
        "import tqdm\n",
        "import pprint\n",
        "import itertools\n",
        "detail_items = []\n",
        "sex =['uomo','donna']\n",
        "type =['abbigliamento','scarpe']\n",
        "for ty, sex, num in itertools.product(type,sex,range(1,18)):\n",
        "  time.sleep(1)\n",
        "  wd.get(f\"https://www.sportler.com/it/l/{ty}-running-{sex}?pageResults=24&page={num}\")\n",
        "  time.sleep(2)\n",
        "  #wd.save_screenshot(f'screenshot_{num}.png')\n",
        "  items = list_items = wd.find_elements_by_css_selector(\"div.singleProductBox\")\n",
        "  for item in list_items:\n",
        "    detail_items.append(parse_project(item))\n",
        "  \n",
        "\n",
        "print(len(detail_items))\n",
        "pprint.pprint(detail_items)"
      ],
      "execution_count": null,
      "outputs": [
        {
          "output_type": "stream",
          "text": [
            "\u001b[1;30;43mStreaming output truncated to the last 5000 lines.\u001b[0m\n",
            "  'id': '10864305',\n",
            "  'type': 'abbigliamento',\n",
            "  'url': 'https://www.sportler.com/it/p/getfit-running-wind-giacca-running-uomo-10864305?filterFarbe=Black'},\n",
            " {'gender': 'uomo',\n",
            "  'id': '10839716',\n",
            "  'type': 'abbigliamento',\n",
            "  'url': 'https://www.sportler.com/it/p/adidas-fast-gfx-maglia-running-a-maniche-lunghe-uomo-10839716?filterFarbe=Black'},\n",
            " {'gender': 'uomo',\n",
            "  'id': '10865279',\n",
            "  'type': 'abbigliamento',\n",
            "  'url': 'https://www.sportler.com/it/p/salomon-outline-mid-giacca-in-pile-uomo-10865279?filterFarbe=Green'},\n",
            " {'gender': 'uomo',\n",
            "  'id': '10869815',\n",
            "  'type': 'abbigliamento',\n",
            "  'url': 'https://www.sportler.com/it/p/icebreaker-anatomica-briefs-slip-funzionale-uomo-10869815?filterFarbe=Black'},\n",
            " {'gender': 'uomo',\n",
            "  'id': '10865500',\n",
            "  'type': 'abbigliamento',\n",
            "  'url': 'https://www.sportler.com/it/p/uyn-motyon-2.0-maglietta-tecnica-uomo-10865500?filterFarbe=Black'},\n",
            " {'gender': 'uomo',\n",
            "  'id': '10839718',\n",
            "  'type': 'abbigliamento',\n",
            "  'url': 'https://www.sportler.com/it/p/adidas-own-the-run-2n1-pantaloni-running-uomo-10839718?filterFarbe=Black%2FRed'},\n",
            " {'gender': 'uomo',\n",
            "  'id': '10838392',\n",
            "  'type': 'abbigliamento',\n",
            "  'url': 'https://www.sportler.com/it/p/on-lightweight-pantaloni-corti-running-uomo-10838392?filterFarbe=Black'},\n",
            " {'gender': 'uomo',\n",
            "  'id': '10756200',\n",
            "  'type': 'abbigliamento',\n",
            "  'url': 'https://www.sportler.com/it/p/x-bionic-energizer-mk3-lt-singlet-maglietta-tecnica-uomo-10756200?filterFarbe=Black'},\n",
            " {'gender': 'uomo',\n",
            "  'id': '10839967',\n",
            "  'type': 'abbigliamento',\n",
            "  'url': 'https://www.sportler.com/it/p/odlo-millennium-linencool-maglia-running-uomo-10839967?filterFarbe=Grey'},\n",
            " {'gender': 'uomo',\n",
            "  'id': '10872120',\n",
            "  'type': 'abbigliamento',\n",
            "  'url': 'https://www.sportler.com/it/p/dynafit-alpine-2-pantaloni-corti-trail-running-uomo-10872120?filterFarbe=Black%2FDark+Grey'},\n",
            " {'gender': 'uomo',\n",
            "  'id': '10839964',\n",
            "  'type': 'abbigliamento',\n",
            "  'url': 'https://www.sportler.com/it/p/odlo-2-in-1-millennium-pro-pantaloni-running-uomo-10839964?filterFarbe=Black'},\n",
            " {'gender': 'uomo',\n",
            "  'id': '10839241',\n",
            "  'type': 'abbigliamento',\n",
            "  'url': 'https://www.sportler.com/it/p/salomon-exo-motion-twinskin-pantaloni-trail-running-uomo-10839241?filterFarbe=Red'},\n",
            " {'gender': 'uomo',\n",
            "  'id': '10839713',\n",
            "  'type': 'abbigliamento',\n",
            "  'url': 'https://www.sportler.com/it/p/adidas-own-the-run-maglia-running-uomo-10839713?filterFarbe=White'},\n",
            " {'gender': 'uomo',\n",
            "  'id': '10839939',\n",
            "  'type': 'abbigliamento',\n",
            "  'url': 'https://www.sportler.com/it/p/adidas-otr-singlet-3s-top-running-uomo-10839939?filterFarbe=Orange'},\n",
            " {'gender': 'uomo',\n",
            "  'id': '10864302',\n",
            "  'type': 'abbigliamento',\n",
            "  'url': 'https://www.sportler.com/it/p/getfit-perry-pantaloni-running-uomo-10864302?filterFarbe=Black'},\n",
            " {'gender': 'uomo',\n",
            "  'id': '10864297',\n",
            "  'type': 'abbigliamento',\n",
            "  'url': 'https://www.sportler.com/it/p/getfit-brent-top-running-uomo-10864297?filterFarbe=Grey'},\n",
            " {'gender': 'uomo',\n",
            "  'id': '10864296',\n",
            "  'type': 'abbigliamento',\n",
            "  'url': 'https://www.sportler.com/it/p/getfit-dorian-maglia-running-uomo-10864296?filterFarbe=Light+Blue'},\n",
            " {'gender': 'uomo',\n",
            "  'id': '10864301',\n",
            "  'type': 'abbigliamento',\n",
            "  'url': 'https://www.sportler.com/it/p/getfit-billy-5-pantaloni-corti-running-uomo-10864301?filterFarbe=Black'},\n",
            " {'gender': 'uomo',\n",
            "  'id': '10864303',\n",
            "  'type': 'abbigliamento',\n",
            "  'url': 'https://www.sportler.com/it/p/getfit-quentin-maglia-running-uomo-10864303?filterFarbe=Grey'},\n",
            " {'gender': 'uomo',\n",
            "  'id': '10829938',\n",
            "  'type': 'abbigliamento',\n",
            "  'url': 'https://www.sportler.com/it/p/nike-running-pantaloni-running-uomo-10829938?filterFarbe=Black'},\n",
            " {'gender': 'uomo',\n",
            "  'id': '10618422',\n",
            "  'type': 'abbigliamento',\n",
            "  'url': 'https://www.sportler.com/it/p/la-sportiva-advance-maglia-trail-running-uomo-10618422?filterFarbe=Light+Blue%2FBlue'},\n",
            " {'gender': 'uomo',\n",
            "  'id': '10839349',\n",
            "  'type': 'abbigliamento',\n",
            "  'url': 'https://www.sportler.com/it/p/la-sportiva-vert-top-trail-running-uomo-10839349?filterFarbe=Yellow'},\n",
            " {'gender': 'uomo',\n",
            "  'id': '10839346',\n",
            "  'type': 'abbigliamento',\n",
            "  'url': 'https://www.sportler.com/it/p/la-sportiva-slipstream-top-trail-running-uomo-10839346?filterFarbe=Black%2FYellow'},\n",
            " {'gender': 'uomo',\n",
            "  'id': '10839351',\n",
            "  'type': 'abbigliamento',\n",
            "  'url': 'https://www.sportler.com/it/p/la-sportiva-stream-maglia-trail-running-uomo-10839351?filterFarbe=Yellow%2FGrey'},\n",
            " {'gender': 'uomo',\n",
            "  'id': '10839352',\n",
            "  'type': 'abbigliamento',\n",
            "  'url': 'https://www.sportler.com/it/p/la-sportiva-complex-maglia-trail-running-uomo-10839352?filterFarbe=Blue%2FRed'},\n",
            " {'gender': 'uomo',\n",
            "  'id': '10839347',\n",
            "  'type': 'abbigliamento',\n",
            "  'url': 'https://www.sportler.com/it/p/la-sportiva-wave-maglia-trail-running-uomo-10839347?filterFarbe=Black%2FYellow'},\n",
            " {'gender': 'uomo',\n",
            "  'id': '10872131',\n",
            "  'type': 'abbigliamento',\n",
            "  'url': 'https://www.sportler.com/it/p/dynafit-elevation-maglia-trail-running-uomo-10872131?filterFarbe=Blue%2FLight+Blue'},\n",
            " {'gender': 'uomo',\n",
            "  'id': '10872775',\n",
            "  'type': 'abbigliamento',\n",
            "  'url': 'https://www.sportler.com/it/p/bv-sport-arx-manicotti-a-compressione-10872775?filterFarbe=Black'},\n",
            " {'gender': 'uomo',\n",
            "  'id': '10845873',\n",
            "  'type': 'abbigliamento',\n",
            "  'url': 'https://www.sportler.com/it/p/bv-sport-booster-original-gambali-compressivi-10845873?filterFarbe=Black'},\n",
            " {'gender': 'uomo',\n",
            "  'id': '10872757',\n",
            "  'type': 'abbigliamento',\n",
            "  'url': 'https://www.sportler.com/it/p/bv-sport-quadshort-csx-pantaloni-running-a-compressione-uomo-10872757?filterFarbe=Black'},\n",
            " {'gender': 'uomo',\n",
            "  'id': '10872762',\n",
            "  'type': 'abbigliamento',\n",
            "  'url': 'https://www.sportler.com/it/p/bv-sport-quadshort-csx-light-pantaloni-corti-a-compressione-uomo-10872762?filterFarbe=Black'},\n",
            " {'gender': 'uomo',\n",
            "  'id': '10872754',\n",
            "  'type': 'abbigliamento',\n",
            "  'url': 'https://www.sportler.com/it/p/bv-sport-csx-pro-pantaloni-corti-trail-running-a-compressione-uomo-10872754?filterFarbe=Black%2FGrey'},\n",
            " {'gender': 'uomo',\n",
            "  'id': '10856924',\n",
            "  'type': 'abbigliamento',\n",
            "  'url': 'https://www.sportler.com/it/p/salomon-agile-twinskin-pantaloni-corti-trail-running-uomo-10856924?filterFarbe=Light+Blue'},\n",
            " {'gender': 'uomo',\n",
            "  'id': '10830193',\n",
            "  'type': 'abbigliamento',\n",
            "  'url': 'https://www.sportler.com/it/p/nike-tech-pack-running-maglia-running-uomo-10830193?filterFarbe=Red'},\n",
            " {'gender': 'uomo',\n",
            "  'id': '10829936',\n",
            "  'type': 'abbigliamento',\n",
            "  'url': 'https://www.sportler.com/it/p/nike-essential-running-giacca-running-uomo-10829936?filterFarbe=Black'},\n",
            " {'gender': 'uomo',\n",
            "  'id': '10853460',\n",
            "  'type': 'abbigliamento',\n",
            "  'url': 'https://www.sportler.com/it/p/salomon-trail-gaiter-high-ghette-trailrunning-10853460?filterFarbe=Black%2FRed'},\n",
            " {'gender': 'uomo',\n",
            "  'id': '10872119',\n",
            "  'type': 'abbigliamento',\n",
            "  'url': 'https://www.sportler.com/it/p/dynafit-alpine-maglia-trail-running-uomo-10872119?filterFarbe=Grey%2FBlack%2FYellow'},\n",
            " {'gender': 'uomo',\n",
            "  'id': '10872110',\n",
            "  'type': 'abbigliamento',\n",
            "  'url': 'https://www.sportler.com/it/p/dynafit-transalper-hybrid-pantaloni-corti-speed-hiking-uomo-10872110?filterFarbe=Green%2FGrey%2FLight+Blue'},\n",
            " {'gender': 'uomo',\n",
            "  'id': '10872142',\n",
            "  'type': 'abbigliamento',\n",
            "  'url': 'https://www.sportler.com/it/p/dynafit-glockner-ultra-shakedry-giacca-in-gore-tex-uomo-10872142?filterFarbe=Grey%2FGreen'},\n",
            " {'gender': 'uomo',\n",
            "  'id': '10838993',\n",
            "  'type': 'abbigliamento',\n",
            "  'url': 'https://www.sportler.com/it/p/salomon-agile-training-t-shirt-uomo-10838993?filterFarbe=Grey'},\n",
            " {'gender': 'uomo',\n",
            "  'id': '10839518',\n",
            "  'type': 'abbigliamento',\n",
            "  'url': 'https://www.sportler.com/it/p/gore-wear-r5-maglia-running-uomo-10839518?filterFarbe=Grey%2FGreen'},\n",
            " {'gender': 'uomo',\n",
            "  'id': '10839516',\n",
            "  'type': 'abbigliamento',\n",
            "  'url': 'https://www.sportler.com/it/p/gore-wear-r7-partial-gore-tex-infinium-gilet-running-uomo-10839516?filterFarbe=Dark+Blue%2FLight+Blue'},\n",
            " {'gender': 'uomo',\n",
            "  'id': '10836689',\n",
            "  'type': 'abbigliamento',\n",
            "  'url': 'https://www.sportler.com/it/p/nike-dri-fit-miler-running-maglia-running-uomo-10836689?filterFarbe=White'},\n",
            " {'gender': 'uomo',\n",
            "  'id': '10830189',\n",
            "  'type': 'abbigliamento',\n",
            "  'url': 'https://www.sportler.com/it/p/nike-techknit-ultra-running-maglia-running-uomo-10830189?filterFarbe=Light+Blue'},\n",
            " {'gender': 'uomo',\n",
            "  'id': '10840658',\n",
            "  'type': 'abbigliamento',\n",
            "  'url': 'https://www.sportler.com/it/p/nike-phenom-running-pantaloni-running-uomo-10840658?filterFarbe=Black'},\n",
            " {'gender': 'uomo',\n",
            "  'id': '10830191',\n",
            "  'type': 'abbigliamento',\n",
            "  'url': 'https://www.sportler.com/it/p/nike-tech-pack-running-pantaloni-running-uomo-10830191?filterFarbe=Black'},\n",
            " {'gender': 'uomo',\n",
            "  'id': '10840916',\n",
            "  'type': 'abbigliamento',\n",
            "  'url': 'https://www.sportler.com/it/p/under-armour-qualifier-iso-chill-run-singlet-top-running-uomo-10840916?filterFarbe=Black'},\n",
            " {'gender': 'uomo',\n",
            "  'id': '10840906',\n",
            "  'type': 'abbigliamento',\n",
            "  'url': 'https://www.sportler.com/it/p/under-armour-launch-sw-5-pantaloni-corti-running-uomo-10840906?filterFarbe=Black'},\n",
            " {'gender': 'uomo',\n",
            "  'id': '10840912',\n",
            "  'type': 'abbigliamento',\n",
            "  'url': 'https://www.sportler.com/it/p/under-armour-qualifier-iso-chill-printed-run-maglia-running-uomo-10840912?filterFarbe=Black'},\n",
            " {'gender': 'uomo',\n",
            "  'id': '10840918',\n",
            "  'type': 'abbigliamento',\n",
            "  'url': 'https://www.sportler.com/it/p/under-armour-streaker-2.0-shift-crew-maglia-running-uomo-10840918?filterFarbe=Black'},\n",
            " {'gender': 'uomo',\n",
            "  'id': '10840915',\n",
            "  'type': 'abbigliamento',\n",
            "  'url': 'https://www.sportler.com/it/p/under-armour-qualifier-iso-chill-run-maglia-running-uomo-10840915?filterFarbe=Black'},\n",
            " {'gender': 'uomo',\n",
            "  'id': '10840914',\n",
            "  'type': 'abbigliamento',\n",
            "  'url': 'https://www.sportler.com/it/p/under-armour-qualifier-iso-chill-printed-top-running-uomo-10840914?filterFarbe=Blue'},\n",
            " {'gender': 'uomo',\n",
            "  'id': '10840909',\n",
            "  'type': 'abbigliamento',\n",
            "  'url': 'https://www.sportler.com/it/p/under-armour-storm-launch-2.0-giacca-running-uomo-10840909?filterFarbe=Black'},\n",
            " {'gender': 'uomo',\n",
            "  'id': '10863409',\n",
            "  'type': 'abbigliamento',\n",
            "  'url': 'https://www.sportler.com/it/p/getfit-hi-viz-riu-calzini-running-uomo-10863409?filterFarbe=Black'},\n",
            " {'gender': 'uomo',\n",
            "  'id': '10829939',\n",
            "  'type': 'abbigliamento',\n",
            "  'url': 'https://www.sportler.com/it/p/nike-dri-fit-miler-maglia-running-uomo-10829939?filterFarbe=Orange'},\n",
            " {'gender': 'uomo',\n",
            "  'id': '10829940',\n",
            "  'type': 'abbigliamento',\n",
            "  'url': 'https://www.sportler.com/it/p/nike-dri-fit-miler-running-maglia-running-uomo-10829940?filterFarbe=Black'},\n",
            " {'gender': 'uomo',\n",
            "  'id': '10829941',\n",
            "  'type': 'abbigliamento',\n",
            "  'url': 'https://www.sportler.com/it/p/nike-challenger-7-running-pantaloni-corti-running-uomo-10829941?filterFarbe=Black%2FWhite'},\n",
            " {'gender': 'uomo',\n",
            "  'id': '10830194',\n",
            "  'type': 'abbigliamento',\n",
            "  'url': 'https://www.sportler.com/it/p/nike-dri-fit-miler-maglia-running-uomo-10830194?filterFarbe=Grey'},\n",
            " {'gender': 'uomo',\n",
            "  'id': '10837089',\n",
            "  'type': 'abbigliamento',\n",
            "  'url': 'https://www.sportler.com/it/p/nike-challenger-7-running-pantaloni-corti-running-uomo-10837089?filterFarbe=Black'},\n",
            " {'gender': 'uomo',\n",
            "  'id': '10841022',\n",
            "  'type': 'abbigliamento',\n",
            "  'url': 'https://www.sportler.com/it/p/nike-windrunner-running-giacca-running-uomo-10841022?filterFarbe=Grey%2FOrange'},\n",
            " {'gender': 'uomo',\n",
            "  'id': '10830190',\n",
            "  'type': 'abbigliamento',\n",
            "  'url': 'https://www.sportler.com/it/p/nike-challenger-7-running-pantaloni-corti-running-uomo-10830190?filterFarbe=Black%2FGrey'},\n",
            " {'gender': 'uomo',\n",
            "  'id': '10830192',\n",
            "  'type': 'abbigliamento',\n",
            "  'url': 'https://www.sportler.com/it/p/nike-tech-pack-running-maglia-running-a-maniche-lunghe-uomo-10830192?filterFarbe=Blue'},\n",
            " {'gender': 'uomo',\n",
            "  'id': '10820907',\n",
            "  'type': 'abbigliamento',\n",
            "  'url': 'https://www.sportler.com/it/p/nike-long-sleeve-running-hybrid-maglia-a-maniche-lunghe-uomo-10820907?filterFarbe=Black'},\n",
            " {'gender': 'uomo',\n",
            "  'id': '10820584',\n",
            "  'type': 'abbigliamento',\n",
            "  'url': 'https://www.sportler.com/it/p/nike-shield-running-giacca-running-uomo-10820584?filterFarbe=Dark+Grey'},\n",
            " {'gender': 'uomo',\n",
            "  'id': '10832018',\n",
            "  'type': 'abbigliamento',\n",
            "  'url': 'https://www.sportler.com/it/p/nike-aeroloft-running-giacca-running-uomo-10832018?filterFarbe=Dark+Grey'},\n",
            " {'gender': 'uomo',\n",
            "  'id': '10786584',\n",
            "  'type': 'abbigliamento',\n",
            "  'url': 'https://www.sportler.com/it/p/uyn-running-alpha-ow-maglia-running-uomo-10786584?filterFarbe=Black'},\n",
            " {'gender': 'uomo',\n",
            "  'id': '10836687',\n",
            "  'type': 'abbigliamento',\n",
            "  'url': 'https://www.sportler.com/it/p/nike-essential-running-pantaloni-running-uomo-10836687?filterFarbe=Black'},\n",
            " {'gender': 'uomo',\n",
            "  'id': '10820902',\n",
            "  'type': 'abbigliamento',\n",
            "  'url': 'https://www.sportler.com/it/p/nike-phenom-running-pantaloni-running-uomo-10820902?filterFarbe=Black'},\n",
            " {'gender': 'uomo',\n",
            "  'id': '10788927',\n",
            "  'type': 'abbigliamento',\n",
            "  'url': 'https://www.sportler.com/it/p/adidas-phx-ii-giacca-con-cappuccio-running-uomo-10788927?filterFarbe=Black'},\n",
            " {'gender': 'uomo',\n",
            "  'id': '10820585',\n",
            "  'type': 'abbigliamento',\n",
            "  'url': 'https://www.sportler.com/it/p/nike-aeroloft-run-pantaloni-corti-running-uomo-10820585?filterFarbe=Dark+Grey'},\n",
            " {'gender': 'uomo',\n",
            "  'id': '10789092',\n",
            "  'type': 'abbigliamento',\n",
            "  'url': 'https://www.sportler.com/it/p/uyn-cashmere-shiny-calzamaglia-uomo-10789092?filterFarbe=Grey'},\n",
            " {'gender': 'uomo',\n",
            "  'id': '10791508',\n",
            "  'type': 'abbigliamento',\n",
            "  'url': 'https://www.sportler.com/it/p/x-bionic-energizer-4.0-p-m-calzamaglia-uomo-10791508?filterFarbe=Black'},\n",
            " {'gender': 'uomo',\n",
            "  'id': '10821214',\n",
            "  'type': 'abbigliamento',\n",
            "  'url': 'https://www.sportler.com/it/p/nike-long-sleeve-running-felpa-running-uomo-10821214?filterFarbe=Black'},\n",
            " {'gender': 'uomo',\n",
            "  'id': '10790170',\n",
            "  'type': 'abbigliamento',\n",
            "  'url': 'https://www.sportler.com/it/p/under-armour-rush-run-coldgear-maglia-running-con-zip-uomo-10790170?filterFarbe=Black'},\n",
            " {'gender': 'uomo',\n",
            "  'id': '10790171',\n",
            "  'type': 'abbigliamento',\n",
            "  'url': 'https://www.sportler.com/it/p/under-armour-rush-run-coldgear-pantaloni-lunghi-running-uomo-10790171?filterFarbe=Black'},\n",
            " {'gender': 'uomo',\n",
            "  'id': '10830968',\n",
            "  'type': 'abbigliamento',\n",
            "  'url': 'https://www.sportler.com/it/p/nike-reversible-neck-warmer-scaldacollo-10830968?filterFarbe=Black%2FGrey'},\n",
            " {'gender': 'uomo',\n",
            "  'id': '10830967',\n",
            "  'type': 'abbigliamento',\n",
            "  'url': 'https://www.sportler.com/it/p/nike-jordan-sphere-cold-weather-guanti-10830967?filterFarbe=Black%2FGrey'},\n",
            " {'gender': 'uomo',\n",
            "  'id': '10783254',\n",
            "  'type': 'abbigliamento',\n",
            "  'url': 'https://www.sportler.com/it/p/odlo-midlayer-1-2-zip-ceramiwarm-maglia-running-con-zip-1-2-uomo-10783254?filterFarbe=Yellow%2FLight+Grey'},\n",
            " {'gender': 'uomo',\n",
            "  'id': '10820911',\n",
            "  'type': 'abbigliamento',\n",
            "  'url': 'https://www.sportler.com/it/p/nike-miler-long-sleeve-running-maglia-running-a-maniche-lunghe-uomo-10820911?filterFarbe=Light+Blue'},\n",
            " {'gender': 'uomo',\n",
            "  'id': '10821217',\n",
            "  'type': 'abbigliamento',\n",
            "  'url': 'https://www.sportler.com/it/p/nike-therma-repel-running-pantaloni-running-uomo-10821217?filterFarbe=Black'},\n",
            " {'gender': 'uomo',\n",
            "  'id': '10820904',\n",
            "  'type': 'abbigliamento',\n",
            "  'url': 'https://www.sportler.com/it/p/nike-aerolayer-run-gilet-running-uomo-10820904?filterFarbe=Black'},\n",
            " {'gender': 'uomo',\n",
            "  'id': '10827223',\n",
            "  'type': 'abbigliamento',\n",
            "  'url': 'https://www.sportler.com/it/p/getfit-top-maglia-a-maniche-lunghe-running-uomo-10827223?filterFarbe=Black'},\n",
            " {'gender': 'uomo',\n",
            "  'id': '10827230',\n",
            "  'type': 'abbigliamento',\n",
            "  'url': 'https://www.sportler.com/it/p/getfit-men-200-gr-pantaloni-lunghi-running-uomo-10827230?filterFarbe=Black'},\n",
            " {'gender': 'uomo',\n",
            "  'id': '10784785',\n",
            "  'type': 'abbigliamento',\n",
            "  'url': 'https://www.sportler.com/it/p/nike-sphere-run-gloves-2.0-guanti-running-uomo-10784785?filterFarbe=Black%2FGrey'},\n",
            " {'gender': 'uomo',\n",
            "  'id': '10823634',\n",
            "  'type': 'abbigliamento',\n",
            "  'url': 'https://www.sportler.com/it/p/nike-knitted-tech-and-grip-guanti-running-10823634?filterFarbe=Black%2FGrey'},\n",
            " {'gender': 'uomo',\n",
            "  'id': '10784783',\n",
            "  'type': 'abbigliamento',\n",
            "  'url': 'https://www.sportler.com/it/p/nike-run-therma-sphere-hood-3.0-berretto-passamontagna-running-10784783?filterFarbe=Black%2FGrey'},\n",
            " {'gender': 'uomo',\n",
            "  'id': '10801283',\n",
            "  'type': 'abbigliamento',\n",
            "  'url': 'https://www.sportler.com/it/p/buff-original-scaldacollo-10801283?filterFarbe=Black'},\n",
            " {'gender': 'uomo',\n",
            "  'id': '10801285',\n",
            "  'type': 'abbigliamento',\n",
            "  'url': 'https://www.sportler.com/it/p/buff-thermonet-scaldacollo-10801285?filterFarbe=Blue%2FYellow'},\n",
            " {'gender': 'uomo',\n",
            "  'id': '10829011',\n",
            "  'type': 'abbigliamento',\n",
            "  'url': 'https://www.sportler.com/it/p/under-armour-qualifier-camo-maglia-running-con-zip-uomo-10829011?filterFarbe=White'},\n",
            " {'gender': 'uomo',\n",
            "  'id': '10789081',\n",
            "  'type': 'abbigliamento',\n",
            "  'url': 'https://www.sportler.com/it/p/uyn-evolutyon-calzamaglia-uomo-10789081?filterFarbe=Black'},\n",
            " {'gender': 'uomo',\n",
            "  'id': '10789082',\n",
            "  'type': 'abbigliamento',\n",
            "  'url': 'https://www.sportler.com/it/p/uyn-ambityon-calzamaglia-uomo-10789082?filterFarbe=Grey%2FOrange%2FYellow'},\n",
            " {'gender': 'uomo',\n",
            "  'id': '10783230',\n",
            "  'type': 'abbigliamento',\n",
            "  'url': 'https://www.sportler.com/it/p/nike-flex-stride-5-pantaloncini-running-uomo-10783230?filterFarbe=Black'},\n",
            " {'gender': 'uomo',\n",
            "  'id': '10829020',\n",
            "  'type': 'abbigliamento',\n",
            "  'url': 'https://www.sportler.com/it/p/under-armour-qualifier-zip-maglia-running-uomo-10829020?filterFarbe=Black'},\n",
            " {'gender': 'uomo',\n",
            "  'id': '10829003',\n",
            "  'type': 'abbigliamento',\n",
            "  'url': 'https://www.sportler.com/it/p/under-armour-outrun-the-storm-giacca-running-uomo-10829003?filterFarbe=Black'},\n",
            " {'gender': 'uomo',\n",
            "  'id': '10829002',\n",
            "  'type': 'abbigliamento',\n",
            "  'url': 'https://www.sportler.com/it/p/under-armour-perpetual-storm-run-giacca-running-uomo-10829002?filterFarbe=Brown'},\n",
            " {'gender': 'uomo',\n",
            "  'id': '10784628',\n",
            "  'type': 'abbigliamento',\n",
            "  'url': 'https://www.sportler.com/it/p/gore-wear-mid-long-sleeve-zip-maglia-running-con-zip-1-2-uomo-10784628?filterFarbe=Blue'},\n",
            " {'gender': 'uomo',\n",
            "  'id': '10784641',\n",
            "  'type': 'abbigliamento',\n",
            "  'url': 'https://www.sportler.com/it/p/gore-wear-r3-mid-tights-pantaloni-running-uomo-10784641?filterFarbe=Black%2FYellow'},\n",
            " {'gender': 'uomo',\n",
            "  'id': '10783232',\n",
            "  'type': 'abbigliamento',\n",
            "  'url': 'https://www.sportler.com/it/p/nike-dri-fit-maglia-running-uomo-10783232?filterFarbe=Black'},\n",
            " {'gender': 'uomo',\n",
            "  'id': '10778236',\n",
            "  'type': 'abbigliamento',\n",
            "  'url': 'https://www.sportler.com/it/p/nike-flex-stride-5-running-pantaloni-corti-running-uomo-10778236?filterFarbe=Black'},\n",
            " {'gender': 'uomo',\n",
            "  'id': '10783228',\n",
            "  'type': 'abbigliamento',\n",
            "  'url': 'https://www.sportler.com/it/p/nike-rise-365-maglia-running-uomo-10783228?filterFarbe=White'},\n",
            " {'gender': 'uomo',\n",
            "  'id': '10783227',\n",
            "  'type': 'abbigliamento',\n",
            "  'url': 'https://www.sportler.com/it/p/nike-windrunner-giacca-running-uomo-10783227?filterFarbe=Black'},\n",
            " {'gender': 'uomo',\n",
            "  'id': '10784652',\n",
            "  'type': 'abbigliamento',\n",
            "  'url': 'https://www.sportler.com/it/p/gore-wear-gore-tex-infinium-windstopper-gloves-guanti-running-10784652?filterFarbe=Black'},\n",
            " {'gender': 'uomo',\n",
            "  'id': '10784633',\n",
            "  'type': 'abbigliamento',\n",
            "  'url': 'https://www.sportler.com/it/p/gore-wear-r3-thermo-tights-pantaloni-running-uomo-10784633?filterFarbe=Black'},\n",
            " {'gender': 'uomo',\n",
            "  'id': '10784626',\n",
            "  'type': 'abbigliamento',\n",
            "  'url': 'https://www.sportler.com/it/p/gore-wear-thermo-long-sleeve-zip-maglia-running-uomo-10784626?filterFarbe=Black%2FYellow'},\n",
            " {'gender': 'uomo',\n",
            "  'id': '10784514',\n",
            "  'type': 'abbigliamento',\n",
            "  'url': 'https://www.sportler.com/it/p/gore-wear-r5-gore-tex-infinitum-persistent-giacca-running-uomo-10784514?filterFarbe=Black%2FYellow'},\n",
            " {'gender': 'uomo',\n",
            "  'id': '10784625',\n",
            "  'type': 'abbigliamento',\n",
            "  'url': 'https://www.sportler.com/it/p/gore-wear-c5-windstopper-insulated-pantaloni-corti-softshell-running-uomo-10784625?filterFarbe=Black'},\n",
            " {'gender': 'uomo',\n",
            "  'id': '10780979',\n",
            "  'type': 'abbigliamento',\n",
            "  'url': 'https://www.sportler.com/it/p/nike-mesh-running-maglia-running-uomo-10780979?filterFarbe=Black'},\n",
            " {'gender': 'uomo',\n",
            "  'id': '10781290',\n",
            "  'type': 'abbigliamento',\n",
            "  'url': 'https://www.sportler.com/it/p/nike-phenom-track-running-pantaloni-lunghi-running-uomo-10781290?filterFarbe=Grey'},\n",
            " {'gender': 'uomo',\n",
            "  'id': '10824050',\n",
            "  'type': 'abbigliamento',\n",
            "  'url': 'https://www.sportler.com/it/p/under-armour-storm-fleece-berretto-running-uomo-10824050?filterFarbe=Black'},\n",
            " {'gender': 'uomo',\n",
            "  'id': '10702309',\n",
            "  'type': 'abbigliamento',\n",
            "  'url': 'https://www.sportler.com/it/p/under-armour-launch-sw-7-short-pantaloni-corti-running-uomo-10702309?filterFarbe=Black%2FLight+Grey'},\n",
            " {'gender': 'uomo',\n",
            "  'id': '10781292',\n",
            "  'type': 'abbigliamento',\n",
            "  'url': 'https://www.sportler.com/it/p/nike-packable-running-giacca-running-uomo-10781292?filterFarbe=Multicolor'},\n",
            " {'gender': 'uomo',\n",
            "  'id': '10802446',\n",
            "  'type': 'abbigliamento',\n",
            "  'url': 'https://www.sportler.com/it/p/on-weather-shirt-maglia-running-uomo-10802446?filterFarbe=Dark+Green'},\n",
            " {'gender': 'uomo',\n",
            "  'id': '10802441',\n",
            "  'type': 'abbigliamento',\n",
            "  'url': 'https://www.sportler.com/it/p/on-waterproof-anorak-giacca-antipioggia-uomo-10802441?filterFarbe=Blue'},\n",
            " {'gender': 'uomo',\n",
            "  'id': '10781294',\n",
            "  'type': 'abbigliamento',\n",
            "  'url': 'https://www.sportler.com/it/p/nike-mesh-running-top-running-uomo-10781294?filterFarbe=Light+Blue'},\n",
            " {'gender': 'uomo',\n",
            "  'id': '10780983',\n",
            "  'type': 'abbigliamento',\n",
            "  'url': 'https://www.sportler.com/it/p/nike-techknit-ultra-running-maglia-running-uomo-10780983?filterFarbe=Yellow'},\n",
            " {'gender': 'uomo',\n",
            "  'id': '10780981',\n",
            "  'type': 'abbigliamento',\n",
            "  'url': 'https://www.sportler.com/it/p/nike-vaporknit-1-2-length-running-pantaloni-corti-running-uomo-10780981?filterFarbe=Black'},\n",
            " {'gender': 'uomo',\n",
            "  'id': '10780980',\n",
            "  'type': 'abbigliamento',\n",
            "  'url': 'https://www.sportler.com/it/p/nike-vaporknit-2-running-pantaloni-corti-running-uomo-10780980?filterFarbe=Black'},\n",
            " {'gender': 'uomo',\n",
            "  'id': '10781307',\n",
            "  'type': 'abbigliamento',\n",
            "  'url': 'https://www.sportler.com/it/p/nike-element-3.0-1-2-zip-running-crew-maglia-running-a-maniche-lunghe-uomo-10781307?filterFarbe=Black'},\n",
            " {'gender': 'uomo',\n",
            "  'id': '10779387',\n",
            "  'type': 'abbigliamento',\n",
            "  'url': 'https://www.sportler.com/it/p/odlo-suw-cn-singlet-active-2-pack-maglietta-tecnica-uomo-10779387?filterFarbe=Black%2FWhite'},\n",
            " {'gender': 'uomo',\n",
            "  'id': '10788039',\n",
            "  'type': 'abbigliamento',\n",
            "  'url': 'https://www.sportler.com/it/p/under-armour-storm-gaiter-scaldacollo-10788039?filterFarbe=Black%2FGrey'},\n",
            " {'gender': 'uomo',\n",
            "  'id': '10781918',\n",
            "  'type': 'abbigliamento',\n",
            "  'url': 'https://www.sportler.com/it/p/adidas-25-7-runr-parley-t-shirt-running-uomo-10781918?filterFarbe=Black'},\n",
            " {'gender': 'uomo',\n",
            "  'id': '10780977',\n",
            "  'type': 'abbigliamento',\n",
            "  'url': 'https://www.sportler.com/it/p/nike-tech-running-top-running-uomo-10780977?filterFarbe=Orange'},\n",
            " {'gender': 'uomo',\n",
            "  'id': '10780975',\n",
            "  'type': 'abbigliamento',\n",
            "  'url': 'https://www.sportler.com/it/p/nike-running-maglia-running-uomo-10780975?filterFarbe=Light+Grey'},\n",
            " {'gender': 'uomo',\n",
            "  'id': '10782747',\n",
            "  'type': 'abbigliamento',\n",
            "  'url': 'https://www.sportler.com/it/p/under-armour-streaker-2.0-maglia-con-zip-running-uomo-10782747?filterFarbe=Black'},\n",
            " {'gender': 'uomo',\n",
            "  'id': '10782998',\n",
            "  'type': 'abbigliamento',\n",
            "  'url': 'https://www.sportler.com/it/p/under-armour-rush-run-canotta-running-uomo-10782998?filterFarbe=Black'},\n",
            " {'gender': 'uomo',\n",
            "  'id': '10782759',\n",
            "  'type': 'abbigliamento',\n",
            "  'url': 'https://www.sportler.com/it/p/under-armour-qualifier-heatgear-pantaloni-running-uomo-10782759?filterFarbe=%3F%3F%3F'},\n",
            " {'gender': 'uomo',\n",
            "  'id': '10782763',\n",
            "  'type': 'abbigliamento',\n",
            "  'url': 'https://www.sportler.com/it/p/under-armour-rush-run-t-shirt-running-uomo-10782763?filterFarbe=Black'},\n",
            " {'gender': 'uomo',\n",
            "  'id': '10782997',\n",
            "  'type': 'abbigliamento',\n",
            "  'url': 'https://www.sportler.com/it/p/under-armour-rush-run-pantaloni-corti-running-uomo-10782997?filterFarbe=Black'},\n",
            " {'gender': 'uomo',\n",
            "  'id': '10782744',\n",
            "  'type': 'abbigliamento',\n",
            "  'url': 'https://www.sportler.com/it/p/under-armour-qualifier-speedpocket-pantaloni-corti-running-uomo-10782744?filterFarbe=Black'},\n",
            " {'gender': 'uomo',\n",
            "  'id': '10782746',\n",
            "  'type': 'abbigliamento',\n",
            "  'url': 'https://www.sportler.com/it/p/under-armour-streaker-2.0-maglia-running-uomo-10782746?filterFarbe=Black'},\n",
            " {'gender': 'uomo',\n",
            "  'id': '10782757',\n",
            "  'type': 'abbigliamento',\n",
            "  'url': 'https://www.sportler.com/it/p/under-armour-qualifier-canotta-running-uomo-10782757?filterFarbe=Red'},\n",
            " {'gender': 'uomo',\n",
            "  'id': '10782766',\n",
            "  'type': 'abbigliamento',\n",
            "  'url': 'https://www.sportler.com/it/p/under-armour-qualifier-glare-t-shirt-running-uomo-10782766?filterFarbe=Black'},\n",
            " {'gender': 'uomo',\n",
            "  'id': '10782502',\n",
            "  'type': 'abbigliamento',\n",
            "  'url': 'https://www.sportler.com/it/p/under-armour-coldgear-run-tight-pantaloni-running-uomo-10782502?filterFarbe=Black'},\n",
            " {'gender': 'uomo',\n",
            "  'id': '10780989',\n",
            "  'type': 'abbigliamento',\n",
            "  'url': 'https://www.sportler.com/it/p/nike-run-mobility-flash-running-pantaloni-lunghi-running-uomo-10780989?filterFarbe=Black'},\n",
            " {'gender': 'uomo',\n",
            "  'id': '10781296',\n",
            "  'type': 'abbigliamento',\n",
            "  'url': 'https://www.sportler.com/it/p/nike-running-maglia-running-uomo-10781296?filterFarbe=Grey'},\n",
            " {'gender': 'uomo',\n",
            "  'id': '10781297',\n",
            "  'type': 'abbigliamento',\n",
            "  'url': 'https://www.sportler.com/it/p/nike-2-in-1-running-pantaloni-corti-running-uomo-10781297?filterFarbe=Brown'},\n",
            " {'gender': 'uomo',\n",
            "  'id': '10781309',\n",
            "  'type': 'abbigliamento',\n",
            "  'url': 'https://www.sportler.com/it/p/nike-power-tech-running-pantaloni-lunghi-running-uomo-10781309?filterFarbe=Black'},\n",
            " {'gender': 'uomo',\n",
            "  'id': '10781312',\n",
            "  'type': 'abbigliamento',\n",
            "  'url': 'https://www.sportler.com/it/p/nike-pacer-1-2-zip-running-maglia-running-a-maniche-lunghe-uomo-10781312?filterFarbe=Black'},\n",
            " {'gender': 'uomo',\n",
            "  'id': '10781310',\n",
            "  'type': 'abbigliamento',\n",
            "  'url': 'https://www.sportler.com/it/p/nike-running-pantaloni-running-uomo-10781310?filterFarbe=Black'},\n",
            " {'gender': 'uomo',\n",
            "  'id': '10764417',\n",
            "  'type': 'abbigliamento',\n",
            "  'url': 'https://www.sportler.com/it/p/x-socks-run-discovery-calzini-running-10764417?filterFarbe=White%2FGrey'},\n",
            " {'gender': 'uomo',\n",
            "  'id': '10764416',\n",
            "  'type': 'abbigliamento',\n",
            "  'url': 'https://www.sportler.com/it/p/x-socks-sky-run-two-calzini-running-10764416?filterFarbe=Black%2FWhite'},\n",
            " {'gender': 'uomo',\n",
            "  'id': '10782999',\n",
            "  'type': 'abbigliamento',\n",
            "  'url': 'https://www.sportler.com/it/p/getfit-bevis-m-pantaloni-running-uomo-10782999?filterFarbe=Black'},\n",
            " {'gender': 'uomo',\n",
            "  'id': '10778230',\n",
            "  'type': 'abbigliamento',\n",
            "  'url': 'https://www.sportler.com/it/p/nike-power-running-pantaloni-running-uomo-10778230?filterFarbe=Black'},\n",
            " {'gender': 'uomo',\n",
            "  'id': '10756197',\n",
            "  'type': 'abbigliamento',\n",
            "  'url': 'https://www.sportler.com/it/p/x-bionic-energizer-mk3-lt-maglietta-tecnica-uomo-10756197?filterFarbe=Black'},\n",
            " {'gender': 'uomo',\n",
            "  'id': '10764395',\n",
            "  'type': 'abbigliamento',\n",
            "  'url': 'https://www.sportler.com/it/p/x-bionic-regulator-run-speed-maglia-running-uomo-10764395?filterFarbe=Blue%2FOrange'},\n",
            " {'gender': 'uomo',\n",
            "  'id': '10778218',\n",
            "  'type': 'abbigliamento',\n",
            "  'url': 'https://www.sportler.com/it/p/nike-vaporknit-5-running-pantaloni-corti-running-uomo-10778218?filterFarbe=Black'},\n",
            " {'gender': 'uomo',\n",
            "  'id': '10779711',\n",
            "  'type': 'abbigliamento',\n",
            "  'url': 'https://www.sportler.com/it/p/nike-dri-fit-running-tank-canotta-running-uomo-10779711?filterFarbe=Blue'},\n",
            " {'gender': 'uomo',\n",
            "  'id': '10748241',\n",
            "  'type': 'abbigliamento',\n",
            "  'url': 'https://www.sportler.com/it/p/x-socks-marathon-calzini-running-10748241?filterFarbe=White%2FOrange'},\n",
            " {'gender': 'uomo',\n",
            "  'id': '10756199',\n",
            "  'type': 'abbigliamento',\n",
            "  'url': 'https://www.sportler.com/it/p/x-bionic-energizer-mk3-lt-maglietta-tecnica-uomo-10756199?filterFarbe=White'},\n",
            " {'gender': 'uomo',\n",
            "  'id': '10748254',\n",
            "  'type': 'abbigliamento',\n",
            "  'url': 'https://www.sportler.com/it/p/x-bionic-twyce-g2-run-shirt-maglia-running-uomo-10748254?filterFarbe=Black%2FWhite'},\n",
            " {'gender': 'uomo',\n",
            "  'id': '10764413',\n",
            "  'type': 'abbigliamento',\n",
            "  'url': 'https://www.sportler.com/it/p/x-socks-run-speed-two-calzini-running-10764413?filterFarbe=Black'},\n",
            " {'gender': 'uomo',\n",
            "  'id': '10764410',\n",
            "  'type': 'abbigliamento',\n",
            "  'url': 'https://www.sportler.com/it/p/x-socks-run-energizer-calzini-lunghi-running-10764410?filterFarbe=Black%2FBlue'},\n",
            " {'gender': 'uomo',\n",
            "  'id': '10748747',\n",
            "  'type': 'abbigliamento',\n",
            "  'url': 'https://www.sportler.com/it/p/uyn-running-activyon-ow-maglia-running-uomo-10748747?filterFarbe=Black'},\n",
            " {'gender': 'uomo',\n",
            "  'id': '10747046',\n",
            "  'type': 'abbigliamento',\n",
            "  'url': 'https://www.sportler.com/it/p/la-sportiva-medal-pantaloni-corti-trail-running-uomo-10747046?filterFarbe=Black%2FGrey'},\n",
            " {'gender': 'uomo',\n",
            "  'id': '10778217',\n",
            "  'type': 'abbigliamento',\n",
            "  'url': 'https://www.sportler.com/it/p/nike-vaporknit-top-running-uomo-10778217?filterFarbe=Orange'},\n",
            " {'gender': 'uomo',\n",
            "  'id': '10756178',\n",
            "  'type': 'abbigliamento',\n",
            "  'url': 'https://www.sportler.com/it/p/x-bionic-invent-lt-boxer-uomo-10756178?filterFarbe=Black'},\n",
            " {'gender': 'uomo',\n",
            "  'id': '10778233',\n",
            "  'type': 'abbigliamento',\n",
            "  'url': 'https://www.sportler.com/it/p/nike-dri-fit-miler-running-top-running-uomo-10778233?filterFarbe=Black'},\n",
            " {'gender': 'uomo',\n",
            "  'id': '10778228',\n",
            "  'type': 'abbigliamento',\n",
            "  'url': 'https://www.sportler.com/it/p/nike-rise-365-running-top-running-uomo-10778228?filterFarbe=Orange'},\n",
            " {'gender': 'uomo',\n",
            "  'id': '10764389',\n",
            "  'type': 'abbigliamento',\n",
            "  'url': 'https://www.sportler.com/it/p/x-bionic-regulator-run-speed-shorts-pantaloncini-running-uomo-10764389?filterFarbe=Black%2FWhite'},\n",
            " {'gender': 'uomo',\n",
            "  'id': '10779663',\n",
            "  'type': 'abbigliamento',\n",
            "  'url': 'https://www.sportler.com/it/p/bv-sport-scr-one-evo-calze-running-10779663?filterFarbe=Black%2FGreen'},\n",
            " {'gender': 'uomo',\n",
            "  'id': '10779697',\n",
            "  'type': 'abbigliamento',\n",
            "  'url': 'https://www.sportler.com/it/p/odlo-performance-light-suw-bottom-slip-funzionali-uomo-10779697?filterFarbe=Black'},\n",
            " {'gender': 'uomo',\n",
            "  'id': '10779696',\n",
            "  'type': 'abbigliamento',\n",
            "  'url': 'https://www.sportler.com/it/p/odlo-performance-light-suw-bottom-boxer-uomo-10779696?filterFarbe=Black'},\n",
            " {'gender': 'uomo',\n",
            "  'id': '10779692',\n",
            "  'type': 'abbigliamento',\n",
            "  'url': 'https://www.sportler.com/it/p/odlo-performance-light-suw-top-tecnico-uomo-10779692?filterFarbe=Black'},\n",
            " {'gender': 'uomo',\n",
            "  'id': '10779685',\n",
            "  'type': 'abbigliamento',\n",
            "  'url': 'https://www.sportler.com/it/p/odlo-performance-light-suw-crew-neck-s-s-maglietta-tecnica-uomo-10779685?filterFarbe=Black'},\n",
            " {'gender': 'uomo',\n",
            "  'id': '10746239',\n",
            "  'type': 'abbigliamento',\n",
            "  'url': 'https://www.sportler.com/it/p/la-sportiva-tempo-pantaloncini-trail-running-uomo-10746239?filterFarbe=Black%2FYellow'},\n",
            " {'gender': 'uomo',\n",
            "  'id': '10740282',\n",
            "  'type': 'abbigliamento',\n",
            "  'url': 'https://www.sportler.com/it/p/la-sportiva-xcelerator-t-shirt-trail-running-uomo-10740282?filterFarbe=Black%2FYellow'},\n",
            " {'gender': 'uomo',\n",
            "  'id': '10757508',\n",
            "  'type': 'abbigliamento',\n",
            "  'url': 'https://www.sportler.com/it/p/uyn-running-activyon-ow-pants-pantaloncini-running-uomo-10757508?filterFarbe=Dark+Grey'},\n",
            " {'gender': 'uomo',\n",
            "  'id': '10748755',\n",
            "  'type': 'abbigliamento',\n",
            "  'url': 'https://www.sportler.com/it/p/uyn-running-alpha-ow-pants-pantaloncini-running-uomo-10748755?filterFarbe=Black'},\n",
            " {'gender': 'uomo',\n",
            "  'id': '10756808',\n",
            "  'type': 'abbigliamento',\n",
            "  'url': 'https://www.sportler.com/it/p/uyn-man-running-alpha-ow-singlet-top-running-uomo-10756808?filterFarbe=Orange%2FGrey'},\n",
            " {'gender': 'uomo',\n",
            "  'id': '10748741',\n",
            "  'type': 'abbigliamento',\n",
            "  'url': 'https://www.sportler.com/it/p/uyn-running-alpha-ow-maglia-running-uomo-10748741?filterFarbe=Orange%2FGrey'},\n",
            " {'gender': 'uomo',\n",
            "  'id': '10755192',\n",
            "  'type': 'abbigliamento',\n",
            "  'url': 'https://www.sportler.com/it/p/odlo-performance-x-light-suw-bottom-boxer-uomo-10755192?filterFarbe=Black'},\n",
            " {'gender': 'uomo',\n",
            "  'id': '10756140',\n",
            "  'type': 'abbigliamento',\n",
            "  'url': 'https://www.sportler.com/it/p/odlo-ceramicool-bl-crew-neck-singlet-top-running-uomo-10756140?filterFarbe=Black'},\n",
            " {'gender': 'uomo',\n",
            "  'id': '10755220',\n",
            "  'type': 'abbigliamento',\n",
            "  'url': 'https://www.sportler.com/it/p/uyn-motion-uw-maglietta-tecnica-uomo-10755220?filterFarbe=Black'},\n",
            " {'gender': 'uomo',\n",
            "  'id': '10742495',\n",
            "  'type': 'abbigliamento',\n",
            "  'url': 'https://www.sportler.com/it/p/uyn-motyon-maglietta-funzionale-uomo-10742495?filterFarbe=Black'},\n",
            " {'gender': 'uomo',\n",
            "  'id': '10754648',\n",
            "  'type': 'abbigliamento',\n",
            "  'url': 'https://www.sportler.com/it/p/odlo-core-light-pantaloncini-running-uomo-10754648?filterFarbe=Dark+Blue'},\n",
            " {'gender': 'uomo',\n",
            "  'id': '10755240',\n",
            "  'type': 'abbigliamento',\n",
            "  'url': 'https://www.sportler.com/it/p/odlo-ceramicool-blackcomb-crew-neck-maglia-running-uomo-10755240?filterFarbe=Light+Blue'},\n",
            " {'gender': 'uomo',\n",
            "  'id': '10756196',\n",
            "  'type': 'abbigliamento',\n",
            "  'url': 'https://www.sportler.com/it/p/x-bionic-energizer-mk3-lt-boxer-uomo-10756196?filterFarbe=Black'},\n",
            " {'gender': 'uomo',\n",
            "  'id': '10756184',\n",
            "  'type': 'abbigliamento',\n",
            "  'url': 'https://www.sportler.com/it/p/x-bionic-invent-lt-singlet-maglietta-tecnica-uomo-10756184?filterFarbe=Black'},\n",
            " {'gender': 'uomo',\n",
            "  'id': '10756181',\n",
            "  'type': 'abbigliamento',\n",
            "  'url': 'https://www.sportler.com/it/p/x-bionic-invent-lt-maglietta-tecnica-uomo-10756181?filterFarbe=Black'},\n",
            " {'gender': 'uomo',\n",
            "  'id': '10772663',\n",
            "  'type': 'abbigliamento',\n",
            "  'url': 'https://www.sportler.com/it/p/under-armour-ua-stracker-2.0-maglia-running-uomo-10772663?filterFarbe=Black'},\n",
            " {'gender': 'uomo',\n",
            "  'id': '10740291',\n",
            "  'type': 'abbigliamento',\n",
            "  'url': 'https://www.sportler.com/it/p/la-sportiva-track-tank-top-running-uomo-10740291?filterFarbe=Black%2FYellow'},\n",
            " {'gender': 'uomo',\n",
            "  'id': '10729595',\n",
            "  'type': 'abbigliamento',\n",
            "  'url': 'https://www.sportler.com/it/p/castelli-free-sanremo-completo-triathlon-uomo-10729595?filterFarbe=Black%2FWhite'},\n",
            " {'gender': 'uomo',\n",
            "  'id': '10746814',\n",
            "  'type': 'abbigliamento',\n",
            "  'url': 'https://www.sportler.com/it/p/la-sportiva-stream-tank-m-top-running-uomo-10746814?filterFarbe=Black%2FYellow'},\n",
            " {'gender': 'uomo',\n",
            "  'id': '10746806',\n",
            "  'type': 'abbigliamento',\n",
            "  'url': 'https://www.sportler.com/it/p/la-sportiva-motion-maglia-trail-running-uomo-10746806?filterFarbe=Blue%2FRed'},\n",
            " {'gender': 'uomo',\n",
            "  'id': '10751144',\n",
            "  'type': 'abbigliamento',\n",
            "  'url': 'https://www.sportler.com/it/p/odlo-active-fdry-light-bottom-slip-uomo-10751144?filterFarbe=Black'},\n",
            " {'gender': 'uomo',\n",
            "  'id': '10751142',\n",
            "  'type': 'abbigliamento',\n",
            "  'url': 'https://www.sportler.com/it/p/odlo-active-f-dry-light-top-tecnico-uomo-10751142?filterFarbe=Black'},\n",
            " {'gender': 'uomo',\n",
            "  'id': '10755189',\n",
            "  'type': 'abbigliamento',\n",
            "  'url': 'https://www.sportler.com/it/p/odlo-performance-x-light-suw-maglietta-tecnica-uomo-10755189?filterFarbe=Black'},\n",
            " {'gender': 'uomo',\n",
            "  'id': '10761267',\n",
            "  'type': 'abbigliamento',\n",
            "  'url': 'https://www.sportler.com/it/p/buff-coolnet-uv-slim-fascia-paraorecchie-10761267?filterFarbe=Black'},\n",
            " {'gender': 'uomo',\n",
            "  'id': '10761266',\n",
            "  'type': 'abbigliamento',\n",
            "  'url': 'https://www.sportler.com/it/p/buff-coolnet-uv-fascia-paraorecchie-10761266?filterFarbe=Black'},\n",
            " {'gender': 'uomo',\n",
            "  'id': '10762201',\n",
            "  'type': 'abbigliamento',\n",
            "  'url': 'https://www.sportler.com/it/p/buff-hairband-elastico-per-capelli-10762201?filterFarbe=Blue%2FBlack%2FGrey'},\n",
            " {'gender': 'uomo',\n",
            "  'id': '10762203',\n",
            "  'type': 'abbigliamento',\n",
            "  'url': 'https://www.sportler.com/it/p/buff-national-geographic-coolnet-uv-scaldacollo-10762203?filterFarbe=Black%2FWhite'},\n",
            " {'gender': 'uomo',\n",
            "  'id': '10761265',\n",
            "  'type': 'abbigliamento',\n",
            "  'url': 'https://www.sportler.com/it/p/buff-coolnet-uv-insect-scaldacollo-10761265?filterFarbe=Red%2FBrown%2FLight+Blue'},\n",
            " {'gender': 'uomo',\n",
            "  'id': '10731072',\n",
            "  'type': 'abbigliamento',\n",
            "  'url': 'https://www.sportler.com/it/p/buff-coolnet-uv-scaldacollo-10731072?filterFarbe=Multicolor'},\n",
            " {'gender': 'uomo',\n",
            "  'id': '10761259',\n",
            "  'type': 'abbigliamento',\n",
            "  'url': 'https://www.sportler.com/it/p/buff-run-visiera-10761259?filterFarbe=Black'},\n",
            " {'gender': 'uomo',\n",
            "  'id': '10761254',\n",
            "  'type': 'abbigliamento',\n",
            "  'url': 'https://www.sportler.com/it/p/buff-run-cappellino-10761254?filterFarbe=White%2FBlack%2FLight+Blue'},\n",
            " {'gender': 'uomo',\n",
            "  'id': '10761258',\n",
            "  'type': 'abbigliamento',\n",
            "  'url': 'https://www.sportler.com/it/p/buff-run-xl-cappellino-10761258?filterFarbe=Black%2FYellow'},\n",
            " {'gender': 'uomo',\n",
            "  'id': '10761252',\n",
            "  'type': 'abbigliamento',\n",
            "  'url': 'https://www.sportler.com/it/p/buff-one-touch-cappellino-10761252?filterFarbe=Grey'},\n",
            " {'gender': 'uomo',\n",
            "  'id': '10743014',\n",
            "  'type': 'abbigliamento',\n",
            "  'url': 'https://www.sportler.com/it/p/odlo-bl-element-light-pantaloncini-running-uomo-10743014?filterFarbe=Black'},\n",
            " {'gender': 'uomo',\n",
            "  'id': '10748481',\n",
            "  'type': 'abbigliamento',\n",
            "  'url': 'https://www.sportler.com/it/p/under-armour-streaker-2.0-singlet-top-running-uomo-10748481?filterFarbe=Green'},\n",
            " {'gender': 'uomo',\n",
            "  'id': '10757845',\n",
            "  'type': 'abbigliamento',\n",
            "  'url': 'https://www.sportler.com/it/p/gore-wear-r7-shirt-maglia-running-uomo-10757845?filterFarbe=Blue%2FGreen'},\n",
            " {'gender': 'uomo',\n",
            "  'id': '10746764',\n",
            "  'type': 'abbigliamento',\n",
            "  'url': 'https://www.sportler.com/it/p/gore-wear-r7-pantaloncini-running-uomo-10746764?filterFarbe=Dark+Blue%2FLight+Blue'},\n",
            " {'gender': 'uomo',\n",
            "  'id': '10751143',\n",
            "  'type': 'abbigliamento',\n",
            "  'url': 'https://www.sportler.com/it/p/gore-wear-r7-gore-tex-infinium-giacca-running-uomo-10751143?filterFarbe=Yellow%2FBlue'},\n",
            " {'gender': 'uomo',\n",
            "  'id': '10764415',\n",
            "  'type': 'abbigliamento',\n",
            "  'url': 'https://www.sportler.com/it/p/nike-knitted-tech-and-grip-guanti-sportivi-10764415?filterFarbe=Black'},\n",
            " {'gender': 'uomo',\n",
            "  'id': '10613054',\n",
            "  'type': 'abbigliamento',\n",
            "  'url': 'https://www.sportler.com/it/p/buff-pro-run-cappellino-trail-running-uomo-10613054?filterFarbe=Black'},\n",
            " {'gender': 'uomo',\n",
            "  'id': '10747914',\n",
            "  'type': 'abbigliamento',\n",
            "  'url': 'https://www.sportler.com/it/p/bv-sport-booster-elite-ev2-gambali-compressivi-10747914?filterFarbe=Black'},\n",
            " {'gender': 'uomo',\n",
            "  'id': '10755564',\n",
            "  'type': 'abbigliamento',\n",
            "  'url': 'https://www.sportler.com/it/p/bv-sport-booster-elite-ev2-gambali-compressivi-10755564?filterFarbe=Black%2FBlue'},\n",
            " {'gender': 'uomo',\n",
            "  'id': '10779386',\n",
            "  'type': 'abbigliamento',\n",
            "  'url': 'https://www.sportler.com/it/p/bv-sport-booster-elite-ev2-gambali-compressivi-10779386?filterFarbe=Black%2FGreen'},\n",
            " {'gender': 'uomo',\n",
            "  'id': '10751139',\n",
            "  'type': 'abbigliamento',\n",
            "  'url': 'https://www.sportler.com/it/p/skinners-scarpe-calzini-10751139?filterFarbe=Green'},\n",
            " {'gender': 'uomo',\n",
            "  'id': '10751135',\n",
            "  'type': 'abbigliamento',\n",
            "  'url': 'https://www.sportler.com/it/p/skinners-scarpe-calzini-10751135?filterFarbe=Grey'},\n",
            " {'gender': 'uomo',\n",
            "  'id': '10724946',\n",
            "  'type': 'abbigliamento',\n",
            "  'url': 'https://www.sportler.com/it/p/nike-rise-365-maglia-running-uomo-10724946?filterFarbe=Light+Blue'},\n",
            " {'gender': 'uomo',\n",
            "  'id': '10749351',\n",
            "  'type': 'abbigliamento',\n",
            "  'url': 'https://www.sportler.com/it/p/salomon-sense-tank-m-top-running-uomo-10749351?filterFarbe=Light+Blue'},\n",
            " {'gender': 'uomo',\n",
            "  'id': '10740308',\n",
            "  'type': 'abbigliamento',\n",
            "  'url': 'https://www.sportler.com/it/p/salomon-agile-top-running-uomo-10740308?filterFarbe=Light+Blue'},\n",
            " {'gender': 'uomo',\n",
            "  'id': '10749336',\n",
            "  'type': 'abbigliamento',\n",
            "  'url': 'https://www.sportler.com/it/p/salomon-agile-2in1-short-m-pantaloncini-running-uomo-10749336?filterFarbe=Black'},\n",
            " {'gender': 'uomo',\n",
            "  'id': '10749359',\n",
            "  'type': 'abbigliamento',\n",
            "  'url': 'https://www.sportler.com/it/p/salomon-agile-maglia-running-uomo-10749359?filterFarbe=Black'},\n",
            " {'gender': 'uomo',\n",
            "  'id': '10749329',\n",
            "  'type': 'abbigliamento',\n",
            "  'url': 'https://www.sportler.com/it/p/salomon-sense-ultra-tee-m-maglietta-running-uomo-10749329?filterFarbe=Blue'},\n",
            " {'gender': 'uomo',\n",
            "  'id': '10749346',\n",
            "  'type': 'abbigliamento',\n",
            "  'url': 'https://www.sportler.com/it/p/salomon-sense-maglia-running-uomo-10749346?filterFarbe=Grey'},\n",
            " {'gender': 'uomo',\n",
            "  'id': '10749321',\n",
            "  'type': 'abbigliamento',\n",
            "  'url': 'https://www.sportler.com/it/p/salomon-agile-wind-m-giacca-running-uomo-10749321?filterFarbe=Black'},\n",
            " {'gender': 'uomo',\n",
            "  'id': '10740313',\n",
            "  'type': 'abbigliamento',\n",
            "  'url': 'https://www.sportler.com/it/p/salomon-sense-pantaloncini-running-uomo-10740313?filterFarbe=Dark+Blue'},\n",
            " {'gender': 'uomo',\n",
            "  'id': '10756788',\n",
            "  'type': 'abbigliamento',\n",
            "  'url': 'https://www.sportler.com/it/p/nathan-bandolier-gilet-catarifrangente-running-10756788?filterFarbe=Yellow'},\n",
            " {'gender': 'uomo',\n",
            "  'id': '10726865',\n",
            "  'type': 'abbigliamento',\n",
            "  'url': 'https://www.sportler.com/it/p/nike-breathe-rise-365-maglia-running-uomo-10726865?filterFarbe=Light+Blue'},\n",
            " {'gender': 'uomo',\n",
            "  'id': '10726862',\n",
            "  'type': 'abbigliamento',\n",
            "  'url': 'https://www.sportler.com/it/p/nike-featherlight-cappellino-running-10726862?filterFarbe=Black'},\n",
            " {'gender': 'uomo',\n",
            "  'id': '10724941',\n",
            "  'type': 'abbigliamento',\n",
            "  'url': 'https://www.sportler.com/it/p/nike-tech-maglia-running-uomo-10724941?filterFarbe=Black'},\n",
            " {'gender': 'uomo',\n",
            "  'id': '10748513',\n",
            "  'type': 'abbigliamento',\n",
            "  'url': 'https://www.sportler.com/it/p/under-armour-qualifier-heatgear-glare-pantaloni-running-uomo-10748513?filterFarbe=Black'},\n",
            " {'gender': 'uomo',\n",
            "  'id': '10758496',\n",
            "  'type': 'abbigliamento',\n",
            "  'url': 'https://www.sportler.com/it/p/under-armour-qualifier-storm-packable-giacca-running-uomo-10758496?filterFarbe=Black'},\n",
            " {'gender': 'uomo',\n",
            "  'id': '10724943',\n",
            "  'type': 'abbigliamento',\n",
            "  'url': 'https://www.sportler.com/it/p/nike-sphere-pantaloni-running-uomo-10724943?filterFarbe=Black'},\n",
            " {'gender': 'uomo',\n",
            "  'id': '10724944',\n",
            "  'type': 'abbigliamento',\n",
            "  'url': 'https://www.sportler.com/it/p/nike-windrunner-giacca-a-vento-running-uomo-10724944?filterFarbe=Black%2FLight+Blue'},\n",
            " {'gender': 'uomo',\n",
            "  'id': '10724939',\n",
            "  'type': 'abbigliamento',\n",
            "  'url': 'https://www.sportler.com/it/p/nike-sphere-dri-fit-transform-maglia-running-a-maniche-lunghe-uomo-10724939?filterFarbe=Light+Blue'},\n",
            " {'gender': 'uomo',\n",
            "  'id': '10748090',\n",
            "  'type': 'abbigliamento',\n",
            "  'url': 'https://www.sportler.com/it/p/under-armour-speed-stride-maglia-running-uomo-10748090?filterFarbe=Black'},\n",
            " {'gender': 'uomo',\n",
            "  'id': '10748086',\n",
            "  'type': 'abbigliamento',\n",
            "  'url': 'https://www.sportler.com/it/p/under-armour-launch-sw-split-pantaloncini-running-uomo-10748086?filterFarbe=Black'},\n",
            " {'gender': 'uomo',\n",
            "  'id': '10747905',\n",
            "  'type': 'abbigliamento',\n",
            "  'url': 'https://www.sportler.com/it/p/under-armour-qualifier-speedpocket-pantaloncini-running-uomo-10747905?filterFarbe=Black'},\n",
            " {'gender': 'uomo',\n",
            "  'id': '10748074',\n",
            "  'type': 'abbigliamento',\n",
            "  'url': 'https://www.sportler.com/it/p/uyn-natyon-germany-medium-calzamaglia-uomo-10748074?filterFarbe=Black'},\n",
            " {'gender': 'uomo',\n",
            "  'id': '10747902',\n",
            "  'type': 'abbigliamento',\n",
            "  'url': 'https://www.sportler.com/it/p/under-armour-qualifier-t-shirt-running-uomo-10747902?filterFarbe=Black'},\n",
            " {'gender': 'uomo',\n",
            "  'id': '10729943',\n",
            "  'type': 'abbigliamento',\n",
            "  'url': 'https://www.sportler.com/it/p/adidas-run-it-pantaloni-corti-running-uomo-10729943?filterFarbe=Black'},\n",
            " {'gender': 'uomo',\n",
            "  'id': '10729939',\n",
            "  'type': 'abbigliamento',\n",
            "  'url': 'https://www.sportler.com/it/p/adidas-own-the-run-maglia-a-maniche-lunghe-running-uomo-10729939?filterFarbe=Black'},\n",
            " {'gender': 'uomo',\n",
            "  'id': '10707759',\n",
            "  'type': 'abbigliamento',\n",
            "  'url': 'https://www.sportler.com/it/p/nike-shield-ghost-flash-hoodie-giacca-running-uomo-10707759?filterFarbe=Black'},\n",
            " {'gender': 'uomo',\n",
            "  'id': '10683979',\n",
            "  'type': 'abbigliamento',\n",
            "  'url': 'https://www.sportler.com/it/p/uyn-superleggera-run-calzini-corti-running-uomo-10683979?filterFarbe=Black'},\n",
            " {'gender': 'uomo',\n",
            "  'id': '10683985',\n",
            "  'type': 'abbigliamento',\n",
            "  'url': 'https://www.sportler.com/it/p/uyn-trail-challenge-run-calzini-trail-running-uomo-10683985?filterFarbe=Black%2FWhite'},\n",
            " {'gender': 'uomo',\n",
            "  'id': '10683983',\n",
            "  'type': 'abbigliamento',\n",
            "  'url': 'https://www.sportler.com/it/p/uyn-marathon-zero-run-calzini-running-uomo-10683983?filterFarbe=Black%2FYellow'},\n",
            " {'gender': 'uomo',\n",
            "  'id': '10683958',\n",
            "  'type': 'abbigliamento',\n",
            "  'url': 'https://www.sportler.com/it/p/uyn-ambityon-pants-medium-melange-calzamaglia-uomo-10683958?filterFarbe=Grey%2FYellow%2FOrange'},\n",
            " {'gender': 'uomo',\n",
            "  'id': '10709922',\n",
            "  'type': 'abbigliamento',\n",
            "  'url': 'https://www.sportler.com/it/p/nike-sphere-transform-giacca-running-antipioggia-uomo-10709922?filterFarbe=Black'},\n",
            " {'gender': 'uomo',\n",
            "  'id': '10683964',\n",
            "  'type': 'abbigliamento',\n",
            "  'url': 'https://www.sportler.com/it/p/uyn-evolutyon-long-sl.-melange-maglietta-tecnica-uomo-10683964?filterFarbe=Grey%2FBlue'},\n",
            " {'gender': 'uomo',\n",
            "  'id': '10683947',\n",
            "  'type': 'abbigliamento',\n",
            "  'url': 'https://www.sportler.com/it/p/uyn-ambityon-melange-maglietta-termica-a-maniche-lunghe-uomo-10683947?filterFarbe=Grey%2FYellow%2FOrange'},\n",
            " {'gender': 'uomo',\n",
            "  'id': '10705581',\n",
            "  'type': 'abbigliamento',\n",
            "  'url': 'https://www.sportler.com/it/p/under-armour-microthread-run-wool-waffle-maglia-running-a-maniche-lunghe-uomo-10705581?filterFarbe=Black'},\n",
            " {'gender': 'uomo',\n",
            "  'id': '10705573',\n",
            "  'type': 'abbigliamento',\n",
            "  'url': 'https://www.sportler.com/it/p/under-armour-coldgear-reactor-run-v2-felpa-running-uomo-10705573?filterFarbe=Dark+Grey'},\n",
            " {'gender': 'uomo',\n",
            "  'id': '10683967',\n",
            "  'type': 'abbigliamento',\n",
            "  'url': 'https://www.sportler.com/it/p/uyn-evolutyon-pants-long-calzamaglia-uomo-10683967?filterFarbe=White%2FRed'},\n",
            " {'gender': 'uomo',\n",
            "  'id': '10683969',\n",
            "  'type': 'abbigliamento',\n",
            "  'url': 'https://www.sportler.com/it/p/uyn-evolutyon-pants-medium-melange-calzamaglia-3-4-uomo-10683969?filterFarbe=Grey%2FBlue'},\n",
            " {'gender': 'uomo',\n",
            "  'id': '10683974',\n",
            "  'type': 'abbigliamento',\n",
            "  'url': 'https://www.sportler.com/it/p/uyn-natyon-italy-pants-medium-calzamaglia-uomo-10683974?filterFarbe=Light+Blue%2FWhite'},\n",
            " {'gender': 'uomo',\n",
            "  'id': '10683975',\n",
            "  'type': 'abbigliamento',\n",
            "  'url': 'https://www.sportler.com/it/p/uyn-natyon-austria-pants-medium-calzamaglia-uomo-10683975?filterFarbe=White%2FRed'},\n",
            " {'gender': 'uomo',\n",
            "  'id': '10700550',\n",
            "  'type': 'abbigliamento',\n",
            "  'url': 'https://www.sportler.com/it/p/nike-light-tech-run-guanti-running-uomo-10700550?filterFarbe=Black%2FYellow'},\n",
            " {'gender': 'uomo',\n",
            "  'id': '10683978',\n",
            "  'type': 'abbigliamento',\n",
            "  'url': 'https://www.sportler.com/it/p/uyn-super-run-fast-calzini-running-uomo-10683978?filterFarbe=Black%2FGrey'},\n",
            " {'gender': 'uomo',\n",
            "  'id': '10683980',\n",
            "  'type': 'abbigliamento',\n",
            "  'url': 'https://www.sportler.com/it/p/uyn-compression-run-fly-calzini-running-uomo-10683980?filterFarbe=Grey%2FYellow'},\n",
            " {'gender': 'uomo',\n",
            "  'id': '10707773',\n",
            "  'type': 'abbigliamento',\n",
            "  'url': 'https://www.sportler.com/it/p/nike-performance-plus-berretto-running-10707773?filterFarbe=Dark+Red'},\n",
            " {'gender': 'uomo',\n",
            "  'id': '10707760',\n",
            "  'type': 'abbigliamento',\n",
            "  'url': 'https://www.sportler.com/it/p/nike-sphere-element-crew-2.0-flesh-maglia-a-maniche-lunghe-running-uomo-10707760?filterFarbe=Black'},\n",
            " {'gender': 'uomo',\n",
            "  'id': '10707762',\n",
            "  'type': 'abbigliamento',\n",
            "  'url': 'https://www.sportler.com/it/p/nike-power-tech-reflective-pantaloni-running-uomo-10707762?filterFarbe=Black'},\n",
            " {'gender': 'uomo',\n",
            "  'id': '10707766',\n",
            "  'type': 'abbigliamento',\n",
            "  'url': 'https://www.sportler.com/it/p/nike-therma-sphere-element-2.0-maglia-a-manica-lunga-running-uomo-10707766?filterFarbe=Dark+Red'},\n",
            " {'gender': 'uomo',\n",
            "  'id': '10705849',\n",
            "  'type': 'abbigliamento',\n",
            "  'url': 'https://www.sportler.com/it/p/buff-original-log-us-yellow-fluor-scaldacollo-10705849?filterFarbe=Yellow'},\n",
            " {'gender': 'uomo',\n",
            "  'id': '10705246',\n",
            "  'type': 'abbigliamento',\n",
            "  'url': 'https://www.sportler.com/it/p/buff-original-afgan-graphite-scaldacollo-10705246?filterFarbe=Black'},\n",
            " {'gender': 'uomo',\n",
            "  'id': '10705245',\n",
            "  'type': 'abbigliamento',\n",
            "  'url': 'https://www.sportler.com/it/p/buff-dryflx-scaldacollo-10705245?filterFarbe=Yellow'},\n",
            " {'gender': 'uomo',\n",
            "  'id': '10705259',\n",
            "  'type': 'abbigliamento',\n",
            "  'url': 'https://www.sportler.com/it/p/buff-thermonet-scaldacollo-10705259?filterFarbe=Dark+Grey'},\n",
            " {'gender': 'uomo',\n",
            "  'id': '10705575',\n",
            "  'type': 'abbigliamento',\n",
            "  'url': 'https://www.sportler.com/it/p/odlo-core-warm-bl-pantaloni-lunghi-running-uomo-10705575?filterFarbe=Black'},\n",
            " {'gender': 'uomo',\n",
            "  'id': '10699927',\n",
            "  'type': 'abbigliamento',\n",
            "  'url': 'https://www.sportler.com/it/p/dynafit-alpine-warm-pantaloni-trail-running-uomo-10699927?filterFarbe=Black%2FOrange'},\n",
            " {'gender': 'uomo',\n",
            "  'id': '10699934',\n",
            "  'type': 'abbigliamento',\n",
            "  'url': 'https://www.sportler.com/it/p/dynafit-alpine-warm-giacca-trail-running-uomo-10699934?filterFarbe=Black'},\n",
            " {'gender': 'uomo',\n",
            "  'id': '10699923',\n",
            "  'type': 'abbigliamento',\n",
            "  'url': 'https://www.sportler.com/it/p/dynafit-traverse-2-m-t-shirt-trail-running-uomo-10699923?filterFarbe=Blue%2FGreen'},\n",
            " {'gender': 'uomo',\n",
            "  'id': '10698539',\n",
            "  'type': 'abbigliamento',\n",
            "  'url': 'https://www.sportler.com/it/p/under-armour-hexdelta-shortsleeve-t-shirt-running-uomo-10698539?filterFarbe=Red'},\n",
            " {'gender': 'uomo',\n",
            "  'id': '10698541',\n",
            "  'type': 'abbigliamento',\n",
            "  'url': 'https://www.sportler.com/it/p/under-armour-short-ua-speedpocket-linerless-15-cm-pantaloni-running-uomo-10698541?filterFarbe=Black'},\n",
            " {'gender': 'uomo',\n",
            "  'id': '10665190',\n",
            "  'type': 'abbigliamento',\n",
            "  'url': 'https://www.sportler.com/it/p/gore-wear-r5-gtx-infinium-giacca-running-uomo-10665190?filterFarbe=Black'},\n",
            " {'gender': 'uomo',\n",
            "  'id': '10680302',\n",
            "  'type': 'abbigliamento',\n",
            "  'url': 'https://www.sportler.com/it/p/gore-wear-m-gore-windstopper-guanti-running-10680302?filterFarbe=Black'},\n",
            " {'gender': 'uomo',\n",
            "  'id': '10663354',\n",
            "  'type': 'abbigliamento',\n",
            "  'url': 'https://www.sportler.com/it/p/gore-wear-m-thermo-maglia-a-maniche-lunghe-uomo-10663354?filterFarbe=Black%2FGrey'},\n",
            " {'gender': 'uomo',\n",
            "  'id': '10680301',\n",
            "  'type': 'abbigliamento',\n",
            "  'url': 'https://www.sportler.com/it/p/gore-wear-m-headband-fascia-paraorecchie-running-10680301?filterFarbe=Black'},\n",
            " {'gender': 'uomo',\n",
            "  'id': '10679767',\n",
            "  'type': 'abbigliamento',\n",
            "  'url': 'https://www.sportler.com/it/p/gore-wear-r3gore-windstopper-giacca-hardshell-running-uomo-10679767?filterFarbe=Black'},\n",
            " {'gender': 'uomo',\n",
            "  'id': '10680283',\n",
            "  'type': 'abbigliamento',\n",
            "  'url': 'https://www.sportler.com/it/p/gore-wear-r3-felpa-running-uomo-10680283?filterFarbe=Black'},\n",
            " {'gender': 'uomo',\n",
            "  'id': '10661089',\n",
            "  'type': 'abbigliamento',\n",
            "  'url': 'https://www.sportler.com/it/p/nike-ls-crew-jacket-crinkle-maglia-running-uomo-10661089?filterFarbe=Black'},\n",
            " {'gender': 'uomo',\n",
            "  'id': '10662938',\n",
            "  'type': 'abbigliamento',\n",
            "  'url': 'https://www.sportler.com/it/p/salomon-grid-hz-mid-m-maglia-trail-running-uomo-10662938?filterFarbe=Black'},\n",
            " {'gender': 'uomo',\n",
            "  'id': '10663131',\n",
            "  'type': 'abbigliamento',\n",
            "  'url': 'https://www.sportler.com/it/p/salomon-agile-long-tight-m-pantaloni-running-uomo-10663131?filterFarbe=Black'},\n",
            " {'gender': 'uomo',\n",
            "  'id': '10660307',\n",
            "  'type': 'abbigliamento',\n",
            "  'url': 'https://www.sportler.com/it/p/nike-element-2.0-maglia-running-a-maniche-lunghe-uomo-10660307?filterFarbe=Black'},\n",
            " {'gender': 'uomo',\n",
            "  'id': '10660322',\n",
            "  'type': 'abbigliamento',\n",
            "  'url': 'https://www.sportler.com/it/p/nike-shield-3d-emboss-giacca-con-cappuccio-running-uomo-10660322?filterFarbe=Black'},\n",
            " {'gender': 'uomo',\n",
            "  'id': '10661092',\n",
            "  'type': 'abbigliamento',\n",
            "  'url': 'https://www.sportler.com/it/p/nike-cropped-pant-pantaloni-running-7-8-uomo-10661092?filterFarbe=Black'},\n",
            " {'gender': 'uomo',\n",
            "  'id': '10660060',\n",
            "  'type': 'abbigliamento',\n",
            "  'url': 'https://www.sportler.com/it/p/under-armour-hg-armour-compression-ls-maglia-running-manica-lunga-uomo-10660060?filterFarbe=Black'},\n",
            " {'gender': 'uomo',\n",
            "  'id': '10641354',\n",
            "  'type': 'abbigliamento',\n",
            "  'url': 'https://www.sportler.com/it/p/bv-sport-xlr-evo-compression-calze-a-compressione-uomo-10641354?filterFarbe=Black%2FBlue'},\n",
            " {'gender': 'uomo',\n",
            "  'id': '10613311',\n",
            "  'type': 'abbigliamento',\n",
            "  'url': 'https://www.sportler.com/it/p/buff-uv-multifunctional-fascia-paraorecchie-trekking-10613311?filterFarbe=Grey'},\n",
            " {'gender': 'uomo',\n",
            "  'id': '10613309',\n",
            "  'type': 'abbigliamento',\n",
            "  'url': 'https://www.sportler.com/it/p/buff-fascia-per-capelli-10613309?filterFarbe=Multicolor+Pink'},\n",
            " {'gender': 'uomo',\n",
            "  'id': '10598888',\n",
            "  'type': 'abbigliamento',\n",
            "  'url': 'https://www.sportler.com/it/p/buff-trucker-cappellino-trekking-uomo-10598888?filterFarbe=Black'},\n",
            " {'gender': 'uomo',\n",
            "  'id': '10598890',\n",
            "  'type': 'abbigliamento',\n",
            "  'url': 'https://www.sportler.com/it/p/buff-trucker-cappellino-trekking-uomo-10598890?filterFarbe=Light+Blue'},\n",
            " {'gender': 'uomo',\n",
            "  'id': '10613056',\n",
            "  'type': 'abbigliamento',\n",
            "  'url': 'https://www.sportler.com/it/p/buff-pack-run-cappellino-trail-running-uomo-10613056?filterFarbe=Grey'},\n",
            " {'gender': 'uomo',\n",
            "  'id': '10641357',\n",
            "  'type': 'abbigliamento',\n",
            "  'url': 'https://www.sportler.com/it/p/bv-sport-stx-evo-calze-running-uomo-10641357?filterFarbe=Black'},\n",
            " {'gender': 'uomo',\n",
            "  'id': '10610945',\n",
            "  'type': 'abbigliamento',\n",
            "  'url': 'https://www.sportler.com/it/p/under-armour-threadborne-swyft-hoody-top-running-uomo-10610945?filterFarbe=Black'},\n",
            " {'gender': 'uomo',\n",
            "  'id': '10610271',\n",
            "  'type': 'abbigliamento',\n",
            "  'url': 'https://www.sportler.com/it/p/under-armour-no-breaks-hg-half-pantaloncini-running-uomo-10610271?filterFarbe=Black'},\n",
            " {'gender': 'uomo',\n",
            "  'id': '10589958',\n",
            "  'type': 'abbigliamento',\n",
            "  'url': 'https://www.sportler.com/it/p/la-sportiva-blizzard-windbreaker-giacca-trail-running-uomo-10589958?filterFarbe=Black%2FYellow'},\n",
            " {'gender': 'uomo',\n",
            "  'id': '10590728',\n",
            "  'type': 'abbigliamento',\n",
            "  'url': 'https://www.sportler.com/it/p/gore-wear-gore-windstopper-classic-gilet-softshell-uomo-10590728?filterFarbe=Black'},\n",
            " {'gender': 'uomo',\n",
            "  'id': '10588566',\n",
            "  'type': 'abbigliamento',\n",
            "  'url': 'https://www.sportler.com/it/p/gore-wear-gore-windstopper-classic-giacca-antivento-uomo-10588566?filterFarbe=Black'},\n",
            " {'gender': 'uomo',\n",
            "  'id': '10590821',\n",
            "  'type': 'abbigliamento',\n",
            "  'url': 'https://www.sportler.com/it/p/gore-wear-light-calzini-running-uomo-10590821?filterFarbe=White%2FBlack'},\n",
            " {'gender': 'uomo',\n",
            "  'id': '10590823',\n",
            "  'type': 'abbigliamento',\n",
            "  'url': 'https://www.sportler.com/it/p/gore-wear-mid-socks-calzini-running-uomo-10590823?filterFarbe=Black%2FGrey'},\n",
            " {'gender': 'uomo',\n",
            "  'id': '10590109',\n",
            "  'type': 'abbigliamento',\n",
            "  'url': 'https://www.sportler.com/it/p/on-tank-t-top-running-uomo-10590109?filterFarbe=Blue'},\n",
            " {'gender': 'uomo',\n",
            "  'id': '10590111',\n",
            "  'type': 'abbigliamento',\n",
            "  'url': 'https://www.sportler.com/it/p/on-long-t-maglia-a-maniche-lunghe-running-uomo-10590111?filterFarbe=Blue'},\n",
            " {'gender': 'uomo',\n",
            "  'id': '10590112',\n",
            "  'type': 'abbigliamento',\n",
            "  'url': 'https://www.sportler.com/it/p/on-lightweight-pantaloni-corti-running-uomo-10590112?filterFarbe=Grey%2FBlack'},\n",
            " {'gender': 'uomo',\n",
            "  'id': '10590117',\n",
            "  'type': 'abbigliamento',\n",
            "  'url': 'https://www.sportler.com/it/p/on-performance-t-maglia-running-uomo-10590117?filterFarbe=Black'},\n",
            " {'gender': 'uomo',\n",
            "  'id': '10590110',\n",
            "  'type': 'abbigliamento',\n",
            "  'url': 'https://www.sportler.com/it/p/on-weather-gilet-running-uomo-10590110?filterFarbe=Black'},\n",
            " {'gender': 'uomo',\n",
            "  'id': '10590745',\n",
            "  'type': 'abbigliamento',\n",
            "  'url': 'https://www.sportler.com/it/p/gore-wear-light-fascia-paraorecchie-running-10590745?filterFarbe=Black'},\n",
            " {'gender': 'uomo',\n",
            "  'id': '10590742',\n",
            "  'type': 'abbigliamento',\n",
            "  'url': 'https://www.sportler.com/it/p/gore-wear-light-cappellino-running-uomo-10590742?filterFarbe=Black'},\n",
            " {'gender': 'uomo',\n",
            "  'id': '10590743',\n",
            "  'type': 'abbigliamento',\n",
            "  'url': 'https://www.sportler.com/it/p/gore-wear-visor-cappellino-running-10590743?filterFarbe=Black'},\n",
            " {'gender': 'uomo',\n",
            "  'id': '10590801',\n",
            "  'type': 'abbigliamento',\n",
            "  'url': 'https://www.sportler.com/it/p/gore-wear-r5-top-running-uomo-10590801?filterFarbe=Light+Blue'},\n",
            " {'gender': 'uomo',\n",
            "  'id': '10590805',\n",
            "  'type': 'abbigliamento',\n",
            "  'url': 'https://www.sportler.com/it/p/gore-wear-r3-shirt-t-shirt-running-uomo-10590805?filterFarbe=Red'},\n",
            " {'gender': 'uomo',\n",
            "  'id': '10590803',\n",
            "  'type': 'abbigliamento',\n",
            "  'url': 'https://www.sportler.com/it/p/gore-wear-split-pantaloni-corti-running-uomo-10590803?filterFarbe=Black'},\n",
            " {'gender': 'uomo',\n",
            "  'id': '10590807',\n",
            "  'type': 'abbigliamento',\n",
            "  'url': 'https://www.sportler.com/it/p/gore-wear-r3-pantaloni-corti-running-uomo-10590807?filterFarbe=Black'},\n",
            " {'gender': 'uomo',\n",
            "  'id': '10590806',\n",
            "  'type': 'abbigliamento',\n",
            "  'url': 'https://www.sportler.com/it/p/gore-wear-r3-3-4-pantaloni-running-3-4-uomo-10590806?filterFarbe=Black'},\n",
            " {'gender': 'uomo',\n",
            "  'id': '10586494',\n",
            "  'type': 'abbigliamento',\n",
            "  'url': 'https://www.sportler.com/it/p/gore-wear-r7-gore-tex-shakedry-giacca-hardshell-running-uomo-10586494?filterFarbe=Black'},\n",
            " {'gender': 'uomo',\n",
            "  'id': '10610264',\n",
            "  'type': 'abbigliamento',\n",
            "  'url': 'https://www.sportler.com/it/p/under-armour-threadborne-streaker-t-shirt-running-uomo-10610264?filterFarbe=Black'},\n",
            " {'gender': 'uomo',\n",
            "  'id': '10610267',\n",
            "  'type': 'abbigliamento',\n",
            "  'url': 'https://www.sportler.com/it/p/under-armour-launch-sw-5-pantaloncini-running-uomo-10610267?filterFarbe=Black'},\n",
            " {'gender': 'uomo',\n",
            "  'id': '10588295',\n",
            "  'type': 'abbigliamento',\n",
            "  'url': 'https://www.sportler.com/it/p/salomon-agile-wind-giacca-a-vento-uomo-10588295?filterFarbe=Black'},\n",
            " {'gender': 'uomo',\n",
            "  'id': '10321065',\n",
            "  'type': 'abbigliamento',\n",
            "  'url': 'https://www.sportler.com/it/p/dynafit-react-visor-fascia-trailrunning-10321065?filterFarbe=Black%2FDark+Grey'},\n",
            " {'gender': 'uomo',\n",
            "  'id': '10586496',\n",
            "  'type': 'abbigliamento',\n",
            "  'url': 'https://www.sportler.com/it/p/on-hybrid-pantaloncini-running-uomo-10586496?filterFarbe=Black'},\n",
            " {'gender': 'uomo',\n",
            "  'id': '10586492',\n",
            "  'type': 'abbigliamento',\n",
            "  'url': 'https://www.sportler.com/it/p/on-lightweight-weather-giacca-running-uomo-10586492?filterFarbe=Blue%2FDark+Grey'},\n",
            " {'gender': 'uomo',\n",
            "  'id': '10580155',\n",
            "  'type': 'abbigliamento',\n",
            "  'url': 'https://www.sportler.com/it/p/nike-dri-fit-swoosh-fascia-running-paraorecchie-10580155?filterFarbe=Black%2FYellow'},\n",
            " {'gender': 'uomo',\n",
            "  'id': '10580147',\n",
            "  'type': 'abbigliamento',\n",
            "  'url': 'https://www.sportler.com/it/p/nike-nike-dri-fit-wrap-scaldacollo-running-10580147?filterFarbe=Black%2FGrey'},\n",
            " {'gender': 'uomo',\n",
            "  'id': '10523127',\n",
            "  'type': 'abbigliamento',\n",
            "  'url': 'https://www.sportler.com/it/p/buff-arrowhead-scaldacollo-trekking-10523127?filterFarbe=Yellow%2FBlue'},\n",
            " {'gender': 'uomo',\n",
            "  'id': '10574696',\n",
            "  'type': 'abbigliamento',\n",
            "  'url': 'https://www.sportler.com/it/p/salewa-pedroc-winter-pl-pantaloni-lunghi-trail-running-uomo-10574696?filterFarbe=Blue'},\n",
            " {'gender': 'uomo',\n",
            "  'id': '10502464',\n",
            "  'type': 'abbigliamento',\n",
            "  'url': 'https://www.sportler.com/it/p/leki-multi-lite-short-guanti-per-nordic-walking-10502464?filterFarbe=Black%2FWhite'},\n",
            " {'gender': 'uomo',\n",
            "  'id': '10458755',\n",
            "  'type': 'abbigliamento',\n",
            "  'url': 'https://www.sportler.com/it/p/odlo-cubic-briefs-slip-trail-running-uomo-10458755?filterFarbe=Black'},\n",
            " {'gender': 'uomo',\n",
            "  'id': '10482161',\n",
            "  'type': 'abbigliamento',\n",
            "  'url': 'https://www.sportler.com/it/p/getfit-running-socks-bi-pack-calzini-running-2-paia-10482161?filterFarbe=Black%2FGrey'},\n",
            " {'gender': 'uomo',\n",
            "  'id': '10460947',\n",
            "  'type': 'abbigliamento',\n",
            "  'url': 'https://www.sportler.com/it/p/bv-sport-booster-one-gambali-compressivi-10460947?filterFarbe=Black'},\n",
            " {'gender': 'uomo',\n",
            "  'id': '10439259',\n",
            "  'type': 'abbigliamento',\n",
            "  'url': 'https://www.sportler.com/it/p/nike-swoosh-knit-gloves-guanti-running-10439259?filterFarbe=Black'},\n",
            " {'gender': 'uomo',\n",
            "  'id': '10408864',\n",
            "  'type': 'abbigliamento',\n",
            "  'url': 'https://www.sportler.com/it/p/under-armour-coldgear-run-berretto-running-10408864?filterFarbe=Blue'},\n",
            " {'gender': 'uomo',\n",
            "  'id': '10419453',\n",
            "  'type': 'abbigliamento',\n",
            "  'url': 'https://www.sportler.com/it/p/on-performance-t-maglia-running-uomo-10419453?filterFarbe=Blue'},\n",
            " {'gender': 'uomo',\n",
            "  'id': '10419456',\n",
            "  'type': 'abbigliamento',\n",
            "  'url': 'https://www.sportler.com/it/p/on-clima-shirt-maglia-running-uomo-10419456?filterFarbe=Blue'},\n",
            " {'gender': 'uomo',\n",
            "  'id': '10693130',\n",
            "  'type': 'abbigliamento',\n",
            "  'url': 'https://www.sportler.com/it/p/odlo-move-light-fascia-paraorecchie-10693130?filterFarbe=Black'},\n",
            " {'gender': 'uomo',\n",
            "  'id': '10341242',\n",
            "  'type': 'abbigliamento',\n",
            "  'url': 'https://www.sportler.com/it/p/bv-sport-xlr-compression-calzini-lunghi-running-10341242?filterFarbe=Black%2FRed'},\n",
            " {'gender': 'uomo',\n",
            "  'id': '10075498',\n",
            "  'type': 'abbigliamento',\n",
            "  'url': 'https://www.sportler.com/it/p/nike-swoosh-doublewide-wristbands-polsini-tergisudore-10075498?filterFarbe=Black%2FWhite'},\n",
            " {'gender': 'uomo',\n",
            "  'id': '10837449',\n",
            "  'type': 'abbigliamento',\n",
            "  'url': 'https://www.sportler.com/it/p/icebreaker-oasis-liners-guanti-sportivi-uomo-10837449?filterFarbe=Black'},\n",
            " {'gender': 'uomo',\n",
            "  'id': '10221862',\n",
            "  'type': 'abbigliamento',\n",
            "  'url': 'https://www.sportler.com/it/p/getfit-running-socks-bi-pack-calzini-running-2-paia-10221862?filterFarbe=White%2FGrey'},\n",
            " {'gender': 'uomo',\n",
            "  'id': '10141761',\n",
            "  'type': 'abbigliamento',\n",
            "  'url': 'https://www.sportler.com/it/p/bv-sport-booster-elite-gambale-compressivo-10141761?filterFarbe=Black%2FBlack'},\n",
            " {'gender': 'uomo',\n",
            "  'id': '10075150',\n",
            "  'type': 'abbigliamento',\n",
            "  'url': 'https://www.sportler.com/it/p/salomon-trail-low-ghette-trail-running-10075150?filterFarbe=Black'},\n",
            " {'gender': 'uomo',\n",
            "  'id': '10077196',\n",
            "  'type': 'abbigliamento',\n",
            "  'url': 'https://www.sportler.com/it/p/getfit-sys-giacca-running-uomo-10077196?filterFarbe=Black'},\n",
            " {'gender': 'uomo',\n",
            "  'id': '10075500',\n",
            "  'type': 'abbigliamento',\n",
            "  'url': 'https://www.sportler.com/it/p/nike-swoosh-fascia-tergisudore-10075500?filterFarbe=Black%2FWhite'},\n",
            " {'gender': 'uomo',\n",
            "  'id': '10049002',\n",
            "  'type': 'abbigliamento',\n",
            "  'url': 'https://www.sportler.com/it/p/getfit-pantaloncini-running-10049002?filterFarbe=Black'},\n",
            " {'gender': 'uomo',\n",
            "  'id': '9796512',\n",
            "  'type': 'abbigliamento',\n",
            "  'url': 'https://www.sportler.com/it/p/sportler-e-gift-card-9796512?filtervariation_unit_1=Voucher'},\n",
            " {'gender': 'donna',\n",
            "  'id': '10923345',\n",
            "  'type': 'abbigliamento',\n",
            "  'url': 'https://www.sportler.com/it/p/under-armour-fly-fast-2.0-heatgear-pantaloni-running-donna-10923345?filterFarbe=Black'},\n",
            " {'gender': 'donna',\n",
            "  'id': '10879153',\n",
            "  'type': 'abbigliamento',\n",
            "  'url': 'https://www.sportler.com/it/p/nike-aeroswift-running-pantaloni-corti-running-donna-10879153?filterFarbe=Black'},\n",
            " {'gender': 'donna',\n",
            "  'id': '10893034',\n",
            "  'type': 'abbigliamento',\n",
            "  'url': 'https://www.sportler.com/it/p/adidas-believe-this-2.0-3-stripes-mesh-pantaloni-lunghi-fitness-donna-10893034?filterFarbe=Black'},\n",
            " {'gender': 'donna',\n",
            "  'id': '10892803',\n",
            "  'type': 'abbigliamento',\n",
            "  'url': 'https://www.sportler.com/it/p/adidas-trail-pantaloni-corti-trail-running-donna-10892803?filterFarbe=Black'},\n",
            " {'gender': 'donna',\n",
            "  'id': '10892542',\n",
            "  'type': 'abbigliamento',\n",
            "  'url': 'https://www.sportler.com/it/p/adidas-how-we-do-pantaloni-running-7-8-donna-10892542?filterFarbe=Black'},\n",
            " {'gender': 'donna',\n",
            "  'id': '10892805',\n",
            "  'type': 'abbigliamento',\n",
            "  'url': 'https://www.sportler.com/it/p/adidas-agravic-2-in-1-gonna-trail-running-donna-10892805?filterFarbe=Dark+Grey'},\n",
            " {'gender': 'donna',\n",
            "  'id': '10876823',\n",
            "  'type': 'abbigliamento',\n",
            "  'url': 'https://www.sportler.com/it/p/nike-fast-7-trail-running-pantaloni-corti-trail-running-donna-10876823?filterFarbe=Blue'},\n",
            " {'gender': 'donna',\n",
            "  'id': '10893033',\n",
            "  'type': 'abbigliamento',\n",
            "  'url': 'https://www.sportler.com/it/p/adidas-training-heat.rdy-t-shirt-fitness-donna-10893033?filterFarbe=Light+Grey'},\n",
            " {'gender': 'donna',\n",
            "  'id': '10892665',\n",
            "  'type': 'abbigliamento',\n",
            "  'url': 'https://www.sportler.com/it/p/adidas-terrex-agravic-rain-giacca-trail-running-donna-10892665?filterFarbe=Grey'},\n",
            " {'gender': 'donna',\n",
            "  'id': '10892667',\n",
            "  'type': 'abbigliamento',\n",
            "  'url': 'https://www.sportler.com/it/p/adidas-terrex-agravic-all.around-maglia-trail-running-donna-10892667?filterFarbe=White'},\n",
            " {'gender': 'donna',\n",
            "  'id': '10886969',\n",
            "  'type': 'abbigliamento',\n",
            "  'url': 'https://www.sportler.com/it/p/nike-miler-running-singlet-top-running-donna-10886969?filterFarbe=White'},\n",
            " {'gender': 'donna',\n",
            "  'id': '10876822',\n",
            "  'type': 'abbigliamento',\n",
            "  'url': 'https://www.sportler.com/it/p/nike-city-sleek-trail-running-top-trail-running-donna-10876822?filterFarbe=Blue'},\n",
            " {'gender': 'donna',\n",
            "  'id': '10886978',\n",
            "  'type': 'abbigliamento',\n",
            "  'url': 'https://www.sportler.com/it/p/nike-air-running-pantaloni-running-donna-10886978?filterFarbe=Black'},\n",
            " {'gender': 'donna',\n",
            "  'id': '10879154',\n",
            "  'type': 'abbigliamento',\n",
            "  'url': 'https://www.sportler.com/it/p/nike-aeroswift-running-singlet-top-running-donna-10879154?filterFarbe=Black'},\n",
            " {'gender': 'donna',\n",
            "  'id': '10886975',\n",
            "  'type': 'abbigliamento',\n",
            "  'url': 'https://www.sportler.com/it/p/nike-icon-clash-running-maglia-running-donna-10886975?filterFarbe=Black'},\n",
            " {'gender': 'donna',\n",
            "  'id': '10865524',\n",
            "  'type': 'abbigliamento',\n",
            "  'url': 'https://www.sportler.com/it/p/uyn-activyon-running-singlet-top-running-donna-10865524?filterFarbe=Dark+Red'},\n",
            " {'gender': 'donna',\n",
            "  'id': '10846106',\n",
            "  'type': 'abbigliamento',\n",
            "  'url': 'https://www.sportler.com/it/p/uyn-running-activyon-maglia-running-donna-10846106?filterFarbe=Dark+Red'},\n",
            " {'gender': 'donna',\n",
            "  'id': '10908481',\n",
            "  'type': 'abbigliamento',\n",
            "  'url': 'https://www.sportler.com/it/p/uyn-marathon-maglia-running-donna-10908481?filterFarbe=Black'},\n",
            " {'gender': 'donna',\n",
            "  'id': '10903278',\n",
            "  'type': 'abbigliamento',\n",
            "  'url': 'https://www.sportler.com/it/p/biciclista-mascherina-protettiva-10903278?filterFarbe=Purple%2FGreen'},\n",
            " {'gender': 'donna',\n",
            "  'id': '10872742',\n",
            "  'type': 'abbigliamento',\n",
            "  'url': 'https://www.sportler.com/it/p/rab-pulse-ss-maglietta-tecnica-donna-10872742?filterFarbe=Blue'},\n",
            " {'gender': 'donna',\n",
            "  'id': '10872729',\n",
            "  'type': 'abbigliamento',\n",
            "  'url': 'https://www.sportler.com/it/p/rab-sonic-ss-zip-t-shirt-tecnica-donna-10872729?filterFarbe=Light+Green'},\n",
            " {'gender': 'donna',\n",
            "  'id': '10895441',\n",
            "  'type': 'abbigliamento',\n",
            "  'url': 'https://www.sportler.com/it/p/dynafit-speed-dryarn-w-pantaloni-corti-trailrunning-a-compressione-donna-10895441?filterFarbe=Black%2FPink'},\n",
            " {'gender': 'donna',\n",
            "  'id': '10840935',\n",
            "  'type': 'abbigliamento',\n",
            "  'url': 'https://www.sportler.com/it/p/under-armour-fly-by-2.0-wordmark-patnaloni-corti-running-donna-10840935?filterFarbe=Grey'},\n",
            " {'gender': 'donna',\n",
            "  'id': '10840934',\n",
            "  'type': 'abbigliamento',\n",
            "  'url': 'https://www.sportler.com/it/p/under-armour-fly-by-2.0-mini-2-in-1-pantaloni-corti-running-donna-10840934?filterFarbe=Black'},\n",
            " {'gender': 'donna',\n",
            "  'id': '10840933',\n",
            "  'type': 'abbigliamento',\n",
            "  'url': 'https://www.sportler.com/it/p/under-armour-streaker-2.0-shift-top-running-donna-10840933?filterFarbe=Black'},\n",
            " {'gender': 'donna',\n",
            "  'id': '10784645',\n",
            "  'type': 'abbigliamento',\n",
            "  'url': 'https://www.sportler.com/it/p/gore-wear-r3-thermo-tights-pantaloni-lunghi-running-donna-10784645?filterFarbe=Black'},\n",
            " {'gender': 'donna',\n",
            "  'id': '10865511',\n",
            "  'type': 'abbigliamento',\n",
            "  'url': 'https://www.sportler.com/it/p/odlo-element-light-t-shirt-donna-10865511?filterFarbe=Green'},\n",
            " {'gender': 'donna',\n",
            "  'id': '10864289',\n",
            "  'type': 'abbigliamento',\n",
            "  'url': 'https://www.sportler.com/it/p/buff-coolnet-uv-tapered-fascia-paraorecchie-10864289?filterFarbe=Black'},\n",
            " {'gender': 'donna',\n",
            "  'id': '10863993',\n",
            "  'type': 'abbigliamento',\n",
            "  'url': 'https://www.sportler.com/it/p/buff-visor-visiera-running-donna-10863993?filterFarbe=Black'},\n",
            " {'gender': 'donna',\n",
            "  'id': '10863990',\n",
            "  'type': 'abbigliamento',\n",
            "  'url': 'https://www.sportler.com/it/p/buff-pack-run-cappellino-running-donna-10863990?filterFarbe=White%2FBlue'},\n",
            " {'gender': 'donna',\n",
            "  'id': '10781531',\n",
            "  'type': 'abbigliamento',\n",
            "  'url': 'https://www.sportler.com/it/p/nike-hooded-running-jacket-giacca-con-cappuccio-running-donna-10781531?filterFarbe=Blue'},\n",
            " {'gender': 'donna',\n",
            "  'id': '10865593',\n",
            "  'type': 'abbigliamento',\n",
            "  'url': 'https://www.sportler.com/it/p/uyn-motyon-2.0-uw-maglietta-tecnica-donna-10865593?filterFarbe=Black'},\n",
            " {'gender': 'donna',\n",
            "  'id': '10864306',\n",
            "  'type': 'abbigliamento',\n",
            "  'url': 'https://www.sportler.com/it/p/getfit-running-wind-giacca-running-donna-10864306?filterFarbe=Black'},\n",
            " {'gender': 'donna',\n",
            "  'id': '10864315',\n",
            "  'type': 'abbigliamento',\n",
            "  'url': 'https://www.sportler.com/it/p/salomon-right-nice-mid-hoodie-giacca-con-cappuccio-donna-10864315?filterFarbe=White'},\n",
            " {'gender': 'donna',\n",
            "  'id': '10821229',\n",
            "  'type': 'abbigliamento',\n",
            "  'url': 'https://www.sportler.com/it/p/nike-aeroloft-city-ready-gilet-running-donna-10821229?filterFarbe=Pink'},\n",
            " {'gender': 'donna',\n",
            "  'id': '10839953',\n",
            "  'type': 'abbigliamento',\n",
            "  'url': 'https://www.sportler.com/it/p/adidas-otr-tgt-pantaloni-corti-running-donna-10839953?filterFarbe=Black'},\n",
            " {'gender': 'donna',\n",
            "  'id': '10839970',\n",
            "  'type': 'abbigliamento',\n",
            "  'url': 'https://www.sportler.com/it/p/odlo-millennium-element-top-running-donna-10839970?filterFarbe=Red'},\n",
            " {'gender': 'donna',\n",
            "  'id': '10865581',\n",
            "  'type': 'abbigliamento',\n",
            "  'url': 'https://www.sportler.com/it/p/odlo-blackcomb-pro-maglia-tecnica-a-maniche-lunghe-donna-10865581?filterFarbe=Dark+Grey'},\n",
            " {'gender': 'donna',\n",
            "  'id': '10839942',\n",
            "  'type': 'abbigliamento',\n",
            "  'url': 'https://www.sportler.com/it/p/adidas-run-it-3s-maglia-running-donna-10839942?filterFarbe=Black'},\n",
            " {'gender': 'donna',\n",
            "  'id': '10839949',\n",
            "  'type': 'abbigliamento',\n",
            "  'url': 'https://www.sportler.com/it/p/adidas-run-it-pantaloni-running-donna-10839949?filterFarbe=Black'},\n",
            " {'gender': 'donna',\n",
            "  'id': '10839960',\n",
            "  'type': 'abbigliamento',\n",
            "  'url': 'https://www.sportler.com/it/p/adidas-own-the-run-pantaloni-3-4-running-donna-10839960?filterFarbe=Black'},\n",
            " {'gender': 'donna',\n",
            "  'id': '10838389',\n",
            "  'type': 'abbigliamento',\n",
            "  'url': 'https://www.sportler.com/it/p/on-performance-t-maglia-running-donna-10838389?filterFarbe=White'},\n",
            " {'gender': 'donna',\n",
            "  'id': '10838391',\n",
            "  'type': 'abbigliamento',\n",
            "  'url': 'https://www.sportler.com/it/p/on-race-pantaloni-corti-running-donna-10838391?filterFarbe=Black'},\n",
            " {'gender': 'donna',\n",
            "  'id': '10838388',\n",
            "  'type': 'abbigliamento',\n",
            "  'url': 'https://www.sportler.com/it/p/on-tights-7-8-pantaloni-running-donna-10838388?filterFarbe=Black'},\n",
            " {'gender': 'donna',\n",
            "  'id': '10864294',\n",
            "  'type': 'abbigliamento',\n",
            "  'url': 'https://www.sportler.com/it/p/getfit-kendall-pantaloni-running-donna-10864294?filterFarbe=Black'},\n",
            " {'gender': 'donna',\n",
            "  'id': '10829931',\n",
            "  'type': 'abbigliamento',\n",
            "  'url': 'https://www.sportler.com/it/p/nike-7-8-running-pantaloni-running-donna-10829931?filterFarbe=Black'},\n",
            " {'gender': 'donna',\n",
            "  'id': '10864290',\n",
            "  'type': 'abbigliamento',\n",
            "  'url': 'https://www.sportler.com/it/p/getfit-betsy-2-maglia-running-donna-10864290?filterFarbe=Grey'},\n",
            " {'gender': 'donna',\n",
            "  'id': '10864292',\n",
            "  'type': 'abbigliamento',\n",
            "  'url': 'https://www.sportler.com/it/p/getfit-thalie-top-running-donna-10864292?filterFarbe=White'},\n",
            " {'gender': 'donna',\n",
            "  'id': '10864293',\n",
            "  'type': 'abbigliamento',\n",
            "  'url': 'https://www.sportler.com/it/p/getfit-lia-4-pantaloni-corti-running-donna-10864293?filterFarbe=Black'},\n",
            " {'gender': 'donna',\n",
            "  'id': '10864295',\n",
            "  'type': 'abbigliamento',\n",
            "  'url': 'https://www.sportler.com/it/p/getfit-eleane-3-4-pantaloni-running-donna-10864295?filterFarbe=Black'},\n",
            " {'gender': 'donna',\n",
            "  'id': '10864291',\n",
            "  'type': 'abbigliamento',\n",
            "  'url': 'https://www.sportler.com/it/p/getfit-double-maglia-running-donna-10864291?filterFarbe=Pink'},\n",
            " {'gender': 'donna',\n",
            "  'id': '10837118',\n",
            "  'type': 'abbigliamento',\n",
            "  'url': 'https://www.sportler.com/it/p/nike-fast-womens-7-running-pantaloni-corti-running-donna-10837118?filterFarbe=Black'},\n",
            " {'gender': 'donna',\n",
            "  'id': '10829683',\n",
            "  'type': 'abbigliamento',\n",
            "  'url': 'https://www.sportler.com/it/p/nike-epic-lux-run-pantaloni-running-donna-10829683?filterFarbe=Black'},\n",
            " {'gender': 'donna',\n",
            "  'id': '10839344',\n",
            "  'type': 'abbigliamento',\n",
            "  'url': 'https://www.sportler.com/it/p/la-sportiva-draft-maglia-trail-running-donna-10839344?filterFarbe=White%2FBlue%2FRed'},\n",
            " {'gender': 'donna',\n",
            "  'id': '10872133',\n",
            "  'type': 'abbigliamento',\n",
            "  'url': 'https://www.sportler.com/it/p/dynafit-elevation-maglia-trail-running-donna-10872133?filterFarbe=Black%2FGrey'},\n",
            " {'gender': 'donna',\n",
            "  'id': '10869791',\n",
            "  'type': 'abbigliamento',\n",
            "  'url': 'https://www.sportler.com/it/p/la-sportiva-escape-maglia-trail-running-donna-10869791?filterFarbe=Light+Blue%2FWhite'},\n",
            " {'gender': 'donna',\n",
            "  'id': '10754650',\n",
            "  'type': 'abbigliamento',\n",
            "  'url': 'https://www.sportler.com/it/p/odlo-bl-bottom-short-smooth-pantaloncini-running-donna-10754650?filterFarbe=Black'},\n",
            " {'gender': 'donna',\n",
            "  'id': '10839963',\n",
            "  'type': 'abbigliamento',\n",
            "  'url': 'https://www.sportler.com/it/p/odlo-ethel-maglia-running-donna-10839963?filterFarbe=Black'},\n",
            " {'gender': 'donna',\n",
            "  'id': '10743011',\n",
            "  'type': 'abbigliamento',\n",
            "  'url': 'https://www.sportler.com/it/p/odlo-bl-bottom-3-4-smooth-pantaloni-running-3-4-donna-10743011?filterFarbe=Black'},\n",
            " {'gender': 'donna',\n",
            "  'id': '10840910',\n",
            "  'type': 'abbigliamento',\n",
            "  'url': 'https://www.sportler.com/it/p/under-armour-storm-launch-giacca-running-donna-10840910?filterFarbe=Black'},\n",
            " {'gender': 'donna',\n",
            "  'id': '10872774',\n",
            "  'type': 'abbigliamento',\n",
            "  'url': 'https://www.sportler.com/it/p/bv-sport-keepfit-melange-top-running-donna-10872774?filterFarbe=Pink'},\n",
            " {'gender': 'donna',\n",
            "  'id': '10872771',\n",
            "  'type': 'abbigliamento',\n",
            "  'url': 'https://www.sportler.com/it/p/bv-sport-keepfit-stockholm-collector-edition-pantaloni-running-donna-10872771?filterFarbe=Dark+Blue%2FPink'},\n",
            " {'gender': 'donna',\n",
            "  'id': '10872761',\n",
            "  'type': 'abbigliamento',\n",
            "  'url': 'https://www.sportler.com/it/p/bv-sport-quadshort-csx-pantaloni-corti-trail-running-a-compressione-donna-10872761?filterFarbe=Black'},\n",
            " {'gender': 'donna',\n",
            "  'id': '10829848',\n",
            "  'type': 'abbigliamento',\n",
            "  'url': 'https://www.sportler.com/it/p/nike-7-8-running-pantaloni-running-donna-10829848?filterFarbe=Black'},\n",
            " {'gender': 'donna',\n",
            "  'id': '10829850',\n",
            "  'type': 'abbigliamento',\n",
            "  'url': 'https://www.sportler.com/it/p/nike-running-tights-pantaloni-running-donna-10829850?filterFarbe=Black'},\n",
            " {'gender': 'donna',\n",
            "  'id': '10829921',\n",
            "  'type': 'abbigliamento',\n",
            "  'url': 'https://www.sportler.com/it/p/nike-therma-sphere-maglia-running-a-maniche-lunghe-donna-10829921?filterFarbe=Black%2FWhite'},\n",
            " {'gender': 'donna',\n",
            "  'id': '10872116',\n",
            "  'type': 'abbigliamento',\n",
            "  'url': 'https://www.sportler.com/it/p/dynafit-alpine-maglia-trail-running-donna-10872116?filterFarbe=Light+Blue%2FBlue%2FPink'},\n",
            " {'gender': 'donna',\n",
            "  'id': '10872143',\n",
            "  'type': 'abbigliamento',\n",
            "  'url': 'https://www.sportler.com/it/p/dynafit-glockner-ultra-shakedry-giacca-in-gore-tex-donna-10872143?filterFarbe=Grey%2FPink'},\n",
            " {'gender': 'donna',\n",
            "  'id': '10840920',\n",
            "  'type': 'abbigliamento',\n",
            "  'url': 'https://www.sportler.com/it/p/under-armour-qualifier-iso-chill-embossed-top-running-donna-10840920?filterFarbe=Dark+Blue'},\n",
            " {'gender': 'donna',\n",
            "  'id': '10839248',\n",
            "  'type': 'abbigliamento',\n",
            "  'url': 'https://www.sportler.com/it/p/salomon-agile-giacca-trail-running-donna-10839248?filterFarbe=White'},\n",
            " {'gender': 'donna',\n",
            "  'id': '10839526',\n",
            "  'type': 'abbigliamento',\n",
            "  'url': 'https://www.sportler.com/it/p/gore-wear-r3-maglia-running-donna-10839526?filterFarbe=Blue'},\n",
            " {'gender': 'donna',\n",
            "  'id': '10839345',\n",
            "  'type': 'abbigliamento',\n",
            "  'url': 'https://www.sportler.com/it/p/la-sportiva-vector-pantaloni-corti-trail-running-donna-10839345?filterFarbe=Light+Blue%2FRed'},\n",
            " {'gender': 'donna',\n",
            "  'id': '10834666',\n",
            "  'type': 'abbigliamento',\n",
            "  'url': 'https://www.sportler.com/it/p/nike-medium-support-sports-reggiseno-sportivo-a-supporto-medio-donna-10834666?filterFarbe=Black'},\n",
            " {'gender': 'donna',\n",
            "  'id': '10829827',\n",
            "  'type': 'abbigliamento',\n",
            "  'url': 'https://www.sportler.com/it/p/nike-running-top-running-donna-10829827?filterFarbe=Grey'},\n",
            " {'gender': 'donna',\n",
            "  'id': '10829864',\n",
            "  'type': 'abbigliamento',\n",
            "  'url': 'https://www.sportler.com/it/p/nike-full-zip-running-giacca-running-donna-10829864?filterFarbe=Black%2FWhite'},\n",
            " {'gender': 'donna',\n",
            "  'id': '10834663',\n",
            "  'type': 'abbigliamento',\n",
            "  'url': 'https://www.sportler.com/it/p/nike-medium-support-sports-reggiseno-sportivo-a-supporto-medio-donna-10834663?filterFarbe=Black'},\n",
            " {'gender': 'donna',\n",
            "  'id': '10840921',\n",
            "  'type': 'abbigliamento',\n",
            "  'url': 'https://www.sportler.com/it/p/under-armour-qualifier-speedpocket-2-in-1-pantaloni-corti-running-donna-10840921?filterFarbe=Black'},\n",
            " {'gender': 'donna',\n",
            "  'id': '10837103',\n",
            "  'type': 'abbigliamento',\n",
            "  'url': 'https://www.sportler.com/it/p/nike-running-maglia-running-donna-10837103?filterFarbe=Black'},\n",
            " {'gender': 'donna',\n",
            "  'id': '10837105',\n",
            "  'type': 'abbigliamento',\n",
            "  'url': 'https://www.sportler.com/it/p/nike-eclipse-8-3in-pantaloni-corti-running-donna-10837105?filterFarbe=Black'},\n",
            " {'gender': 'donna',\n",
            "  'id': '10829839',\n",
            "  'type': 'abbigliamento',\n",
            "  'url': 'https://www.sportler.com/it/p/nike-miler-maglia-running-donna-10829839?filterFarbe=Black'},\n",
            " {'gender': 'donna',\n",
            "  'id': '10829859',\n",
            "  'type': 'abbigliamento',\n",
            "  'url': 'https://www.sportler.com/it/p/nike-running-maglia-running-donna-10829859?filterFarbe=Black'},\n",
            " {'gender': 'donna',\n",
            "  'id': '10829932',\n",
            "  'type': 'abbigliamento',\n",
            "  'url': 'https://www.sportler.com/it/p/nike-fast-running-pantaloni-running-donna-10829932?filterFarbe=Black'},\n",
            " {'gender': 'donna',\n",
            "  'id': '10829852',\n",
            "  'type': 'abbigliamento',\n",
            "  'url': 'https://www.sportler.com/it/p/nike-speed-7-8-running-pantaloni-running-donna-10829852?filterFarbe=Black'},\n",
            " {'gender': 'donna',\n",
            "  'id': '10829933',\n",
            "  'type': 'abbigliamento',\n",
            "  'url': 'https://www.sportler.com/it/p/nike-shield-running-giacca-running-donna-10829933?filterFarbe=Black'},\n",
            " {'gender': 'donna',\n",
            "  'id': '10840926',\n",
            "  'type': 'abbigliamento',\n",
            "  'url': 'https://www.sportler.com/it/p/under-armour-fly-by-2.0-pantaloni-corti-running-donna-10840926?filterFarbe=Black'},\n",
            " {'gender': 'donna',\n",
            "  'id': '10840927',\n",
            "  'type': 'abbigliamento',\n",
            "  'url': 'https://www.sportler.com/it/p/under-armour-speed-stride-top-running-donna-10840927?filterFarbe=Black'},\n",
            " {'gender': 'donna',\n",
            "  'id': '10840922',\n",
            "  'type': 'abbigliamento',\n",
            "  'url': 'https://www.sportler.com/it/p/under-armour-streaker-2.0-shift-maglia-running-donna-10840922?filterFarbe=Black'},\n",
            " {'gender': 'donna',\n",
            "  'id': '10840919',\n",
            "  'type': 'abbigliamento',\n",
            "  'url': 'https://www.sportler.com/it/p/under-armour-qualifier-iso-chill-maglia-running-donna-10840919?filterFarbe=Black'},\n",
            " {'gender': 'donna',\n",
            "  'id': '10840925',\n",
            "  'type': 'abbigliamento',\n",
            "  'url': 'https://www.sportler.com/it/p/under-armour-fly-fast-pantaloni-3-4-running-donna-10840925?filterFarbe=Black'},\n",
            " {'gender': 'donna',\n",
            "  'id': '10840924',\n",
            "  'type': 'abbigliamento',\n",
            "  'url': 'https://www.sportler.com/it/p/under-armour-fly-fast-printed-crop-pantaloni-3-4-running-donna-10840924?filterFarbe=Black'},\n",
            " {'gender': 'donna',\n",
            "  'id': '10836030',\n",
            "  'type': 'abbigliamento',\n",
            "  'url': 'https://www.sportler.com/it/p/uyn-trainer-no-show-calzini-corti-running-donna-10836030?filterFarbe=Black%2FGrey'},\n",
            " {'gender': 'donna',\n",
            "  'id': '10829833',\n",
            "  'type': 'abbigliamento',\n",
            "  'url': 'https://www.sportler.com/it/p/nike-running-tank-top-running-donna-10829833?filterFarbe=Black'},\n",
            " {'gender': 'donna',\n",
            "  'id': '10829845',\n",
            "  'type': 'abbigliamento',\n",
            "  'url': 'https://www.sportler.com/it/p/nike-running-maglia-running-donna-10829845?filterFarbe=Black'},\n",
            " {'gender': 'donna',\n",
            "  'id': '10829847',\n",
            "  'type': 'abbigliamento',\n",
            "  'url': 'https://www.sportler.com/it/p/nike-lined-running-pantaloni-corti-running-donna-10829847?filterFarbe=Black%2FPink'},\n",
            " {'gender': 'donna',\n",
            "  'id': '10829930',\n",
            "  'type': 'abbigliamento',\n",
            "  'url': 'https://www.sportler.com/it/p/nike-running-top-running-donna-10829930?filterFarbe=Black'},\n",
            " {'gender': 'donna',\n",
            "  'id': '10829830',\n",
            "  'type': 'abbigliamento',\n",
            "  'url': 'https://www.sportler.com/it/p/nike-air-running-top-running-donna-10829830?filterFarbe=Black'},\n",
            " {'gender': 'donna',\n",
            "  'id': '10829841',\n",
            "  'type': 'abbigliamento',\n",
            "  'url': 'https://www.sportler.com/it/p/nike-running-maglia-running-donna-10829841?filterFarbe=Black'},\n",
            " {'gender': 'donna',\n",
            "  'id': '10829843',\n",
            "  'type': 'abbigliamento',\n",
            "  'url': 'https://www.sportler.com/it/p/nike-running-maglia-running-donna-10829843?filterFarbe=Black'},\n",
            " {'gender': 'donna',\n",
            "  'id': '10829828',\n",
            "  'type': 'abbigliamento',\n",
            "  'url': 'https://www.sportler.com/it/p/nike-air-run-ss-maglia-running-donna-10829828?filterFarbe=Black'},\n",
            " {'gender': 'donna',\n",
            "  'id': '10829862',\n",
            "  'type': 'abbigliamento',\n",
            "  'url': 'https://www.sportler.com/it/p/nike-tempo-lux-running-pantaloni-corti-running-donna-10829862?filterFarbe=Grey'},\n",
            " {'gender': 'donna',\n",
            "  'id': '10829682',\n",
            "  'type': 'abbigliamento',\n",
            "  'url': 'https://www.sportler.com/it/p/nike-running-felpa-donna-10829682?filterFarbe=Black'},\n",
            " {'gender': 'donna',\n",
            "  'id': '10829834',\n",
            "  'type': 'abbigliamento',\n",
            "  'url': 'https://www.sportler.com/it/p/nike-fast-crop-pantaloni-running-donna-10829834?filterFarbe=Black'},\n",
            " {'gender': 'donna',\n",
            "  'id': '10789094',\n",
            "  'type': 'abbigliamento',\n",
            "  'url': 'https://www.sportler.com/it/p/uyn-cashmere-shiny-calzamaglia-donna-10789094?filterFarbe=Yellow'},\n",
            " {'gender': 'donna',\n",
            "  'id': '10821587',\n",
            "  'type': 'abbigliamento',\n",
            "  'url': 'https://www.sportler.com/it/p/nike-3-running-shorts-running-donna-10821587?filterFarbe=Black%2FGold'},\n",
            " {'gender': 'donna',\n",
            "  'id': '10821573',\n",
            "  'type': 'abbigliamento',\n",
            "  'url': 'https://www.sportler.com/it/p/nike-essential-giacca-running-antipioggia-donna-10821573?filterFarbe=Black'},\n",
            " {'gender': 'donna',\n",
            "  'id': '10836026',\n",
            "  'type': 'abbigliamento',\n",
            "  'url': 'https://www.sportler.com/it/p/uyn-superleggera-run-calzini-corti-running-donna-10836026?filterFarbe=Dark+Grey%2FPink'},\n",
            " {'gender': 'donna',\n",
            "  'id': '10836028',\n",
            "  'type': 'abbigliamento',\n",
            "  'url': 'https://www.sportler.com/it/p/uyn-trail-challenge-run-calzini-trail-running-donna-10836028?filterFarbe=Black%2FWhite'},\n",
            " {'gender': 'donna',\n",
            "  'id': '10821567',\n",
            "  'type': 'abbigliamento',\n",
            "  'url': 'https://www.sportler.com/it/p/nike-sphere-element-maglia-running-donna-10821567?filterFarbe=Black'},\n",
            " {'gender': 'donna',\n",
            "  'id': '10821574',\n",
            "  'type': 'abbigliamento',\n",
            "  'url': 'https://www.sportler.com/it/p/nike-aerolayer-giacca-ibrida-running-donna-10821574?filterFarbe=Black'},\n",
            " {'gender': 'donna',\n",
            "  'id': '10821249',\n",
            "  'type': 'abbigliamento',\n",
            "  'url': 'https://www.sportler.com/it/p/nike-miler-maglia-running-donna-10821249?filterFarbe=Black'},\n",
            " {'gender': 'donna',\n",
            "  'id': '10790164',\n",
            "  'type': 'abbigliamento',\n",
            "  'url': 'https://www.sportler.com/it/p/under-armour-rush-run-coldgear-maglia-running-con-zip-donna-10790164?filterFarbe=Black'},\n",
            " {'gender': 'donna',\n",
            "  'id': '10790166',\n",
            "  'type': 'abbigliamento',\n",
            "  'url': 'https://www.sportler.com/it/p/under-armour-rush-run-coldgear-pantaloni-running-donna-10790166?filterFarbe=Black'},\n",
            " {'gender': 'donna',\n",
            "  'id': '10789064',\n",
            "  'type': 'abbigliamento',\n",
            "  'url': 'https://www.sportler.com/it/p/nike-impact-strappy-sports-reggiseno-sportivo-a-sostegno-elevato-donna-10789064?filterFarbe=Black'},\n",
            " {'gender': 'donna',\n",
            "  'id': '10821235',\n",
            "  'type': 'abbigliamento',\n",
            "  'url': 'https://www.sportler.com/it/p/nike-epic-lux-pantaloni-lunghi-running-donna-10821235?filterFarbe=Black%2FWhite'},\n",
            " {'gender': 'donna',\n",
            "  'id': '10821252',\n",
            "  'type': 'abbigliamento',\n",
            "  'url': 'https://www.sportler.com/it/p/nike-shield-giacca-running-antipioggia-donna-10821252?filterFarbe=Black%2FWhite'},\n",
            " {'gender': 'donna',\n",
            "  'id': '10821234',\n",
            "  'type': 'abbigliamento',\n",
            "  'url': 'https://www.sportler.com/it/p/nike-dri-fit-miler-t-shirt-running-donna-10821234?filterFarbe=Black'},\n",
            " {'gender': 'donna',\n",
            "  'id': '10821564',\n",
            "  'type': 'abbigliamento',\n",
            "  'url': 'https://www.sportler.com/it/p/nike-element-maglia-running-manica-lunga-donna-10821564?filterFarbe=Black'},\n",
            " {'gender': 'donna',\n",
            "  'id': '10827227',\n",
            "  'type': 'abbigliamento',\n",
            "  'url': 'https://www.sportler.com/it/p/getfit-top-maglia-a-maniche-lunghe-running-donna-10827227?filterFarbe=Black%2FPink'},\n",
            " {'gender': 'donna',\n",
            "  'id': '10827229',\n",
            "  'type': 'abbigliamento',\n",
            "  'url': 'https://www.sportler.com/it/p/getfit-lady-200-gr-pantaloni-lunghi-running-donna-10827229?filterFarbe=Black'},\n",
            " {'gender': 'donna',\n",
            "  'id': '10789085',\n",
            "  'type': 'abbigliamento',\n",
            "  'url': 'https://www.sportler.com/it/p/uyn-ambityon-calzamaglia-donna-10789085?filterFarbe=Grey%2FViolet'},\n",
            " {'gender': 'donna',\n",
            "  'id': '10829008',\n",
            "  'type': 'abbigliamento',\n",
            "  'url': 'https://www.sportler.com/it/p/under-armour-speed-stride-capri-pantaloni-3-4-running-donna-10829008?filterFarbe=Black'},\n",
            " {'gender': 'donna',\n",
            "  'id': '10829006',\n",
            "  'type': 'abbigliamento',\n",
            "  'url': 'https://www.sportler.com/it/p/under-armour-storm-lauch-pantaloni-lunghi-running-donna-10829006?filterFarbe=Black'},\n",
            " {'gender': 'donna',\n",
            "  'id': '10829013',\n",
            "  'type': 'abbigliamento',\n",
            "  'url': 'https://www.sportler.com/it/p/under-armour-qualifier-camo-maglia-running-con-zip-donna-10829013?filterFarbe=White'},\n",
            " {'gender': 'donna',\n",
            "  'id': '10789084',\n",
            "  'type': 'abbigliamento',\n",
            "  'url': 'https://www.sportler.com/it/p/uyn-evolutyon-calzamaglia-donna-10789084?filterFarbe=Grey%2FViolet'},\n",
            " {'gender': 'donna',\n",
            "  'id': '10829007',\n",
            "  'type': 'abbigliamento',\n",
            "  'url': 'https://www.sportler.com/it/p/under-armour-storm-run-liner-guanti-running-donna-10829007?filterFarbe=Black'},\n",
            " {'gender': 'donna',\n",
            "  'id': '10783235',\n",
            "  'type': 'abbigliamento',\n",
            "  'url': 'https://www.sportler.com/it/p/nike-dry-run-berlin-maglia-running-donna-10783235?filterFarbe=Black'},\n",
            " {'gender': 'donna',\n",
            "  'id': '10783234',\n",
            "  'type': 'abbigliamento',\n",
            "  'url': 'https://www.sportler.com/it/p/nike-running-berlin-maglia-running-donna-10783234?filterFarbe=Black'},\n",
            " {'gender': 'donna',\n",
            "  'id': '10784767',\n",
            "  'type': 'abbigliamento',\n",
            "  'url': 'https://www.sportler.com/it/p/adidas-own-the-run-pantaloni-lunghi-running-donna-10784767?filterFarbe=Black%2FBlue'},\n",
            " {'gender': 'donna',\n",
            "  'id': '10784643',\n",
            "  'type': 'abbigliamento',\n",
            "  'url': 'https://www.sportler.com/it/p/gore-wear-thermo-long-sleeve-maglia-manica-lunga-running-donna-10784643?filterFarbe=Grey'},\n",
            " {'gender': 'donna',\n",
            "  'id': '10784642',\n",
            "  'type': 'abbigliamento',\n",
            "  'url': 'https://www.sportler.com/it/p/gore-wear-r5-gore-tex-infinitum-windstopper-gilet-running-donna-10784642?filterFarbe=Black'},\n",
            " {'gender': 'donna',\n",
            "  'id': '10790156',\n",
            "  'type': 'abbigliamento',\n",
            "  'url': 'https://www.sportler.com/it/p/under-armour-fly-fast-printed-pantaloni-lunghi-running-donna-10790156?filterFarbe=Light+Blue%2FBlack%2FWhite'},\n",
            " {'gender': 'donna',\n",
            "  'id': '10802448',\n",
            "  'type': 'abbigliamento',\n",
            "  'url': 'https://www.sportler.com/it/p/on-weather-shirt-maglia-running-donna-10802448?filterFarbe=Rose'},\n",
            " {'gender': 'donna',\n",
            "  'id': '10802443',\n",
            "  'type': 'abbigliamento',\n",
            "  'url': 'https://www.sportler.com/it/p/on-waterproof-anorak-giacca-antipioggia-donna-10802443?filterFarbe=Purple'},\n",
            " {'gender': 'donna',\n",
            "  'id': '10781527',\n",
            "  'type': 'abbigliamento',\n",
            "  'url': 'https://www.sportler.com/it/p/nike-swoosh-short-sleeve-running-top-t-shirt-running-donna-10781527?filterFarbe=Rose'},\n",
            " {'gender': 'donna',\n",
            "  'id': '10781500',\n",
            "  'type': 'abbigliamento',\n",
            "  'url': 'https://www.sportler.com/it/p/nike-swoosh-running-tights-leggings-running-donna-10781500?filterFarbe=Black'},\n",
            " {'gender': 'donna',\n",
            "  'id': '10781524',\n",
            "  'type': 'abbigliamento',\n",
            "  'url': 'https://www.sportler.com/it/p/nike-air-short-sleeve-running-top-t-shirt-running-donna-10781524?filterFarbe=White'},\n",
            " {'gender': 'donna',\n",
            "  'id': '10781308',\n",
            "  'type': 'abbigliamento',\n",
            "  'url': 'https://www.sportler.com/it/p/nike-techknit-cool-running-tank-top-running-donna-10781308?filterFarbe=Green'},\n",
            " {'gender': 'donna',\n",
            "  'id': '10781520',\n",
            "  'type': 'abbigliamento',\n",
            "  'url': 'https://www.sportler.com/it/p/nike-air-running-jacket-giacca-running-donna-10781520?filterFarbe=Black'},\n",
            " {'gender': 'donna',\n",
            "  'id': '10783051',\n",
            "  'type': 'abbigliamento',\n",
            "  'url': 'https://www.sportler.com/it/p/salomon-agile-maglia-a-maniche-lunghe-trail-running-donna-10783051?filterFarbe=Grey'},\n",
            " {'gender': 'donna',\n",
            "  'id': '10782765',\n",
            "  'type': 'abbigliamento',\n",
            "  'url': 'https://www.sportler.com/it/p/under-armour-launch-2-in-1-pantaloni-corti-running-donna-10782765?filterFarbe=Grey'},\n",
            " {'gender': 'donna',\n",
            "  'id': '10782769',\n",
            "  'type': 'abbigliamento',\n",
            "  'url': 'https://www.sportler.com/it/p/under-armour-run-track-pantaloni-corti-running-donna-10782769?filterFarbe=Grey'},\n",
            " {'gender': 'donna',\n",
            "  'id': '10782760',\n",
            "  'type': 'abbigliamento',\n",
            "  'url': 'https://www.sportler.com/it/p/under-armour-rush-run-t-shirt-running-donna-10782760?filterFarbe=Black'},\n",
            " {'gender': 'donna',\n",
            "  'id': '10781930',\n",
            "  'type': 'abbigliamento',\n",
            "  'url': 'https://www.sportler.com/it/p/adidas-25-7-runr-parley-t-shirt-running-donna-10781930?filterFarbe=Blue'},\n",
            " {'gender': 'donna',\n",
            "  'id': '10783001',\n",
            "  'type': 'abbigliamento',\n",
            "  'url': 'https://www.sportler.com/it/p/under-armour-rush-run-top-running-donna-10783001?filterFarbe=Red'},\n",
            " {'gender': 'donna',\n",
            "  'id': '10782768',\n",
            "  'type': 'abbigliamento',\n",
            "  'url': 'https://www.sportler.com/it/p/under-armour-flyfast-glare-raised-thread-pantaloni-running-donna-10782768?filterFarbe=Black'},\n",
            " {'gender': 'donna',\n",
            "  'id': '10782750',\n",
            "  'type': 'abbigliamento',\n",
            "  'url': 'https://www.sportler.com/it/p/under-armour-streaker-2.0-maglia-con-cappuccio-running-donna-10782750?filterFarbe=Black'},\n",
            " {'gender': 'donna',\n",
            "  'id': '10781304',\n",
            "  'type': 'abbigliamento',\n",
            "  'url': 'https://www.sportler.com/it/p/nike-dry-fit-running-crew-maglia-running-maniche-lunghe-donna-10781304?filterFarbe=Black'},\n",
            " {'gender': 'donna',\n",
            "  'id': '10781534',\n",
            "  'type': 'abbigliamento',\n",
            "  'url': 'https://www.sportler.com/it/p/nike-tech-pack-running-tights-pantaloni-3-4-running-donna-10781534?filterFarbe=Blue'},\n",
            " {'gender': 'donna',\n",
            "  'id': '10781491',\n",
            "  'type': 'abbigliamento',\n",
            "  'url': 'https://www.sportler.com/it/p/nike-miler-running-top-maglia-maniche-lunghe-running-donna-10781491?filterFarbe=Rose'},\n",
            " {'gender': 'donna',\n",
            "  'id': '10785318',\n",
            "  'type': 'abbigliamento',\n",
            "  'url': 'https://www.sportler.com/it/p/nike-motion-adapt-2.0-high-support-sports-cup-b-reggiseno-sportivo-a-sostegno-elevato-10785318?filterFarbe=Rose'},\n",
            " {'gender': 'donna',\n",
            "  'id': '10783003',\n",
            "  'type': 'abbigliamento',\n",
            "  'url': 'https://www.sportler.com/it/p/getfit-mila-w-pantaloni-running-donna-10783003?filterFarbe=Black'},\n",
            " {'gender': 'donna',\n",
            "  'id': '10756204',\n",
            "  'type': 'abbigliamento',\n",
            "  'url': 'https://www.sportler.com/it/p/x-bionic-energizer-mk3-lt-maglietta-tecnica-donna-10756204?filterFarbe=Black'},\n",
            " {'gender': 'donna',\n",
            "  'id': '10778760',\n",
            "  'type': 'abbigliamento',\n",
            "  'url': 'https://www.sportler.com/it/p/nike-dri-fit-miler-running-maglia-running-donna-10778760?filterFarbe=Light+Blue'},\n",
            " {'gender': 'donna',\n",
            "  'id': '10782993',\n",
            "  'type': 'abbigliamento',\n",
            "  'url': 'https://www.sportler.com/it/p/under-armour-qualifier-half-zip-maglia-running-donna-10782993?filterFarbe=Black'},\n",
            " {'gender': 'donna',\n",
            "  'id': '10756201',\n",
            "  'type': 'abbigliamento',\n",
            "  'url': 'https://www.sportler.com/it/p/x-bionic-energizer-mk3-lt-singlet-top-tecnico-donna-10756201?filterFarbe=White'},\n",
            " {'gender': 'donna',\n",
            "  'id': '10756202',\n",
            "  'type': 'abbigliamento',\n",
            "  'url': 'https://www.sportler.com/it/p/x-bionic-energizer-mk3-lt-boxer-donna-10756202?filterFarbe=Black'},\n",
            " {'gender': 'donna',\n",
            "  'id': '10756180',\n",
            "  'type': 'abbigliamento',\n",
            "  'url': 'https://www.sportler.com/it/p/x-bionic-invent-lt-boxer-donna-10756180?filterFarbe=Black'},\n",
            " {'gender': 'donna',\n",
            "  'id': '10755226',\n",
            "  'type': 'abbigliamento',\n",
            "  'url': 'https://www.sportler.com/it/p/uyn-visyon-light-maglietta-tecnica-donna-10755226?filterFarbe=Black'},\n",
            " {'gender': 'donna',\n",
            "  'id': '10749920',\n",
            "  'type': 'abbigliamento',\n",
            "  'url': 'https://www.sportler.com/it/p/getfit-hazel-maglia-running-donna-10749920?filterFarbe=Green'},\n",
            " {'gender': 'donna',\n",
            "  'id': '10779676',\n",
            "  'type': 'abbigliamento',\n",
            "  'url': 'https://www.sportler.com/it/p/odlo-performance-light-suw-bottom-slip-funzionali-donna-10779676?filterFarbe=Black'},\n",
            " {'gender': 'donna',\n",
            "  'id': '10779673',\n",
            "  'type': 'abbigliamento',\n",
            "  'url': 'https://www.sportler.com/it/p/odlo-performance-light-suw-bottom-boxer-donna-10779673?filterFarbe=Black'},\n",
            " {'gender': 'donna',\n",
            "  'id': '10779672',\n",
            "  'type': 'abbigliamento',\n",
            "  'url': 'https://www.sportler.com/it/p/odlo-performance-light-suw-top-tecnico-donna-10779672?filterFarbe=Black'},\n",
            " {'gender': 'donna',\n",
            "  'id': '10779670',\n",
            "  'type': 'abbigliamento',\n",
            "  'url': 'https://www.sportler.com/it/p/odlo-performance-light-suw-maglietta-tecnica-donna-10779670?filterFarbe=Black'},\n",
            " {'gender': 'donna',\n",
            "  'id': '10748763',\n",
            "  'type': 'abbigliamento',\n",
            "  'url': 'https://www.sportler.com/it/p/uyn-running-activyon-ow-pants-pantaloncini-running-donna-10748763?filterFarbe=Grey'},\n",
            " {'gender': 'donna',\n",
            "  'id': '10757497',\n",
            "  'type': 'abbigliamento',\n",
            "  'url': 'https://www.sportler.com/it/p/uyn-running-alpha-ow-pants-pantaloncini-running-donna-10757497?filterFarbe=Black'},\n",
            " {'gender': 'donna',\n",
            "  'id': '10756192',\n",
            "  'type': 'abbigliamento',\n",
            "  'url': 'https://www.sportler.com/it/p/uyn-running-alpha-singlet-top-running-donna-10756192?filterFarbe=Grey%2FBlue'},\n",
            " {'gender': 'donna',\n",
            "  'id': '10748739',\n",
            "  'type': 'abbigliamento',\n",
            "  'url': 'https://www.sportler.com/it/p/uyn-running-alpha-ow-maglia-running-donna-10748739?filterFarbe=Blue%2FGrey'},\n",
            " {'gender': 'donna',\n",
            "  'id': '10755214',\n",
            "  'type': 'abbigliamento',\n",
            "  'url': 'https://www.sportler.com/it/p/odlo-ceramicool-bl-maglia-running-donna-10755214?filterFarbe=Red'},\n",
            " {'gender': 'donna',\n",
            "  'id': '10756186',\n",
            "  'type': 'abbigliamento',\n",
            "  'url': 'https://www.sportler.com/it/p/x-bionic-invent-lt-singlet-maglietta-tecnica-donna-10756186?filterFarbe=Black'},\n",
            " {'gender': 'donna',\n",
            "  'id': '10756183',\n",
            "  'type': 'abbigliamento',\n",
            "  'url': 'https://www.sportler.com/it/p/x-bionic-invent-lt-maglietta-tecnica-donna-10756183?filterFarbe=Black'},\n",
            " {'gender': 'donna',\n",
            "  'id': '10747048',\n",
            "  'type': 'abbigliamento',\n",
            "  'url': 'https://www.sportler.com/it/p/la-sportiva-runner-tank-top-running-donna-10747048?filterFarbe=Blue%2FLight+Blue'},\n",
            " {'gender': 'donna',\n",
            "  'id': '10746801',\n",
            "  'type': 'abbigliamento',\n",
            "  'url': 'https://www.sportler.com/it/p/on-tank-t-top-running-donna-10746801?filterFarbe=Light+Blue%2FBlack'},\n",
            " {'gender': 'donna',\n",
            "  'id': '10758495',\n",
            "  'type': 'abbigliamento',\n",
            "  'url': 'https://www.sportler.com/it/p/on-sweat-pantaloni-fitness-donna-10758495?filterFarbe=Dark+Green'},\n",
            " {'gender': 'donna',\n",
            "  'id': '10740296',\n",
            "  'type': 'abbigliamento',\n",
            "  'url': 'https://www.sportler.com/it/p/la-sportiva-drift-tank-top-trail-running-donna-10740296?filterFarbe=Red%2FOrange'},\n",
            " {'gender': 'donna',\n",
            "  'id': '10746259',\n",
            "  'type': 'abbigliamento',\n",
            "  'url': 'https://www.sportler.com/it/p/la-sportiva-move-maglia-trail-running-donna-10746259?filterFarbe=Light+Blue%2FRed'},\n",
            " {'gender': 'donna',\n",
            "  'id': '10747051',\n",
            "  'type': 'abbigliamento',\n",
            "  'url': 'https://www.sportler.com/it/p/la-sportiva-catch-maglia-trail-running-donna-10747051?filterFarbe=Light+Blue%2FBlue'},\n",
            " {'gender': 'donna',\n",
            "  'id': '10740294',\n",
            "  'type': 'abbigliamento',\n",
            "  'url': 'https://www.sportler.com/it/p/la-sportiva-comet-gonna-trail-running-donna-10740294?filterFarbe=Light+Blue'},\n",
            " {'gender': 'donna',\n",
            "  'id': '10754642',\n",
            "  'type': 'abbigliamento',\n",
            "  'url': 'https://www.sportler.com/it/p/odlo-active-f-dry-light-suw-singlet-top-tecnico-donna-10754642?filterFarbe=Black'},\n",
            " {'gender': 'donna',\n",
            "  'id': '10751150',\n",
            "  'type': 'abbigliamento',\n",
            "  'url': 'https://www.sportler.com/it/p/odlo-performance-x-light-suw-bottom-boxer-donna-10751150?filterFarbe=Black'},\n",
            " {'gender': 'donna',\n",
            "  'id': '10751149',\n",
            "  'type': 'abbigliamento',\n",
            "  'url': 'https://www.sportler.com/it/p/odlo-performance-x-light-suw-singlet-top-tecnico-donna-10751149?filterFarbe=Black'},\n",
            " {'gender': 'donna',\n",
            "  'id': '10751147',\n",
            "  'type': 'abbigliamento',\n",
            "  'url': 'https://www.sportler.com/it/p/odlo-performance-x-light-suw-maglietta-tecnica-donna-10751147?filterFarbe=White'},\n",
            " {'gender': 'donna',\n",
            "  'id': '10751146',\n",
            "  'type': 'abbigliamento',\n",
            "  'url': 'https://www.sportler.com/it/p/odlo-active-spine-pro-suw-maglietta-tecnica-donna-10751146?filterFarbe=Black'},\n",
            " {'gender': 'donna',\n",
            "  'id': '10748519',\n",
            "  'type': 'abbigliamento',\n",
            "  'url': 'https://www.sportler.com/it/p/under-armour-streaker-2.0-racer-top-running-donna-10748519?filterFarbe=Beige'},\n",
            " {'gender': 'donna',\n",
            "  'id': '10741210',\n",
            "  'type': 'abbigliamento',\n",
            "  'url': 'https://www.sportler.com/it/p/odlo-core-light-giacca-running-donna-10741210?filterFarbe=Grey%2FPink'},\n",
            " {'gender': 'donna',\n",
            "  'id': '10757975',\n",
            "  'type': 'abbigliamento',\n",
            "  'url': 'https://www.sportler.com/it/p/gore-wear-brand-maglia-running-donna-10757975?filterFarbe=Blue%2FYellow'},\n",
            " {'gender': 'donna',\n",
            "  'id': '10746270',\n",
            "  'type': 'abbigliamento',\n",
            "  'url': 'https://www.sportler.com/it/p/gore-wear-r7-2in1-pantaloncini-running-donna-10746270?filterFarbe=Yellow'},\n",
            " {'gender': 'donna',\n",
            "  'id': '10751734',\n",
            "  'type': 'abbigliamento',\n",
            "  'url': 'https://www.sportler.com/it/p/dynafit-transalper-dst-giacca-in-pile-con-cappuccio-donna-10751734?filterFarbe=Blue%2FLight+Blue'},\n",
            " {'gender': 'donna',\n",
            "  'id': '10731202',\n",
            "  'type': 'abbigliamento',\n",
            "  'url': 'https://www.sportler.com/it/p/nike-city-sleek-maglia-running-donna-10731202?filterFarbe=Black'},\n",
            " {'gender': 'donna',\n",
            "  'id': '10731197',\n",
            "  'type': 'abbigliamento',\n",
            "  'url': 'https://www.sportler.com/it/p/nike-city-sleek-top-running-donna-10731197?filterFarbe=Black'},\n",
            " {'gender': 'donna',\n",
            "  'id': '10725199',\n",
            "  'type': 'abbigliamento',\n",
            "  'url': 'https://www.sportler.com/it/p/nike-air-miler-crop-top-running-donna-10725199?filterFarbe=Grey'},\n",
            " {'gender': 'donna',\n",
            "  'id': '10748110',\n",
            "  'type': 'abbigliamento',\n",
            "  'url': 'https://www.sportler.com/it/p/under-armour-qualifier-storm-packable-giacca-running-donna-10748110?filterFarbe=Black'},\n",
            " {'gender': 'donna',\n",
            "  'id': '10702317',\n",
            "  'type': 'abbigliamento',\n",
            "  'url': 'https://www.sportler.com/it/p/under-armour-fly-by-mini-pantaloni-corti-running-donna-10702317?filterFarbe=Violet'},\n",
            " {'gender': 'donna',\n",
            "  'id': '10748523',\n",
            "  'type': 'abbigliamento',\n",
            "  'url': 'https://www.sportler.com/it/p/under-armour-qualifier-maglia-running-donna-10748523?filterFarbe=Black'},\n",
            " {'gender': 'donna',\n",
            "  'id': '10748518',\n",
            "  'type': 'abbigliamento',\n",
            "  'url': 'https://www.sportler.com/it/p/under-armour-qualifier-speedpocket-2in1-pantaloncini-running-donna-10748518?filterFarbe=Light+Blue%2FGreen'},\n",
            " {'gender': 'donna',\n",
            "  'id': '10723357',\n",
            "  'type': 'abbigliamento',\n",
            "  'url': 'https://www.sportler.com/it/p/nike-therma-sphere-dri-fit-maglia-running-a-maniche-lunghe-donna-10723357?filterFarbe=Grey'},\n",
            " {'gender': 'donna',\n",
            "  'id': '10723200',\n",
            "  'type': 'abbigliamento',\n",
            "  'url': 'https://www.sportler.com/it/p/nike-run-tech-pack-knit-pantaloni-running-donna-10723200?filterFarbe=Grey'},\n",
            " {'gender': 'donna',\n",
            "  'id': '10729441',\n",
            "  'type': 'abbigliamento',\n",
            "  'url': 'https://www.sportler.com/it/p/adidas-how-we-do-pantaloni-3-4-running-donna-10729441?filterFarbe=Black'},\n",
            " {'gender': 'donna',\n",
            "  'id': '10722953',\n",
            "  'type': 'abbigliamento',\n",
            "  'url': 'https://www.sportler.com/it/p/nike-miler-top-running-donna-10722953?filterFarbe=Black'},\n",
            " {'gender': 'donna',\n",
            "  'id': '10748106',\n",
            "  'type': 'abbigliamento',\n",
            "  'url': 'https://www.sportler.com/it/p/under-armour-speed-stride-split-tank-top-running-donna-10748106?filterFarbe=Light+Orange'},\n",
            " {'gender': 'donna',\n",
            "  'id': '10748094',\n",
            "  'type': 'abbigliamento',\n",
            "  'url': 'https://www.sportler.com/it/p/under-armour-streaker-2.0-maglia-running-donna-10748094?filterFarbe=Azure'},\n",
            " {'gender': 'donna',\n",
            "  'id': '10727587',\n",
            "  'type': 'abbigliamento',\n",
            "  'url': 'https://www.sportler.com/it/p/under-armour-outrun-the-storm-giacca-running-donna-10727587?filterFarbe=Black'},\n",
            " {'gender': 'donna',\n",
            "  'id': '10683959',\n",
            "  'type': 'abbigliamento',\n",
            "  'url': 'https://www.sportler.com/it/p/uyn-ambityon-pants-medium-melange-calzamaglia-donna-10683959?filterFarbe=Grey%2FLight+Blue%2FPink'},\n",
            " {'gender': 'donna',\n",
            "  'id': '10683949',\n",
            "  'type': 'abbigliamento',\n",
            "  'url': 'https://www.sportler.com/it/p/uyn-ambityon-melange-maglietta-tecnica-a-maniche-lunghe-donna-10683949?filterFarbe=Grey%2FLight+Blue%2FPink'},\n",
            " {'gender': 'donna',\n",
            "  'id': '10705586',\n",
            "  'type': 'abbigliamento',\n",
            "  'url': 'https://www.sportler.com/it/p/under-armour-coldgear-reactor-run-jogger-pantaloni-running-donna-10705586?filterFarbe=Black'},\n",
            " {'gender': 'donna',\n",
            "  'id': '10705587',\n",
            "  'type': 'abbigliamento',\n",
            "  'url': 'https://www.sportler.com/it/p/under-armour-coldgear-run-storm-pantaloni-running-donna-10705587?filterFarbe=Black'},\n",
            " {'gender': 'donna',\n",
            "  'id': '10705584',\n",
            "  'type': 'abbigliamento',\n",
            "  'url': 'https://www.sportler.com/it/p/under-armour-coldgear-reactor-run-funnel-maglia-running-donna-10705584?filterFarbe=Black'},\n",
            " {'gender': 'donna',\n",
            "  'id': '10534122',\n",
            "  'type': 'abbigliamento',\n",
            "  'url': 'https://www.sportler.com/it/p/odlo-hybrid-seamless-irbis-giacca-ibrida-donna-10534122?filterFarbe=Black%2FSilver'},\n",
            " {'gender': 'donna',\n",
            "  'id': '10707801',\n",
            "  'type': 'abbigliamento',\n",
            "  'url': 'https://www.sportler.com/it/p/nike-warm-running-crop-maglia-a-maniche-lunghe-running-donna-10707801?filterFarbe=Black'},\n",
            " {'gender': 'donna',\n",
            "  'id': '10708473',\n",
            "  'type': 'abbigliamento',\n",
            "  'url': 'https://www.sportler.com/it/p/nike-medalist-maglia-a-manica-lunga-running-donna-10708473?filterFarbe=Rose'},\n",
            " {'gender': 'donna',\n",
            "  'id': '10683968',\n",
            "  'type': 'abbigliamento',\n",
            "  'url': 'https://www.sportler.com/it/p/uyn-evolutyon-pants-long-calzamaglia-donna-10683968?filterFarbe=Grey%2FLight+Blue'},\n",
            " {'gender': 'donna',\n",
            "  'id': '10683970',\n",
            "  'type': 'abbigliamento',\n",
            "  'url': 'https://www.sportler.com/it/p/uyn-evolutyon-pants-medium-melange-calzamaglia-3-4-donna-10683970?filterFarbe=Grey%2FViolet'},\n",
            " {'gender': 'donna',\n",
            "  'id': '10683952',\n",
            "  'type': 'abbigliamento',\n",
            "  'url': 'https://www.sportler.com/it/p/uyn-ambityon-long-calzamaglia-donna-10683952?filterFarbe=Grey%2FWhite'},\n",
            " {'gender': 'donna',\n",
            "  'id': '10683966',\n",
            "  'type': 'abbigliamento',\n",
            "  'url': 'https://www.sportler.com/it/p/uyn-evolutyon-long-sl.-melange-maglietta-tecnica-donna-10683966?filterFarbe=Grey%2FViolet'},\n",
            " {'gender': 'donna',\n",
            "  'id': '10683987',\n",
            "  'type': 'abbigliamento',\n",
            "  'url': 'https://www.sportler.com/it/p/uyn-super-fast-run-calzini-corti-running-donna-10683987?filterFarbe=Black'},\n",
            " {'gender': 'donna',\n",
            "  'id': '10708491',\n",
            "  'type': 'abbigliamento',\n",
            "  'url': 'https://www.sportler.com/it/p/nike-element-felpa-con-cappuccio-running-donna-10708491?filterFarbe=Black'},\n",
            " {'gender': 'donna',\n",
            "  'id': '10708471',\n",
            "  'type': 'abbigliamento',\n",
            "  'url': 'https://www.sportler.com/it/p/nike-speed-7-8-pr-pantaloni-running-donna-10708471?filterFarbe=Grey'},\n",
            " {'gender': 'donna',\n",
            "  'id': '10707804',\n",
            "  'type': 'abbigliamento',\n",
            "  'url': 'https://www.sportler.com/it/p/nike-therma-sphere-element-2.0-giacca-con-cappuccio-running-donna-10707804?filterFarbe=Grey'},\n",
            " {'gender': 'donna',\n",
            "  'id': '10708492',\n",
            "  'type': 'abbigliamento',\n",
            "  'url': 'https://www.sportler.com/it/p/nike-element-felpa-con-cappuccio-running-donna-10708492?filterFarbe=Rose'},\n",
            " {'gender': 'donna',\n",
            "  'id': '10525690',\n",
            "  'type': 'abbigliamento',\n",
            "  'url': 'https://www.sportler.com/it/p/odlo-hybrid-seamless-irbis-gilet-running-donna-10525690?filterFarbe=Black'},\n",
            " {'gender': 'donna',\n",
            "  'id': '10699928',\n",
            "  'type': 'abbigliamento',\n",
            "  'url': 'https://www.sportler.com/it/p/dynafit-alpine-warm-pantaloni-trail-running-donna-10699928?filterFarbe=Black%2FPink'},\n",
            " {'gender': 'donna',\n",
            "  'id': '10699925',\n",
            "  'type': 'abbigliamento',\n",
            "  'url': 'https://www.sportler.com/it/p/dynafit-traverse-t-shirt-trail-running-donna-10699925?filterFarbe=Azure'},\n",
            " {'gender': 'donna',\n",
            "  'id': '10665192',\n",
            "  'type': 'abbigliamento',\n",
            "  'url': 'https://www.sportler.com/it/p/gore-wear-r5-gtx-infinium-giacca-running-donna-10665192?filterFarbe=Black'},\n",
            " {'gender': 'donna',\n",
            "  'id': '10674748',\n",
            "  'type': 'abbigliamento',\n",
            "  'url': 'https://www.sportler.com/it/p/brooks-dash-1-2-felpa-con-zip-running-donna-10674748?filterFarbe=Violet'},\n",
            " {'gender': 'donna',\n",
            "  'id': '10674747',\n",
            "  'type': 'abbigliamento',\n",
            "  'url': 'https://www.sportler.com/it/p/brooks-dash-felpa-con-cappuccio-running-donna-10674747?filterFarbe=Black'},\n",
            " {'gender': 'donna',\n",
            "  'id': '10680297',\n",
            "  'type': 'abbigliamento',\n",
            "  'url': 'https://www.sportler.com/it/p/gore-wear-r3-felpa-running-donna-10680297?filterFarbe=Grey'},\n",
            " {'gender': 'donna',\n",
            "  'id': '10680291',\n",
            "  'type': 'abbigliamento',\n",
            "  'url': 'https://www.sportler.com/it/p/gore-wear-r3gore-windstopper-giacca-hardshell-running-donna-10680291?filterFarbe=Black'},\n",
            " {'gender': 'donna',\n",
            "  'id': '10680299',\n",
            "  'type': 'abbigliamento',\n",
            "  'url': 'https://www.sportler.com/it/p/gore-wear-r3-thermo-pantaloni-running-donna-10680299?filterFarbe=Blue'},\n",
            " {'gender': 'donna',\n",
            "  'id': '10680294',\n",
            "  'type': 'abbigliamento',\n",
            "  'url': 'https://www.sportler.com/it/p/gore-wear-r3-felpa-con-cappuccio-running-donna-10680294?filterFarbe=Grey'},\n",
            " {'gender': 'donna',\n",
            "  'id': '10662573',\n",
            "  'type': 'abbigliamento',\n",
            "  'url': 'https://www.sportler.com/it/p/nike-swift-run-giaccca-running-donna-10662573?filterFarbe=Black'},\n",
            " {'gender': 'donna',\n",
            "  'id': '10662595',\n",
            "  'type': 'abbigliamento',\n",
            "  'url': 'https://www.sportler.com/it/p/nike-epic-lux-pantaloni-running-donna-10662595?filterFarbe=Black%2FGrey'},\n",
            " {'gender': 'donna',\n",
            "  'id': '10661098',\n",
            "  'type': 'abbigliamento',\n",
            "  'url': 'https://www.sportler.com/it/p/nike-tailwind-tank-w-top-running-donna-10661098?filterFarbe=Grey'},\n",
            " {'gender': 'donna',\n",
            "  'id': '10666260',\n",
            "  'type': 'abbigliamento',\n",
            "  'url': 'https://www.sportler.com/it/p/nike-speed-7-8-jdi-pantaloni-running-donna-10666260?filterFarbe=Black'},\n",
            " {'gender': 'donna',\n",
            "  'id': '10663135',\n",
            "  'type': 'abbigliamento',\n",
            "  'url': 'https://www.sportler.com/it/p/salomon-agile-t-shirt-trail-running-donna-10663135?filterFarbe=Green'},\n",
            " {'gender': 'donna',\n",
            "  'id': '10721608',\n",
            "  'type': 'abbigliamento',\n",
            "  'url': 'https://www.sportler.com/it/p/nike-element-maglia-a-maniche-lunghe-running-donna-10721608?filterFarbe=Black'},\n",
            " {'gender': 'donna',\n",
            "  'id': '10662576',\n",
            "  'type': 'abbigliamento',\n",
            "  'url': 'https://www.sportler.com/it/p/nike-pacer-maglia-a-maniche-lunghe-running-donna-10662576?filterFarbe=Black'},\n",
            " {'gender': 'donna',\n",
            "  'id': '10656304',\n",
            "  'type': 'abbigliamento',\n",
            "  'url': 'https://www.sportler.com/it/p/dynafit-alpine-seamless-top-trail-running-donna-10656304?filterFarbe=Black'},\n",
            " {'gender': 'donna',\n",
            "  'id': '10646121',\n",
            "  'type': 'abbigliamento',\n",
            "  'url': 'https://www.sportler.com/it/p/under-armour-heatgear-armour-racer-top-running-donna-10646121?filterFarbe=Black'},\n",
            " {'gender': 'donna',\n",
            "  'id': '10610285',\n",
            "  'type': 'abbigliamento',\n",
            "  'url': 'https://www.sportler.com/it/p/under-armour-fly-by-printed-pantaloncini-running-donna-10610285?filterFarbe=Black%2FDark+Grey'},\n",
            " {'gender': 'donna',\n",
            "  'id': '10610295',\n",
            "  'type': 'abbigliamento',\n",
            "  'url': 'https://www.sportler.com/it/p/under-armour-threadborne-swyft-ss-t-shirt-running-donna-10610295?filterFarbe=Turquoise'},\n",
            " {'gender': 'donna',\n",
            "  'id': '10610946',\n",
            "  'type': 'abbigliamento',\n",
            "  'url': 'https://www.sportler.com/it/p/under-armour-speedpocket-run-crop-pantaloni-running-lunghi-donna-10610946?filterFarbe=Black'},\n",
            " {'gender': 'donna',\n",
            "  'id': '10610279',\n",
            "  'type': 'abbigliamento',\n",
            "  'url': 'https://www.sportler.com/it/p/under-armour-fly-by-pantaloni-running-donna-10610279?filterFarbe=Orange%2FBlack'},\n",
            " {'gender': 'donna',\n",
            "  'id': '10589955',\n",
            "  'type': 'abbigliamento',\n",
            "  'url': 'https://www.sportler.com/it/p/odlo-ceramicool-pro-top-running-donna-10589955?filterFarbe=White'},\n",
            " {'gender': 'donna',\n",
            "  'id': '10590092',\n",
            "  'type': 'abbigliamento',\n",
            "  'url': 'https://www.sportler.com/it/p/la-sportiva-vortex-3-4-pantaloni-corti-trail-running-donna-10590092?filterFarbe=Black'},\n",
            " {'gender': 'donna',\n",
            "  'id': '10590818',\n",
            "  'type': 'abbigliamento',\n",
            "  'url': 'https://www.sportler.com/it/p/gore-wear-r3-3-4-pantaloni-running-donna-10590818?filterFarbe=Black'},\n",
            " {'gender': 'donna',\n",
            "  'id': '10591237',\n",
            "  'type': 'abbigliamento',\n",
            "  'url': 'https://www.sportler.com/it/p/new-balance-accelerate-top-running-donna-10591237?filterFarbe=Black'},\n",
            " {'gender': 'donna',\n",
            "  'id': '10590812',\n",
            "  'type': 'abbigliamento',\n",
            "  'url': 'https://www.sportler.com/it/p/gore-wear-r5-women-light-pantaloni-corti-running-donna-10590812?filterFarbe=Black'},\n",
            " {'gender': 'donna',\n",
            "  'id': '10590115',\n",
            "  'type': 'abbigliamento',\n",
            "  'url': 'https://www.sportler.com/it/p/on-weather-vest-w-gilet-running-donna-10590115?filterFarbe=Blue'},\n",
            " {'gender': 'donna',\n",
            "  'id': '10588296',\n",
            "  'type': 'abbigliamento',\n",
            "  'url': 'https://www.sportler.com/it/p/salomon-agile-wind-giacca-a-vento-trail-running-donna-10588296?filterFarbe=Blue'},\n",
            " {'gender': 'donna',\n",
            "  'id': '10607414',\n",
            "  'type': 'abbigliamento',\n",
            "  'url': 'https://www.sportler.com/it/p/under-armour-threadborne-streaker-half-zip-maglia-running-donna-10607414?filterFarbe=Grey%2FYellow'},\n",
            " {'gender': 'donna',\n",
            "  'id': '10607415',\n",
            "  'type': 'abbigliamento',\n",
            "  'url': 'https://www.sportler.com/it/p/under-armour-fly-fast-capri-pantaloni-running-3-4-donna-10607415?filterFarbe=Black'},\n",
            " {'gender': 'donna',\n",
            "  'id': '10590816',\n",
            "  'type': 'abbigliamento',\n",
            "  'url': 'https://www.sportler.com/it/p/gore-wear-light-top-running-donna-10590816?filterFarbe=Blue%2FLight+Blue'},\n",
            " {'gender': 'donna',\n",
            "  'id': '10590810',\n",
            "  'type': 'abbigliamento',\n",
            "  'url': 'https://www.sportler.com/it/p/gore-wear-r5-3-4-pantaloni-running-3-4-donna-10590810?filterFarbe=Grey%2FBlack'},\n",
            " {'gender': 'donna',\n",
            "  'id': '10588312',\n",
            "  'type': 'abbigliamento',\n",
            "  'url': 'https://www.sportler.com/it/p/salomon-agile-mid-pantaloni-corti-running-donna-10588312?filterFarbe=Black'},\n",
            " {'gender': 'donna',\n",
            "  'id': '10585638',\n",
            "  'type': 'abbigliamento',\n",
            "  'url': 'https://www.sportler.com/it/p/nike-10k-running-pantaloni-corti-running-donna-10585638?filterFarbe=Black'},\n",
            " {'gender': 'donna',\n",
            "  'id': '10586495',\n",
            "  'type': 'abbigliamento',\n",
            "  'url': 'https://www.sportler.com/it/p/on-lightweight-weather-giacca-running-donna-10586495?filterFarbe=Grey%2FWhite'},\n",
            " {'gender': 'donna',\n",
            "  'id': '10586720',\n",
            "  'type': 'abbigliamento',\n",
            "  'url': 'https://www.sportler.com/it/p/on-running-shorts-pantaloncini-running-donna-10586720?filterFarbe=Black'},\n",
            " {'gender': 'donna',\n",
            "  'id': '10525304',\n",
            "  'type': 'abbigliamento',\n",
            "  'url': 'https://www.sportler.com/it/p/brooks-greenlight-tight-w-pantaloni-running-donna-10525304?filterFarbe=Black'},\n",
            " {'gender': 'donna',\n",
            "  'id': '10482166',\n",
            "  'type': 'abbigliamento',\n",
            "  'url': 'https://www.sportler.com/it/p/getfit-running-tech-donna-calzini-running-donna-10482166?filterFarbe=White%2FBlue'},\n",
            " {'gender': 'donna',\n",
            "  'id': '10419455',\n",
            "  'type': 'abbigliamento',\n",
            "  'url': 'https://www.sportler.com/it/p/on-performance-t-maglia-running-donna-10419455?filterFarbe=Dark+Blue'},\n",
            " {'gender': 'donna',\n",
            "  'id': '10419452',\n",
            "  'type': 'abbigliamento',\n",
            "  'url': 'https://www.sportler.com/it/p/on-comfort-t-maglia-running-donna-10419452?filterFarbe=Grey'},\n",
            " {'gender': 'donna',\n",
            "  'id': '10419457',\n",
            "  'type': 'abbigliamento',\n",
            "  'url': 'https://www.sportler.com/it/p/on-clima-shirt-maglia-running-donna-10419457?filterFarbe=Grey'},\n",
            " {'gender': 'donna',\n",
            "  'id': '10419458',\n",
            "  'type': 'abbigliamento',\n",
            "  'url': 'https://www.sportler.com/it/p/on-tank-t-top-running-donna-10419458?filterFarbe=Blue'},\n",
            " {'gender': 'donna',\n",
            "  'id': '10320902',\n",
            "  'type': 'abbigliamento',\n",
            "  'url': 'https://www.sportler.com/it/p/odlo-high-padded-sports-cup-b-reggiseno-sportivo-a-sostegno-elevato-donna-10320902?filterFarbe=Black'},\n",
            " {'gender': 'donna',\n",
            "  'id': '10320904',\n",
            "  'type': 'abbigliamento',\n",
            "  'url': 'https://www.sportler.com/it/p/odlo-high-padded-sports-cup-c-reggiseno-sportivo-a-sostegno-elevato-donna-10320904?filterFarbe=Black'},\n",
            " {'gender': 'donna',\n",
            "  'id': '10326420',\n",
            "  'type': 'abbigliamento',\n",
            "  'url': 'https://www.sportler.com/it/p/asics-fuzex-tank-top-running-donna-10326420?filterFarbe=Kingfisher'},\n",
            " {'gender': 'donna',\n",
            "  'id': '10280615',\n",
            "  'type': 'abbigliamento',\n",
            "  'url': 'https://www.sportler.com/it/p/odlo-tights-logic-zeroweight-pantaloni-running-donna-10280615?filterFarbe=Black%2FMagenta+Purple'},\n",
            " {'gender': 'donna',\n",
            "  'id': '10049003',\n",
            "  'type': 'abbigliamento',\n",
            "  'url': 'https://www.sportler.com/it/p/getfit-ciclista-basic-pantaloni-corti-running-donna-10049003?filterFarbe=Black'},\n",
            " {'gender': 'donna',\n",
            "  'id': '10634384',\n",
            "  'type': 'abbigliamento',\n",
            "  'url': 'https://www.sportler.com/it/p/x-bionic-speed-maglietta-tecnica-donna-10634384?filterFarbe=Black'},\n",
            " {'gender': 'donna',\n",
            "  'id': '10326420',\n",
            "  'type': 'abbigliamento',\n",
            "  'url': 'https://www.sportler.com/it/p/asics-fuzex-tank-top-running-donna-10326420?filterFarbe=Kingfisher'},\n",
            " {'gender': 'donna',\n",
            "  'id': '10280615',\n",
            "  'type': 'abbigliamento',\n",
            "  'url': 'https://www.sportler.com/it/p/odlo-tights-logic-zeroweight-pantaloni-running-donna-10280615?filterFarbe=Black%2FMagenta+Purple'},\n",
            " {'gender': 'donna',\n",
            "  'id': '10049003',\n",
            "  'type': 'abbigliamento',\n",
            "  'url': 'https://www.sportler.com/it/p/getfit-ciclista-basic-pantaloni-corti-running-donna-10049003?filterFarbe=Black'},\n",
            " {'gender': 'donna',\n",
            "  'id': '10634384',\n",
            "  'type': 'abbigliamento',\n",
            "  'url': 'https://www.sportler.com/it/p/x-bionic-speed-maglietta-tecnica-donna-10634384?filterFarbe=Black'},\n",
            " {'gender': 'donna',\n",
            "  'id': '10326420',\n",
            "  'type': 'abbigliamento',\n",
            "  'url': 'https://www.sportler.com/it/p/asics-fuzex-tank-top-running-donna-10326420?filterFarbe=Kingfisher'},\n",
            " {'gender': 'donna',\n",
            "  'id': '10280615',\n",
            "  'type': 'abbigliamento',\n",
            "  'url': 'https://www.sportler.com/it/p/odlo-tights-logic-zeroweight-pantaloni-running-donna-10280615?filterFarbe=Black%2FMagenta+Purple'},\n",
            " {'gender': 'donna',\n",
            "  'id': '10049003',\n",
            "  'type': 'abbigliamento',\n",
            "  'url': 'https://www.sportler.com/it/p/getfit-ciclista-basic-pantaloni-corti-running-donna-10049003?filterFarbe=Black'},\n",
            " {'gender': 'donna',\n",
            "  'id': '10634384',\n",
            "  'type': 'abbigliamento',\n",
            "  'url': 'https://www.sportler.com/it/p/x-bionic-speed-maglietta-tecnica-donna-10634384?filterFarbe=Black'},\n",
            " {'gender': 'donna',\n",
            "  'id': '10326420',\n",
            "  'type': 'abbigliamento',\n",
            "  'url': 'https://www.sportler.com/it/p/asics-fuzex-tank-top-running-donna-10326420?filterFarbe=Kingfisher'},\n",
            " {'gender': 'donna',\n",
            "  'id': '10280615',\n",
            "  'type': 'abbigliamento',\n",
            "  'url': 'https://www.sportler.com/it/p/odlo-tights-logic-zeroweight-pantaloni-running-donna-10280615?filterFarbe=Black%2FMagenta+Purple'},\n",
            " {'gender': 'donna',\n",
            "  'id': '10049003',\n",
            "  'type': 'abbigliamento',\n",
            "  'url': 'https://www.sportler.com/it/p/getfit-ciclista-basic-pantaloni-corti-running-donna-10049003?filterFarbe=Black'},\n",
            " {'gender': 'donna',\n",
            "  'id': '10634384',\n",
            "  'type': 'abbigliamento',\n",
            "  'url': 'https://www.sportler.com/it/p/x-bionic-speed-maglietta-tecnica-donna-10634384?filterFarbe=Black'},\n",
            " {'gender': 'donna',\n",
            "  'id': '10326420',\n",
            "  'type': 'abbigliamento',\n",
            "  'url': 'https://www.sportler.com/it/p/asics-fuzex-tank-top-running-donna-10326420?filterFarbe=Kingfisher'},\n",
            " {'gender': 'donna',\n",
            "  'id': '10280615',\n",
            "  'type': 'abbigliamento',\n",
            "  'url': 'https://www.sportler.com/it/p/odlo-tights-logic-zeroweight-pantaloni-running-donna-10280615?filterFarbe=Black%2FMagenta+Purple'},\n",
            " {'gender': 'donna',\n",
            "  'id': '10049003',\n",
            "  'type': 'abbigliamento',\n",
            "  'url': 'https://www.sportler.com/it/p/getfit-ciclista-basic-pantaloni-corti-running-donna-10049003?filterFarbe=Black'},\n",
            " {'gender': 'donna',\n",
            "  'id': '10634384',\n",
            "  'type': 'abbigliamento',\n",
            "  'url': 'https://www.sportler.com/it/p/x-bionic-speed-maglietta-tecnica-donna-10634384?filterFarbe=Black'},\n",
            " {'gender': 'donna',\n",
            "  'id': '10326420',\n",
            "  'type': 'abbigliamento',\n",
            "  'url': 'https://www.sportler.com/it/p/asics-fuzex-tank-top-running-donna-10326420?filterFarbe=Kingfisher'},\n",
            " {'gender': 'donna',\n",
            "  'id': '10280615',\n",
            "  'type': 'abbigliamento',\n",
            "  'url': 'https://www.sportler.com/it/p/odlo-tights-logic-zeroweight-pantaloni-running-donna-10280615?filterFarbe=Black%2FMagenta+Purple'},\n",
            " {'gender': 'donna',\n",
            "  'id': '10049003',\n",
            "  'type': 'abbigliamento',\n",
            "  'url': 'https://www.sportler.com/it/p/getfit-ciclista-basic-pantaloni-corti-running-donna-10049003?filterFarbe=Black'},\n",
            " {'gender': 'donna',\n",
            "  'id': '10634384',\n",
            "  'type': 'abbigliamento',\n",
            "  'url': 'https://www.sportler.com/it/p/x-bionic-speed-maglietta-tecnica-donna-10634384?filterFarbe=Black'},\n",
            " {'gender': 'uomo',\n",
            "  'id': '10888185',\n",
            "  'type': 'scarpe',\n",
            "  'url': 'https://www.sportler.com/it/p/adidas-supernova-scarpe-running-neutre-uomo-10888185?filterFarbe=White'},\n",
            " {'gender': 'uomo',\n",
            "  'id': '10926474',\n",
            "  'type': 'scarpe',\n",
            "  'url': 'https://www.sportler.com/it/p/la-sportiva-kaptiva-gtx-scarpe-trail-running-uomo-10926474?filterFarbe=Yellow%2FGrey'},\n",
            " {'gender': 'uomo',\n",
            "  'id': '10886306',\n",
            "  'type': 'scarpe',\n",
            "  'url': 'https://www.sportler.com/it/p/nike-wildhorse-6-scarpe-trail-running-uomo-10886306?filterFarbe=Green'},\n",
            " {'gender': 'uomo',\n",
            "  'id': '10886284',\n",
            "  'type': 'scarpe',\n",
            "  'url': 'https://www.sportler.com/it/p/nike-zoom-fly-3-scarpe-da-gara-uomo-10886284?filterFarbe=Black'},\n",
            " {'gender': 'uomo',\n",
            "  'id': '10910174',\n",
            "  'type': 'scarpe',\n",
            "  'url': 'https://www.sportler.com/it/p/saucony-ride-13-scarpe-running-neutre-uomo-10910174?filterFarbe=Yellow%2FOrange'},\n",
            " {'gender': 'uomo',\n",
            "  'id': '10893365',\n",
            "  'type': 'scarpe',\n",
            "  'url': 'https://www.sportler.com/it/p/saucony-xodus-10-scarpe-trail-running-uomo-10893365?filterFarbe=Grey%2FBlack'},\n",
            " {'gender': 'uomo',\n",
            "  'id': '10892546',\n",
            "  'type': 'scarpe',\n",
            "  'url': 'https://www.sportler.com/it/p/adidas-terrex-agravic-boa-scarpe-trail-running-uomo-10892546?filterFarbe=Yellow'},\n",
            " {'gender': 'uomo',\n",
            "  'id': '10898644',\n",
            "  'type': 'scarpe',\n",
            "  'url': 'https://www.sportler.com/it/p/asics-gel-pulse-12-scarpe-running-neutre-uomo-10898644?filterFarbe=Blue'},\n",
            " {'gender': 'uomo',\n",
            "  'id': '10888525',\n",
            "  'type': 'scarpe',\n",
            "  'url': 'https://www.sportler.com/it/p/asics-gt-2000-8-scarpe-running-stabili-uomo-10888525?filterFarbe=Black%2FYellow'},\n",
            " {'gender': 'uomo',\n",
            "  'id': '10893271',\n",
            "  'type': 'scarpe',\n",
            "  'url': 'https://www.sportler.com/it/p/brooks-ghost-13-scarpe-running-neutre-uomo-10893271?filterFarbe=Black%2FYellow'},\n",
            " {'gender': 'uomo',\n",
            "  'id': '10886285',\n",
            "  'type': 'scarpe',\n",
            "  'url': 'https://www.sportler.com/it/p/nike-zoom-fly-3-scarpe-da-gara-uomo-10886285?filterFarbe=Black'},\n",
            " {'gender': 'uomo',\n",
            "  'id': '10905328',\n",
            "  'type': 'scarpe',\n",
            "  'url': 'https://www.sportler.com/it/p/hoka-clifton-7-scarpe-running-neutre-uomo-10905328?filterFarbe=Blue'},\n",
            " {'gender': 'uomo',\n",
            "  'id': '10888553',\n",
            "  'type': 'scarpe',\n",
            "  'url': 'https://www.sportler.com/it/p/hoka-speedgoat-4-scarpe-trail-running-uomo-10888553?filterFarbe=Violet%2FYellow'},\n",
            " {'gender': 'uomo',\n",
            "  'id': '10886300',\n",
            "  'type': 'scarpe',\n",
            "  'url': 'https://www.sportler.com/it/p/nike-air-zoom-pegasus-37-scarpe-running-neutre-uomo-10886300?filterFarbe=Black'},\n",
            " {'gender': 'uomo',\n",
            "  'id': '10879782',\n",
            "  'type': 'scarpe',\n",
            "  'url': 'https://www.sportler.com/it/p/nike-pegasus-trail-2-scarpe-trail-running-uomo-10879782?filterFarbe=Green'},\n",
            " {'gender': 'uomo',\n",
            "  'id': '10910219',\n",
            "  'type': 'scarpe',\n",
            "  'url': 'https://www.sportler.com/it/p/saucony-triumph-18-scarpe-running-neutre-uomo-10910219?filterFarbe=Orange%2FYellow'},\n",
            " {'gender': 'uomo',\n",
            "  'id': '10888547',\n",
            "  'type': 'scarpe',\n",
            "  'url': 'https://www.sportler.com/it/p/new-balance-fresh-foam-heirro-v5-scarpe-trail-running-uomo-10888547?filterFarbe=Blue'},\n",
            " {'gender': 'uomo',\n",
            "  'id': '10888550',\n",
            "  'type': 'scarpe',\n",
            "  'url': 'https://www.sportler.com/it/p/new-balance-fresh-foam-1080v10-scarpe-running-neutre-uomo-10888550?filterFarbe=Blue'},\n",
            " {'gender': 'uomo',\n",
            "  'id': '10856837',\n",
            "  'type': 'scarpe',\n",
            "  'url': 'https://www.sportler.com/it/p/scarpa-spin-rs-scarpe-trail-running-uomo-10856837?filterFarbe=Black'},\n",
            " {'gender': 'uomo',\n",
            "  'id': '10886955',\n",
            "  'type': 'scarpe',\n",
            "  'url': 'https://www.sportler.com/it/p/brooks-adrenaline-gts-20-scarpe-running-stabili-uomo-10886955?filterFarbe=Black%2FWhite'},\n",
            " {'gender': 'uomo',\n",
            "  'id': '10886943',\n",
            "  'type': 'scarpe',\n",
            "  'url': 'https://www.sportler.com/it/p/brooks-glycerin-18-scarpe-running-neutre-uomo-10886943?filterFarbe=Light+Blue'},\n",
            " {'gender': 'uomo',\n",
            "  'id': '10886956',\n",
            "  'type': 'scarpe',\n",
            "  'url': 'https://www.sportler.com/it/p/brooks-adrenaline-gts-20-scarpe-running-stabili-uomo-10886956?filterFarbe=Blue%2FWhite'},\n",
            " {'gender': 'uomo',\n",
            "  'id': '10888544',\n",
            "  'type': 'scarpe',\n",
            "  'url': 'https://www.sportler.com/it/p/brooks-caldera-4-scarpe-trail-running-uomo-10888544?filterFarbe=Black%2FBlue'},\n",
            " {'gender': 'uomo',\n",
            "  'id': '10888541',\n",
            "  'type': 'scarpe',\n",
            "  'url': 'https://www.sportler.com/it/p/brooks-trascend-7-scarpe-running-stabili-uomo-10888541?filterFarbe=Black%2FRed'},\n",
            " {'gender': 'uomo',\n",
            "  'id': '10839260',\n",
            "  'type': 'scarpe',\n",
            "  'url': 'https://www.sportler.com/it/p/salomon-s-lab-speed-2-scarpe-trail-running-uomo-10839260?filterFarbe=Black'},\n",
            " {'gender': 'uomo',\n",
            "  'id': '10839261',\n",
            "  'type': 'scarpe',\n",
            "  'url': 'https://www.sportler.com/it/p/salomon-s-lab-sense-8-sg-scarpe-trail-running-uomo-10839261?filterFarbe=Red%2FBlack'},\n",
            " {'gender': 'uomo',\n",
            "  'id': '10839263',\n",
            "  'type': 'scarpe',\n",
            "  'url': 'https://www.sportler.com/it/p/salomon-s-lab-ultra-2-scarpe-trail-running-uomo-10839263?filterFarbe=Red%2FViolet'},\n",
            " {'gender': 'uomo',\n",
            "  'id': '10856880',\n",
            "  'type': 'scarpe',\n",
            "  'url': 'https://www.sportler.com/it/p/fivefingers-v-alpha-scarpe-da-trekking-uomo-10856880?filterFarbe=Black'},\n",
            " {'gender': 'uomo',\n",
            "  'id': '10876841',\n",
            "  'type': 'scarpe',\n",
            "  'url': 'https://www.sportler.com/it/p/nike-react-miler-running-scarpe-running-neutre-uomo-10876841?filterFarbe=Grey'},\n",
            " {'gender': 'uomo',\n",
            "  'id': '10876838',\n",
            "  'type': 'scarpe',\n",
            "  'url': 'https://www.sportler.com/it/p/nike-react-miler-running-scarpe-running-neutre-uomo-10876838?filterFarbe=Black'},\n",
            " {'gender': 'uomo',\n",
            "  'id': '10854767',\n",
            "  'type': 'scarpe',\n",
            "  'url': 'https://www.sportler.com/it/p/salomon-speedcross-5-gtx-scarpe-trail-running-uomo-10854767?filterFarbe=Orange'},\n",
            " {'gender': 'uomo',\n",
            "  'id': '10906590',\n",
            "  'type': 'scarpe',\n",
            "  'url': 'https://www.sportler.com/it/p/hoka-clifton-6-scarpe-running-neutre-uomo-10906590?filterFarbe=Red%2FBlue'},\n",
            " {'gender': 'uomo',\n",
            "  'id': '10906585',\n",
            "  'type': 'scarpe',\n",
            "  'url': 'https://www.sportler.com/it/p/hoka-speedgoat-4-scarpe-trail-running-uomo-10906585?filterFarbe=Black%2FGrey'},\n",
            " {'gender': 'uomo',\n",
            "  'id': '10906587',\n",
            "  'type': 'scarpe',\n",
            "  'url': 'https://www.sportler.com/it/p/hoka-speedgoat-4-scarpe-trail-running-uomo-10906587?filterFarbe=Blue%2FRed'},\n",
            " {'gender': 'uomo',\n",
            "  'id': '10906588',\n",
            "  'type': 'scarpe',\n",
            "  'url': 'https://www.sportler.com/it/p/hoka-bondi-6-scarpe-running-neutre-uomo-10906588?filterFarbe=Blue%2FOrange'},\n",
            " {'gender': 'uomo',\n",
            "  'id': '10906592',\n",
            "  'type': 'scarpe',\n",
            "  'url': 'https://www.sportler.com/it/p/hoka-gaviota-2-scarpe-running-neutre-uomo-10906592?filterFarbe=Black'},\n",
            " {'gender': 'uomo',\n",
            "  'id': '10906596',\n",
            "  'type': 'scarpe',\n",
            "  'url': 'https://www.sportler.com/it/p/hoka-mach-3-scarpe-running-performance-uomo-10906596?filterFarbe=Green%2FBlack'},\n",
            " {'gender': 'uomo',\n",
            "  'id': '10906598',\n",
            "  'type': 'scarpe',\n",
            "  'url': 'https://www.sportler.com/it/p/hoka-mach-3-scarpe-running-performance-uomo-10906598?filterFarbe=Grey%2FWhite'},\n",
            " {'gender': 'uomo',\n",
            "  'id': '10906574',\n",
            "  'type': 'scarpe',\n",
            "  'url': 'https://www.sportler.com/it/p/nike-joyride-run-2-pod-scarpe-running-uomo-10906574?filterFarbe=Black'},\n",
            " {'gender': 'uomo',\n",
            "  'id': '10878365',\n",
            "  'type': 'scarpe',\n",
            "  'url': 'https://www.sportler.com/it/p/nike-air-zoom-pegasus-37-scarpe-running-neutre-uomo-10878365?filterFarbe=Black'},\n",
            " {'gender': 'uomo',\n",
            "  'id': '10845571',\n",
            "  'type': 'scarpe',\n",
            "  'url': 'https://www.sportler.com/it/p/la-sportiva-jackal-scarpe-trail-running-uomo-10845571?filterFarbe=Light+Blue%2FGreen'},\n",
            " {'gender': 'uomo',\n",
            "  'id': '10850896',\n",
            "  'type': 'scarpe',\n",
            "  'url': 'https://www.sportler.com/it/p/la-sportiva-jackal-scarpe-trail-running-uomo-10850896?filterFarbe=Black%2FYellow'},\n",
            " {'gender': 'uomo',\n",
            "  'id': '10839983',\n",
            "  'type': 'scarpe',\n",
            "  'url': 'https://www.sportler.com/it/p/new-balance-london-marathon-edition-1080v10-scarpe-running-neutre-uomo-10839983?filterFarbe=Grey%2FRed'},\n",
            " {'gender': 'uomo',\n",
            "  'id': '10779965',\n",
            "  'type': 'scarpe',\n",
            "  'url': 'https://www.sportler.com/it/p/nike-air-zoom-winflo-6-scarpe-running-neutre-uomo-10779965?filterFarbe=Black'},\n",
            " {'gender': 'uomo',\n",
            "  'id': '10839985',\n",
            "  'type': 'scarpe',\n",
            "  'url': 'https://www.sportler.com/it/p/new-balance-fresh-foam-tempo-deejay-ten-scarpe-running-neutre-uomo-10839985?filterFarbe=Black%2FRed'},\n",
            " {'gender': 'uomo',\n",
            "  'id': '10863817',\n",
            "  'type': 'scarpe',\n",
            "  'url': 'https://www.sportler.com/it/p/new-balance-fresh-foam-tempo-london-collection-scarpe-running-neutre-uomo-10863817?filterFarbe=Red'},\n",
            " {'gender': 'uomo',\n",
            "  'id': '10839978',\n",
            "  'type': 'scarpe',\n",
            "  'url': 'https://www.sportler.com/it/p/new-balance-fresh-foam-tempo-scarpe-running-neutre-uomo-10839978?filterFarbe=Black%2FRed'},\n",
            " {'gender': 'uomo',\n",
            "  'id': '10839986',\n",
            "  'type': 'scarpe',\n",
            "  'url': 'https://www.sportler.com/it/p/new-balance-860v10-scarpe-running-stabili-uomo-10839986?filterFarbe=Grey%2FBlack'},\n",
            " {'gender': 'uomo',\n",
            "  'id': '10845582',\n",
            "  'type': 'scarpe',\n",
            "  'url': 'https://www.sportler.com/it/p/salomon-supercross-gtx-scarpe-trail-running-uomo-10845582?filterFarbe=Green'},\n",
            " {'gender': 'uomo',\n",
            "  'id': '10854757',\n",
            "  'type': 'scarpe',\n",
            "  'url': 'https://www.sportler.com/it/p/salomon-xa-pro-3d-scarpe-trail-running-uomo-10854757?filterFarbe=Black'},\n",
            " {'gender': 'uomo',\n",
            "  'id': '10845584',\n",
            "  'type': 'scarpe',\n",
            "  'url': 'https://www.sportler.com/it/p/salomon-xa-pro-3d-gore-tex-scarpe-trailrunning-uomo-10845584?filterFarbe=Light+Blue%2FRed'},\n",
            " {'gender': 'uomo',\n",
            "  'id': '10839361',\n",
            "  'type': 'scarpe',\n",
            "  'url': 'https://www.sportler.com/it/p/new-balance-880v9-scarpe-running-neutre-uomo-10839361?filterFarbe=Blue%2FYellow'},\n",
            " {'gender': 'uomo',\n",
            "  'id': '10837645',\n",
            "  'type': 'scarpe',\n",
            "  'url': 'https://www.sportler.com/it/p/adidas-sl20-scarpe-running-neutre-uomo-10837645?filterFarbe=Black'},\n",
            " {'gender': 'uomo',\n",
            "  'id': '10838972',\n",
            "  'type': 'scarpe',\n",
            "  'url': 'https://www.sportler.com/it/p/salomon-sense-ride-3-scarpe-trail-running-uomo-10838972?filterFarbe=Blue'},\n",
            " {'gender': 'uomo',\n",
            "  'id': '10838977',\n",
            "  'type': 'scarpe',\n",
            "  'url': 'https://www.sportler.com/it/p/salomon-sonic-3-balance-scarpe-running-neutre-uomo-10838977?filterFarbe=Black%2FWhite'},\n",
            " {'gender': 'uomo',\n",
            "  'id': '10838984',\n",
            "  'type': 'scarpe',\n",
            "  'url': 'https://www.sportler.com/it/p/salomon-sonic-3-accelerate-scarpe-da-gara-uomo-10838984?filterFarbe=Black%2FWhite'},\n",
            " {'gender': 'uomo',\n",
            "  'id': '10839482',\n",
            "  'type': 'scarpe',\n",
            "  'url': 'https://www.sportler.com/it/p/hoka-bondi-6-scarpe-running-neutre-uomo-10839482?filterFarbe=Yellow'},\n",
            " {'gender': 'uomo',\n",
            "  'id': '10839369',\n",
            "  'type': 'scarpe',\n",
            "  'url': 'https://www.sportler.com/it/p/new-balance-solvi-v2-scarpe-running-neutre-uomo-10839369?filterFarbe=Grey%2FBlue'},\n",
            " {'gender': 'uomo',\n",
            "  'id': '10839365',\n",
            "  'type': 'scarpe',\n",
            "  'url': 'https://www.sportler.com/it/p/new-balance-fresh-foam-1080v10-scarpe-running-neutre-uomo-10839365?filterFarbe=Dark+Grey%2FRed'},\n",
            " {'gender': 'uomo',\n",
            "  'id': '10837101',\n",
            "  'type': 'scarpe',\n",
            "  'url': 'https://www.sportler.com/it/p/nike-react-infinity-run-flyknit-scarpe-running-neutre-uomo-10837101?filterFarbe=Black'},\n",
            " {'gender': 'uomo',\n",
            "  'id': '10879156',\n",
            "  'type': 'scarpe',\n",
            "  'url': 'https://www.sportler.com/it/p/salomon-supercross-gtx-scarpe-trail-running-uomo-10879156?filterFarbe=Blue'},\n",
            " {'gender': 'uomo',\n",
            "  'id': '10848551',\n",
            "  'type': 'scarpe',\n",
            "  'url': 'https://www.sportler.com/it/p/dynafit-feline-sl-scarpe-trail-running-uomo-10848551?filterFarbe=Black%2FLight+Blue'},\n",
            " {'gender': 'uomo',\n",
            "  'id': '10845556',\n",
            "  'type': 'scarpe',\n",
            "  'url': 'https://www.sportler.com/it/p/salewa-ms-dropline-scarpe-trail-running-uomo-10845556?filterFarbe=Black%2FGreen'},\n",
            " {'gender': 'uomo',\n",
            "  'id': '10837095',\n",
            "  'type': 'scarpe',\n",
            "  'url': 'https://www.sportler.com/it/p/nike-renew-run-running-scarpe-jogging-uomo-10837095?filterFarbe=White%2FOrange'},\n",
            " {'gender': 'uomo',\n",
            "  'id': '10837661',\n",
            "  'type': 'scarpe',\n",
            "  'url': 'https://www.sportler.com/it/p/brooks-transcend-7-scarpe-running-stabili-uomo-10837661?filterFarbe=Light+Blue%2FRed'},\n",
            " {'gender': 'uomo',\n",
            "  'id': '10837660',\n",
            "  'type': 'scarpe',\n",
            "  'url': 'https://www.sportler.com/it/p/brooks-transcend-7-scarpe-running-stabili-uomo-10837660?filterFarbe=Black%2FYellow'},\n",
            " {'gender': 'uomo',\n",
            "  'id': '10839667',\n",
            "  'type': 'scarpe',\n",
            "  'url': 'https://www.sportler.com/it/p/saucony-ride-iso-2-scarpe-running-neutre-uomo-10839667?filterFarbe=Grey%2FWhite'},\n",
            " {'gender': 'uomo',\n",
            "  'id': '10839668',\n",
            "  'type': 'scarpe',\n",
            "  'url': 'https://www.sportler.com/it/p/saucony-triumph-17-scarpe-running-neutre-uomo-10839668?filterFarbe=Blue%2FBlack'},\n",
            " {'gender': 'uomo',\n",
            "  'id': '10871249',\n",
            "  'type': 'scarpe',\n",
            "  'url': 'https://www.sportler.com/it/p/la-sportiva-akyra-scarpe-trail-running-uomo-10871249?filterFarbe=Blue'},\n",
            " {'gender': 'uomo',\n",
            "  'id': '10848242',\n",
            "  'type': 'scarpe',\n",
            "  'url': 'https://www.sportler.com/it/p/la-sportiva-helios-iii-scarpe-trail-running-uomo-10848242?filterFarbe=Blue'},\n",
            " {'gender': 'uomo',\n",
            "  'id': '10848237',\n",
            "  'type': 'scarpe',\n",
            "  'url': 'https://www.sportler.com/it/p/la-sportiva-mutant-scarpe-trail-running-uomo-10848237?filterFarbe=Dark+Grey%2FGreen'},\n",
            " {'gender': 'uomo',\n",
            "  'id': '10836340',\n",
            "  'type': 'scarpe',\n",
            "  'url': 'https://www.sportler.com/it/p/brooks-adrenaline-gts-20-scarpe-running-stabili-uomo-10836340?filterFarbe=Black%2FYellow'},\n",
            " {'gender': 'uomo',\n",
            "  'id': '10838962',\n",
            "  'type': 'scarpe',\n",
            "  'url': 'https://www.sportler.com/it/p/salomon-alphacross-scarpe-trail-running-uomo-10838962?filterFarbe=Blue'},\n",
            " {'gender': 'uomo',\n",
            "  'id': '10838963',\n",
            "  'type': 'scarpe',\n",
            "  'url': 'https://www.sportler.com/it/p/salomon-alphacross-scarpe-trail-running-uomo-10838963?filterFarbe=Black'},\n",
            " {'gender': 'uomo',\n",
            "  'id': '10838976',\n",
            "  'type': 'scarpe',\n",
            "  'url': 'https://www.sportler.com/it/p/salomon-sense-flow-scarpe-trail-running-uomo-10838976?filterFarbe=Black%2FWhite'},\n",
            " {'gender': 'uomo',\n",
            "  'id': '10838961',\n",
            "  'type': 'scarpe',\n",
            "  'url': 'https://www.sportler.com/it/p/salomon-speedcross-5-scarpe-trail-running-uomo-10838961?filterFarbe=White%2FRed'},\n",
            " {'gender': 'uomo',\n",
            "  'id': '10838981',\n",
            "  'type': 'scarpe',\n",
            "  'url': 'https://www.sportler.com/it/p/salomon-sonic-3-confidence-scarpe-running-neutre-uomo-10838981?filterFarbe=Black%2FWhite'},\n",
            " {'gender': 'uomo',\n",
            "  'id': '10838968',\n",
            "  'type': 'scarpe',\n",
            "  'url': 'https://www.sportler.com/it/p/salomon-ultra-pro-scarpe-trail-running-uomo-10838968?filterFarbe=Light+Blue%2FBlue'},\n",
            " {'gender': 'uomo',\n",
            "  'id': '10837619',\n",
            "  'type': 'scarpe',\n",
            "  'url': 'https://www.sportler.com/it/p/adidas-solar-glide-19-scarpe-running-neutre-uomo-10837619?filterFarbe=Dark+Grey'},\n",
            " {'gender': 'uomo',\n",
            "  'id': '10866842',\n",
            "  'type': 'scarpe',\n",
            "  'url': 'https://www.sportler.com/it/p/la-sportiva-akyra-scarpe-trail-running-uomo-10866842?filterFarbe=Black%2FOrange'},\n",
            " {'gender': 'uomo',\n",
            "  'id': '10845059',\n",
            "  'type': 'scarpe',\n",
            "  'url': 'https://www.sportler.com/it/p/under-armour-ua-charged-pursuit-2-scarpe-running-neutre-uomo-10845059?filterFarbe=Black'},\n",
            " {'gender': 'uomo',\n",
            "  'id': '10840902',\n",
            "  'type': 'scarpe',\n",
            "  'url': 'https://www.sportler.com/it/p/under-armour-hovr-machina-scarpe-running-neutre-uomo-10840902?filterFarbe=Black%2FWhite'},\n",
            " {'gender': 'uomo',\n",
            "  'id': '10839272',\n",
            "  'type': 'scarpe',\n",
            "  'url': 'https://www.sportler.com/it/p/la-sportiva-bushido-ii-scarpa-trail-running-uomo-10839272?filterFarbe=Blue%2FYellow'},\n",
            " {'gender': 'uomo',\n",
            "  'id': '10830198',\n",
            "  'type': 'scarpe',\n",
            "  'url': 'https://www.sportler.com/it/p/nike-renew-run-running-scarpe-jogging-uomo-10830198?filterFarbe=Black'},\n",
            " {'gender': 'uomo',\n",
            "  'id': '10837124',\n",
            "  'type': 'scarpe',\n",
            "  'url': 'https://www.sportler.com/it/p/nike-joyride-dual-run-scarpe-running-neutre-uomo-10837124?filterFarbe=Black'},\n",
            " {'gender': 'uomo',\n",
            "  'id': '10840903',\n",
            "  'type': 'scarpe',\n",
            "  'url': 'https://www.sportler.com/it/p/under-armour-hovr-infinite-2-scarpe-running-neutre-uomo-10840903?filterFarbe=Blue'},\n",
            " {'gender': 'uomo',\n",
            "  'id': '10837099',\n",
            "  'type': 'scarpe',\n",
            "  'url': 'https://www.sportler.com/it/p/nike-react-infinity-run-flyknit-scarpe-running-neutre-uomo-10837099?filterFarbe=White'},\n",
            " {'gender': 'uomo',\n",
            "  'id': '10833098',\n",
            "  'type': 'scarpe',\n",
            "  'url': 'https://www.sportler.com/it/p/asics-gel-sonoma-5-gtx-scarpe-trail-running-uomo-10833098?filterFarbe=Black%2FBlack'},\n",
            " {'gender': 'uomo',\n",
            "  'id': '10833090',\n",
            "  'type': 'scarpe',\n",
            "  'url': 'https://www.sportler.com/it/p/asics-gel-nimbus-22-scarpe-runing-neutre-uomo-10833090?filterFarbe=Blue'},\n",
            " {'gender': 'uomo',\n",
            "  'id': '10833085',\n",
            "  'type': 'scarpe',\n",
            "  'url': 'https://www.sportler.com/it/p/brooks-ghost-12-scarpe-running-neutre-uomo-10833085?filterFarbe=Black%2FOrange'},\n",
            " {'gender': 'uomo',\n",
            "  'id': '10833087',\n",
            "  'type': 'scarpe',\n",
            "  'url': 'https://www.sportler.com/it/p/brooks-ghost-12-scarpe-running-neutre-uomo-10833087?filterFarbe=Black%2FGreen'},\n",
            " {'gender': 'uomo',\n",
            "  'id': '10833092',\n",
            "  'type': 'scarpe',\n",
            "  'url': 'https://www.sportler.com/it/p/brooks-cascadia-14-scarpe-trail-running-uomo-10833092?filterFarbe=Blue%2FOrange'},\n",
            " {'gender': 'uomo',\n",
            "  'id': '10833072',\n",
            "  'type': 'scarpe',\n",
            "  'url': 'https://www.sportler.com/it/p/brooks-glycerin-17-scarpe-running-neutre-uomo-10833072?filterFarbe=Blue%2FYellow'},\n",
            " {'gender': 'uomo',\n",
            "  'id': '10833073',\n",
            "  'type': 'scarpe',\n",
            "  'url': 'https://www.sportler.com/it/p/brooks-glycerin-17-scarpe-running-neutre-uomo-10833073?filterFarbe=Green%2FBlue'},\n",
            " {'gender': 'uomo',\n",
            "  'id': '10837121',\n",
            "  'type': 'scarpe',\n",
            "  'url': 'https://www.sportler.com/it/p/nike-air-zoom-vomero-14-scarpe-running-neutre-uomo-10837121?filterFarbe=Green'},\n",
            " {'gender': 'uomo',\n",
            "  'id': '10837097',\n",
            "  'type': 'scarpe',\n",
            "  'url': 'https://www.sportler.com/it/p/nike-air-zoom-pegasus-36-scarpe-running-neutre-uomo-10837097?filterFarbe=Orange'},\n",
            " {'gender': 'uomo',\n",
            "  'id': '10839487',\n",
            "  'type': 'scarpe',\n",
            "  'url': 'https://www.sportler.com/it/p/hoka-rincon-scarpe-running-neutre-uomo-10839487?filterFarbe=Black%2FYellow'},\n",
            " {'gender': 'uomo',\n",
            "  'id': '10839483',\n",
            "  'type': 'scarpe',\n",
            "  'url': 'https://www.sportler.com/it/p/hoka-clifton-6-scarpe-running-neutre-uomo-10839483?filterFarbe=Grey%2FYellow'},\n",
            " {'gender': 'uomo',\n",
            "  'id': '10836341',\n",
            "  'type': 'scarpe',\n",
            "  'url': 'https://www.sportler.com/it/p/brooks-adrenaline-gts-20-scarpe-running-stabili-uomo-10836341?filterFarbe=Blue'},\n",
            " {'gender': 'uomo',\n",
            "  'id': '10832046',\n",
            "  'type': 'scarpe',\n",
            "  'url': 'https://www.sportler.com/it/p/adidas-adizero-boston-8-m-scarpe-da-gara-uomo-10832046?filterFarbe=Red'},\n",
            " {'gender': 'uomo',\n",
            "  'id': '10832044',\n",
            "  'type': 'scarpe',\n",
            "  'url': 'https://www.sportler.com/it/p/adidas-solar-boost-19-scarpe-running-neutre-uomo-10832044?filterFarbe=Black%2FGrey'},\n",
            " {'gender': 'uomo',\n",
            "  'id': '10832021',\n",
            "  'type': 'scarpe',\n",
            "  'url': 'https://www.sportler.com/it/p/nike-air-zoom-pegasus-36-scarpe-running-neutre-uomo-10832021?filterFarbe=Dark+Blue'},\n",
            " {'gender': 'uomo',\n",
            "  'id': '10830197',\n",
            "  'type': 'scarpe',\n",
            "  'url': 'https://www.sportler.com/it/p/nike-zoom-fly-3-running-scarpe-performance-uomo-10830197?filterFarbe=Green'},\n",
            " {'gender': 'uomo',\n",
            "  'id': '10832026',\n",
            "  'type': 'scarpe',\n",
            "  'url': 'https://www.sportler.com/it/p/nike-zoom-pegasus-turbo-2-scarpe-running-neutre-uomo-10832026?filterFarbe=Dark+Green'},\n",
            " {'gender': 'uomo',\n",
            "  'id': '10833095',\n",
            "  'type': 'scarpe',\n",
            "  'url': 'https://www.sportler.com/it/p/asics-gel-pulse-11-scarpe-running-neutre-uomo-10833095?filterFarbe=Grey%2FWhite'},\n",
            " {'gender': 'uomo',\n",
            "  'id': '10833088',\n",
            "  'type': 'scarpe',\n",
            "  'url': 'https://www.sportler.com/it/p/asics-gt-1000-9-scarpe-running-stabili-uomo-10833088?filterFarbe=Black'},\n",
            " {'gender': 'uomo',\n",
            "  'id': '10833086',\n",
            "  'type': 'scarpe',\n",
            "  'url': 'https://www.sportler.com/it/p/asics-gt-2000-8-scarpe-running-stabili-uomo-10833086?filterFarbe=Light+Blue'},\n",
            " {'gender': 'uomo',\n",
            "  'id': '10833094',\n",
            "  'type': 'scarpe',\n",
            "  'url': 'https://www.sportler.com/it/p/asics-gel-cumulus-21-retro-tokyo-scarpe-running-neutre-uomo-10833094?filterFarbe=Blue%2FWhite'},\n",
            " {'gender': 'uomo',\n",
            "  'id': '10833084',\n",
            "  'type': 'scarpe',\n",
            "  'url': 'https://www.sportler.com/it/p/asics-gel-kayano-26-scarpe-running-stabili-uomo-10833084?filterFarbe=Blue%2FWhite'},\n",
            " {'gender': 'uomo',\n",
            "  'id': '10833093',\n",
            "  'type': 'scarpe',\n",
            "  'url': 'https://www.sportler.com/it/p/asics-gel-nimbus-22-retro-tokyo-scarpe-running-neutre-uomo-10833093?filterFarbe=White%2FBlue'},\n",
            " {'gender': 'uomo',\n",
            "  'id': '10832020',\n",
            "  'type': 'scarpe',\n",
            "  'url': 'https://www.sportler.com/it/p/nike-air-zoom-winflo-6-scarpe-running-neutre-uomo-10832020?filterFarbe=White'},\n",
            " {'gender': 'uomo',\n",
            "  'id': '10837123',\n",
            "  'type': 'scarpe',\n",
            "  'url': 'https://www.sportler.com/it/p/nike-air-zoom-structure-22-scarpe-running-stabili-uomo-10837123?filterFarbe=Black'},\n",
            " {'gender': 'uomo',\n",
            "  'id': '10830200',\n",
            "  'type': 'scarpe',\n",
            "  'url': 'https://www.sportler.com/it/p/nike-air-zoom-pegasus-36-scarpe-running-neutre-uomo-10830200?filterFarbe=White'},\n",
            " {'gender': 'uomo',\n",
            "  'id': '10830199',\n",
            "  'type': 'scarpe',\n",
            "  'url': 'https://www.sportler.com/it/p/nike-air-zoom-vomero-14-scarpe-running-neutre-uomo-10830199?filterFarbe=Black'},\n",
            " {'gender': 'uomo',\n",
            "  'id': '10830196',\n",
            "  'type': 'scarpe',\n",
            "  'url': 'https://www.sportler.com/it/p/nike-joyride-dual-run-scarpe-running-neutre-uomo-10830196?filterFarbe=Black'},\n",
            " {'gender': 'uomo',\n",
            "  'id': '10836337',\n",
            "  'type': 'scarpe',\n",
            "  'url': 'https://www.sportler.com/it/p/adidas-ultraboost-20-scarpe-running-neutre-uomo-10836337?filterFarbe=Black'},\n",
            " {'gender': 'uomo',\n",
            "  'id': '10837478',\n",
            "  'type': 'scarpe',\n",
            "  'url': 'https://www.sportler.com/it/p/on-cloudflow-scarpe-running-da-gara-uomo-10837478?filterFarbe=Black'},\n",
            " {'gender': 'uomo',\n",
            "  'id': '10836033',\n",
            "  'type': 'scarpe',\n",
            "  'url': 'https://www.sportler.com/it/p/brooks-levitate-3-scarpe-running-neutre-uomo-10836033?filterFarbe=Black%2FGrey'},\n",
            " {'gender': 'uomo',\n",
            "  'id': '10839665',\n",
            "  'type': 'scarpe',\n",
            "  'url': 'https://www.sportler.com/it/p/salomon-speedcross-4-gtx-scarpe-trail-running-uomo-10839665?filterFarbe=Black'},\n",
            " {'gender': 'uomo',\n",
            "  'id': '10839685',\n",
            "  'type': 'scarpe',\n",
            "  'url': 'https://www.sportler.com/it/p/asics-glideride-scarpe-running-neutre-uomo-10839685?filterFarbe=Black%2FYellow'},\n",
            " {'gender': 'uomo',\n",
            "  'id': '10821231',\n",
            "  'type': 'scarpe',\n",
            "  'url': 'https://www.sportler.com/it/p/nike-joyride-run-flyknit-scarpe-running-neutre-uomo-10821231?filterFarbe=Black%2FPink'},\n",
            " {'gender': 'uomo',\n",
            "  'id': '10821232',\n",
            "  'type': 'scarpe',\n",
            "  'url': 'https://www.sportler.com/it/p/nike-joyride-run-flyknit-scarpe-running-neutre-uomo-10821232?filterFarbe=Grey'},\n",
            " {'gender': 'uomo',\n",
            "  'id': '10821238',\n",
            "  'type': 'scarpe',\n",
            "  'url': 'https://www.sportler.com/it/p/nike-zoom-pegasus-turbo-shield-scarpe-running-neutre-uomo-10821238?filterFarbe=Black%2FViolet'},\n",
            " {'gender': 'uomo',\n",
            "  'id': '10821240',\n",
            "  'type': 'scarpe',\n",
            "  'url': 'https://www.sportler.com/it/p/nike-air-zoom-pegasus-36-shield-scarpe-running-neutre-uomo-10821240?filterFarbe=Black'},\n",
            " {'gender': 'uomo',\n",
            "  'id': '10821250',\n",
            "  'type': 'scarpe',\n",
            "  'url': 'https://www.sportler.com/it/p/nike-odyssey-react-2-shield-scarpe-running-neutre-uomo-10821250?filterFarbe=Black'},\n",
            " {'gender': 'uomo',\n",
            "  'id': '10821757',\n",
            "  'type': 'scarpe',\n",
            "  'url': 'https://www.sportler.com/it/p/new-balance-fuelcell-echo-scarpe-running-neutre-uomo-10821757?filterFarbe=Black'},\n",
            " {'gender': 'uomo',\n",
            "  'id': '10821243',\n",
            "  'type': 'scarpe',\n",
            "  'url': 'https://www.sportler.com/it/p/nike-odyssey-react-2-shield-scarpe-running-neutre-uomo-10821243?filterFarbe=Black%2FGrey'},\n",
            " {'gender': 'uomo',\n",
            "  'id': '10796620',\n",
            "  'type': 'scarpe',\n",
            "  'url': 'https://www.sportler.com/it/p/la-sportiva-kaptiva-gtx-scarpe-trail-running-uomo-10796620?filterFarbe=Blue'},\n",
            " {'gender': 'uomo',\n",
            "  'id': '10796625',\n",
            "  'type': 'scarpe',\n",
            "  'url': 'https://www.sportler.com/it/p/la-sportiva-tempesta-gtx-scarpe-trail-running-uomo-10796625?filterFarbe=Light+Blue'},\n",
            " {'gender': 'uomo',\n",
            "  'id': '10781323',\n",
            "  'type': 'scarpe',\n",
            "  'url': 'https://www.sportler.com/it/p/nike-air-zoom-pegasus-36-scarpe-running-neutre-uomo-10781323?filterFarbe=Grey'},\n",
            " {'gender': 'uomo',\n",
            "  'id': '10781538',\n",
            "  'type': 'scarpe',\n",
            "  'url': 'https://www.sportler.com/it/p/asics-gel-cumulus-21-scarpe-running-neutre-uomo-10781538?filterFarbe=Grey'},\n",
            " {'gender': 'uomo',\n",
            "  'id': '10783019',\n",
            "  'type': 'scarpe',\n",
            "  'url': 'https://www.sportler.com/it/p/saucony-triumph-iso5-scarpe-running-neutre-uomo-10783019?filterFarbe=Grey%2FGreen'},\n",
            " {'gender': 'uomo',\n",
            "  'id': '10783038',\n",
            "  'type': 'scarpe',\n",
            "  'url': 'https://www.sportler.com/it/p/salomon-alphacross-gtx-scarpe-trail-running-uomo-10783038?filterFarbe=Dark+Green'},\n",
            " {'gender': 'uomo',\n",
            "  'id': '10781329',\n",
            "  'type': 'scarpe',\n",
            "  'url': 'https://www.sportler.com/it/p/nike-quest-2-scarpe-jogging-uomo-10781329?filterFarbe=White%2FYellow'},\n",
            " {'gender': 'uomo',\n",
            "  'id': '10781533',\n",
            "  'type': 'scarpe',\n",
            "  'url': 'https://www.sportler.com/it/p/asics-gt-2000-7-scarpe-running-stabili-uomo-10781533?filterFarbe=Black'},\n",
            " {'gender': 'uomo',\n",
            "  'id': '10782487',\n",
            "  'type': 'scarpe',\n",
            "  'url': 'https://www.sportler.com/it/p/new-balance-880v9-scarpe-running-neutre-uomo-10782487?filterFarbe=Black%2FGrey'},\n",
            " {'gender': 'uomo',\n",
            "  'id': '10782489',\n",
            "  'type': 'scarpe',\n",
            "  'url': 'https://www.sportler.com/it/p/new-balance-fresh-foam-hierro-v4-scarpe-trail-running-uomo-10782489?filterFarbe=Grey%2FBlack'},\n",
            " {'gender': 'uomo',\n",
            "  'id': '10782491',\n",
            "  'type': 'scarpe',\n",
            "  'url': 'https://www.sportler.com/it/p/new-balance-fresh-foam-kaymin-gtx-scarpe-trail-running-uomo-10782491?filterFarbe=Black'},\n",
            " {'gender': 'uomo',\n",
            "  'id': '10781325',\n",
            "  'type': 'scarpe',\n",
            "  'url': 'https://www.sportler.com/it/p/nike-air-zoom-vomero-14-scarpe-running-neutre-uomo-10781325?filterFarbe=White%2FBlue'},\n",
            " {'gender': 'uomo',\n",
            "  'id': '10790140',\n",
            "  'type': 'scarpe',\n",
            "  'url': 'https://www.sportler.com/it/p/hoka-mafate-speed-2-scarpe-trail-running-uomo-10790140?filterFarbe=Yellow%2FRed'},\n",
            " {'gender': 'uomo',\n",
            "  'id': '10782505',\n",
            "  'type': 'scarpe',\n",
            "  'url': 'https://www.sportler.com/it/p/under-armour-hovr-velociti-2-scarpe-running-neutre-uomo-10782505?filterFarbe=Balck%2FGrey'},\n",
            " {'gender': 'uomo',\n",
            "  'id': '10782742',\n",
            "  'type': 'scarpe',\n",
            "  'url': 'https://www.sportler.com/it/p/under-armour-hovr-infinite-scarpe-running-neutre-uomo-10782742?filterFarbe=White'},\n",
            " {'gender': 'uomo',\n",
            "  'id': '10781947',\n",
            "  'type': 'scarpe',\n",
            "  'url': 'https://www.sportler.com/it/p/brooks-transcend-6-scarpe-running-stabili-uomo-10781947?filterFarbe=Black%2FRed'},\n",
            " {'gender': 'uomo',\n",
            "  'id': '10781949',\n",
            "  'type': 'scarpe',\n",
            "  'url': 'https://www.sportler.com/it/p/brooks-levitate-2-scarpe-running-neutre-uomo-10781949?filterFarbe=Grey%2FBlack%2FYellow'},\n",
            " {'gender': 'uomo',\n",
            "  'id': '10781321',\n",
            "  'type': 'scarpe',\n",
            "  'url': 'https://www.sportler.com/it/p/nike-air-zoom-vomero-14-scarpe-running-neutre-uomo-10781321?filterFarbe=Grey'},\n",
            " {'gender': 'uomo',\n",
            "  'id': '10780973',\n",
            "  'type': 'scarpe',\n",
            "  'url': 'https://www.sportler.com/it/p/on-cloudstratus-scarpe-running-neutre-uomo-10780973?filterFarbe=Black'},\n",
            " {'gender': 'uomo',\n",
            "  'id': '10780966',\n",
            "  'type': 'scarpe',\n",
            "  'url': 'https://www.sportler.com/it/p/adidas-ultraboost-19-scarpe-running-neutre-uomo-10780966?filterFarbe=White%2FRed%2FBlack'},\n",
            " {'gender': 'uomo',\n",
            "  'id': '10780969',\n",
            "  'type': 'scarpe',\n",
            "  'url': 'https://www.sportler.com/it/p/adidas-alphabounce-parley-scarpe-running-neutre-uomo-10780969?filterFarbe=Black'},\n",
            " {'gender': 'uomo',\n",
            "  'id': '10780967',\n",
            "  'type': 'scarpe',\n",
            "  'url': 'https://www.sportler.com/it/p/adidas-alphaboost-parley-scarpe-running-neutre-uomo-10780967?filterFarbe=Black'},\n",
            " {'gender': 'uomo',\n",
            "  'id': '10779966',\n",
            "  'type': 'scarpe',\n",
            "  'url': 'https://www.sportler.com/it/p/nike-air-zoom-pegasus-36-scarpe-running-neutre-uomo-10779966?filterFarbe=Green'},\n",
            " {'gender': 'uomo',\n",
            "  'id': '10778223',\n",
            "  'type': 'scarpe',\n",
            "  'url': 'https://www.sportler.com/it/p/nike-free-rn-5.0-scarpe-natural-running-uomo-10778223?filterFarbe=Black'},\n",
            " {'gender': 'uomo',\n",
            "  'id': '10751731',\n",
            "  'type': 'scarpe',\n",
            "  'url': 'https://www.sportler.com/it/p/la-sportiva-kaptiva-scarpe-trail-running-uomo-10751731?filterFarbe=Black%2FYellow'},\n",
            " {'gender': 'uomo',\n",
            "  'id': '10779370',\n",
            "  'type': 'scarpe',\n",
            "  'url': 'https://www.sportler.com/it/p/sidas-gel-toe-wrap-proteggi-dita-10779370?filterFarbe=Blue'},\n",
            " {'gender': 'uomo',\n",
            "  'id': '10777410',\n",
            "  'type': 'scarpe',\n",
            "  'url': 'https://www.sportler.com/it/p/salomon-supercross-scarpe-trail-running-uomo-10777410?filterFarbe=Black'},\n",
            " {'gender': 'uomo',\n",
            "  'id': '10772257',\n",
            "  'type': 'scarpe',\n",
            "  'url': 'https://www.sportler.com/it/p/adidas-solar-drive-m-scarpe-running-neutre-uomo-10772257?filterFarbe=black'},\n",
            " {'gender': 'uomo',\n",
            "  'id': '10739617',\n",
            "  'type': 'scarpe',\n",
            "  'url': 'https://www.sportler.com/it/p/salomon-speedcross-5-scarpe-trail-running-uomo-10739617?filterFarbe=Black'},\n",
            " {'gender': 'uomo',\n",
            "  'id': '10746798',\n",
            "  'type': 'scarpe',\n",
            "  'url': 'https://www.sportler.com/it/p/on-cloudswift-scarpe-running-neutre-uomo-10746798?filterFarbe+%2F+L%C3%A4nge=Beige'},\n",
            " {'gender': 'uomo',\n",
            "  'id': '10763122',\n",
            "  'type': 'scarpe',\n",
            "  'url': 'https://www.sportler.com/it/p/sidas-run-3feet-sense-mid-soletta-running-10763122?filterFarbe=Green%2FGrey'},\n",
            " {'gender': 'uomo',\n",
            "  'id': '10750773',\n",
            "  'type': 'scarpe',\n",
            "  'url': 'https://www.sportler.com/it/p/new-balance-fresh-foam-lazr-hypoknit-v2-scarpe-running-neutre-uomo-10750773?filterFarbe=Black'},\n",
            " {'gender': 'uomo',\n",
            "  'id': '10750768',\n",
            "  'type': 'scarpe',\n",
            "  'url': 'https://www.sportler.com/it/p/new-balance-fresh-foam-lazr-hypoknit-v2-scarpe-running-neutre-uomo-10750768?filterFarbe=Black%2FGreen'},\n",
            " {'gender': 'uomo',\n",
            "  'id': '10763129',\n",
            "  'type': 'scarpe',\n",
            "  'url': 'https://www.sportler.com/it/p/sidas-dryer-bag-cedar-wood-protezione-10763129?filterFarbe=Brown'},\n",
            " {'gender': 'uomo',\n",
            "  'id': '10763126',\n",
            "  'type': 'scarpe',\n",
            "  'url': 'https://www.sportler.com/it/p/sidas-run-3d-protect-soletta-running-10763126?filterFarbe=Green%2FBlue%2FBlack'},\n",
            " {'gender': 'uomo',\n",
            "  'id': '10763121',\n",
            "  'type': 'scarpe',\n",
            "  'url': 'https://www.sportler.com/it/p/sidas-run-3feet-sense-high-soletta-running-10763121?filterFarbe=Orange%2FLight+Grey'},\n",
            " {'gender': 'uomo',\n",
            "  'id': '10763124',\n",
            "  'type': 'scarpe',\n",
            "  'url': 'https://www.sportler.com/it/p/sidas-run-3feet-sense-low-soletta-running-10763124?filterFarbe=Blue%2FGrey'},\n",
            " {'gender': 'uomo',\n",
            "  'id': '10763115',\n",
            "  'type': 'scarpe',\n",
            "  'url': 'https://www.sportler.com/it/p/sidas-run-3feet-protect-mid-solette-per-running-10763115?filterFarbe=Green%2FBlue%2FGrey'},\n",
            " {'gender': 'uomo',\n",
            "  'id': '10763118',\n",
            "  'type': 'scarpe',\n",
            "  'url': 'https://www.sportler.com/it/p/sidas-run-3feet-protect-high-soletta-running-10763118?filterFarbe=Yellow%2FBlue%2FGrey'},\n",
            " {'gender': 'uomo',\n",
            "  'id': '10763119',\n",
            "  'type': 'scarpe',\n",
            "  'url': 'https://www.sportler.com/it/p/sidas-run-3feet-protect-low-soletta-per-runner-10763119?filterFarbe=Blue%2FGrey'},\n",
            " {'gender': 'uomo',\n",
            "  'id': '10753585',\n",
            "  'type': 'scarpe',\n",
            "  'url': 'https://www.sportler.com/it/p/la-sportiva-bushido-ii-scarpe-trail-running-uomo-10753585?filterFarbe=Blue%2FGreen'},\n",
            " {'gender': 'uomo',\n",
            "  'id': '10726874',\n",
            "  'type': 'scarpe',\n",
            "  'url': 'https://www.sportler.com/it/p/saucony-jazz-21-scarpe-running-neutre-uomo-10726874?filterFarbe=Blue%2FOrange'},\n",
            " {'gender': 'uomo',\n",
            "  'id': '10725208',\n",
            "  'type': 'scarpe',\n",
            "  'url': 'https://www.sportler.com/it/p/nike-rebel-react-scarpe-running-neutre-uomo-10725208?filterFarbe=Blue'},\n",
            " {'gender': 'uomo',\n",
            "  'id': '10725204',\n",
            "  'type': 'scarpe',\n",
            "  'url': 'https://www.sportler.com/it/p/nike-odyssey-react-2-flyknit-scarpe-running-neutre-uomo-10725204?filterFarbe=Black'},\n",
            " {'gender': 'uomo',\n",
            "  'id': '10724425',\n",
            "  'type': 'scarpe',\n",
            "  'url': 'https://www.sportler.com/it/p/brooks-launch-6-scarpe-running-neutre-uomo-10724425?filterFarbe=Blue%2FBlack'},\n",
            " {'gender': 'uomo',\n",
            "  'id': '10723368',\n",
            "  'type': 'scarpe',\n",
            "  'url': 'https://www.sportler.com/it/p/brooks-cascadia-13-scarpe-trail-running-uomo-10723368?filterFarbe=Black%2FBlue'},\n",
            " {'gender': 'uomo',\n",
            "  'id': '10724421',\n",
            "  'type': 'scarpe',\n",
            "  'url': 'https://www.sportler.com/it/p/brooks-bedlam-scarpe-running-stabili-uomo-10724421?filterFarbe=Black%2FBlue'},\n",
            " {'gender': 'uomo',\n",
            "  'id': '10729456',\n",
            "  'type': 'scarpe',\n",
            "  'url': 'https://www.sportler.com/it/p/salomon-sonic-ra-2-scarpe-running-uomo-10729456?filterFarbe=Blue%2FBlack'},\n",
            " {'gender': 'uomo',\n",
            "  'id': '10735172',\n",
            "  'type': 'scarpe',\n",
            "  'url': 'https://www.sportler.com/it/p/salomon-sense-max-2-scarpe-trail-running-uomo-10735172?filterFarbe=Blue%2FBlack'},\n",
            " {'gender': 'uomo',\n",
            "  'id': '10748522',\n",
            "  'type': 'scarpe',\n",
            "  'url': 'https://www.sportler.com/it/p/under-armour-surge-se-scarpe-jogging-uomo-10748522?filterFarbe=Black%2FWhite'},\n",
            " {'gender': 'uomo',\n",
            "  'id': '10729948',\n",
            "  'type': 'scarpe',\n",
            "  'url': 'https://www.sportler.com/it/p/adidas-falcon-scarpe-jogging-uomo-10729948?filterFarbe=Black'},\n",
            " {'gender': 'uomo',\n",
            "  'id': '10721389',\n",
            "  'type': 'scarpe',\n",
            "  'url': 'https://www.sportler.com/it/p/on-cloudsurfer-scarpe-running-neutre-uomo-10721389?filterFarbe=Blue'},\n",
            " {'gender': 'uomo',\n",
            "  'id': '10721605',\n",
            "  'type': 'scarpe',\n",
            "  'url': 'https://www.sportler.com/it/p/on-cloudventure-waterproof-scarpe-trail-running-uomo-10721605?filterFarbe=Black'},\n",
            " {'gender': 'uomo',\n",
            "  'id': '10721380',\n",
            "  'type': 'scarpe',\n",
            "  'url': 'https://www.sportler.com/it/p/on-cloudventure-scarpe-trail-running-uomo-10721380?filterFarbe=Beige%2FBlack'},\n",
            " {'gender': 'uomo',\n",
            "  'id': '10706147',\n",
            "  'type': 'scarpe',\n",
            "  'url': 'https://www.sportler.com/it/p/on-cloud-waterproof-scarpe-natural-running-uomo-10706147?filterFarbe=Black'},\n",
            " {'gender': 'uomo',\n",
            "  'id': '10662897',\n",
            "  'type': 'scarpe',\n",
            "  'url': 'https://www.sportler.com/it/p/on-cloudace-scarpe-running-neutre-uomo-10662897?filterFarbe=Black%2FRed'},\n",
            " {'gender': 'uomo',\n",
            "  'id': '10655403',\n",
            "  'type': 'scarpe',\n",
            "  'url': 'https://www.sportler.com/it/p/ironman-heel-cushions-gel-alzatacco-10655403?filterFarbe=Blue%2FOrange'},\n",
            " {'gender': 'uomo',\n",
            "  'id': '10650688',\n",
            "  'type': 'scarpe',\n",
            "  'url': 'https://www.sportler.com/it/p/dynafit-feline-vertical-pro-scarpe-trail-running-uomo-10650688?filterFarbe=Pink%2FGreen'},\n",
            " {'gender': 'uomo',\n",
            "  'id': '10610949',\n",
            "  'type': 'scarpe',\n",
            "  'url': 'https://www.sportler.com/it/p/under-armour-micro-g-pursuit-scarpe-running-neutre-uomo-10610949?filterFarbe=Dark+Grey%2FBlack'},\n",
            " {'gender': 'uomo',\n",
            "  'id': '10610959',\n",
            "  'type': 'scarpe',\n",
            "  'url': 'https://www.sportler.com/it/p/under-armour-ua-hovr-sonic-scarpe-running-neutre-uomo-10610959?filterFarbe=Black'},\n",
            " {'gender': 'uomo',\n",
            "  'id': '10610948',\n",
            "  'type': 'scarpe',\n",
            "  'url': 'https://www.sportler.com/it/p/under-armour-threadborne-blur-scarpe-running-neutre-uomo-10610948?filterFarbe=Dark+Grey'},\n",
            " {'gender': 'uomo',\n",
            "  'id': '10610275',\n",
            "  'type': 'scarpe',\n",
            "  'url': 'https://www.sportler.com/it/p/under-armour-thrill-3-scarpe-jogging-uomo-10610275?filterFarbe=Black%2FRed'},\n",
            " {'gender': 'uomo',\n",
            "  'id': '10610961',\n",
            "  'type': 'scarpe',\n",
            "  'url': 'https://www.sportler.com/it/p/under-armour-hovr-phantom-nc-scarpe-running-neutre-uomo-10610961?filterFarbe=Moss+Green'},\n",
            " {'gender': 'uomo',\n",
            "  'id': '10614313',\n",
            "  'type': 'scarpe',\n",
            "  'url': 'https://www.sportler.com/it/p/noene-ergopro-ac-solette-10614313?filterFarbe=Black%2FYellow%2FBlue'},\n",
            " {'gender': 'uomo',\n",
            "  'id': '10586297',\n",
            "  'type': 'scarpe',\n",
            "  'url': 'https://www.sportler.com/it/p/nike-downshifter-8-scarpe-jogging-uomo-10586297?filterFarbe=Black%2FWhite'},\n",
            " {'gender': 'uomo',\n",
            "  'id': '10583066',\n",
            "  'type': 'scarpe',\n",
            "  'url': 'https://www.sportler.com/it/p/on-cloud-x-scarpe-running-neutre-uomo-10583066?filterFarbe=Black'},\n",
            " {'gender': 'uomo',\n",
            "  'id': '10583056',\n",
            "  'type': 'scarpe',\n",
            "  'url': 'https://www.sportler.com/it/p/on-cloud-scarpe-natural-running-uomo-10583056?filterFarbe=Black'},\n",
            " {'gender': 'uomo',\n",
            "  'id': '10524414',\n",
            "  'type': 'scarpe',\n",
            "  'url': 'https://www.sportler.com/it/p/ironman-all-sport-soletta-scarpe-10524414?filterFarbe=Blue%2FYellow'},\n",
            " {'gender': 'uomo',\n",
            "  'id': '10580579',\n",
            "  'type': 'scarpe',\n",
            "  'url': 'https://www.sportler.com/it/p/bootdoc-performance-r9-solette-10580579?filterFarbe=Red'},\n",
            " {'gender': 'uomo',\n",
            "  'id': '10510793',\n",
            "  'type': 'scarpe',\n",
            "  'url': 'https://www.sportler.com/it/p/salomon-xa-pro-3d-gtx-scarpe-trail-running-uomo-10510793?filterFarbe=Black'},\n",
            " {'gender': 'uomo',\n",
            "  'id': '10473633',\n",
            "  'type': 'scarpe',\n",
            "  'url': 'https://www.sportler.com/it/p/on-cloudflash-scarpe-da-gara-uomo-10473633?filterFarbe=Yellow%2FWhite'},\n",
            " {'gender': 'uomo',\n",
            "  'id': '10359148',\n",
            "  'type': 'scarpe',\n",
            "  'url': 'https://www.sportler.com/it/p/noene-invisible-solette-10359148?filterFarbe=Black'},\n",
            " {'gender': 'uomo',\n",
            "  'id': '10326865',\n",
            "  'type': 'scarpe',\n",
            "  'url': 'https://www.sportler.com/it/p/la-sportiva-akasha-scarpe-trail-running-uomo-10326865?filterFarbe=Black%2FSulphur'},\n",
            " {'gender': 'uomo',\n",
            "  'id': '10322444',\n",
            "  'type': 'scarpe',\n",
            "  'url': 'https://www.sportler.com/it/p/4id-powerlacez-lacci-scarpe-led-10322444?filterFarbe=Green'},\n",
            " {'gender': 'uomo',\n",
            "  'id': '10204142',\n",
            "  'type': 'scarpe',\n",
            "  'url': 'https://www.sportler.com/it/p/lenz-space-dryer-2.0-elemento-riscaldante-10204142?filterFarbe=Black'},\n",
            " {'gender': 'uomo',\n",
            "  'id': '10173835',\n",
            "  'type': 'scarpe',\n",
            "  'url': 'https://www.sportler.com/it/p/la-sportiva-ultra-raptor-gore-tex-scarpe-trail-running-uomo-10173835?filterFarbe=Grey%2FGreen'},\n",
            " {'gender': 'uomo',\n",
            "  'id': '10107071',\n",
            "  'type': 'scarpe',\n",
            "  'url': 'https://www.sportler.com/it/p/lenz-space-dryer-1.0-accessorio-scarpe-10107071?filterFarbe=Black'},\n",
            " {'gender': 'uomo',\n",
            "  'id': '10079942',\n",
            "  'type': 'scarpe',\n",
            "  'url': 'https://www.sportler.com/it/p/bootdoc-dynamic-5-low-soletta-10079942?filterFarbe=White'},\n",
            " {'gender': 'uomo',\n",
            "  'id': '10079945',\n",
            "  'type': 'scarpe',\n",
            "  'url': 'https://www.sportler.com/it/p/bootdoc-dynamic-5-high-soletta-10079945?filterFarbe=White%2FRed'},\n",
            " {'gender': 'uomo',\n",
            "  'id': '9768522',\n",
            "  'type': 'scarpe',\n",
            "  'url': 'https://www.sportler.com/it/p/holmenkol-sportproof-250-ml-cura-delle-scarpe-9768522?filterGewicht=250+ml'},\n",
            " {'gender': 'uomo',\n",
            "  'id': '10046756',\n",
            "  'type': 'scarpe',\n",
            "  'url': 'https://www.sportler.com/it/p/salomon-quicklace-kit-lacci-di-ricambio-10046756?filterFarbe=White'},\n",
            " {'gender': 'uomo',\n",
            "  'id': '10027431',\n",
            "  'type': 'scarpe',\n",
            "  'url': 'https://www.sportler.com/it/p/bootdoc-stability-7-low-soletta-10027431?filterFarbe=Black%2FGreen'},\n",
            " {'gender': 'uomo',\n",
            "  'id': '9924979',\n",
            "  'type': 'scarpe',\n",
            "  'url': 'https://www.sportler.com/it/p/saluber-running-498-plantare-9924979?filterFarbe=Grey'},\n",
            " {'gender': 'uomo',\n",
            "  'id': '9796512',\n",
            "  'type': 'scarpe',\n",
            "  'url': 'https://www.sportler.com/it/p/sportler-e-gift-card-9796512?filtervariation_unit_1=Voucher'},\n",
            " {'gender': 'uomo',\n",
            "  'id': '4524562',\n",
            "  'type': 'scarpe',\n",
            "  'url': 'https://www.sportler.com/it/p/bootdoc-dma-sup-4524562?filterFarbe=Red'},\n",
            " {'gender': 'uomo',\n",
            "  'id': '10583066',\n",
            "  'type': 'scarpe',\n",
            "  'url': 'https://www.sportler.com/it/p/on-cloud-x-scarpe-running-neutre-uomo-10583066?filterFarbe=Black'},\n",
            " {'gender': 'uomo',\n",
            "  'id': '10583056',\n",
            "  'type': 'scarpe',\n",
            "  'url': 'https://www.sportler.com/it/p/on-cloud-scarpe-natural-running-uomo-10583056?filterFarbe=Black'},\n",
            " {'gender': 'uomo',\n",
            "  'id': '10524414',\n",
            "  'type': 'scarpe',\n",
            "  'url': 'https://www.sportler.com/it/p/ironman-all-sport-soletta-scarpe-10524414?filterFarbe=Blue%2FYellow'},\n",
            " {'gender': 'uomo',\n",
            "  'id': '10580579',\n",
            "  'type': 'scarpe',\n",
            "  'url': 'https://www.sportler.com/it/p/bootdoc-performance-r9-solette-10580579?filterFarbe=Red'},\n",
            " {'gender': 'uomo',\n",
            "  'id': '10510793',\n",
            "  'type': 'scarpe',\n",
            "  'url': 'https://www.sportler.com/it/p/salomon-xa-pro-3d-gtx-scarpe-trail-running-uomo-10510793?filterFarbe=Black'},\n",
            " {'gender': 'uomo',\n",
            "  'id': '10473633',\n",
            "  'type': 'scarpe',\n",
            "  'url': 'https://www.sportler.com/it/p/on-cloudflash-scarpe-da-gara-uomo-10473633?filterFarbe=Yellow%2FWhite'},\n",
            " {'gender': 'uomo',\n",
            "  'id': '10359148',\n",
            "  'type': 'scarpe',\n",
            "  'url': 'https://www.sportler.com/it/p/noene-invisible-solette-10359148?filterFarbe=Black'},\n",
            " {'gender': 'uomo',\n",
            "  'id': '10326865',\n",
            "  'type': 'scarpe',\n",
            "  'url': 'https://www.sportler.com/it/p/la-sportiva-akasha-scarpe-trail-running-uomo-10326865?filterFarbe=Black%2FSulphur'},\n",
            " {'gender': 'uomo',\n",
            "  'id': '10322444',\n",
            "  'type': 'scarpe',\n",
            "  'url': 'https://www.sportler.com/it/p/4id-powerlacez-lacci-scarpe-led-10322444?filterFarbe=Green'},\n",
            " {'gender': 'uomo',\n",
            "  'id': '10204142',\n",
            "  'type': 'scarpe',\n",
            "  'url': 'https://www.sportler.com/it/p/lenz-space-dryer-2.0-elemento-riscaldante-10204142?filterFarbe=Black'},\n",
            " {'gender': 'uomo',\n",
            "  'id': '10173835',\n",
            "  'type': 'scarpe',\n",
            "  'url': 'https://www.sportler.com/it/p/la-sportiva-ultra-raptor-gore-tex-scarpe-trail-running-uomo-10173835?filterFarbe=Grey%2FGreen'},\n",
            " {'gender': 'uomo',\n",
            "  'id': '10107071',\n",
            "  'type': 'scarpe',\n",
            "  'url': 'https://www.sportler.com/it/p/lenz-space-dryer-1.0-accessorio-scarpe-10107071?filterFarbe=Black'},\n",
            " {'gender': 'uomo',\n",
            "  'id': '10079942',\n",
            "  'type': 'scarpe',\n",
            "  'url': 'https://www.sportler.com/it/p/bootdoc-dynamic-5-low-soletta-10079942?filterFarbe=White'},\n",
            " {'gender': 'uomo',\n",
            "  'id': '10079945',\n",
            "  'type': 'scarpe',\n",
            "  'url': 'https://www.sportler.com/it/p/bootdoc-dynamic-5-high-soletta-10079945?filterFarbe=White%2FRed'},\n",
            " {'gender': 'uomo',\n",
            "  'id': '9768522',\n",
            "  'type': 'scarpe',\n",
            "  'url': 'https://www.sportler.com/it/p/holmenkol-sportproof-250-ml-cura-delle-scarpe-9768522?filterGewicht=250+ml'},\n",
            " {'gender': 'uomo',\n",
            "  'id': '10046756',\n",
            "  'type': 'scarpe',\n",
            "  'url': 'https://www.sportler.com/it/p/salomon-quicklace-kit-lacci-di-ricambio-10046756?filterFarbe=White'},\n",
            " {'gender': 'uomo',\n",
            "  'id': '10027431',\n",
            "  'type': 'scarpe',\n",
            "  'url': 'https://www.sportler.com/it/p/bootdoc-stability-7-low-soletta-10027431?filterFarbe=Black%2FGreen'},\n",
            " {'gender': 'uomo',\n",
            "  'id': '9924979',\n",
            "  'type': 'scarpe',\n",
            "  'url': 'https://www.sportler.com/it/p/saluber-running-498-plantare-9924979?filterFarbe=Grey'},\n",
            " {'gender': 'uomo',\n",
            "  'id': '9796512',\n",
            "  'type': 'scarpe',\n",
            "  'url': 'https://www.sportler.com/it/p/sportler-e-gift-card-9796512?filtervariation_unit_1=Voucher'},\n",
            " {'gender': 'uomo',\n",
            "  'id': '4524562',\n",
            "  'type': 'scarpe',\n",
            "  'url': 'https://www.sportler.com/it/p/bootdoc-dma-sup-4524562?filterFarbe=Red'},\n",
            " {'gender': 'uomo',\n",
            "  'id': '10583066',\n",
            "  'type': 'scarpe',\n",
            "  'url': 'https://www.sportler.com/it/p/on-cloud-x-scarpe-running-neutre-uomo-10583066?filterFarbe=Black'},\n",
            " {'gender': 'uomo',\n",
            "  'id': '10583056',\n",
            "  'type': 'scarpe',\n",
            "  'url': 'https://www.sportler.com/it/p/on-cloud-scarpe-natural-running-uomo-10583056?filterFarbe=Black'},\n",
            " {'gender': 'uomo',\n",
            "  'id': '10524414',\n",
            "  'type': 'scarpe',\n",
            "  'url': 'https://www.sportler.com/it/p/ironman-all-sport-soletta-scarpe-10524414?filterFarbe=Blue%2FYellow'},\n",
            " {'gender': 'uomo',\n",
            "  'id': '10580579',\n",
            "  'type': 'scarpe',\n",
            "  'url': 'https://www.sportler.com/it/p/bootdoc-performance-r9-solette-10580579?filterFarbe=Red'},\n",
            " {'gender': 'uomo',\n",
            "  'id': '10510793',\n",
            "  'type': 'scarpe',\n",
            "  'url': 'https://www.sportler.com/it/p/salomon-xa-pro-3d-gtx-scarpe-trail-running-uomo-10510793?filterFarbe=Black'},\n",
            " {'gender': 'uomo',\n",
            "  'id': '10473633',\n",
            "  'type': 'scarpe',\n",
            "  'url': 'https://www.sportler.com/it/p/on-cloudflash-scarpe-da-gara-uomo-10473633?filterFarbe=Yellow%2FWhite'},\n",
            " {'gender': 'uomo',\n",
            "  'id': '10359148',\n",
            "  'type': 'scarpe',\n",
            "  'url': 'https://www.sportler.com/it/p/noene-invisible-solette-10359148?filterFarbe=Black'},\n",
            " {'gender': 'uomo',\n",
            "  'id': '10326865',\n",
            "  'type': 'scarpe',\n",
            "  'url': 'https://www.sportler.com/it/p/la-sportiva-akasha-scarpe-trail-running-uomo-10326865?filterFarbe=Black%2FSulphur'},\n",
            " {'gender': 'uomo',\n",
            "  'id': '10322444',\n",
            "  'type': 'scarpe',\n",
            "  'url': 'https://www.sportler.com/it/p/4id-powerlacez-lacci-scarpe-led-10322444?filterFarbe=Green'},\n",
            " {'gender': 'uomo',\n",
            "  'id': '10204142',\n",
            "  'type': 'scarpe',\n",
            "  'url': 'https://www.sportler.com/it/p/lenz-space-dryer-2.0-elemento-riscaldante-10204142?filterFarbe=Black'},\n",
            " {'gender': 'uomo',\n",
            "  'id': '10173835',\n",
            "  'type': 'scarpe',\n",
            "  'url': 'https://www.sportler.com/it/p/la-sportiva-ultra-raptor-gore-tex-scarpe-trail-running-uomo-10173835?filterFarbe=Grey%2FGreen'},\n",
            " {'gender': 'uomo',\n",
            "  'id': '10107071',\n",
            "  'type': 'scarpe',\n",
            "  'url': 'https://www.sportler.com/it/p/lenz-space-dryer-1.0-accessorio-scarpe-10107071?filterFarbe=Black'},\n",
            " {'gender': 'uomo',\n",
            "  'id': '10079942',\n",
            "  'type': 'scarpe',\n",
            "  'url': 'https://www.sportler.com/it/p/bootdoc-dynamic-5-low-soletta-10079942?filterFarbe=White'},\n",
            " {'gender': 'uomo',\n",
            "  'id': '10079945',\n",
            "  'type': 'scarpe',\n",
            "  'url': 'https://www.sportler.com/it/p/bootdoc-dynamic-5-high-soletta-10079945?filterFarbe=White%2FRed'},\n",
            " {'gender': 'uomo',\n",
            "  'id': '9768522',\n",
            "  'type': 'scarpe',\n",
            "  'url': 'https://www.sportler.com/it/p/holmenkol-sportproof-250-ml-cura-delle-scarpe-9768522?filterGewicht=250+ml'},\n",
            " {'gender': 'uomo',\n",
            "  'id': '10046756',\n",
            "  'type': 'scarpe',\n",
            "  'url': 'https://www.sportler.com/it/p/salomon-quicklace-kit-lacci-di-ricambio-10046756?filterFarbe=White'},\n",
            " {'gender': 'uomo',\n",
            "  'id': '10027431',\n",
            "  'type': 'scarpe',\n",
            "  'url': 'https://www.sportler.com/it/p/bootdoc-stability-7-low-soletta-10027431?filterFarbe=Black%2FGreen'},\n",
            " {'gender': 'uomo',\n",
            "  'id': '9924979',\n",
            "  'type': 'scarpe',\n",
            "  'url': 'https://www.sportler.com/it/p/saluber-running-498-plantare-9924979?filterFarbe=Grey'},\n",
            " {'gender': 'uomo',\n",
            "  'id': '9796512',\n",
            "  'type': 'scarpe',\n",
            "  'url': 'https://www.sportler.com/it/p/sportler-e-gift-card-9796512?filtervariation_unit_1=Voucher'},\n",
            " {'gender': 'uomo',\n",
            "  'id': '4524562',\n",
            "  'type': 'scarpe',\n",
            "  'url': 'https://www.sportler.com/it/p/bootdoc-dma-sup-4524562?filterFarbe=Red'},\n",
            " {'gender': 'uomo',\n",
            "  'id': '10583066',\n",
            "  'type': 'scarpe',\n",
            "  'url': 'https://www.sportler.com/it/p/on-cloud-x-scarpe-running-neutre-uomo-10583066?filterFarbe=Black'},\n",
            " {'gender': 'uomo',\n",
            "  'id': '10583056',\n",
            "  'type': 'scarpe',\n",
            "  'url': 'https://www.sportler.com/it/p/on-cloud-scarpe-natural-running-uomo-10583056?filterFarbe=Black'},\n",
            " {'gender': 'uomo',\n",
            "  'id': '10524414',\n",
            "  'type': 'scarpe',\n",
            "  'url': 'https://www.sportler.com/it/p/ironman-all-sport-soletta-scarpe-10524414?filterFarbe=Blue%2FYellow'},\n",
            " {'gender': 'uomo',\n",
            "  'id': '10580579',\n",
            "  'type': 'scarpe',\n",
            "  'url': 'https://www.sportler.com/it/p/bootdoc-performance-r9-solette-10580579?filterFarbe=Red'},\n",
            " {'gender': 'uomo',\n",
            "  'id': '10510793',\n",
            "  'type': 'scarpe',\n",
            "  'url': 'https://www.sportler.com/it/p/salomon-xa-pro-3d-gtx-scarpe-trail-running-uomo-10510793?filterFarbe=Black'},\n",
            " {'gender': 'uomo',\n",
            "  'id': '10473633',\n",
            "  'type': 'scarpe',\n",
            "  'url': 'https://www.sportler.com/it/p/on-cloudflash-scarpe-da-gara-uomo-10473633?filterFarbe=Yellow%2FWhite'},\n",
            " {'gender': 'uomo',\n",
            "  'id': '10359148',\n",
            "  'type': 'scarpe',\n",
            "  'url': 'https://www.sportler.com/it/p/noene-invisible-solette-10359148?filterFarbe=Black'},\n",
            " {'gender': 'uomo',\n",
            "  'id': '10326865',\n",
            "  'type': 'scarpe',\n",
            "  'url': 'https://www.sportler.com/it/p/la-sportiva-akasha-scarpe-trail-running-uomo-10326865?filterFarbe=Black%2FSulphur'},\n",
            " {'gender': 'uomo',\n",
            "  'id': '10322444',\n",
            "  'type': 'scarpe',\n",
            "  'url': 'https://www.sportler.com/it/p/4id-powerlacez-lacci-scarpe-led-10322444?filterFarbe=Green'},\n",
            " {'gender': 'uomo',\n",
            "  'id': '10204142',\n",
            "  'type': 'scarpe',\n",
            "  'url': 'https://www.sportler.com/it/p/lenz-space-dryer-2.0-elemento-riscaldante-10204142?filterFarbe=Black'},\n",
            " {'gender': 'uomo',\n",
            "  'id': '10173835',\n",
            "  'type': 'scarpe',\n",
            "  'url': 'https://www.sportler.com/it/p/la-sportiva-ultra-raptor-gore-tex-scarpe-trail-running-uomo-10173835?filterFarbe=Grey%2FGreen'},\n",
            " {'gender': 'uomo',\n",
            "  'id': '10107071',\n",
            "  'type': 'scarpe',\n",
            "  'url': 'https://www.sportler.com/it/p/lenz-space-dryer-1.0-accessorio-scarpe-10107071?filterFarbe=Black'},\n",
            " {'gender': 'uomo',\n",
            "  'id': '10079942',\n",
            "  'type': 'scarpe',\n",
            "  'url': 'https://www.sportler.com/it/p/bootdoc-dynamic-5-low-soletta-10079942?filterFarbe=White'},\n",
            " {'gender': 'uomo',\n",
            "  'id': '10079945',\n",
            "  'type': 'scarpe',\n",
            "  'url': 'https://www.sportler.com/it/p/bootdoc-dynamic-5-high-soletta-10079945?filterFarbe=White%2FRed'},\n",
            " {'gender': 'uomo',\n",
            "  'id': '9768522',\n",
            "  'type': 'scarpe',\n",
            "  'url': 'https://www.sportler.com/it/p/holmenkol-sportproof-250-ml-cura-delle-scarpe-9768522?filterGewicht=250+ml'},\n",
            " {'gender': 'uomo',\n",
            "  'id': '10046756',\n",
            "  'type': 'scarpe',\n",
            "  'url': 'https://www.sportler.com/it/p/salomon-quicklace-kit-lacci-di-ricambio-10046756?filterFarbe=White'},\n",
            " {'gender': 'uomo',\n",
            "  'id': '10027431',\n",
            "  'type': 'scarpe',\n",
            "  'url': 'https://www.sportler.com/it/p/bootdoc-stability-7-low-soletta-10027431?filterFarbe=Black%2FGreen'},\n",
            " {'gender': 'uomo',\n",
            "  'id': '9924979',\n",
            "  'type': 'scarpe',\n",
            "  'url': 'https://www.sportler.com/it/p/saluber-running-498-plantare-9924979?filterFarbe=Grey'},\n",
            " {'gender': 'uomo',\n",
            "  'id': '9796512',\n",
            "  'type': 'scarpe',\n",
            "  'url': 'https://www.sportler.com/it/p/sportler-e-gift-card-9796512?filtervariation_unit_1=Voucher'},\n",
            " {'gender': 'uomo',\n",
            "  'id': '4524562',\n",
            "  'type': 'scarpe',\n",
            "  'url': 'https://www.sportler.com/it/p/bootdoc-dma-sup-4524562?filterFarbe=Red'},\n",
            " {'gender': 'uomo',\n",
            "  'id': '10583066',\n",
            "  'type': 'scarpe',\n",
            "  'url': 'https://www.sportler.com/it/p/on-cloud-x-scarpe-running-neutre-uomo-10583066?filterFarbe=Black'},\n",
            " {'gender': 'uomo',\n",
            "  'id': '10583056',\n",
            "  'type': 'scarpe',\n",
            "  'url': 'https://www.sportler.com/it/p/on-cloud-scarpe-natural-running-uomo-10583056?filterFarbe=Black'},\n",
            " {'gender': 'uomo',\n",
            "  'id': '10524414',\n",
            "  'type': 'scarpe',\n",
            "  'url': 'https://www.sportler.com/it/p/ironman-all-sport-soletta-scarpe-10524414?filterFarbe=Blue%2FYellow'},\n",
            " {'gender': 'uomo',\n",
            "  'id': '10580579',\n",
            "  'type': 'scarpe',\n",
            "  'url': 'https://www.sportler.com/it/p/bootdoc-performance-r9-solette-10580579?filterFarbe=Red'},\n",
            " {'gender': 'uomo',\n",
            "  'id': '10510793',\n",
            "  'type': 'scarpe',\n",
            "  'url': 'https://www.sportler.com/it/p/salomon-xa-pro-3d-gtx-scarpe-trail-running-uomo-10510793?filterFarbe=Black'},\n",
            " {'gender': 'uomo',\n",
            "  'id': '10473633',\n",
            "  'type': 'scarpe',\n",
            "  'url': 'https://www.sportler.com/it/p/on-cloudflash-scarpe-da-gara-uomo-10473633?filterFarbe=Yellow%2FWhite'},\n",
            " {'gender': 'uomo',\n",
            "  'id': '10359148',\n",
            "  'type': 'scarpe',\n",
            "  'url': 'https://www.sportler.com/it/p/noene-invisible-solette-10359148?filterFarbe=Black'},\n",
            " {'gender': 'uomo',\n",
            "  'id': '10326865',\n",
            "  'type': 'scarpe',\n",
            "  'url': 'https://www.sportler.com/it/p/la-sportiva-akasha-scarpe-trail-running-uomo-10326865?filterFarbe=Black%2FSulphur'},\n",
            " {'gender': 'uomo',\n",
            "  'id': '10322444',\n",
            "  'type': 'scarpe',\n",
            "  'url': 'https://www.sportler.com/it/p/4id-powerlacez-lacci-scarpe-led-10322444?filterFarbe=Green'},\n",
            " {'gender': 'uomo',\n",
            "  'id': '10204142',\n",
            "  'type': 'scarpe',\n",
            "  'url': 'https://www.sportler.com/it/p/lenz-space-dryer-2.0-elemento-riscaldante-10204142?filterFarbe=Black'},\n",
            " {'gender': 'uomo',\n",
            "  'id': '10173835',\n",
            "  'type': 'scarpe',\n",
            "  'url': 'https://www.sportler.com/it/p/la-sportiva-ultra-raptor-gore-tex-scarpe-trail-running-uomo-10173835?filterFarbe=Grey%2FGreen'},\n",
            " {'gender': 'uomo',\n",
            "  'id': '10107071',\n",
            "  'type': 'scarpe',\n",
            "  'url': 'https://www.sportler.com/it/p/lenz-space-dryer-1.0-accessorio-scarpe-10107071?filterFarbe=Black'},\n",
            " {'gender': 'uomo',\n",
            "  'id': '10079942',\n",
            "  'type': 'scarpe',\n",
            "  'url': 'https://www.sportler.com/it/p/bootdoc-dynamic-5-low-soletta-10079942?filterFarbe=White'},\n",
            " {'gender': 'uomo',\n",
            "  'id': '10079945',\n",
            "  'type': 'scarpe',\n",
            "  'url': 'https://www.sportler.com/it/p/bootdoc-dynamic-5-high-soletta-10079945?filterFarbe=White%2FRed'},\n",
            " {'gender': 'uomo',\n",
            "  'id': '9768522',\n",
            "  'type': 'scarpe',\n",
            "  'url': 'https://www.sportler.com/it/p/holmenkol-sportproof-250-ml-cura-delle-scarpe-9768522?filterGewicht=250+ml'},\n",
            " {'gender': 'uomo',\n",
            "  'id': '10046756',\n",
            "  'type': 'scarpe',\n",
            "  'url': 'https://www.sportler.com/it/p/salomon-quicklace-kit-lacci-di-ricambio-10046756?filterFarbe=White'},\n",
            " {'gender': 'uomo',\n",
            "  'id': '10027431',\n",
            "  'type': 'scarpe',\n",
            "  'url': 'https://www.sportler.com/it/p/bootdoc-stability-7-low-soletta-10027431?filterFarbe=Black%2FGreen'},\n",
            " {'gender': 'uomo',\n",
            "  'id': '9924979',\n",
            "  'type': 'scarpe',\n",
            "  'url': 'https://www.sportler.com/it/p/saluber-running-498-plantare-9924979?filterFarbe=Grey'},\n",
            " {'gender': 'uomo',\n",
            "  'id': '9796512',\n",
            "  'type': 'scarpe',\n",
            "  'url': 'https://www.sportler.com/it/p/sportler-e-gift-card-9796512?filtervariation_unit_1=Voucher'},\n",
            " {'gender': 'uomo',\n",
            "  'id': '4524562',\n",
            "  'type': 'scarpe',\n",
            "  'url': 'https://www.sportler.com/it/p/bootdoc-dma-sup-4524562?filterFarbe=Red'},\n",
            " {'gender': 'uomo',\n",
            "  'id': '10583066',\n",
            "  'type': 'scarpe',\n",
            "  'url': 'https://www.sportler.com/it/p/on-cloud-x-scarpe-running-neutre-uomo-10583066?filterFarbe=Black'},\n",
            " {'gender': 'uomo',\n",
            "  'id': '10583056',\n",
            "  'type': 'scarpe',\n",
            "  'url': 'https://www.sportler.com/it/p/on-cloud-scarpe-natural-running-uomo-10583056?filterFarbe=Black'},\n",
            " {'gender': 'uomo',\n",
            "  'id': '10524414',\n",
            "  'type': 'scarpe',\n",
            "  'url': 'https://www.sportler.com/it/p/ironman-all-sport-soletta-scarpe-10524414?filterFarbe=Blue%2FYellow'},\n",
            " {'gender': 'uomo',\n",
            "  'id': '10580579',\n",
            "  'type': 'scarpe',\n",
            "  'url': 'https://www.sportler.com/it/p/bootdoc-performance-r9-solette-10580579?filterFarbe=Red'},\n",
            " {'gender': 'uomo',\n",
            "  'id': '10510793',\n",
            "  'type': 'scarpe',\n",
            "  'url': 'https://www.sportler.com/it/p/salomon-xa-pro-3d-gtx-scarpe-trail-running-uomo-10510793?filterFarbe=Black'},\n",
            " {'gender': 'uomo',\n",
            "  'id': '10473633',\n",
            "  'type': 'scarpe',\n",
            "  'url': 'https://www.sportler.com/it/p/on-cloudflash-scarpe-da-gara-uomo-10473633?filterFarbe=Yellow%2FWhite'},\n",
            " {'gender': 'uomo',\n",
            "  'id': '10359148',\n",
            "  'type': 'scarpe',\n",
            "  'url': 'https://www.sportler.com/it/p/noene-invisible-solette-10359148?filterFarbe=Black'},\n",
            " {'gender': 'uomo',\n",
            "  'id': '10326865',\n",
            "  'type': 'scarpe',\n",
            "  'url': 'https://www.sportler.com/it/p/la-sportiva-akasha-scarpe-trail-running-uomo-10326865?filterFarbe=Black%2FSulphur'},\n",
            " {'gender': 'uomo',\n",
            "  'id': '10322444',\n",
            "  'type': 'scarpe',\n",
            "  'url': 'https://www.sportler.com/it/p/4id-powerlacez-lacci-scarpe-led-10322444?filterFarbe=Green'},\n",
            " {'gender': 'uomo',\n",
            "  'id': '10204142',\n",
            "  'type': 'scarpe',\n",
            "  'url': 'https://www.sportler.com/it/p/lenz-space-dryer-2.0-elemento-riscaldante-10204142?filterFarbe=Black'},\n",
            " {'gender': 'uomo',\n",
            "  'id': '10173835',\n",
            "  'type': 'scarpe',\n",
            "  'url': 'https://www.sportler.com/it/p/la-sportiva-ultra-raptor-gore-tex-scarpe-trail-running-uomo-10173835?filterFarbe=Grey%2FGreen'},\n",
            " {'gender': 'uomo',\n",
            "  'id': '10107071',\n",
            "  'type': 'scarpe',\n",
            "  'url': 'https://www.sportler.com/it/p/lenz-space-dryer-1.0-accessorio-scarpe-10107071?filterFarbe=Black'},\n",
            " {'gender': 'uomo',\n",
            "  'id': '10079942',\n",
            "  'type': 'scarpe',\n",
            "  'url': 'https://www.sportler.com/it/p/bootdoc-dynamic-5-low-soletta-10079942?filterFarbe=White'},\n",
            " {'gender': 'uomo',\n",
            "  'id': '10079945',\n",
            "  'type': 'scarpe',\n",
            "  'url': 'https://www.sportler.com/it/p/bootdoc-dynamic-5-high-soletta-10079945?filterFarbe=White%2FRed'},\n",
            " {'gender': 'uomo',\n",
            "  'id': '9768522',\n",
            "  'type': 'scarpe',\n",
            "  'url': 'https://www.sportler.com/it/p/holmenkol-sportproof-250-ml-cura-delle-scarpe-9768522?filterGewicht=250+ml'},\n",
            " {'gender': 'uomo',\n",
            "  'id': '10046756',\n",
            "  'type': 'scarpe',\n",
            "  'url': 'https://www.sportler.com/it/p/salomon-quicklace-kit-lacci-di-ricambio-10046756?filterFarbe=White'},\n",
            " {'gender': 'uomo',\n",
            "  'id': '10027431',\n",
            "  'type': 'scarpe',\n",
            "  'url': 'https://www.sportler.com/it/p/bootdoc-stability-7-low-soletta-10027431?filterFarbe=Black%2FGreen'},\n",
            " {'gender': 'uomo',\n",
            "  'id': '9924979',\n",
            "  'type': 'scarpe',\n",
            "  'url': 'https://www.sportler.com/it/p/saluber-running-498-plantare-9924979?filterFarbe=Grey'},\n",
            " {'gender': 'uomo',\n",
            "  'id': '9796512',\n",
            "  'type': 'scarpe',\n",
            "  'url': 'https://www.sportler.com/it/p/sportler-e-gift-card-9796512?filtervariation_unit_1=Voucher'},\n",
            " {'gender': 'uomo',\n",
            "  'id': '4524562',\n",
            "  'type': 'scarpe',\n",
            "  'url': 'https://www.sportler.com/it/p/bootdoc-dma-sup-4524562?filterFarbe=Red'},\n",
            " {'gender': 'uomo',\n",
            "  'id': '10583066',\n",
            "  'type': 'scarpe',\n",
            "  'url': 'https://www.sportler.com/it/p/on-cloud-x-scarpe-running-neutre-uomo-10583066?filterFarbe=Black'},\n",
            " {'gender': 'uomo',\n",
            "  'id': '10583056',\n",
            "  'type': 'scarpe',\n",
            "  'url': 'https://www.sportler.com/it/p/on-cloud-scarpe-natural-running-uomo-10583056?filterFarbe=Black'},\n",
            " {'gender': 'uomo',\n",
            "  'id': '10524414',\n",
            "  'type': 'scarpe',\n",
            "  'url': 'https://www.sportler.com/it/p/ironman-all-sport-soletta-scarpe-10524414?filterFarbe=Blue%2FYellow'},\n",
            " {'gender': 'uomo',\n",
            "  'id': '10580579',\n",
            "  'type': 'scarpe',\n",
            "  'url': 'https://www.sportler.com/it/p/bootdoc-performance-r9-solette-10580579?filterFarbe=Red'},\n",
            " {'gender': 'uomo',\n",
            "  'id': '10510793',\n",
            "  'type': 'scarpe',\n",
            "  'url': 'https://www.sportler.com/it/p/salomon-xa-pro-3d-gtx-scarpe-trail-running-uomo-10510793?filterFarbe=Black'},\n",
            " {'gender': 'uomo',\n",
            "  'id': '10473633',\n",
            "  'type': 'scarpe',\n",
            "  'url': 'https://www.sportler.com/it/p/on-cloudflash-scarpe-da-gara-uomo-10473633?filterFarbe=Yellow%2FWhite'},\n",
            " {'gender': 'uomo',\n",
            "  'id': '10359148',\n",
            "  'type': 'scarpe',\n",
            "  'url': 'https://www.sportler.com/it/p/noene-invisible-solette-10359148?filterFarbe=Black'},\n",
            " {'gender': 'uomo',\n",
            "  'id': '10326865',\n",
            "  'type': 'scarpe',\n",
            "  'url': 'https://www.sportler.com/it/p/la-sportiva-akasha-scarpe-trail-running-uomo-10326865?filterFarbe=Black%2FSulphur'},\n",
            " {'gender': 'uomo',\n",
            "  'id': '10322444',\n",
            "  'type': 'scarpe',\n",
            "  'url': 'https://www.sportler.com/it/p/4id-powerlacez-lacci-scarpe-led-10322444?filterFarbe=Green'},\n",
            " {'gender': 'uomo',\n",
            "  'id': '10204142',\n",
            "  'type': 'scarpe',\n",
            "  'url': 'https://www.sportler.com/it/p/lenz-space-dryer-2.0-elemento-riscaldante-10204142?filterFarbe=Black'},\n",
            " {'gender': 'uomo',\n",
            "  'id': '10173835',\n",
            "  'type': 'scarpe',\n",
            "  'url': 'https://www.sportler.com/it/p/la-sportiva-ultra-raptor-gore-tex-scarpe-trail-running-uomo-10173835?filterFarbe=Grey%2FGreen'},\n",
            " {'gender': 'uomo',\n",
            "  'id': '10107071',\n",
            "  'type': 'scarpe',\n",
            "  'url': 'https://www.sportler.com/it/p/lenz-space-dryer-1.0-accessorio-scarpe-10107071?filterFarbe=Black'},\n",
            " {'gender': 'uomo',\n",
            "  'id': '10079942',\n",
            "  'type': 'scarpe',\n",
            "  'url': 'https://www.sportler.com/it/p/bootdoc-dynamic-5-low-soletta-10079942?filterFarbe=White'},\n",
            " {'gender': 'uomo',\n",
            "  'id': '10079945',\n",
            "  'type': 'scarpe',\n",
            "  'url': 'https://www.sportler.com/it/p/bootdoc-dynamic-5-high-soletta-10079945?filterFarbe=White%2FRed'},\n",
            " {'gender': 'uomo',\n",
            "  'id': '9768522',\n",
            "  'type': 'scarpe',\n",
            "  'url': 'https://www.sportler.com/it/p/holmenkol-sportproof-250-ml-cura-delle-scarpe-9768522?filterGewicht=250+ml'},\n",
            " {'gender': 'uomo',\n",
            "  'id': '10046756',\n",
            "  'type': 'scarpe',\n",
            "  'url': 'https://www.sportler.com/it/p/salomon-quicklace-kit-lacci-di-ricambio-10046756?filterFarbe=White'},\n",
            " {'gender': 'uomo',\n",
            "  'id': '10027431',\n",
            "  'type': 'scarpe',\n",
            "  'url': 'https://www.sportler.com/it/p/bootdoc-stability-7-low-soletta-10027431?filterFarbe=Black%2FGreen'},\n",
            " {'gender': 'uomo',\n",
            "  'id': '9924979',\n",
            "  'type': 'scarpe',\n",
            "  'url': 'https://www.sportler.com/it/p/saluber-running-498-plantare-9924979?filterFarbe=Grey'},\n",
            " {'gender': 'uomo',\n",
            "  'id': '9796512',\n",
            "  'type': 'scarpe',\n",
            "  'url': 'https://www.sportler.com/it/p/sportler-e-gift-card-9796512?filtervariation_unit_1=Voucher'},\n",
            " {'gender': 'uomo',\n",
            "  'id': '4524562',\n",
            "  'type': 'scarpe',\n",
            "  'url': 'https://www.sportler.com/it/p/bootdoc-dma-sup-4524562?filterFarbe=Red'},\n",
            " {'gender': 'uomo',\n",
            "  'id': '10583066',\n",
            "  'type': 'scarpe',\n",
            "  'url': 'https://www.sportler.com/it/p/on-cloud-x-scarpe-running-neutre-uomo-10583066?filterFarbe=Black'},\n",
            " {'gender': 'uomo',\n",
            "  'id': '10583056',\n",
            "  'type': 'scarpe',\n",
            "  'url': 'https://www.sportler.com/it/p/on-cloud-scarpe-natural-running-uomo-10583056?filterFarbe=Black'},\n",
            " {'gender': 'uomo',\n",
            "  'id': '10524414',\n",
            "  'type': 'scarpe',\n",
            "  'url': 'https://www.sportler.com/it/p/ironman-all-sport-soletta-scarpe-10524414?filterFarbe=Blue%2FYellow'},\n",
            " {'gender': 'uomo',\n",
            "  'id': '10580579',\n",
            "  'type': 'scarpe',\n",
            "  'url': 'https://www.sportler.com/it/p/bootdoc-performance-r9-solette-10580579?filterFarbe=Red'},\n",
            " {'gender': 'uomo',\n",
            "  'id': '10510793',\n",
            "  'type': 'scarpe',\n",
            "  'url': 'https://www.sportler.com/it/p/salomon-xa-pro-3d-gtx-scarpe-trail-running-uomo-10510793?filterFarbe=Black'},\n",
            " {'gender': 'uomo',\n",
            "  'id': '10473633',\n",
            "  'type': 'scarpe',\n",
            "  'url': 'https://www.sportler.com/it/p/on-cloudflash-scarpe-da-gara-uomo-10473633?filterFarbe=Yellow%2FWhite'},\n",
            " {'gender': 'uomo',\n",
            "  'id': '10359148',\n",
            "  'type': 'scarpe',\n",
            "  'url': 'https://www.sportler.com/it/p/noene-invisible-solette-10359148?filterFarbe=Black'},\n",
            " {'gender': 'uomo',\n",
            "  'id': '10326865',\n",
            "  'type': 'scarpe',\n",
            "  'url': 'https://www.sportler.com/it/p/la-sportiva-akasha-scarpe-trail-running-uomo-10326865?filterFarbe=Black%2FSulphur'},\n",
            " {'gender': 'uomo',\n",
            "  'id': '10322444',\n",
            "  'type': 'scarpe',\n",
            "  'url': 'https://www.sportler.com/it/p/4id-powerlacez-lacci-scarpe-led-10322444?filterFarbe=Green'},\n",
            " {'gender': 'uomo',\n",
            "  'id': '10204142',\n",
            "  'type': 'scarpe',\n",
            "  'url': 'https://www.sportler.com/it/p/lenz-space-dryer-2.0-elemento-riscaldante-10204142?filterFarbe=Black'},\n",
            " {'gender': 'uomo',\n",
            "  'id': '10173835',\n",
            "  'type': 'scarpe',\n",
            "  'url': 'https://www.sportler.com/it/p/la-sportiva-ultra-raptor-gore-tex-scarpe-trail-running-uomo-10173835?filterFarbe=Grey%2FGreen'},\n",
            " {'gender': 'uomo',\n",
            "  'id': '10107071',\n",
            "  'type': 'scarpe',\n",
            "  'url': 'https://www.sportler.com/it/p/lenz-space-dryer-1.0-accessorio-scarpe-10107071?filterFarbe=Black'},\n",
            " {'gender': 'uomo',\n",
            "  'id': '10079942',\n",
            "  'type': 'scarpe',\n",
            "  'url': 'https://www.sportler.com/it/p/bootdoc-dynamic-5-low-soletta-10079942?filterFarbe=White'},\n",
            " {'gender': 'uomo',\n",
            "  'id': '10079945',\n",
            "  'type': 'scarpe',\n",
            "  'url': 'https://www.sportler.com/it/p/bootdoc-dynamic-5-high-soletta-10079945?filterFarbe=White%2FRed'},\n",
            " {'gender': 'uomo',\n",
            "  'id': '9768522',\n",
            "  'type': 'scarpe',\n",
            "  'url': 'https://www.sportler.com/it/p/holmenkol-sportproof-250-ml-cura-delle-scarpe-9768522?filterGewicht=250+ml'},\n",
            " {'gender': 'uomo',\n",
            "  'id': '10046756',\n",
            "  'type': 'scarpe',\n",
            "  'url': 'https://www.sportler.com/it/p/salomon-quicklace-kit-lacci-di-ricambio-10046756?filterFarbe=White'},\n",
            " {'gender': 'uomo',\n",
            "  'id': '10027431',\n",
            "  'type': 'scarpe',\n",
            "  'url': 'https://www.sportler.com/it/p/bootdoc-stability-7-low-soletta-10027431?filterFarbe=Black%2FGreen'},\n",
            " {'gender': 'uomo',\n",
            "  'id': '9924979',\n",
            "  'type': 'scarpe',\n",
            "  'url': 'https://www.sportler.com/it/p/saluber-running-498-plantare-9924979?filterFarbe=Grey'},\n",
            " {'gender': 'uomo',\n",
            "  'id': '9796512',\n",
            "  'type': 'scarpe',\n",
            "  'url': 'https://www.sportler.com/it/p/sportler-e-gift-card-9796512?filtervariation_unit_1=Voucher'},\n",
            " {'gender': 'uomo',\n",
            "  'id': '4524562',\n",
            "  'type': 'scarpe',\n",
            "  'url': 'https://www.sportler.com/it/p/bootdoc-dma-sup-4524562?filterFarbe=Red'},\n",
            " {'gender': 'uomo',\n",
            "  'id': '10583066',\n",
            "  'type': 'scarpe',\n",
            "  'url': 'https://www.sportler.com/it/p/on-cloud-x-scarpe-running-neutre-uomo-10583066?filterFarbe=Black'},\n",
            " {'gender': 'uomo',\n",
            "  'id': '10583056',\n",
            "  'type': 'scarpe',\n",
            "  'url': 'https://www.sportler.com/it/p/on-cloud-scarpe-natural-running-uomo-10583056?filterFarbe=Black'},\n",
            " {'gender': 'uomo',\n",
            "  'id': '10524414',\n",
            "  'type': 'scarpe',\n",
            "  'url': 'https://www.sportler.com/it/p/ironman-all-sport-soletta-scarpe-10524414?filterFarbe=Blue%2FYellow'},\n",
            " {'gender': 'uomo',\n",
            "  'id': '10580579',\n",
            "  'type': 'scarpe',\n",
            "  'url': 'https://www.sportler.com/it/p/bootdoc-performance-r9-solette-10580579?filterFarbe=Red'},\n",
            " {'gender': 'uomo',\n",
            "  'id': '10510793',\n",
            "  'type': 'scarpe',\n",
            "  'url': 'https://www.sportler.com/it/p/salomon-xa-pro-3d-gtx-scarpe-trail-running-uomo-10510793?filterFarbe=Black'},\n",
            " {'gender': 'uomo',\n",
            "  'id': '10473633',\n",
            "  'type': 'scarpe',\n",
            "  'url': 'https://www.sportler.com/it/p/on-cloudflash-scarpe-da-gara-uomo-10473633?filterFarbe=Yellow%2FWhite'},\n",
            " {'gender': 'uomo',\n",
            "  'id': '10359148',\n",
            "  'type': 'scarpe',\n",
            "  'url': 'https://www.sportler.com/it/p/noene-invisible-solette-10359148?filterFarbe=Black'},\n",
            " {'gender': 'uomo',\n",
            "  'id': '10326865',\n",
            "  'type': 'scarpe',\n",
            "  'url': 'https://www.sportler.com/it/p/la-sportiva-akasha-scarpe-trail-running-uomo-10326865?filterFarbe=Black%2FSulphur'},\n",
            " {'gender': 'uomo',\n",
            "  'id': '10322444',\n",
            "  'type': 'scarpe',\n",
            "  'url': 'https://www.sportler.com/it/p/4id-powerlacez-lacci-scarpe-led-10322444?filterFarbe=Green'},\n",
            " {'gender': 'uomo',\n",
            "  'id': '10204142',\n",
            "  'type': 'scarpe',\n",
            "  'url': 'https://www.sportler.com/it/p/lenz-space-dryer-2.0-elemento-riscaldante-10204142?filterFarbe=Black'},\n",
            " {'gender': 'uomo',\n",
            "  'id': '10173835',\n",
            "  'type': 'scarpe',\n",
            "  'url': 'https://www.sportler.com/it/p/la-sportiva-ultra-raptor-gore-tex-scarpe-trail-running-uomo-10173835?filterFarbe=Grey%2FGreen'},\n",
            " {'gender': 'uomo',\n",
            "  'id': '10107071',\n",
            "  'type': 'scarpe',\n",
            "  'url': 'https://www.sportler.com/it/p/lenz-space-dryer-1.0-accessorio-scarpe-10107071?filterFarbe=Black'},\n",
            " {'gender': 'uomo',\n",
            "  'id': '10079942',\n",
            "  'type': 'scarpe',\n",
            "  'url': 'https://www.sportler.com/it/p/bootdoc-dynamic-5-low-soletta-10079942?filterFarbe=White'},\n",
            " {'gender': 'uomo',\n",
            "  'id': '10079945',\n",
            "  'type': 'scarpe',\n",
            "  'url': 'https://www.sportler.com/it/p/bootdoc-dynamic-5-high-soletta-10079945?filterFarbe=White%2FRed'},\n",
            " {'gender': 'uomo',\n",
            "  'id': '9768522',\n",
            "  'type': 'scarpe',\n",
            "  'url': 'https://www.sportler.com/it/p/holmenkol-sportproof-250-ml-cura-delle-scarpe-9768522?filterGewicht=250+ml'},\n",
            " {'gender': 'uomo',\n",
            "  'id': '10046756',\n",
            "  'type': 'scarpe',\n",
            "  'url': 'https://www.sportler.com/it/p/salomon-quicklace-kit-lacci-di-ricambio-10046756?filterFarbe=White'},\n",
            " {'gender': 'uomo',\n",
            "  'id': '10027431',\n",
            "  'type': 'scarpe',\n",
            "  'url': 'https://www.sportler.com/it/p/bootdoc-stability-7-low-soletta-10027431?filterFarbe=Black%2FGreen'},\n",
            " {'gender': 'uomo',\n",
            "  'id': '9924979',\n",
            "  'type': 'scarpe',\n",
            "  'url': 'https://www.sportler.com/it/p/saluber-running-498-plantare-9924979?filterFarbe=Grey'},\n",
            " {'gender': 'uomo',\n",
            "  'id': '9796512',\n",
            "  'type': 'scarpe',\n",
            "  'url': 'https://www.sportler.com/it/p/sportler-e-gift-card-9796512?filtervariation_unit_1=Voucher'},\n",
            " {'gender': 'uomo',\n",
            "  'id': '4524562',\n",
            "  'type': 'scarpe',\n",
            "  'url': 'https://www.sportler.com/it/p/bootdoc-dma-sup-4524562?filterFarbe=Red'},\n",
            " {'gender': 'donna',\n",
            "  'id': '10892553',\n",
            "  'type': 'scarpe',\n",
            "  'url': 'https://www.sportler.com/it/p/adidas-terrex-agravic-flow-scarpe-trail-running-donna-10892553?filterFarbe=Black'},\n",
            " {'gender': 'donna',\n",
            "  'id': '10892551',\n",
            "  'type': 'scarpe',\n",
            "  'url': 'https://www.sportler.com/it/p/adidas-terrex-agravic-boa-scarpe-trail-running-donna-10892551?filterFarbe=Red%2FViolet'},\n",
            " {'gender': 'donna',\n",
            "  'id': '10898645',\n",
            "  'type': 'scarpe',\n",
            "  'url': 'https://www.sportler.com/it/p/asics-gel-pulse-12-scarpe-running-neutre-donna-10898645?filterFarbe=Blue%2FOrange'},\n",
            " {'gender': 'donna',\n",
            "  'id': '10893272',\n",
            "  'type': 'scarpe',\n",
            "  'url': 'https://www.sportler.com/it/p/brooks-ghost-13-scarpe-running-neutre-donna-10893272?filterFarbe=Black%2FWhite'},\n",
            " {'gender': 'donna',\n",
            "  'id': '10905325',\n",
            "  'type': 'scarpe',\n",
            "  'url': 'https://www.sportler.com/it/p/hoka-clifton-7-scarpe-running-neutre-donna-10905325?filterFarbe=Blue%2FOrange'},\n",
            " {'gender': 'donna',\n",
            "  'id': '10888552',\n",
            "  'type': 'scarpe',\n",
            "  'url': 'https://www.sportler.com/it/p/hoka-speedgoat-4-scarpe-trail-running-donna-10888552?filterFarbe=Light+Blue%2FYellow'},\n",
            " {'gender': 'donna',\n",
            "  'id': '10886629',\n",
            "  'type': 'scarpe',\n",
            "  'url': 'https://www.sportler.com/it/p/nike-air-zoom-pegasus-37-scarpe-running-neutre-donna-10886629?filterFarbe=Pink'},\n",
            " {'gender': 'donna',\n",
            "  'id': '10886360',\n",
            "  'type': 'scarpe',\n",
            "  'url': 'https://www.sportler.com/it/p/nike-wildhorse-6-scarpe-trail-running-donna-10886360?filterFarbe=Black'},\n",
            " {'gender': 'donna',\n",
            "  'id': '10886349',\n",
            "  'type': 'scarpe',\n",
            "  'url': 'https://www.sportler.com/it/p/nike-react-miler-running-scarpe-running-neutre-donna-10886349?filterFarbe=White'},\n",
            " {'gender': 'donna',\n",
            "  'id': '10886633',\n",
            "  'type': 'scarpe',\n",
            "  'url': 'https://www.sportler.com/it/p/nike-air-zoom-pegasus-37-scarpe-running-neutre-donna-10886633?filterFarbe=Rose'},\n",
            " {'gender': 'donna',\n",
            "  'id': '10886646',\n",
            "  'type': 'scarpe',\n",
            "  'url': 'https://www.sportler.com/it/p/nike-zoom-fly-3-scarpe-running-performance-donna-10886646?filterFarbe=Grey'},\n",
            " {'gender': 'donna',\n",
            "  'id': '10879783',\n",
            "  'type': 'scarpe',\n",
            "  'url': 'https://www.sportler.com/it/p/nike-pegasus-trail-2-scarpe-trail-running-donna-10879783?filterFarbe=Yellow%2FWhite'},\n",
            " {'gender': 'donna',\n",
            "  'id': '10886334',\n",
            "  'type': 'scarpe',\n",
            "  'url': 'https://www.sportler.com/it/p/nike-air-zoom-terra-kiger-6-scarpe-trail-running-donna-10886334?filterFarbe=Grey'},\n",
            " {'gender': 'donna',\n",
            "  'id': '10910612',\n",
            "  'type': 'scarpe',\n",
            "  'url': 'https://www.sportler.com/it/p/new-balance-fresh-foam-880-v10-scarpe-running-neutre-donna-10910612?filterFarbe=Blue'},\n",
            " {'gender': 'donna',\n",
            "  'id': '10888551',\n",
            "  'type': 'scarpe',\n",
            "  'url': 'https://www.sportler.com/it/p/new-balance-fresh-foam-1080v10-scarpe-running-neutre-donna-10888551?filterFarbe=Grey%2FViolet'},\n",
            " {'gender': 'donna',\n",
            "  'id': '10921323',\n",
            "  'type': 'scarpe',\n",
            "  'url': 'https://www.sportler.com/it/p/asics-gel-fujitrabuco-8-gtx-scarpe-trail-running-donna-10921323?filterFarbe=Black%2FGrey%2FBlue'},\n",
            " {'gender': 'donna',\n",
            "  'id': '10856840',\n",
            "  'type': 'scarpe',\n",
            "  'url': 'https://www.sportler.com/it/p/scarpa-spin-rs-scarpe-trail-running-donna-10856840?filterFarbe=Black%2FLight+Blue'},\n",
            " {'gender': 'donna',\n",
            "  'id': '10886957',\n",
            "  'type': 'scarpe',\n",
            "  'url': 'https://www.sportler.com/it/p/brooks-adrenaline-gts-20-scarpe-running-stabili-donna-10886957?filterFarbe=Black%2FWhite'},\n",
            " {'gender': 'donna',\n",
            "  'id': '10886964',\n",
            "  'type': 'scarpe',\n",
            "  'url': 'https://www.sportler.com/it/p/brooks-adrenaline-gts-20-scarpe-running-stabili-donna-10886964?filterFarbe=Blue'},\n",
            " {'gender': 'donna',\n",
            "  'id': '10886949',\n",
            "  'type': 'scarpe',\n",
            "  'url': 'https://www.sportler.com/it/p/brooks-glycerin-18-scarpe-running-neutre-donna-10886949?filterFarbe=Light+Blue'},\n",
            " {'gender': 'donna',\n",
            "  'id': '10888543',\n",
            "  'type': 'scarpe',\n",
            "  'url': 'https://www.sportler.com/it/p/brooks-trascend-7-scarpe-running-stabili-donna-10888543?filterFarbe=Black%2FBlue'},\n",
            " {'gender': 'donna',\n",
            "  'id': '10905316',\n",
            "  'type': 'scarpe',\n",
            "  'url': 'https://www.sportler.com/it/p/brooks-levitate-3-scarpe-running-neutre-donna-10905316?filterFarbe=Black%2FGrey'},\n",
            " {'gender': 'donna',\n",
            "  'id': '10905311',\n",
            "  'type': 'scarpe',\n",
            "  'url': 'https://www.sportler.com/it/p/brooks-ghost-12-scarpe-running-neutre-donna-10905311?filterFarbe=Blue'},\n",
            " {'gender': 'donna',\n",
            "  'id': '10905314',\n",
            "  'type': 'scarpe',\n",
            "  'url': 'https://www.sportler.com/it/p/brooks-cascadia-14-scarpe-trail-running-donna-10905314?filterFarbe=Grey'},\n",
            " {'gender': 'donna',\n",
            "  'id': '10876857',\n",
            "  'type': 'scarpe',\n",
            "  'url': 'https://www.sportler.com/it/p/nike-react-miler-running-scarpe-running-neutre-donna-10876857?filterFarbe=Rose'},\n",
            " {'gender': 'donna',\n",
            "  'id': '10879146',\n",
            "  'type': 'scarpe',\n",
            "  'url': 'https://www.sportler.com/it/p/nike-air-zoom-pegasus-37-scarpe-running-neutre-donna-10879146?filterFarbe=Black'},\n",
            " {'gender': 'donna',\n",
            "  'id': '10879148',\n",
            "  'type': 'scarpe',\n",
            "  'url': 'https://www.sportler.com/it/p/nike-air-zoom-pegasus-37-scarpe-running-neutre-donna-10879148?filterFarbe=Light+Orange'},\n",
            " {'gender': 'donna',\n",
            "  'id': '10845568',\n",
            "  'type': 'scarpe',\n",
            "  'url': 'https://www.sportler.com/it/p/la-sportiva-jackal-scarpe-trail-running-donna-10845568?filterFarbe=Pink'},\n",
            " {'gender': 'donna',\n",
            "  'id': '10850897',\n",
            "  'type': 'scarpe',\n",
            "  'url': 'https://www.sportler.com/it/p/la-sportiva-jackal-scarpe-trail-running-donna-10850897?filterFarbe=Light+Blue'},\n",
            " {'gender': 'donna',\n",
            "  'id': '10856852',\n",
            "  'type': 'scarpe',\n",
            "  'url': 'https://www.sportler.com/it/p/scarpa-spin-ultra-scarpe-trail-running-donna-10856852?filterFarbe=Grey%2FLight+Blue'},\n",
            " {'gender': 'donna',\n",
            "  'id': '10837662',\n",
            "  'type': 'scarpe',\n",
            "  'url': 'https://www.sportler.com/it/p/brooks-trascend-7-scarpe-running-stabili-donna-10837662?filterFarbe=Grey%2FRed'},\n",
            " {'gender': 'donna',\n",
            "  'id': '10863819',\n",
            "  'type': 'scarpe',\n",
            "  'url': 'https://www.sportler.com/it/p/new-balance-fresh-foam-deejay-ten-scarpe-running-neutre-uomo-10863819?filterFarbe=White%2FRed'},\n",
            " {'gender': 'donna',\n",
            "  'id': '10839982',\n",
            "  'type': 'scarpe',\n",
            "  'url': 'https://www.sportler.com/it/p/new-balance-london-marathon-edition-1080v10-scarpe-running-neutre-donna-10839982?filterFarbe=Grey%2FRed'},\n",
            " {'gender': 'donna',\n",
            "  'id': '10839981',\n",
            "  'type': 'scarpe',\n",
            "  'url': 'https://www.sportler.com/it/p/new-balance-fresh-foam-tempo-scarpe-running-neutre-donna-10839981?filterFarbe=Blue'},\n",
            " {'gender': 'donna',\n",
            "  'id': '10845537',\n",
            "  'type': 'scarpe',\n",
            "  'url': 'https://www.sportler.com/it/p/salomon-supercross-gtx-scarpe-trail-running-donna-10845537?filterFarbe=Green'},\n",
            " {'gender': 'donna',\n",
            "  'id': '10845562',\n",
            "  'type': 'scarpe',\n",
            "  'url': 'https://www.sportler.com/it/p/la-sportiva-ultra-raptor-gore-tex-scarpe-trailrunning-donna-10845562?filterFarbe=Light+Blue%2FGrey'},\n",
            " {'gender': 'donna',\n",
            "  'id': '10839362',\n",
            "  'type': 'scarpe',\n",
            "  'url': 'https://www.sportler.com/it/p/new-balance-880v9-scarpe-running-neutre-donna-10839362?filterFarbe=Pink'},\n",
            " {'gender': 'donna',\n",
            "  'id': '10829831',\n",
            "  'type': 'scarpe',\n",
            "  'url': 'https://www.sportler.com/it/p/nike-joyride-dual-run-scarpe-running-neutre-donna-10829831?filterFarbe=Violet%2FBlack'},\n",
            " {'gender': 'donna',\n",
            "  'id': '10838979',\n",
            "  'type': 'scarpe',\n",
            "  'url': 'https://www.sportler.com/it/p/salomon-sonic-3-balance-scarpe-running-neutre-donna-10838979?filterFarbe=White'},\n",
            " {'gender': 'donna',\n",
            "  'id': '10838982',\n",
            "  'type': 'scarpe',\n",
            "  'url': 'https://www.sportler.com/it/p/salomon-sonic-3-accelerate-scarpe-da-gara-donna-10838982?filterFarbe=White'},\n",
            " {'gender': 'donna',\n",
            "  'id': '10829835',\n",
            "  'type': 'scarpe',\n",
            "  'url': 'https://www.sportler.com/it/p/nike-renew-run-scarpe-jogging-donna-10829835?filterFarbe=Black%2FPink'},\n",
            " {'gender': 'donna',\n",
            "  'id': '10837648',\n",
            "  'type': 'scarpe',\n",
            "  'url': 'https://www.sportler.com/it/p/adidas-sl20-scarpe-running-neutre-donna-10837648?filterFarbe=Black'},\n",
            " {'gender': 'donna',\n",
            "  'id': '10839480',\n",
            "  'type': 'scarpe',\n",
            "  'url': 'https://www.sportler.com/it/p/new-balance-fresh-foam-heirro-v5-scarpe-trail-running-donna-10839480?filterFarbe=Black%2FViolet'},\n",
            " {'gender': 'donna',\n",
            "  'id': '10839366',\n",
            "  'type': 'scarpe',\n",
            "  'url': 'https://www.sportler.com/it/p/new-balance-fresh-foam-1080v10-w-scarpe-running-neutre-donna-10839366?filterFarbe=Light+Blue'},\n",
            " {'gender': 'donna',\n",
            "  'id': '10848543',\n",
            "  'type': 'scarpe',\n",
            "  'url': 'https://www.sportler.com/it/p/dynafit-feline-sl-scarpe-trail-running-donna-10848543?filterFarbe=Black%2FPink'},\n",
            " {'gender': 'donna',\n",
            "  'id': '10845560',\n",
            "  'type': 'scarpe',\n",
            "  'url': 'https://www.sportler.com/it/p/salewa-dropline-scarpe-trail-running-donna-10845560?filterFarbe=Green%2FRed%2FYellow'},\n",
            " {'gender': 'donna',\n",
            "  'id': '10829840',\n",
            "  'type': 'scarpe',\n",
            "  'url': 'https://www.sportler.com/it/p/nike-air-zoom-pegasus-36-scarpe-running-neutre-donna-10829840?filterFarbe=Red%2FWhite'},\n",
            " {'gender': 'donna',\n",
            "  'id': '10829836',\n",
            "  'type': 'scarpe',\n",
            "  'url': 'https://www.sportler.com/it/p/nike-air-zoom-vomero-14-scarpe-running-neutre-donna-10829836?filterFarbe=White%2FRed'},\n",
            " {'gender': 'donna',\n",
            "  'id': '10848239',\n",
            "  'type': 'scarpe',\n",
            "  'url': 'https://www.sportler.com/it/p/la-sportiva-mutant-scarpe-trail-running-donna-10848239?filterFarbe=Red%2FGrey'},\n",
            " {'gender': 'donna',\n",
            "  'id': '10838973',\n",
            "  'type': 'scarpe',\n",
            "  'url': 'https://www.sportler.com/it/p/salomon-sense-ride-3-scarpe-trail-running-donna-10838973?filterFarbe=Rose%2FWhite'},\n",
            " {'gender': 'donna',\n",
            "  'id': '10838965',\n",
            "  'type': 'scarpe',\n",
            "  'url': 'https://www.sportler.com/it/p/salomon-alphacross-scarpe-trail-running-donna-10838965?filterFarbe=Black%2FWhite'},\n",
            " {'gender': 'donna',\n",
            "  'id': '10838967',\n",
            "  'type': 'scarpe',\n",
            "  'url': 'https://www.sportler.com/it/p/salomon-alphacross-scarpe-trail-running-donna-10838967?filterFarbe=White'},\n",
            " {'gender': 'donna',\n",
            "  'id': '10838975',\n",
            "  'type': 'scarpe',\n",
            "  'url': 'https://www.sportler.com/it/p/salomon-sense-flow-scarpe-trail-running-donna-10838975?filterFarbe=Black%2FWhite'},\n",
            " {'gender': 'donna',\n",
            "  'id': '10838960',\n",
            "  'type': 'scarpe',\n",
            "  'url': 'https://www.sportler.com/it/p/salomon-speedcross-5-scarpe-trail-running-donna-10838960?filterFarbe=White%2FLight+Blue'},\n",
            " {'gender': 'donna',\n",
            "  'id': '10838986',\n",
            "  'type': 'scarpe',\n",
            "  'url': 'https://www.sportler.com/it/p/salomon-sonic-3-confidence-scarpe-running-neutre-donna-10838986?filterFarbe=White'},\n",
            " {'gender': 'donna',\n",
            "  'id': '10838970',\n",
            "  'type': 'scarpe',\n",
            "  'url': 'https://www.sportler.com/it/p/salomon-ultra-pro-scarpe-trail-running-donna-10838970?filterFarbe=Light+Blue'},\n",
            " {'gender': 'donna',\n",
            "  'id': '10838959',\n",
            "  'type': 'scarpe',\n",
            "  'url': 'https://www.sportler.com/it/p/salomon-speedcross-5-scarpe-trail-running-donna-10838959?filterFarbe=Light+Green'},\n",
            " {'gender': 'donna',\n",
            "  'id': '10839271',\n",
            "  'type': 'scarpe',\n",
            "  'url': 'https://www.sportler.com/it/p/la-sportiva-akasha-scarpe-trail-running-donna-10839271?filterFarbe=Red%2FBlue'},\n",
            " {'gender': 'donna',\n",
            "  'id': '10829832',\n",
            "  'type': 'scarpe',\n",
            "  'url': 'https://www.sportler.com/it/p/nike-renew-run-scarpe-jogging-donna-10829832?filterFarbe=Rose'},\n",
            " {'gender': 'donna',\n",
            "  'id': '10869445',\n",
            "  'type': 'scarpe',\n",
            "  'url': 'https://www.sportler.com/it/p/under-armour-ua-charged-pursuit-2-scarpe-running-neutre-donna-10869445?filterFarbe=Black'},\n",
            " {'gender': 'donna',\n",
            "  'id': '10832042',\n",
            "  'type': 'scarpe',\n",
            "  'url': 'https://www.sportler.com/it/p/adidas-solar-boost-19-scarpe-running-neutre-donna-10832042?filterFarbe=Orange'},\n",
            " {'gender': 'donna',\n",
            "  'id': '10839358',\n",
            "  'type': 'scarpe',\n",
            "  'url': 'https://www.sportler.com/it/p/la-sportiva-helios-iii-scarpe-trail-running-donna-10839358?filterFarbe=Light+Blue'},\n",
            " {'gender': 'donna',\n",
            "  'id': '10839274',\n",
            "  'type': 'scarpe',\n",
            "  'url': 'https://www.sportler.com/it/p/la-sportiva-bushido-ii-scarpa-trail-running-donna-10839274?filterFarbe=Light+Blue'},\n",
            " {'gender': 'donna',\n",
            "  'id': '10829842',\n",
            "  'type': 'scarpe',\n",
            "  'url': 'https://www.sportler.com/it/p/nike-air-zoom-winflo-6-scarpe-running-neutre-donna-10829842?filterFarbe=Grey%2FRed'},\n",
            " {'gender': 'donna',\n",
            "  'id': '10829851',\n",
            "  'type': 'scarpe',\n",
            "  'url': 'https://www.sportler.com/it/p/nike-joyride-run-flyknit-scarpe-running-neutre-donna-10829851?filterFarbe=White%2FRed'},\n",
            " {'gender': 'donna',\n",
            "  'id': '10841028',\n",
            "  'type': 'scarpe',\n",
            "  'url': 'https://www.sportler.com/it/p/nike-joyride-kinetic-running-scarpe-running-neutre-donna-10841028?filterFarbe=Black'},\n",
            " {'gender': 'donna',\n",
            "  'id': '10829849',\n",
            "  'type': 'scarpe',\n",
            "  'url': 'https://www.sportler.com/it/p/nike-zoom-fly-3-scarpe-running-performance-donna-10829849?filterFarbe=White%2FRed'},\n",
            " {'gender': 'donna',\n",
            "  'id': '10829856',\n",
            "  'type': 'scarpe',\n",
            "  'url': 'https://www.sportler.com/it/p/nike-zoom-pegasus-turbo-2-scarpe-running-neutre-donna-10829856?filterFarbe=White%2FRed'},\n",
            " {'gender': 'donna',\n",
            "  'id': '10829829',\n",
            "  'type': 'scarpe',\n",
            "  'url': 'https://www.sportler.com/it/p/nike-joyride-dual-run-scarpe-running-neutre-donna-10829829?filterFarbe=Black%2FWhite'},\n",
            " {'gender': 'donna',\n",
            "  'id': '10829855',\n",
            "  'type': 'scarpe',\n",
            "  'url': 'https://www.sportler.com/it/p/nike-air-zoom-pegasus-36-premium-scarpe-running-neutre-donna-10829855?filterFarbe=White'},\n",
            " {'gender': 'donna',\n",
            "  'id': '10829857',\n",
            "  'type': 'scarpe',\n",
            "  'url': 'https://www.sportler.com/it/p/nike-react-infinity-run-flyknit-scarpe-running-neutre-donna-10829857?filterFarbe=White%2FPink'},\n",
            " {'gender': 'donna',\n",
            "  'id': '10840904',\n",
            "  'type': 'scarpe',\n",
            "  'url': 'https://www.sportler.com/it/p/under-armour-hovr-machina-scarpe-running-neutre-donna-10840904?filterFarbe=Light+Green%2FOrange'},\n",
            " {'gender': 'donna',\n",
            "  'id': '10840905',\n",
            "  'type': 'scarpe',\n",
            "  'url': 'https://www.sportler.com/it/p/under-armour-hovr-infinite-2-scarpe-running-neutre-donna-10840905?filterFarbe=Black'},\n",
            " {'gender': 'donna',\n",
            "  'id': '10833091',\n",
            "  'type': 'scarpe',\n",
            "  'url': 'https://www.sportler.com/it/p/brooks-ghost-12-scarpe-running-neutre-donna-10833091?filterFarbe=Grey%2FOrange'},\n",
            " {'gender': 'donna',\n",
            "  'id': '10833096',\n",
            "  'type': 'scarpe',\n",
            "  'url': 'https://www.sportler.com/it/p/brooks-cascadia-14-scarpe-trail-running-donna-10833096?filterFarbe=Blue%2FPink'},\n",
            " {'gender': 'donna',\n",
            "  'id': '10833075',\n",
            "  'type': 'scarpe',\n",
            "  'url': 'https://www.sportler.com/it/p/brooks-glycerin-17-scarpe-running-neutre-donna-10833075?filterFarbe=Blue'},\n",
            " {'gender': 'donna',\n",
            "  'id': '10833083',\n",
            "  'type': 'scarpe',\n",
            "  'url': 'https://www.sportler.com/it/p/brooks-glycerin-17-scarpe-running-neutre-donna-10833083?filterFarbe=Pink%2FBlue'},\n",
            " {'gender': 'donna',\n",
            "  'id': '10829837',\n",
            "  'type': 'scarpe',\n",
            "  'url': 'https://www.sportler.com/it/p/nike-air-zoom-pegasus-36-scarpe-running-neutre-donna-10829837?filterFarbe=White%2FLight+Green'},\n",
            " {'gender': 'donna',\n",
            "  'id': '10837113',\n",
            "  'type': 'scarpe',\n",
            "  'url': 'https://www.sportler.com/it/p/nike-air-zoom-pegasus-36-trail-scarpe-trail-running-donna-10837113?filterFarbe=Dark+Red'},\n",
            " {'gender': 'donna',\n",
            "  'id': '10837111',\n",
            "  'type': 'scarpe',\n",
            "  'url': 'https://www.sportler.com/it/p/nike-air-zoom-vomero-14-scarpe-running-neutre-donna-10837111?filterFarbe=Rose'},\n",
            " {'gender': 'donna',\n",
            "  'id': '10839489',\n",
            "  'type': 'scarpe',\n",
            "  'url': 'https://www.sportler.com/it/p/hoka-rincon-scarpe-running-neutre-donna-10839489?filterFarbe=Orange%2FPink'},\n",
            " {'gender': 'donna',\n",
            "  'id': '10839494',\n",
            "  'type': 'scarpe',\n",
            "  'url': 'https://www.sportler.com/it/p/hoka-clifton-6-scarpe-running-neutre-donna-10839494?filterFarbe=Grey%2FOrange'},\n",
            " {'gender': 'donna',\n",
            "  'id': '10839491',\n",
            "  'type': 'scarpe',\n",
            "  'url': 'https://www.sportler.com/it/p/hoka-bondi-6-scarpe-running-neutre-donna-10839491?filterFarbe=Blue'},\n",
            " {'gender': 'donna',\n",
            "  'id': '10836343',\n",
            "  'type': 'scarpe',\n",
            "  'url': 'https://www.sportler.com/it/p/brooks-adrenaline-gts-20-scarpe-running-stabili-donna-10836343?filterFarbe=Light+Blue'},\n",
            " {'gender': 'donna',\n",
            "  'id': '10832047',\n",
            "  'type': 'scarpe',\n",
            "  'url': 'https://www.sportler.com/it/p/adidas-adizero-boston-8-scarpe-da-gara-donna-10832047?filterFarbe=Orange'},\n",
            " {'gender': 'donna',\n",
            "  'id': '10833064',\n",
            "  'type': 'scarpe',\n",
            "  'url': 'https://www.sportler.com/it/p/asics-gt-1000-9-scarpe-running-stabili-donna-10833064?filterFarbe=Dark+Blue'},\n",
            " {'gender': 'donna',\n",
            "  'id': '10833063',\n",
            "  'type': 'scarpe',\n",
            "  'url': 'https://www.sportler.com/it/p/asics-gt-2000-8-scarpe-running-stabili-donna-10833063?filterFarbe=Red'},\n",
            " {'gender': 'donna',\n",
            "  'id': '10833066',\n",
            "  'type': 'scarpe',\n",
            "  'url': 'https://www.sportler.com/it/p/asics-gel-cumulus-21-scarpe-running-neutre-donna-10833066?filterFarbe=Rose'},\n",
            " {'gender': 'donna',\n",
            "  'id': '10833069',\n",
            "  'type': 'scarpe',\n",
            "  'url': 'https://www.sportler.com/it/p/asics-gel-fujitrabuco-8-scarpe-trail-running-donna-10833069?filterFarbe=Green%2FBlack'},\n",
            " {'gender': 'donna',\n",
            "  'id': '10833061',\n",
            "  'type': 'scarpe',\n",
            "  'url': 'https://www.sportler.com/it/p/asics-gel-kayano-26-scarpe-running-stabili-donna-10833061?filterFarbe=Pink'},\n",
            " {'gender': 'donna',\n",
            "  'id': '10833065',\n",
            "  'type': 'scarpe',\n",
            "  'url': 'https://www.sportler.com/it/p/asics-gel-nimbus-22-scarpe-running-neutre-donna-10833065?filterFarbe=Black%2FWhite'},\n",
            " {'gender': 'donna',\n",
            "  'id': '10829838',\n",
            "  'type': 'scarpe',\n",
            "  'url': 'https://www.sportler.com/it/p/nike-air-zoom-pegasus-36-scarpe-running-neutre-donna-10829838?filterFarbe=Dust+Rose'},\n",
            " {'gender': 'donna',\n",
            "  'id': '10837115',\n",
            "  'type': 'scarpe',\n",
            "  'url': 'https://www.sportler.com/it/p/nike-air-zoom-structure-22-scarpe-running-stabili-donna-10837115?filterFarbe=Rose'},\n",
            " {'gender': 'donna',\n",
            "  'id': '10829853',\n",
            "  'type': 'scarpe',\n",
            "  'url': 'https://www.sportler.com/it/p/nike-joyride-run-flyknit-scarpe-running-neutre-donna-10829853?filterFarbe=Blue%2FBlack'},\n",
            " {'gender': 'donna',\n",
            "  'id': '10851485',\n",
            "  'type': 'scarpe',\n",
            "  'url': 'https://www.sportler.com/it/p/salewa-lite-train-scarpe-trail-running-donna-10851485?filterFarbe=Dark+Blue%2FLight+Blue'},\n",
            " {'gender': 'donna',\n",
            "  'id': '10836342',\n",
            "  'type': 'scarpe',\n",
            "  'url': 'https://www.sportler.com/it/p/brooks-adrenaline-gts-20-scarpe-running-stabili-donna-10836342?filterFarbe=Black'},\n",
            " {'gender': 'donna',\n",
            "  'id': '10836339',\n",
            "  'type': 'scarpe',\n",
            "  'url': 'https://www.sportler.com/it/p/adidas-ultraboost-20-scarpe-running-neutre-donna-10836339?filterFarbe=Grey'},\n",
            " {'gender': 'donna',\n",
            "  'id': '10845536',\n",
            "  'type': 'scarpe',\n",
            "  'url': 'https://www.sportler.com/it/p/salomon-xa-pro-3d-gtx-scarpe-trail-running-donna-10845536?filterFarbe=Light+Blue'},\n",
            " {'gender': 'donna',\n",
            "  'id': '10820551',\n",
            "  'type': 'scarpe',\n",
            "  'url': 'https://www.sportler.com/it/p/nike-joyride-run-flyknit-scarpe-running-neutre-donna-10820551?filterFarbe=Black'},\n",
            " {'gender': 'donna',\n",
            "  'id': '10821255',\n",
            "  'type': 'scarpe',\n",
            "  'url': 'https://www.sportler.com/it/p/nike-joyride-dual-run-scarpe-running-neutre-donna-10821255?filterFarbe=Black'},\n",
            " {'gender': 'donna',\n",
            "  'id': '10844744',\n",
            "  'type': 'scarpe',\n",
            "  'url': 'https://www.sportler.com/it/p/on-cloudventure-waterproof-scarpe-trail-running-donna-10844744?filterFarbe=Black'},\n",
            " {'gender': 'donna',\n",
            "  'id': '10837474',\n",
            "  'type': 'scarpe',\n",
            "  'url': 'https://www.sportler.com/it/p/on-cloudflow-scarpe-running-da-gara-donna-10837474?filterFarbe=Grey%2FRose'},\n",
            " {'gender': 'donna',\n",
            "  'id': '10821253',\n",
            "  'type': 'scarpe',\n",
            "  'url': 'https://www.sportler.com/it/p/nike-zoom-fly-3-premium-print-running-scarpe-da-gara-donna-10821253?filterFarbe=Beige%2FDark+Red'},\n",
            " {'gender': 'donna',\n",
            "  'id': '10820561',\n",
            "  'type': 'scarpe',\n",
            "  'url': 'https://www.sportler.com/it/p/nike-zoom-pegasus-turbo-2-aw-scarpe-running-neutre-donna-10820561?filterFarbe=White'},\n",
            " {'gender': 'donna',\n",
            "  'id': '10820556',\n",
            "  'type': 'scarpe',\n",
            "  'url': 'https://www.sportler.com/it/p/nike-epic-react-flyknit-2-scarpe-running-neutre-donna-10820556?filterFarbe=Orange'},\n",
            " {'gender': 'donna',\n",
            "  'id': '10820563',\n",
            "  'type': 'scarpe',\n",
            "  'url': 'https://www.sportler.com/it/p/nike-air-zoom-vomero-14-scarpe-running-neutre-donna-10820563?filterFarbe=Pink'},\n",
            " {'gender': 'donna',\n",
            "  'id': '10821251',\n",
            "  'type': 'scarpe',\n",
            "  'url': 'https://www.sportler.com/it/p/nike-odyssey-react-2-shield-scarpe-running-neutre-donna-10821251?filterFarbe=Black%2FViolet'},\n",
            " {'gender': 'donna',\n",
            "  'id': '10820577',\n",
            "  'type': 'scarpe',\n",
            "  'url': 'https://www.sportler.com/it/p/nike-air-zoom-pegasus-36-shield-scarpe-running-neutre-donna-10820577?filterFarbe=Pink'},\n",
            " {'gender': 'donna',\n",
            "  'id': '10783029',\n",
            "  'type': 'scarpe',\n",
            "  'url': 'https://www.sportler.com/it/p/nike-zoom-pegasus-turbo-2-scarpe-running-neutre-donna-10783029?filterFarbe=Pink'},\n",
            " {'gender': 'donna',\n",
            "  'id': '10822517',\n",
            "  'type': 'scarpe',\n",
            "  'url': 'https://www.sportler.com/it/p/asics-glideride-scarpe-running-neutre-donna-10822517?filterFarbe=Pink'},\n",
            " {'gender': 'donna',\n",
            "  'id': '10832031',\n",
            "  'type': 'scarpe',\n",
            "  'url': 'https://www.sportler.com/it/p/salomon-speedcross-5-gtx-scarpe-trail-running-donna-10832031?filterFarbe=Light+Blue'},\n",
            " {'gender': 'donna',\n",
            "  'id': '10820558',\n",
            "  'type': 'scarpe',\n",
            "  'url': 'https://www.sportler.com/it/p/nike-odyssey-react-2-shield-scarpe-running-neutre-donna-10820558?filterFarbe=Black'},\n",
            " {'gender': 'donna',\n",
            "  'id': '10820579',\n",
            "  'type': 'scarpe',\n",
            "  'url': 'https://www.sportler.com/it/p/nike-zoom-pegasus-36-trail-gtx-scarpe-trail-running-donna-10820579?filterFarbe=Black'},\n",
            " {'gender': 'donna',\n",
            "  'id': '10820575',\n",
            "  'type': 'scarpe',\n",
            "  'url': 'https://www.sportler.com/it/p/nike-air-zoom-pegasus-36-shield-scarpe-running-neutre-donna-10820575?filterFarbe=Grey%2FBlack'},\n",
            " {'gender': 'donna',\n",
            "  'id': '10820560',\n",
            "  'type': 'scarpe',\n",
            "  'url': 'https://www.sportler.com/it/p/nike-odyssey-react-2-shield-scarpe-running-neutre-donna-10820560?filterFarbe=Black%2FGrey'},\n",
            " {'gender': 'donna',\n",
            "  'id': '10820553',\n",
            "  'type': 'scarpe',\n",
            "  'url': 'https://www.sportler.com/it/p/nike-joyride-run-flyknit-scarpe-running-neutre-donna-10820553?filterFarbe=Dark+Pink'},\n",
            " {'gender': 'donna',\n",
            "  'id': '10829022',\n",
            "  'type': 'scarpe',\n",
            "  'url': 'https://www.sportler.com/it/p/under-armour-charged-bandit-5-scarpe-running-neutre-donna-10829022?filterFarbe=Light+Blue'},\n",
            " {'gender': 'donna',\n",
            "  'id': '10781511',\n",
            "  'type': 'scarpe',\n",
            "  'url': 'https://www.sportler.com/it/p/nike-zoom-pegasus-turbo-2-scarpe-running-neutre-donna-10781511?filterFarbe=Black'},\n",
            " {'gender': 'donna',\n",
            "  'id': '10796041',\n",
            "  'type': 'scarpe',\n",
            "  'url': 'https://www.sportler.com/it/p/salomon-supercross-scarpe-trail-running-donna-10796041?filterFarbe=Blue'},\n",
            " {'gender': 'donna',\n",
            "  'id': '10796622',\n",
            "  'type': 'scarpe',\n",
            "  'url': 'https://www.sportler.com/it/p/la-sportiva-kaptiva-gtx-scarpe-trail-running-donna-10796622?filterFarbe=Light+Blue%2FPink'},\n",
            " {'gender': 'donna',\n",
            "  'id': '10781498',\n",
            "  'type': 'scarpe',\n",
            "  'url': 'https://www.sportler.com/it/p/nike-epic-react-flyknit-2-scarpe-running-neutre-donna-10781498?filterFarbe=Black'},\n",
            " {'gender': 'donna',\n",
            "  'id': '10781516',\n",
            "  'type': 'scarpe',\n",
            "  'url': 'https://www.sportler.com/it/p/nike-quest-2-scarpe-jogging-donna-10781516?filterFarbe=Rose'},\n",
            " {'gender': 'donna',\n",
            "  'id': '10781489',\n",
            "  'type': 'scarpe',\n",
            "  'url': 'https://www.sportler.com/it/p/nike-air-zoom-pegasus-36-scarpe-running-neutre-donna-10781489?filterFarbe=Rosa'},\n",
            " {'gender': 'donna',\n",
            "  'id': '10781507',\n",
            "  'type': 'scarpe',\n",
            "  'url': 'https://www.sportler.com/it/p/nike-air-zoom-vomero-14-scarpe-running-neutre-donna-10781507?filterFarbe=Pink'},\n",
            " {'gender': 'donna',\n",
            "  'id': '10781499',\n",
            "  'type': 'scarpe',\n",
            "  'url': 'https://www.sportler.com/it/p/nike-epic-react-flyknit-2-scarpe-running-neutre-donna-10781499?filterFarbe=Pink'},\n",
            " {'gender': 'donna',\n",
            "  'id': '10781490',\n",
            "  'type': 'scarpe',\n",
            "  'url': 'https://www.sportler.com/it/p/nike-air-zoom-winflo-6-scarpe-running-neutre-donna-10781490?filterFarbe=Black'},\n",
            " {'gender': 'donna',\n",
            "  'id': '10781504',\n",
            "  'type': 'scarpe',\n",
            "  'url': 'https://www.sportler.com/it/p/nike-air-zoom-structure-22-scarpe-running-stabili-donna-10781504?filterFarbe=Rose'},\n",
            " {'gender': 'donna',\n",
            "  'id': '10783040',\n",
            "  'type': 'scarpe',\n",
            "  'url': 'https://www.sportler.com/it/p/salomon-alphacross-gtx-scarpe-trail-running-donna-10783040?filterFarbe=Blue%2FWhite'},\n",
            " {'gender': 'donna',\n",
            "  'id': '10783021',\n",
            "  'type': 'scarpe',\n",
            "  'url': 'https://www.sportler.com/it/p/brooks-ghost-12-gtx-scarpe-running-neutre-donna-10783021?filterFarbe=Black%2FGreen'},\n",
            " {'gender': 'donna',\n",
            "  'id': '10781488',\n",
            "  'type': 'scarpe',\n",
            "  'url': 'https://www.sportler.com/it/p/nike-zoom-fly-3-rise-scarpe-da-gara-donna-10781488?filterFarbe=Grey'},\n",
            " {'gender': 'donna',\n",
            "  'id': '10782488',\n",
            "  'type': 'scarpe',\n",
            "  'url': 'https://www.sportler.com/it/p/new-balance-880v9-scarpe-running-neutre-donna-10782488?filterFarbe=Blue'},\n",
            " {'gender': 'donna',\n",
            "  'id': '10782486',\n",
            "  'type': 'scarpe',\n",
            "  'url': 'https://www.sportler.com/it/p/new-balance-fresh-foam-1080v9-scarpe-running-neutre-donna-10782486?filterFarbe=Grey'},\n",
            " {'gender': 'donna',\n",
            "  'id': '10782492',\n",
            "  'type': 'scarpe',\n",
            "  'url': 'https://www.sportler.com/it/p/new-balance-fresh-foam-kaymin-gtx-scarpe-trail-running-donna-10782492?filterFarbe=Black%2FGrey'},\n",
            " {'gender': 'donna',\n",
            "  'id': '10804952',\n",
            "  'type': 'scarpe',\n",
            "  'url': 'https://www.sportler.com/it/p/la-sportiva-akyra-gore-tex-scarpe-trailrunning-donna-10804952?filterFarbe=Black+Pump'},\n",
            " {'gender': 'donna',\n",
            "  'id': '10781941',\n",
            "  'type': 'scarpe',\n",
            "  'url': 'https://www.sportler.com/it/p/adidas-falcon-scarpe-jogging-donna-10781941?filterFarbe=Black'},\n",
            " {'gender': 'donna',\n",
            "  'id': '10781920',\n",
            "  'type': 'scarpe',\n",
            "  'url': 'https://www.sportler.com/it/p/asics-gel-nimbus-21-scarpe-running-neutre-donna-10781920?filterFarbe=Orange'},\n",
            " {'gender': 'donna',\n",
            "  'id': '10782473',\n",
            "  'type': 'scarpe',\n",
            "  'url': 'https://www.sportler.com/it/p/adidas-solar-glide-19-scarpe-running-neutre-donna-10782473?filterFarbe=Black%2FGrey'},\n",
            " {'gender': 'donna',\n",
            "  'id': '10781922',\n",
            "  'type': 'scarpe',\n",
            "  'url': 'https://www.sportler.com/it/p/asics-gt-2000-7-scarpe-running-stabili-uomo-10781922?filterFarbe=White%2FPink'},\n",
            " {'gender': 'donna',\n",
            "  'id': '10789797',\n",
            "  'type': 'scarpe',\n",
            "  'url': 'https://www.sportler.com/it/p/hoka-clifton-6-scarpe-running-neutre-donna-10789797?filterFarbe=Blue%2FWhite'},\n",
            " {'gender': 'donna',\n",
            "  'id': '10782508',\n",
            "  'type': 'scarpe',\n",
            "  'url': 'https://www.sportler.com/it/p/under-armour-hovr-velociti-2-scarpe-running-neutre-donna-10782508?filterFarbe=Dark+Grey'},\n",
            " {'gender': 'donna',\n",
            "  'id': '10782743',\n",
            "  'type': 'scarpe',\n",
            "  'url': 'https://www.sportler.com/it/p/under-armour-hovr-infinite-scarpe-running-neutre-donna-10782743?filterFarbe=Light+Grey%2FBlue%2FOrange'},\n",
            " {'gender': 'donna',\n",
            "  'id': '10781948',\n",
            "  'type': 'scarpe',\n",
            "  'url': 'https://www.sportler.com/it/p/brooks-transcend-6-scarpe-running-stabili-donna-10781948?filterFarbe=Light+Grey%2FRose'},\n",
            " {'gender': 'donna',\n",
            "  'id': '10781497',\n",
            "  'type': 'scarpe',\n",
            "  'url': 'https://www.sportler.com/it/p/nike-air-zoom-pegasus-36-scarpe-running-neutre-donna-10781497?filterFarbe=Grey'},\n",
            " {'gender': 'donna',\n",
            "  'id': '10780976',\n",
            "  'type': 'scarpe',\n",
            "  'url': 'https://www.sportler.com/it/p/on-cloudstratus-scarpa-running-neutra-donna-10780976?filterFarbe=Black'},\n",
            " {'gender': 'donna',\n",
            "  'id': '10785308',\n",
            "  'type': 'scarpe',\n",
            "  'url': 'https://www.sportler.com/it/p/new-balance-880v9-scarpe-running-neutre-donna-10785308?filterFarbe=White%2FViolet'},\n",
            " {'gender': 'donna',\n",
            "  'id': '10772675',\n",
            "  'type': 'scarpe',\n",
            "  'url': 'https://www.sportler.com/it/p/brooks-glycerin-17-scarpe-running-neutre-donna-10772675?filterFarbe=Black%2FViolet'},\n",
            " {'gender': 'donna',\n",
            "  'id': '10777412',\n",
            "  'type': 'scarpe',\n",
            "  'url': 'https://www.sportler.com/it/p/salomon-supercross-scarpe-trail-running-donna-10777412?filterFarbe=Green'},\n",
            " {'gender': 'donna',\n",
            "  'id': '10772260',\n",
            "  'type': 'scarpe',\n",
            "  'url': 'https://www.sportler.com/it/p/adidas-solar-drive-w-scarpe-running-neutre-donna-10772260?filterFarbe=Red%2FBlue'},\n",
            " {'gender': 'donna',\n",
            "  'id': '10772048',\n",
            "  'type': 'scarpe',\n",
            "  'url': 'https://www.sportler.com/it/p/nike-revolution-4-scarpe-jogging-donna-10772048?filterFarbe=Violet'},\n",
            " {'gender': 'donna',\n",
            "  'id': '10722998',\n",
            "  'type': 'scarpe',\n",
            "  'url': 'https://www.sportler.com/it/p/nike-air-zoom-vomero-14-scarpe-running-neutre-donna-10722998?filterFarbe=Black'},\n",
            " {'gender': 'donna',\n",
            "  'id': '10738019',\n",
            "  'type': 'scarpe',\n",
            "  'url': 'https://www.sportler.com/it/p/salomon-speedcross-5-w-scarpe-trail-running-donna-10738019?filterFarbe=Black'},\n",
            " {'gender': 'donna',\n",
            "  'id': '10738025',\n",
            "  'type': 'scarpe',\n",
            "  'url': 'https://www.sportler.com/it/p/on-cloudswift-scarpe-running-neutre-donna-10738025?filterFarbe=Black'},\n",
            " {'gender': 'donna',\n",
            "  'id': '10766906',\n",
            "  'type': 'scarpe',\n",
            "  'url': 'https://www.sportler.com/it/p/la-sportiva-kaptiva-scarpe-trail-running-donna-10766906?filterFarbe=Blue%2FLight+Blue'},\n",
            " {'gender': 'donna',\n",
            "  'id': '10750791',\n",
            "  'type': 'scarpe',\n",
            "  'url': 'https://www.sportler.com/it/p/new-balance-fresh-foam-lazr-hypoknit-v2-scarpe-running-neutre-donna-10750791?filterFarbe=Violet%2FWhite'},\n",
            " {'gender': 'donna',\n",
            "  'id': '10751137',\n",
            "  'type': 'scarpe',\n",
            "  'url': 'https://www.sportler.com/it/p/new-balance-fresh-foam-lazr-hypoknit-v2-scarpe-running-neutre-donna-10751137?filterFarbe=Black%2FPink'},\n",
            " {'gender': 'donna',\n",
            "  'id': '10735168',\n",
            "  'type': 'scarpe',\n",
            "  'url': 'https://www.sportler.com/it/p/new-balance-fresh-foam-hierro-v4-scarpe-trail-running-donna-10735168?filterFarbe=Grey%2FLight+Blue'},\n",
            " {'gender': 'donna',\n",
            "  'id': '10761233',\n",
            "  'type': 'scarpe',\n",
            "  'url': 'https://www.sportler.com/it/p/brooks-addiction-walker-scarpe-tempo-libero-donna-10761233?filterFarbe=Black'},\n",
            " {'gender': 'donna',\n",
            "  'id': '10726877',\n",
            "  'type': 'scarpe',\n",
            "  'url': 'https://www.sportler.com/it/p/saucony-jazz-21-w-scarpe-running-neutre-donna-10726877?filterFarbe=Blue'},\n",
            " {'gender': 'donna',\n",
            "  'id': '10722992',\n",
            "  'type': 'scarpe',\n",
            "  'url': 'https://www.sportler.com/it/p/nike-revolution-4-scarpe-jogging-donna-10722992?filterFarbe=White'},\n",
            " {'gender': 'donna',\n",
            "  'id': '10722994',\n",
            "  'type': 'scarpe',\n",
            "  'url': 'https://www.sportler.com/it/p/nike-odyssey-react-2-flyknit-scarpe-running-neutre-donna-10722994?filterFarbe=Black'},\n",
            " {'gender': 'donna',\n",
            "  'id': '10722978',\n",
            "  'type': 'scarpe',\n",
            "  'url': 'https://www.sportler.com/it/p/nike-epic-react-flyknit-2-scarpe-running-neutre-donna-10722978?filterFarbe=White'},\n",
            " {'gender': 'donna',\n",
            "  'id': '10724413',\n",
            "  'type': 'scarpe',\n",
            "  'url': 'https://www.sportler.com/it/p/brooks-ricochet-w-scarpe-running-neutre-donna-10724413?filterFarbe=Black%2FPink'},\n",
            " {'gender': 'donna',\n",
            "  'id': '10724414',\n",
            "  'type': 'scarpe',\n",
            "  'url': 'https://www.sportler.com/it/p/brooks-cascadia-13-w-scarpe-trail-running-donna-10724414?filterFarbe=Black%2FPink'},\n",
            " {'gender': 'donna',\n",
            "  'id': '10724426',\n",
            "  'type': 'scarpe',\n",
            "  'url': 'https://www.sportler.com/it/p/brooks-launch-6-w-scarpe-running-neutre-donna-10724426?filterFarbe=Grey%2FPink'},\n",
            " {'gender': 'donna',\n",
            "  'id': '10724882',\n",
            "  'type': 'scarpe',\n",
            "  'url': 'https://www.sportler.com/it/p/brooks-aduro-6-w-scarpe-running-neutre-donna-10724882?filterFarbe=Blue%2FOrange'},\n",
            " {'gender': 'donna',\n",
            "  'id': '10724422',\n",
            "  'type': 'scarpe',\n",
            "  'url': 'https://www.sportler.com/it/p/brooks-bedlam-w-scarpe-running-stabili-donna-10724422?filterFarbe=Black%2FPink'},\n",
            " {'gender': 'donna',\n",
            "  'id': '10729452',\n",
            "  'type': 'scarpe',\n",
            "  'url': 'https://www.sportler.com/it/p/salomon-sense-max-2-w-scarpe-trail-running-donna-10729452?filterFarbe=Red%2FBlack'},\n",
            " {'gender': 'donna',\n",
            "  'id': '10721391',\n",
            "  'type': 'scarpe',\n",
            "  'url': 'https://www.sportler.com/it/p/on-cloudsurfer-scarpe-running-neutre-donna-10721391?filterFarbe=Grey'},\n",
            " {'gender': 'donna',\n",
            "  'id': '10722961',\n",
            "  'type': 'scarpe',\n",
            "  'url': 'https://www.sportler.com/it/p/on-cloudventure-waterproof-scarpe-trail-running-donna-10722961?filterFarbe=Black'},\n",
            " {'gender': 'donna',\n",
            "  'id': '10721355',\n",
            "  'type': 'scarpe',\n",
            "  'url': 'https://www.sportler.com/it/p/on-cloudventure-midtop-w-scarpe-trail-running-donna-10721355?filterFarbe=Brown'},\n",
            " {'gender': 'donna',\n",
            "  'id': '10721385',\n",
            "  'type': 'scarpe',\n",
            "  'url': 'https://www.sportler.com/it/p/on-cloudventure-w-scarpe-trail-running-donna-10721385?filterFarbe=Beige'},\n",
            " {'gender': 'donna',\n",
            "  'id': '10709803',\n",
            "  'type': 'scarpe',\n",
            "  'url': 'https://www.sportler.com/it/p/nike-air-zoom-vomero-14-scarpe-running-neutre-donna-10709803?filterFarbe=Grey'},\n",
            " {'gender': 'donna',\n",
            "  'id': '10725192',\n",
            "  'type': 'scarpe',\n",
            "  'url': 'https://www.sportler.com/it/p/adidas-solar-boost-scarpe-running-neutre-donna-10725192?filterFarbe=Light+Blue'},\n",
            " {'gender': 'donna',\n",
            "  'id': '10706146',\n",
            "  'type': 'scarpe',\n",
            "  'url': 'https://www.sportler.com/it/p/on-cloud-waterproof-scarpe-natural-running-donna-10706146?filterFarbe=Black'},\n",
            " {'gender': 'donna',\n",
            "  'id': '10662896',\n",
            "  'type': 'scarpe',\n",
            "  'url': 'https://www.sportler.com/it/p/on-cloudace-w-scarpe-running-neutre-donna-10662896?filterFarbe=Black'},\n",
            " {'gender': 'donna',\n",
            "  'id': '10660213',\n",
            "  'type': 'scarpe',\n",
            "  'url': 'https://www.sportler.com/it/p/nike-downshifter-8-scarpe-jogging-donna-10660213?filterFarbe=Grey'},\n",
            " {'gender': 'donna',\n",
            "  'id': '10658491',\n",
            "  'type': 'scarpe',\n",
            "  'url': 'https://www.sportler.com/it/p/brooks-glycerin-16-w-scarpe-running-neutre-donna-10658491?filterFarbe=Black%2FPink'},\n",
            " {'gender': 'donna',\n",
            "  'id': '10591881',\n",
            "  'type': 'scarpe',\n",
            "  'url': 'https://www.sportler.com/it/p/nike-epic-react-flyknit-w-scarpe-running-neutre-donna-10591881?filterFarbe=Black'},\n",
            " {'gender': 'donna',\n",
            "  'id': '10650697',\n",
            "  'type': 'scarpe',\n",
            "  'url': 'https://www.sportler.com/it/p/dynafit-feline-vertical-scarpe-trail-running-donna-10650697?filterFarbe=Pink'},\n",
            " {'gender': 'donna',\n",
            "  'id': '10615746',\n",
            "  'type': 'scarpe',\n",
            "  'url': 'https://www.sportler.com/it/p/dynafit-alpine-pro-scarpe-trail-running-donna-10615746?filterFarbe=Black'},\n",
            " {'gender': 'donna',\n",
            "  'id': '10610956',\n",
            "  'type': 'scarpe',\n",
            "  'url': 'https://www.sportler.com/it/p/under-armour-hovr-sonic-w-scarpe-neutre-running-donna-10610956?filterFarbe=Black'},\n",
            " {'gender': 'donna',\n",
            "  'id': '10610954',\n",
            "  'type': 'scarpe',\n",
            "  'url': 'https://www.sportler.com/it/p/under-armour-breathe-lace-scarpe-jogging-donna-10610954?filterFarbe=White%2FRed'},\n",
            " {'gender': 'donna',\n",
            "  'id': '10610950',\n",
            "  'type': 'scarpe',\n",
            "  'url': 'https://www.sportler.com/it/p/under-armour-threadborne-blur-w-scarpe-running-neutre-donna-10610950?filterFarbe=Grey'},\n",
            " {'gender': 'donna',\n",
            "  'id': '10590858',\n",
            "  'type': 'scarpe',\n",
            "  'url': 'https://www.sportler.com/it/p/saucony-ride-10-w-scarpe-running-neutre-donna-10590858?filterFarbe=White%2FRed%2FGrey'},\n",
            " {'gender': 'donna',\n",
            "  'id': '10586512',\n",
            "  'type': 'scarpe',\n",
            "  'url': 'https://www.sportler.com/it/p/adidas-duramo-lite-2.-0-w-scarpe-jogging-donna-10586512?filterFarbe=Black'},\n",
            " {'gender': 'donna',\n",
            "  'id': '10586300',\n",
            "  'type': 'scarpe',\n",
            "  'url': 'https://www.sportler.com/it/p/nike-downshifter-8-scarpe-jogging-donna-10586300?filterFarbe=Dark+Blue'},\n",
            " {'gender': 'donna',\n",
            "  'id': '10583046',\n",
            "  'type': 'scarpe',\n",
            "  'url': 'https://www.sportler.com/it/p/on-cloud-w-scarpe-natural-running-donna-10583046?filterFarbe=Beige'},\n",
            " {'gender': 'donna',\n",
            "  'id': '10583064',\n",
            "  'type': 'scarpe',\n",
            "  'url': 'https://www.sportler.com/it/p/on-cloud-x-w-scarpe-running-neutre-donna-10583064?filterFarbe=Beige%2FRose'},\n",
            " {'gender': 'donna',\n",
            "  'id': '10522081',\n",
            "  'type': 'scarpe',\n",
            "  'url': 'https://www.sportler.com/it/p/la-sportiva-akyra-gtx-scarpe-trail-running-donna-10522081?filterFarbe=Grey'},\n",
            " {'gender': 'donna',\n",
            "  'id': '10517419',\n",
            "  'type': 'scarpe',\n",
            "  'url': 'https://www.sportler.com/it/p/nike-free-run-motion-flyknit-w-scarpe-running-neutre-donna-10517419?filterFarbe=Black%2FWhite'},\n",
            " {'gender': 'donna',\n",
            "  'id': '10511391',\n",
            "  'type': 'scarpe',\n",
            "  'url': 'https://www.sportler.com/it/p/new-balance-fresh-foam-1080-roma-w-scarpe-running-neutre-donna-10511391?filterFarbe=White%2FGrey'},\n",
            " {'gender': 'donna',\n",
            "  'id': '10475854',\n",
            "  'type': 'scarpe',\n",
            "  'url': 'https://www.sportler.com/it/p/on-cloudflash-w-scarpe-da-gara-donna-10475854?filterFarbe=Yellow%2FWhite'},\n",
            " {'gender': 'donna',\n",
            "  'id': '10509759',\n",
            "  'type': 'scarpe',\n",
            "  'url': 'https://www.sportler.com/it/p/salomon-speedcross-4-gtx-scarpe-trail-running-donna-10509759?filterFarbe=Black'},\n",
            " {'gender': 'donna',\n",
            "  'id': '10461543',\n",
            "  'type': 'scarpe',\n",
            "  'url': 'https://www.sportler.com/it/p/new-balance-zante-scarpe-running-neutre-donna-10461543?filterFarbe=Green%2FPink'},\n",
            " {'gender': 'donna',\n",
            "  'id': '10454599',\n",
            "  'type': 'scarpe',\n",
            "  'url': 'https://www.sportler.com/it/p/on-cloudflow-w-scarpe-running-neutre-donna-10454599?filterFarbe=Light+Blue'},\n",
            " {'gender': 'donna',\n",
            "  'id': '10342398',\n",
            "  'type': 'scarpe',\n",
            "  'url': 'https://www.sportler.com/it/p/fivefingers-v-run-scarpe-trail-running-donna-10342398?filterFarbe=Black'},\n",
            " {'gender': 'donna',\n",
            "  'id': '10326864',\n",
            "  'type': 'scarpe',\n",
            "  'url': 'https://www.sportler.com/it/p/la-sportiva-akasha-scarpa-trail-running-donna-10326864?filterFarbe=Black%2FViolet'},\n",
            " {'gender': 'donna',\n",
            "  'id': '10311210',\n",
            "  'type': 'scarpe',\n",
            "  'url': 'https://www.sportler.com/it/p/salewa-lite-train-scarpe-trail-running-donna-10311210?filterFarbe=Dark+Blue'},\n",
            " {'gender': 'donna',\n",
            "  'id': '10326259',\n",
            "  'type': 'scarpe',\n",
            "  'url': 'https://www.sportler.com/it/p/asics-gt-2000-4-scarpe-running-stabili-donna-10326259?filterFarbe=Pink%2FTurquoise'},\n",
            " {'gender': 'donna',\n",
            "  'id': '10509759',\n",
            "  'type': 'scarpe',\n",
            "  'url': 'https://www.sportler.com/it/p/salomon-speedcross-4-gtx-scarpe-trail-running-donna-10509759?filterFarbe=Black'},\n",
            " {'gender': 'donna',\n",
            "  'id': '10461543',\n",
            "  'type': 'scarpe',\n",
            "  'url': 'https://www.sportler.com/it/p/new-balance-zante-scarpe-running-neutre-donna-10461543?filterFarbe=Green%2FPink'},\n",
            " {'gender': 'donna',\n",
            "  'id': '10454599',\n",
            "  'type': 'scarpe',\n",
            "  'url': 'https://www.sportler.com/it/p/on-cloudflow-w-scarpe-running-neutre-donna-10454599?filterFarbe=Light+Blue'},\n",
            " {'gender': 'donna',\n",
            "  'id': '10342398',\n",
            "  'type': 'scarpe',\n",
            "  'url': 'https://www.sportler.com/it/p/fivefingers-v-run-scarpe-trail-running-donna-10342398?filterFarbe=Black'},\n",
            " {'gender': 'donna',\n",
            "  'id': '10326864',\n",
            "  'type': 'scarpe',\n",
            "  'url': 'https://www.sportler.com/it/p/la-sportiva-akasha-scarpa-trail-running-donna-10326864?filterFarbe=Black%2FViolet'},\n",
            " {'gender': 'donna',\n",
            "  'id': '10311210',\n",
            "  'type': 'scarpe',\n",
            "  'url': 'https://www.sportler.com/it/p/salewa-lite-train-scarpe-trail-running-donna-10311210?filterFarbe=Dark+Blue'},\n",
            " {'gender': 'donna',\n",
            "  'id': '10326259',\n",
            "  'type': 'scarpe',\n",
            "  'url': 'https://www.sportler.com/it/p/asics-gt-2000-4-scarpe-running-stabili-donna-10326259?filterFarbe=Pink%2FTurquoise'},\n",
            " {'gender': 'donna',\n",
            "  'id': '10509759',\n",
            "  'type': 'scarpe',\n",
            "  'url': 'https://www.sportler.com/it/p/salomon-speedcross-4-gtx-scarpe-trail-running-donna-10509759?filterFarbe=Black'},\n",
            " {'gender': 'donna',\n",
            "  'id': '10461543',\n",
            "  'type': 'scarpe',\n",
            "  'url': 'https://www.sportler.com/it/p/new-balance-zante-scarpe-running-neutre-donna-10461543?filterFarbe=Green%2FPink'},\n",
            " {'gender': 'donna',\n",
            "  'id': '10454599',\n",
            "  'type': 'scarpe',\n",
            "  'url': 'https://www.sportler.com/it/p/on-cloudflow-w-scarpe-running-neutre-donna-10454599?filterFarbe=Light+Blue'},\n",
            " {'gender': 'donna',\n",
            "  'id': '10342398',\n",
            "  'type': 'scarpe',\n",
            "  'url': 'https://www.sportler.com/it/p/fivefingers-v-run-scarpe-trail-running-donna-10342398?filterFarbe=Black'},\n",
            " {'gender': 'donna',\n",
            "  'id': '10326864',\n",
            "  'type': 'scarpe',\n",
            "  'url': 'https://www.sportler.com/it/p/la-sportiva-akasha-scarpa-trail-running-donna-10326864?filterFarbe=Black%2FViolet'},\n",
            " {'gender': 'donna',\n",
            "  'id': '10311210',\n",
            "  'type': 'scarpe',\n",
            "  'url': 'https://www.sportler.com/it/p/salewa-lite-train-scarpe-trail-running-donna-10311210?filterFarbe=Dark+Blue'},\n",
            " {'gender': 'donna',\n",
            "  'id': '10326259',\n",
            "  'type': 'scarpe',\n",
            "  'url': 'https://www.sportler.com/it/p/asics-gt-2000-4-scarpe-running-stabili-donna-10326259?filterFarbe=Pink%2FTurquoise'},\n",
            " {'gender': 'donna',\n",
            "  'id': '10509759',\n",
            "  'type': 'scarpe',\n",
            "  'url': 'https://www.sportler.com/it/p/salomon-speedcross-4-gtx-scarpe-trail-running-donna-10509759?filterFarbe=Black'},\n",
            " {'gender': 'donna',\n",
            "  'id': '10461543',\n",
            "  'type': 'scarpe',\n",
            "  'url': 'https://www.sportler.com/it/p/new-balance-zante-scarpe-running-neutre-donna-10461543?filterFarbe=Green%2FPink'},\n",
            " {'gender': 'donna',\n",
            "  'id': '10454599',\n",
            "  'type': 'scarpe',\n",
            "  'url': 'https://www.sportler.com/it/p/on-cloudflow-w-scarpe-running-neutre-donna-10454599?filterFarbe=Light+Blue'},\n",
            " {'gender': 'donna',\n",
            "  'id': '10342398',\n",
            "  'type': 'scarpe',\n",
            "  'url': 'https://www.sportler.com/it/p/fivefingers-v-run-scarpe-trail-running-donna-10342398?filterFarbe=Black'},\n",
            " {'gender': 'donna',\n",
            "  'id': '10326864',\n",
            "  'type': 'scarpe',\n",
            "  'url': 'https://www.sportler.com/it/p/la-sportiva-akasha-scarpa-trail-running-donna-10326864?filterFarbe=Black%2FViolet'},\n",
            " {'gender': 'donna',\n",
            "  'id': '10311210',\n",
            "  'type': 'scarpe',\n",
            "  'url': 'https://www.sportler.com/it/p/salewa-lite-train-scarpe-trail-running-donna-10311210?filterFarbe=Dark+Blue'},\n",
            " {'gender': 'donna',\n",
            "  'id': '10326259',\n",
            "  'type': 'scarpe',\n",
            "  'url': 'https://www.sportler.com/it/p/asics-gt-2000-4-scarpe-running-stabili-donna-10326259?filterFarbe=Pink%2FTurquoise'},\n",
            " {'gender': 'donna',\n",
            "  'id': '10509759',\n",
            "  'type': 'scarpe',\n",
            "  'url': 'https://www.sportler.com/it/p/salomon-speedcross-4-gtx-scarpe-trail-running-donna-10509759?filterFarbe=Black'},\n",
            " {'gender': 'donna',\n",
            "  'id': '10461543',\n",
            "  'type': 'scarpe',\n",
            "  'url': 'https://www.sportler.com/it/p/new-balance-zante-scarpe-running-neutre-donna-10461543?filterFarbe=Green%2FPink'},\n",
            " {'gender': 'donna',\n",
            "  'id': '10454599',\n",
            "  'type': 'scarpe',\n",
            "  'url': 'https://www.sportler.com/it/p/on-cloudflow-w-scarpe-running-neutre-donna-10454599?filterFarbe=Light+Blue'},\n",
            " {'gender': 'donna',\n",
            "  'id': '10342398',\n",
            "  'type': 'scarpe',\n",
            "  'url': 'https://www.sportler.com/it/p/fivefingers-v-run-scarpe-trail-running-donna-10342398?filterFarbe=Black'},\n",
            " {'gender': 'donna',\n",
            "  'id': '10326864',\n",
            "  'type': 'scarpe',\n",
            "  'url': 'https://www.sportler.com/it/p/la-sportiva-akasha-scarpa-trail-running-donna-10326864?filterFarbe=Black%2FViolet'},\n",
            " {'gender': 'donna',\n",
            "  'id': '10311210',\n",
            "  'type': 'scarpe',\n",
            "  'url': 'https://www.sportler.com/it/p/salewa-lite-train-scarpe-trail-running-donna-10311210?filterFarbe=Dark+Blue'},\n",
            " {'gender': 'donna',\n",
            "  'id': '10326259',\n",
            "  'type': 'scarpe',\n",
            "  'url': 'https://www.sportler.com/it/p/asics-gt-2000-4-scarpe-running-stabili-donna-10326259?filterFarbe=Pink%2FTurquoise'},\n",
            " {'gender': 'donna',\n",
            "  'id': '10509759',\n",
            "  'type': 'scarpe',\n",
            "  'url': 'https://www.sportler.com/it/p/salomon-speedcross-4-gtx-scarpe-trail-running-donna-10509759?filterFarbe=Black'},\n",
            " {'gender': 'donna',\n",
            "  'id': '10461543',\n",
            "  'type': 'scarpe',\n",
            "  'url': 'https://www.sportler.com/it/p/new-balance-zante-scarpe-running-neutre-donna-10461543?filterFarbe=Green%2FPink'},\n",
            " {'gender': 'donna',\n",
            "  'id': '10454599',\n",
            "  'type': 'scarpe',\n",
            "  'url': 'https://www.sportler.com/it/p/on-cloudflow-w-scarpe-running-neutre-donna-10454599?filterFarbe=Light+Blue'},\n",
            " {'gender': 'donna',\n",
            "  'id': '10342398',\n",
            "  'type': 'scarpe',\n",
            "  'url': 'https://www.sportler.com/it/p/fivefingers-v-run-scarpe-trail-running-donna-10342398?filterFarbe=Black'},\n",
            " {'gender': 'donna',\n",
            "  'id': '10326864',\n",
            "  'type': 'scarpe',\n",
            "  'url': 'https://www.sportler.com/it/p/la-sportiva-akasha-scarpa-trail-running-donna-10326864?filterFarbe=Black%2FViolet'},\n",
            " {'gender': 'donna',\n",
            "  'id': '10311210',\n",
            "  'type': 'scarpe',\n",
            "  'url': 'https://www.sportler.com/it/p/salewa-lite-train-scarpe-trail-running-donna-10311210?filterFarbe=Dark+Blue'},\n",
            " {'gender': 'donna',\n",
            "  'id': '10326259',\n",
            "  'type': 'scarpe',\n",
            "  'url': 'https://www.sportler.com/it/p/asics-gt-2000-4-scarpe-running-stabili-donna-10326259?filterFarbe=Pink%2FTurquoise'},\n",
            " {'gender': 'donna',\n",
            "  'id': '10509759',\n",
            "  'type': 'scarpe',\n",
            "  'url': 'https://www.sportler.com/it/p/salomon-speedcross-4-gtx-scarpe-trail-running-donna-10509759?filterFarbe=Black'},\n",
            " {'gender': 'donna',\n",
            "  'id': '10461543',\n",
            "  'type': 'scarpe',\n",
            "  'url': 'https://www.sportler.com/it/p/new-balance-zante-scarpe-running-neutre-donna-10461543?filterFarbe=Green%2FPink'},\n",
            " {'gender': 'donna',\n",
            "  'id': '10454599',\n",
            "  'type': 'scarpe',\n",
            "  'url': 'https://www.sportler.com/it/p/on-cloudflow-w-scarpe-running-neutre-donna-10454599?filterFarbe=Light+Blue'},\n",
            " {'gender': 'donna',\n",
            "  'id': '10342398',\n",
            "  'type': 'scarpe',\n",
            "  'url': 'https://www.sportler.com/it/p/fivefingers-v-run-scarpe-trail-running-donna-10342398?filterFarbe=Black'},\n",
            " {'gender': 'donna',\n",
            "  'id': '10326864',\n",
            "  'type': 'scarpe',\n",
            "  'url': 'https://www.sportler.com/it/p/la-sportiva-akasha-scarpa-trail-running-donna-10326864?filterFarbe=Black%2FViolet'},\n",
            " {'gender': 'donna',\n",
            "  'id': '10311210',\n",
            "  'type': 'scarpe',\n",
            "  'url': 'https://www.sportler.com/it/p/salewa-lite-train-scarpe-trail-running-donna-10311210?filterFarbe=Dark+Blue'},\n",
            " {'gender': 'donna',\n",
            "  'id': '10326259',\n",
            "  'type': 'scarpe',\n",
            "  'url': 'https://www.sportler.com/it/p/asics-gt-2000-4-scarpe-running-stabili-donna-10326259?filterFarbe=Pink%2FTurquoise'},\n",
            " {'gender': 'donna',\n",
            "  'id': '10509759',\n",
            "  'type': 'scarpe',\n",
            "  'url': 'https://www.sportler.com/it/p/salomon-speedcross-4-gtx-scarpe-trail-running-donna-10509759?filterFarbe=Black'},\n",
            " {'gender': 'donna',\n",
            "  'id': '10461543',\n",
            "  'type': 'scarpe',\n",
            "  'url': 'https://www.sportler.com/it/p/new-balance-zante-scarpe-running-neutre-donna-10461543?filterFarbe=Green%2FPink'},\n",
            " {'gender': 'donna',\n",
            "  'id': '10454599',\n",
            "  'type': 'scarpe',\n",
            "  'url': 'https://www.sportler.com/it/p/on-cloudflow-w-scarpe-running-neutre-donna-10454599?filterFarbe=Light+Blue'},\n",
            " {'gender': 'donna',\n",
            "  'id': '10342398',\n",
            "  'type': 'scarpe',\n",
            "  'url': 'https://www.sportler.com/it/p/fivefingers-v-run-scarpe-trail-running-donna-10342398?filterFarbe=Black'},\n",
            " {'gender': 'donna',\n",
            "  'id': '10326864',\n",
            "  'type': 'scarpe',\n",
            "  'url': 'https://www.sportler.com/it/p/la-sportiva-akasha-scarpa-trail-running-donna-10326864?filterFarbe=Black%2FViolet'},\n",
            " {'gender': 'donna',\n",
            "  'id': '10311210',\n",
            "  'type': 'scarpe',\n",
            "  'url': 'https://www.sportler.com/it/p/salewa-lite-train-scarpe-trail-running-donna-10311210?filterFarbe=Dark+Blue'},\n",
            " {'gender': 'donna',\n",
            "  'id': '10326259',\n",
            "  'type': 'scarpe',\n",
            "  'url': 'https://www.sportler.com/it/p/asics-gt-2000-4-scarpe-running-stabili-donna-10326259?filterFarbe=Pink%2FTurquoise'},\n",
            " {'gender': 'donna',\n",
            "  'id': '10509759',\n",
            "  'type': 'scarpe',\n",
            "  'url': 'https://www.sportler.com/it/p/salomon-speedcross-4-gtx-scarpe-trail-running-donna-10509759?filterFarbe=Black'},\n",
            " {'gender': 'donna',\n",
            "  'id': '10461543',\n",
            "  'type': 'scarpe',\n",
            "  'url': 'https://www.sportler.com/it/p/new-balance-zante-scarpe-running-neutre-donna-10461543?filterFarbe=Green%2FPink'},\n",
            " {'gender': 'donna',\n",
            "  'id': '10454599',\n",
            "  'type': 'scarpe',\n",
            "  'url': 'https://www.sportler.com/it/p/on-cloudflow-w-scarpe-running-neutre-donna-10454599?filterFarbe=Light+Blue'},\n",
            " {'gender': 'donna',\n",
            "  'id': '10342398',\n",
            "  'type': 'scarpe',\n",
            "  'url': 'https://www.sportler.com/it/p/fivefingers-v-run-scarpe-trail-running-donna-10342398?filterFarbe=Black'},\n",
            " {'gender': 'donna',\n",
            "  'id': '10326864',\n",
            "  'type': 'scarpe',\n",
            "  'url': 'https://www.sportler.com/it/p/la-sportiva-akasha-scarpa-trail-running-donna-10326864?filterFarbe=Black%2FViolet'},\n",
            " {'gender': 'donna',\n",
            "  'id': '10311210',\n",
            "  'type': 'scarpe',\n",
            "  'url': 'https://www.sportler.com/it/p/salewa-lite-train-scarpe-trail-running-donna-10311210?filterFarbe=Dark+Blue'},\n",
            " {'gender': 'donna',\n",
            "  'id': '10326259',\n",
            "  'type': 'scarpe',\n",
            "  'url': 'https://www.sportler.com/it/p/asics-gt-2000-4-scarpe-running-stabili-donna-10326259?filterFarbe=Pink%2FTurquoise'}]\n"
          ],
          "name": "stdout"
        }
      ]
    },
    {
      "cell_type": "code",
      "metadata": {
        "id": "NzG5BP7W-d7V",
        "colab_type": "code",
        "colab": {
          "base_uri": "https://localhost:8080/",
          "height": 34
        },
        "outputId": "5047cf6e-fa93-489b-85a8-188d7e265ff3"
      },
      "source": [
        "print(len(detail_items))"
      ],
      "execution_count": null,
      "outputs": [
        {
          "output_type": "stream",
          "text": [
            "1305\n"
          ],
          "name": "stdout"
        }
      ]
    },
    {
      "cell_type": "markdown",
      "metadata": {
        "id": "TqxsicNNovfy",
        "colab_type": "text"
      },
      "source": [
        "# Pandas time\n",
        "\n"
      ]
    },
    {
      "cell_type": "code",
      "metadata": {
        "id": "MumFgyNypoBo",
        "colab_type": "code",
        "colab": {
          "base_uri": "https://localhost:8080/",
          "height": 197
        },
        "outputId": "691d8c76-ee8d-4d62-c60b-eb8753991516"
      },
      "source": [
        "import pandas as pd\n",
        "ds_detail_projects = pd.DataFrame(detail_items)\n",
        "ds_detail_projects.set_index(\"id\")\n",
        "ds_detail_projects.head()"
      ],
      "execution_count": null,
      "outputs": [
        {
          "output_type": "execute_result",
          "data": {
            "text/html": [
              "<div>\n",
              "<style scoped>\n",
              "    .dataframe tbody tr th:only-of-type {\n",
              "        vertical-align: middle;\n",
              "    }\n",
              "\n",
              "    .dataframe tbody tr th {\n",
              "        vertical-align: top;\n",
              "    }\n",
              "\n",
              "    .dataframe thead th {\n",
              "        text-align: right;\n",
              "    }\n",
              "</style>\n",
              "<table border=\"1\" class=\"dataframe\">\n",
              "  <thead>\n",
              "    <tr style=\"text-align: right;\">\n",
              "      <th></th>\n",
              "      <th>url</th>\n",
              "      <th>id</th>\n",
              "      <th>gender</th>\n",
              "      <th>type</th>\n",
              "    </tr>\n",
              "  </thead>\n",
              "  <tbody>\n",
              "    <tr>\n",
              "      <th>0</th>\n",
              "      <td>https://www.sportler.com/it/p/nike-dri-fit-mil...</td>\n",
              "      <td>10886958</td>\n",
              "      <td>uomo</td>\n",
              "      <td>abbigliamento</td>\n",
              "    </tr>\n",
              "    <tr>\n",
              "      <th>1</th>\n",
              "      <td>https://www.sportler.com/it/p/nike-pacer-1-2-z...</td>\n",
              "      <td>10886946</td>\n",
              "      <td>uomo</td>\n",
              "      <td>abbigliamento</td>\n",
              "    </tr>\n",
              "    <tr>\n",
              "      <th>2</th>\n",
              "      <td>https://www.sportler.com/it/p/nike-flex-stride...</td>\n",
              "      <td>10886961</td>\n",
              "      <td>uomo</td>\n",
              "      <td>abbigliamento</td>\n",
              "    </tr>\n",
              "    <tr>\n",
              "      <th>3</th>\n",
              "      <td>https://www.sportler.com/it/p/nike-flex-stride...</td>\n",
              "      <td>10842942</td>\n",
              "      <td>uomo</td>\n",
              "      <td>abbigliamento</td>\n",
              "    </tr>\n",
              "    <tr>\n",
              "      <th>4</th>\n",
              "      <td>https://www.sportler.com/it/p/adidas-yg-essent...</td>\n",
              "      <td>10893181</td>\n",
              "      <td>uomo</td>\n",
              "      <td>abbigliamento</td>\n",
              "    </tr>\n",
              "  </tbody>\n",
              "</table>\n",
              "</div>"
            ],
            "text/plain": [
              "                                                 url  ...           type\n",
              "0  https://www.sportler.com/it/p/nike-dri-fit-mil...  ...  abbigliamento\n",
              "1  https://www.sportler.com/it/p/nike-pacer-1-2-z...  ...  abbigliamento\n",
              "2  https://www.sportler.com/it/p/nike-flex-stride...  ...  abbigliamento\n",
              "3  https://www.sportler.com/it/p/nike-flex-stride...  ...  abbigliamento\n",
              "4  https://www.sportler.com/it/p/adidas-yg-essent...  ...  abbigliamento\n",
              "\n",
              "[5 rows x 4 columns]"
            ]
          },
          "metadata": {
            "tags": []
          },
          "execution_count": 219
        }
      ]
    },
    {
      "cell_type": "code",
      "metadata": {
        "id": "_tFbyPwcrNY4",
        "colab_type": "code",
        "colab": {
          "base_uri": "https://localhost:8080/",
          "height": 68
        },
        "outputId": "1a1c1175-b974-4d05-fb94-b8f95c6b388b"
      },
      "source": [
        "df = ds_detail_projects\n",
        "print(len(df.index)) #N. of Rows 1305 - Expected 1069-->looping in one row for different pages\n",
        " #caused duplicated becuase different length of pages\n",
        "\n",
        "ids = df[\"id\"]\n",
        "df[ids.isin(ids[ids.duplicated()])]\n",
        "print(len(df.index))\n",
        "df = df.drop_duplicates(subset='id', keep='first', inplace=False, ignore_index=False)\n",
        "print(len(df.index))\n",
        "#1068 after removing duplicates. There was a product (1 man pair shoes) present in 2 different sections - Kept the first one\n",
        "\n"
      ],
      "execution_count": null,
      "outputs": [
        {
          "output_type": "stream",
          "text": [
            "1305\n",
            "1305\n",
            "1068\n"
          ],
          "name": "stdout"
        }
      ]
    },
    {
      "cell_type": "code",
      "metadata": {
        "id": "3lUw4-_BrQDh",
        "colab_type": "code",
        "colab": {}
      },
      "source": [
        "df.to_csv('ds_projects.csv')\n"
      ],
      "execution_count": null,
      "outputs": []
    },
    {
      "cell_type": "markdown",
      "metadata": {
        "id": "AXdgP8t3q_A-",
        "colab_type": "text"
      },
      "source": [
        "# Sportler Project pages ###\n",
        "\n"
      ]
    },
    {
      "cell_type": "code",
      "metadata": {
        "id": "yVnUyfGsvcac",
        "colab_type": "code",
        "colab": {
          "base_uri": "https://localhost:8080/",
          "height": 312
        },
        "outputId": "1379aaae-e104-4c63-a94b-05c17469f5e3"
      },
      "source": [
        "# open csv file\n",
        "import pandas as pd\n",
        "ds_detail_projects = pd.read_csv(\"ds_projects.csv\", index_col=\"id\")\n",
        "ds_detail_projects.head()"
      ],
      "execution_count": null,
      "outputs": [
        {
          "output_type": "execute_result",
          "data": {
            "text/html": [
              "<div>\n",
              "<style scoped>\n",
              "    .dataframe tbody tr th:only-of-type {\n",
              "        vertical-align: middle;\n",
              "    }\n",
              "\n",
              "    .dataframe tbody tr th {\n",
              "        vertical-align: top;\n",
              "    }\n",
              "\n",
              "    .dataframe thead th {\n",
              "        text-align: right;\n",
              "    }\n",
              "</style>\n",
              "<table border=\"1\" class=\"dataframe\">\n",
              "  <thead>\n",
              "    <tr style=\"text-align: right;\">\n",
              "      <th></th>\n",
              "      <th>Unnamed: 0</th>\n",
              "      <th>url</th>\n",
              "      <th>name</th>\n",
              "      <th>brand</th>\n",
              "      <th>colour</th>\n",
              "      <th>Detail</th>\n",
              "      <th>Material</th>\n",
              "      <th>Sex</th>\n",
              "      <th>tipo</th>\n",
              "    </tr>\n",
              "    <tr>\n",
              "      <th>id</th>\n",
              "      <th></th>\n",
              "      <th></th>\n",
              "      <th></th>\n",
              "      <th></th>\n",
              "      <th></th>\n",
              "      <th></th>\n",
              "      <th></th>\n",
              "      <th></th>\n",
              "      <th></th>\n",
              "    </tr>\n",
              "  </thead>\n",
              "  <tbody>\n",
              "    <tr>\n",
              "      <th>10886958</th>\n",
              "      <td>0</td>\n",
              "      <td>https://www.sportler.com/it/p/nike-dri-fit-mil...</td>\n",
              "      <td>Dri-FIT Miler Wild Run Graphic Running - magli...</td>\n",
              "      <td>NIKE</td>\n",
              "      <td>Black</td>\n",
              "      <td>Maglia running da uomo Dri-FIT Miler Wild Run ...</td>\n",
              "      <td>Composizione 100% polyester</td>\n",
              "      <td>uomo</td>\n",
              "      <td>abbigliamento</td>\n",
              "    </tr>\n",
              "    <tr>\n",
              "      <th>10886946</th>\n",
              "      <td>1</td>\n",
              "      <td>https://www.sportler.com/it/p/nike-pacer-1-2-z...</td>\n",
              "      <td>Pacer 1/2-Zip Running - maglia running a manic...</td>\n",
              "      <td>NIKE</td>\n",
              "      <td>Grey</td>\n",
              "      <td>Maglia running a maniche lunghe da uomo Pacer ...</td>\n",
              "      <td>Composizione 100% polyester</td>\n",
              "      <td>uomo</td>\n",
              "      <td>abbigliamento</td>\n",
              "    </tr>\n",
              "    <tr>\n",
              "      <th>10886961</th>\n",
              "      <td>2</td>\n",
              "      <td>https://www.sportler.com/it/p/nike-flex-stride...</td>\n",
              "      <td>Flex Stride 5\" Brief Running - pantaloni runni...</td>\n",
              "      <td>NIKE</td>\n",
              "      <td>Black</td>\n",
              "      <td>Pantaloni running da uomo Flex Stride 5\" Brief...</td>\n",
              "      <td>Composizione 100% polyester</td>\n",
              "      <td>uomo</td>\n",
              "      <td>abbigliamento</td>\n",
              "    </tr>\n",
              "    <tr>\n",
              "      <th>10842942</th>\n",
              "      <td>3</td>\n",
              "      <td>https://www.sportler.com/it/p/nike-flex-stride...</td>\n",
              "      <td>Flex Stride 5\" Trail - pantaloni trail running...</td>\n",
              "      <td>NIKE</td>\n",
              "      <td>Green</td>\n",
              "      <td>Pantaloni trail running da uomo Flex Stride 5\"...</td>\n",
              "      <td>Composizione 100% recycled polyester</td>\n",
              "      <td>uomo</td>\n",
              "      <td>abbigliamento</td>\n",
              "    </tr>\n",
              "    <tr>\n",
              "      <th>10893181</th>\n",
              "      <td>4</td>\n",
              "      <td>https://www.sportler.com/it/p/adidas-yg-essent...</td>\n",
              "      <td>YG Essentials Linear - pantaloni lunghi fitnes...</td>\n",
              "      <td>ADIDAS</td>\n",
              "      <td>Black</td>\n",
              "      <td>YG Essentials Linear Tight di Adidas, leggings...</td>\n",
              "      <td>Composizione 92% cotton, 8% elastane</td>\n",
              "      <td>uomo</td>\n",
              "      <td>abbigliamento</td>\n",
              "    </tr>\n",
              "  </tbody>\n",
              "</table>\n",
              "</div>"
            ],
            "text/plain": [
              "          Unnamed: 0  ...           tipo\n",
              "id                    ...               \n",
              "10886958           0  ...  abbigliamento\n",
              "10886946           1  ...  abbigliamento\n",
              "10886961           2  ...  abbigliamento\n",
              "10842942           3  ...  abbigliamento\n",
              "10893181           4  ...  abbigliamento\n",
              "\n",
              "[5 rows x 9 columns]"
            ]
          },
          "metadata": {
            "tags": []
          },
          "execution_count": 7
        }
      ]
    },
    {
      "cell_type": "markdown",
      "metadata": {
        "id": "8VaXQ52Kv2am",
        "colab_type": "text"
      },
      "source": [
        "***For each project we go to the link... how do you think we do it?***\n",
        "\n",
        "Let's try the first 5 projects.\n",
        "\n",
        "\n",
        "\n",
        "These days most of the web apps are using AJAX techniques. When a page is loaded by the browser, the elements within that page may load at different time intervals. Using waits, we can stop our scraping and wait the loading of a element.\n",
        "\n",
        "Selenium Webdriver provides two types of waits - implicit & explicit. An explicit wait makes WebDriver wait for a certain condition to occur before proceeding further with execution. An implicit wait makes WebDriver poll the DOM for a certain amount of time when trying to locate an element.\n"
      ]
    },
    {
      "cell_type": "code",
      "metadata": {
        "id": "xf7bDTWTxLlf",
        "colab_type": "code",
        "colab": {
          "base_uri": "https://localhost:8080/",
          "height": 1000
        },
        "outputId": "f872e09f-7496-4139-88fc-fc547fafdd3d"
      },
      "source": [
        "from selenium.webdriver.common.by import By\n",
        "from selenium.webdriver.support.ui import WebDriverWait\n",
        "from selenium.webdriver.support import expected_conditions as EC\n",
        "import time\n",
        "import regex\n",
        "from tqdm import tqdm\n",
        "from random import randint\n",
        "\n",
        "details = []\n",
        "for id, project in tqdm(ds_detail_projects.iterrows(), total=ds_detail_projects.shape[0]):\n",
        "    gender= project[\"gender\"]\n",
        "    link = project[\"url\"]\n",
        "    tipo =project['type']\n",
        "    brand = \"\"\n",
        "    name = \"\"\n",
        "    colour=\"\"\n",
        "    Detail=\"\"\n",
        "    Material=\"\"\n",
        "    print(link)\n",
        "   # try:\n",
        "    wd.set_window_size(1920, 1080)\n",
        "    wd.get(link)\n",
        "    try:\n",
        "      WebDriverWait(wd, 6).until(\n",
        "          EC.element_to_be_clickable((By.ID, \"PutItemInWkMainBtn\"))\n",
        "      )\n",
        "    except:\n",
        "      continue\n",
        "   #   try:\n",
        "   #     WebDriverWait(wd, 10).until(\n",
        "   #          EC.element_to_be_clickable((By.ID, \"back-project-button\"))\n",
        "   #     )\n",
        "   #   except:\n",
        "   #     continue\n",
        "    wd.save_screenshot(f'screenshot_{id}.png')\n",
        "    brand = wd.find_elements_by_css_selector(\"span.text-upercase.shades-text.text-greydarkText\")\n",
        "    name = wd.find_elements_by_css_selector('div h1 span[itemprop=name]')#mettere [0]\n",
        "    colour = wd.find_elements_by_css_selector(\"div.full\")#mettere [0]\n",
        "    Detail = wd.find_elements_by_css_selector('div.prodDetailDesc')\n",
        "    Material = wd.find_elements_by_css_selector('span.td') #mettere [0]   \n",
        "    try:\n",
        "      if(len(brand) > 0):\n",
        "        brand = brand[0].text\n",
        "    except:\n",
        "      pass\n",
        "    try:\n",
        "      if(len(name) > 0):\n",
        "        name = name[0].text\n",
        "    except:\n",
        "      pass      \n",
        "    try:\n",
        "      colore=[]\n",
        "      for i in range(1, len(colour)):\n",
        "       colore.append(colour[i-1].text.replace(\"\\n\",\"-\"))\n",
        "    except:\n",
        "      pass\n",
        "    try:\n",
        "      if(len(Detail) > 0):\n",
        "        Detail = Detail[0].text\n",
        "    except:\n",
        "      pass      \n",
        "    try:\n",
        "      if(len(Material) > 0):\n",
        "        Material = Material[0].text\n",
        "    except:\n",
        "      pass\n",
        "\n",
        "   # except Exception as e:\n",
        "    #  print(e)\n",
        "    details.append({'id': id,\n",
        "                    'url': link,\n",
        "                    'name': name,\n",
        "                    'brand': brand,\n",
        "                    'colour': colore,\n",
        "                    'Detail': Detail,\n",
        "                    'Material': Material,\n",
        "                    'Sex':gender,\n",
        "                    'tipo':tipo,\n",
        "                    })\n",
        "    \n",
        "  \n",
        "print(len(details))\n",
        "pprint.pprint(details)\n"
      ],
      "execution_count": null,
      "outputs": [
        {
          "output_type": "stream",
          "text": [
            "\r  0%|          | 0/1066 [00:00<?, ?it/s]"
          ],
          "name": "stderr"
        },
        {
          "output_type": "stream",
          "text": [
            "https://www.sportler.com/it/p/nike-dri-fit-miler-wild-run-graphic-running-maglia-running-uomo-10886958?filterFarbe=Black\n"
          ],
          "name": "stdout"
        },
        {
          "output_type": "stream",
          "text": [
            "\r  0%|          | 1/1066 [00:01<33:38,  1.90s/it]"
          ],
          "name": "stderr"
        },
        {
          "output_type": "stream",
          "text": [
            "https://www.sportler.com/it/p/nike-pacer-1-2-zip-running-maglia-running-a-maniche-lunghe-uomo-10886946?filterFarbe=Grey\n"
          ],
          "name": "stdout"
        },
        {
          "output_type": "stream",
          "text": [
            "\r  0%|          | 2/1066 [00:03<31:15,  1.76s/it]"
          ],
          "name": "stderr"
        },
        {
          "output_type": "stream",
          "text": [
            "https://www.sportler.com/it/p/nike-flex-stride-5-brief-running-pantaloni-running-uomo-10886961?filterFarbe=Black\n"
          ],
          "name": "stdout"
        },
        {
          "output_type": "stream",
          "text": [
            "\r  0%|          | 3/1066 [00:04<29:57,  1.69s/it]"
          ],
          "name": "stderr"
        },
        {
          "output_type": "stream",
          "text": [
            "https://www.sportler.com/it/p/nike-flex-stride-5-trail-pantaloni-trail-running-uomo-10842942?filterFarbe=Green\n"
          ],
          "name": "stdout"
        },
        {
          "output_type": "stream",
          "text": [
            "\r  0%|          | 4/1066 [00:06<28:47,  1.63s/it]"
          ],
          "name": "stderr"
        },
        {
          "output_type": "stream",
          "text": [
            "https://www.sportler.com/it/p/adidas-yg-essentials-linear-pantaloni-lunghi-fitness-bambino-10893181?filterFarbe=Black\n"
          ],
          "name": "stdout"
        },
        {
          "output_type": "stream",
          "text": [
            "\r  0%|          | 5/1066 [00:07<27:00,  1.53s/it]"
          ],
          "name": "stderr"
        },
        {
          "output_type": "stream",
          "text": [
            "https://www.sportler.com/it/p/adidas-own-the-run-pantaloni-corti-running-uomo-10892539?filterFarbe=Black\n"
          ],
          "name": "stdout"
        },
        {
          "output_type": "stream",
          "text": [
            "\r  1%|          | 6/1066 [00:08<25:52,  1.46s/it]"
          ],
          "name": "stderr"
        },
        {
          "output_type": "stream",
          "text": [
            "https://www.sportler.com/it/p/adidas-adi-runner-maglia-running-uomo-10892532?filterFarbe=Grey\n"
          ],
          "name": "stdout"
        },
        {
          "output_type": "stream",
          "text": [
            "\r  1%|          | 7/1066 [00:10<25:18,  1.43s/it]"
          ],
          "name": "stderr"
        },
        {
          "output_type": "stream",
          "text": [
            "https://www.sportler.com/it/p/nike-techknit-future-fast-run-maglia-running-uomo-10886945?filterFarbe=Green\n"
          ],
          "name": "stdout"
        },
        {
          "output_type": "stream",
          "text": [
            "\r  1%|          | 8/1066 [00:11<25:12,  1.43s/it]"
          ],
          "name": "stderr"
        },
        {
          "output_type": "stream",
          "text": [
            "https://www.sportler.com/it/p/adidas-terrex-agravic-all.around-maglia-trail-running-uomo-10892648?filterFarbe=White\n"
          ],
          "name": "stdout"
        },
        {
          "output_type": "stream",
          "text": [
            "\r  1%|          | 9/1066 [00:14<30:24,  1.73s/it]"
          ],
          "name": "stderr"
        },
        {
          "output_type": "stream",
          "text": [
            "https://www.sportler.com/it/p/adidas-terrex-agravic-all.around-pantaloni-corti-trail-running-uomo-10892649?filterFarbe=Black\n"
          ],
          "name": "stdout"
        },
        {
          "output_type": "stream",
          "text": [
            "\r  1%|          | 10/1066 [00:15<28:38,  1.63s/it]"
          ],
          "name": "stderr"
        },
        {
          "output_type": "stream",
          "text": [
            "https://www.sportler.com/it/p/nike-dri-fit-miler-maglia-running-uomo-10886960?filterFarbe=Red\n"
          ],
          "name": "stdout"
        },
        {
          "output_type": "stream",
          "text": [
            "\r  1%|          | 11/1066 [00:16<27:35,  1.57s/it]"
          ],
          "name": "stderr"
        },
        {
          "output_type": "stream",
          "text": [
            "https://www.sportler.com/it/p/nike-breathe-rise-365-hybrid-maglia-running-uomo-10886939?filterFarbe=Blue\n"
          ],
          "name": "stdout"
        },
        {
          "output_type": "stream",
          "text": [
            "\r  1%|          | 12/1066 [00:18<26:41,  1.52s/it]"
          ],
          "name": "stderr"
        },
        {
          "output_type": "stream",
          "text": [
            "https://www.sportler.com/it/p/nike-run-division-adapt-running-top-running-uomo-10886947?filterFarbe=Black\n"
          ],
          "name": "stdout"
        },
        {
          "output_type": "stream",
          "text": [
            "\r  1%|          | 13/1066 [00:19<26:02,  1.48s/it]"
          ],
          "name": "stderr"
        },
        {
          "output_type": "stream",
          "text": [
            "https://www.sportler.com/it/p/nike-dri-fit-full-zip-training-hoodie-giacca-running-uomo-10898280?filterFarbe=Black\n"
          ],
          "name": "stdout"
        },
        {
          "output_type": "stream",
          "text": [
            "\r  1%|▏         | 14/1066 [00:21<25:37,  1.46s/it]"
          ],
          "name": "stderr"
        },
        {
          "output_type": "stream",
          "text": [
            "https://www.sportler.com/it/p/nike-dri-fit-miler-running-top-running-uomo-10886941?filterFarbe=Red\n"
          ],
          "name": "stdout"
        },
        {
          "output_type": "stream",
          "text": [
            "\r  1%|▏         | 15/1066 [00:22<25:20,  1.45s/it]"
          ],
          "name": "stderr"
        },
        {
          "output_type": "stream",
          "text": [
            "https://www.sportler.com/it/p/nike-flex-stride-7-2-in-1-running-pantaloni-running-uomo-10898276?filterFarbe=Black\n"
          ],
          "name": "stdout"
        },
        {
          "output_type": "stream",
          "text": [
            "\r  2%|▏         | 16/1066 [00:26<36:20,  2.08s/it]"
          ],
          "name": "stderr"
        },
        {
          "output_type": "stream",
          "text": [
            "https://www.sportler.com/it/p/icebreaker-zona-anatomica-lunga-boxer-uomo-10921362?filterFarbe=Black\n"
          ],
          "name": "stdout"
        },
        {
          "output_type": "stream",
          "text": [
            "\r  2%|▏         | 17/1066 [00:27<32:55,  1.88s/it]"
          ],
          "name": "stderr"
        },
        {
          "output_type": "stream",
          "text": [
            "https://www.sportler.com/it/p/uyn-activyon-running-pantaloni-corti-running-uomo-10865522?filterFarbe=Black\n"
          ],
          "name": "stdout"
        },
        {
          "output_type": "stream",
          "text": [
            "\r  2%|▏         | 18/1066 [00:28<30:21,  1.74s/it]"
          ],
          "name": "stderr"
        },
        {
          "output_type": "stream",
          "text": [
            "https://www.sportler.com/it/p/rab-scree-gaiter-ghette-10846115?filterFarbe=Grey\n"
          ],
          "name": "stdout"
        },
        {
          "output_type": "stream",
          "text": [
            "\r  2%|▏         | 19/1066 [00:30<27:41,  1.59s/it]"
          ],
          "name": "stderr"
        },
        {
          "output_type": "stream",
          "text": [
            "https://www.sportler.com/it/p/dynafit-speed-w-reggiseno-sportivo-a-sostegno-elevato-donna-10895682?filterFarbe=Black%2FPink\n"
          ],
          "name": "stdout"
        },
        {
          "output_type": "stream",
          "text": [
            "\r  2%|▏         | 20/1066 [00:31<26:33,  1.52s/it]"
          ],
          "name": "stderr"
        },
        {
          "output_type": "stream",
          "text": [
            "https://www.sportler.com/it/p/dynafit-transalper-dst-jeans-pantaloni-corti-trail-running-uomo-10872135?filterFarbe=Black%2FGreen\n"
          ],
          "name": "stdout"
        },
        {
          "output_type": "stream",
          "text": [
            "\r  2%|▏         | 21/1066 [00:34<35:49,  2.06s/it]"
          ],
          "name": "stderr"
        },
        {
          "output_type": "stream",
          "text": [
            "https://www.sportler.com/it/p/nike-aeroswift-running-top-running-uomo-10877243?filterFarbe=Black\n"
          ],
          "name": "stdout"
        },
        {
          "output_type": "stream",
          "text": [
            "\r  2%|▏         | 22/1066 [00:36<32:33,  1.87s/it]"
          ],
          "name": "stderr"
        },
        {
          "output_type": "stream",
          "text": [
            "https://www.sportler.com/it/p/nike-aeroswift-2-running-pantaloni-corti-running-uomo-10877245?filterFarbe=Black\n"
          ],
          "name": "stdout"
        },
        {
          "output_type": "stream",
          "text": [
            "\r  2%|▏         | 23/1066 [00:37<30:21,  1.75s/it]"
          ],
          "name": "stderr"
        },
        {
          "output_type": "stream",
          "text": [
            "https://www.sportler.com/it/p/nike-aeroswift-running-pantaloni-corti-running-uomo-10877246?filterFarbe=Black\n"
          ],
          "name": "stdout"
        },
        {
          "output_type": "stream",
          "text": [
            "\r  2%|▏         | 24/1066 [00:39<28:51,  1.66s/it]"
          ],
          "name": "stderr"
        },
        {
          "output_type": "stream",
          "text": [
            "https://www.sportler.com/it/p/uyn-activeyon-running-top-running-uomo-10865520?filterFarbe=Green\n"
          ],
          "name": "stdout"
        },
        {
          "output_type": "stream",
          "text": [
            "\r  2%|▏         | 25/1066 [00:40<27:34,  1.59s/it]"
          ],
          "name": "stderr"
        },
        {
          "output_type": "stream",
          "text": [
            "https://www.sportler.com/it/p/uyn-running-activyon-maglia-running-uomo-10846108?filterFarbe=Dark+Green\n"
          ],
          "name": "stdout"
        },
        {
          "output_type": "stream",
          "text": [
            "\r  2%|▏         | 26/1066 [00:42<26:45,  1.54s/it]"
          ],
          "name": "stderr"
        },
        {
          "output_type": "stream",
          "text": [
            "https://www.sportler.com/it/p/uyn-running-activyon-2.0-pantaloni-corti-running-donna-10857374?filterFarbe=Black\n"
          ],
          "name": "stdout"
        },
        {
          "output_type": "stream",
          "text": [
            "\r  3%|▎         | 27/1066 [00:43<26:12,  1.51s/it]"
          ],
          "name": "stderr"
        },
        {
          "output_type": "stream",
          "text": [
            "https://www.sportler.com/it/p/getfit-running-low-calzini-corti-running-10902557?filterFarbe=Black%2FGrey%2FGreen\n"
          ],
          "name": "stdout"
        },
        {
          "output_type": "stream",
          "text": [
            "\r  3%|▎         | 28/1066 [00:47<38:18,  2.21s/it]"
          ],
          "name": "stderr"
        },
        {
          "output_type": "stream",
          "text": [
            "https://www.sportler.com/it/p/uyn-marathon-maglia-running-uomo-10908485?filterFarbe=Black\n"
          ],
          "name": "stdout"
        },
        {
          "output_type": "stream",
          "text": [
            "\r  3%|▎         | 29/1066 [00:48<34:51,  2.02s/it]"
          ],
          "name": "stderr"
        },
        {
          "output_type": "stream",
          "text": [
            "https://www.sportler.com/it/p/biciclista-mascherina-protettiva-10903271?filterFarbe=Blue%2FYellow\n"
          ],
          "name": "stdout"
        },
        {
          "output_type": "stream",
          "text": [
            "\r  3%|▎         | 30/1066 [00:50<31:49,  1.84s/it]"
          ],
          "name": "stderr"
        },
        {
          "output_type": "stream",
          "text": [
            "https://www.sportler.com/it/p/biciclista-mascherina-protettiva-10903275?filterFarbe=Green%2FOrange\n"
          ],
          "name": "stdout"
        },
        {
          "output_type": "stream",
          "text": [
            "\r  3%|▎         | 31/1066 [00:51<29:22,  1.70s/it]"
          ],
          "name": "stderr"
        },
        {
          "output_type": "stream",
          "text": [
            "https://www.sportler.com/it/p/bv-sport-rtech-maglia-running-a-compressione-uomo-10872765?filterFarbe=Black%2FGrey\n"
          ],
          "name": "stdout"
        },
        {
          "output_type": "stream",
          "text": [
            "\r  3%|▎         | 32/1066 [00:53<27:51,  1.62s/it]"
          ],
          "name": "stderr"
        },
        {
          "output_type": "stream",
          "text": [
            "https://www.sportler.com/it/p/bv-sport-triathlon-3x100-completo-triathlon-uomo-10872769?filterFarbe=White%2FRed%2FBlack\n"
          ],
          "name": "stdout"
        },
        {
          "output_type": "stream",
          "text": [
            "\r  3%|▎         | 33/1066 [00:54<26:20,  1.53s/it]"
          ],
          "name": "stderr"
        },
        {
          "output_type": "stream",
          "text": [
            "https://www.sportler.com/it/p/bv-sport-trifonction-3x200-completo-triathlon-uomo-10872766?filterFarbe=White%2FBlack%2FRed\n"
          ],
          "name": "stdout"
        },
        {
          "output_type": "stream",
          "text": [
            "\r  3%|▎         | 34/1066 [00:55<25:09,  1.46s/it]"
          ],
          "name": "stderr"
        },
        {
          "output_type": "stream",
          "text": [
            "https://www.sportler.com/it/p/karpos-lavaredo-pantaloni-trailrunning-uomo-10899771?filterFarbe=Black\n"
          ],
          "name": "stdout"
        },
        {
          "output_type": "stream",
          "text": [
            "\r  3%|▎         | 35/1066 [00:57<24:51,  1.45s/it]"
          ],
          "name": "stderr"
        },
        {
          "output_type": "stream",
          "text": [
            "https://www.sportler.com/it/p/karpos-lavaredo-pantaloni-corti-trail-running-uomo-10899763?filterFarbe=Black\n"
          ],
          "name": "stdout"
        },
        {
          "output_type": "stream",
          "text": [
            "\r  3%|▎         | 36/1066 [00:58<24:27,  1.42s/it]"
          ],
          "name": "stderr"
        },
        {
          "output_type": "stream",
          "text": [
            "https://www.sportler.com/it/p/karpos-lavaredo-tech-maglia-trail-running-uomo-10873983?filterFarbe=Blue\n"
          ],
          "name": "stdout"
        },
        {
          "output_type": "stream",
          "text": [
            "\r  3%|▎         | 37/1066 [01:00<24:38,  1.44s/it]"
          ],
          "name": "stderr"
        },
        {
          "output_type": "stream",
          "text": [
            "https://www.sportler.com/it/p/rab-sonic-ss-zip-t-shirt-tecnica-uomo-10872758?filterFarbe=Blue\n"
          ],
          "name": "stdout"
        },
        {
          "output_type": "stream",
          "text": [
            "\r  4%|▎         | 38/1066 [01:01<24:00,  1.40s/it]"
          ],
          "name": "stderr"
        },
        {
          "output_type": "stream",
          "text": [
            "https://www.sportler.com/it/p/uyn-run-active-2-pack-calzini-running-10900995?filterFarbe=White%2FBlack\n"
          ],
          "name": "stdout"
        },
        {
          "output_type": "stream",
          "text": [
            "\r  4%|▎         | 39/1066 [01:02<23:47,  1.39s/it]"
          ],
          "name": "stderr"
        },
        {
          "output_type": "stream",
          "text": [
            "https://www.sportler.com/it/p/uyn-running-activyon-top-running-uomo-10898285?filterFarbe=Black\n"
          ],
          "name": "stdout"
        },
        {
          "output_type": "stream",
          "text": [
            "\r  4%|▍         | 40/1066 [01:05<28:22,  1.66s/it]"
          ],
          "name": "stderr"
        },
        {
          "output_type": "stream",
          "text": [
            "https://www.sportler.com/it/p/dynafit-speed-dryarn-m-pantaloni-corti-trailrunning-a-compressione-uomo-10895438?filterFarbe=Black%2FGrey\n"
          ],
          "name": "stdout"
        },
        {
          "output_type": "stream",
          "text": [
            "\r  4%|▍         | 41/1066 [01:06<26:39,  1.56s/it]"
          ],
          "name": "stderr"
        },
        {
          "output_type": "stream",
          "text": [
            "https://www.sportler.com/it/p/rab-pulse-ss-maglietta-tecnica-uomo-10872741?filterFarbe=Blue\n"
          ],
          "name": "stdout"
        },
        {
          "output_type": "stream",
          "text": [
            "\r  4%|▍         | 42/1066 [01:07<25:31,  1.50s/it]"
          ],
          "name": "stderr"
        },
        {
          "output_type": "stream",
          "text": [
            "https://www.sportler.com/it/p/buff-coolnet-uv-insect-scaldacollo-10864009?filterFarbe=Grey%2FGreen\n"
          ],
          "name": "stdout"
        },
        {
          "output_type": "stream",
          "text": [
            "\r  4%|▍         | 43/1066 [01:09<25:19,  1.49s/it]"
          ],
          "name": "stderr"
        },
        {
          "output_type": "stream",
          "text": [
            "https://www.sportler.com/it/p/odlo-ceramicool-pro-t-shirt-uomo-10894151?filterFarbe=Green\n"
          ],
          "name": "stdout"
        },
        {
          "output_type": "stream",
          "text": [
            "\r  4%|▍         | 44/1066 [01:10<24:56,  1.46s/it]"
          ],
          "name": "stderr"
        },
        {
          "output_type": "stream",
          "text": [
            "https://www.sportler.com/it/p/uyn-energyon-uw-maglietta-tecnica-senza-maniche-uomo-10865580?filterFarbe=Black\n"
          ],
          "name": "stdout"
        },
        {
          "output_type": "stream",
          "text": [
            "\r  4%|▍         | 45/1066 [01:12<24:46,  1.46s/it]"
          ],
          "name": "stderr"
        },
        {
          "output_type": "stream",
          "text": [
            "https://www.sportler.com/it/p/uyn-energy-on-uw-maglietta-tecnica-uomo-10862928?filterFarbe=Black\n"
          ],
          "name": "stdout"
        },
        {
          "output_type": "stream",
          "text": [
            "\r  4%|▍         | 46/1066 [01:13<24:48,  1.46s/it]"
          ],
          "name": "stderr"
        },
        {
          "output_type": "stream",
          "text": [
            "https://www.sportler.com/it/p/under-armour-launch-sw-7-graphic-pantaloni-corti-running-uomo-10840932?filterFarbe=Black\n"
          ],
          "name": "stdout"
        },
        {
          "output_type": "stream",
          "text": [
            "\r  4%|▍         | 47/1066 [01:14<24:45,  1.46s/it]"
          ],
          "name": "stderr"
        },
        {
          "output_type": "stream",
          "text": [
            "https://www.sportler.com/it/p/buff-coolnet-uv-slim-fascia-paraorecchie-10864287?filterFarbe=Green\n"
          ],
          "name": "stdout"
        },
        {
          "output_type": "stream",
          "text": [
            "\r  5%|▍         | 48/1066 [01:16<24:18,  1.43s/it]"
          ],
          "name": "stderr"
        },
        {
          "output_type": "stream",
          "text": [
            "https://www.sportler.com/it/p/buff-coolnet-uv-multifunctional-fascia-paraorecchie-10864298?filterFarbe=Grey\n"
          ],
          "name": "stdout"
        },
        {
          "output_type": "stream",
          "text": [
            "\r  5%|▍         | 49/1066 [01:17<24:24,  1.44s/it]"
          ],
          "name": "stderr"
        },
        {
          "output_type": "stream",
          "text": [
            "https://www.sportler.com/it/p/buff-coolnet-uv-fascia-paraorecchie-10864286?filterFarbe=Green\n"
          ],
          "name": "stdout"
        },
        {
          "output_type": "stream",
          "text": [
            "\r  5%|▍         | 50/1066 [01:19<25:01,  1.48s/it]"
          ],
          "name": "stderr"
        },
        {
          "output_type": "stream",
          "text": [
            "https://www.sportler.com/it/p/buff-hairband-fascia-per-capelli-10864299?filterFarbe=Pink%2FBlue%2FViolet\n"
          ],
          "name": "stdout"
        },
        {
          "output_type": "stream",
          "text": [
            "\r  5%|▍         | 51/1066 [01:21<30:13,  1.79s/it]"
          ],
          "name": "stderr"
        },
        {
          "output_type": "stream",
          "text": [
            "https://www.sportler.com/it/p/buff-pro-run-cappellino-trail-running-uomo-10863988?filterFarbe=Black\n"
          ],
          "name": "stdout"
        },
        {
          "output_type": "stream",
          "text": [
            "\r  5%|▍         | 52/1066 [01:23<27:37,  1.63s/it]"
          ],
          "name": "stderr"
        },
        {
          "output_type": "stream",
          "text": [
            "https://www.sportler.com/it/p/buff-original-scaldacollo-10892798?filterFarbe=Blue%2FBlack\n"
          ],
          "name": "stdout"
        },
        {
          "output_type": "stream",
          "text": [
            "\r  5%|▍         | 53/1066 [01:24<27:03,  1.60s/it]"
          ],
          "name": "stderr"
        },
        {
          "output_type": "stream",
          "text": [
            "https://www.sportler.com/it/p/nike-element-running-giacca-running-uomo-10836690?filterFarbe=Black\n"
          ],
          "name": "stdout"
        },
        {
          "output_type": "stream",
          "text": [
            "\r  5%|▌         | 54/1066 [01:26<26:01,  1.54s/it]"
          ],
          "name": "stderr"
        },
        {
          "output_type": "stream",
          "text": [
            "https://www.sportler.com/it/p/under-armour-launch-sw-5-graphic-pantaloni-corti-running-uomo-10840931?filterFarbe=Black\n"
          ],
          "name": "stdout"
        },
        {
          "output_type": "stream",
          "text": [
            "\r  5%|▌         | 55/1066 [01:27<25:26,  1.51s/it]"
          ],
          "name": "stderr"
        },
        {
          "output_type": "stream",
          "text": [
            "https://www.sportler.com/it/p/getfit-running-wind-giacca-running-uomo-10864305?filterFarbe=Black\n"
          ],
          "name": "stdout"
        },
        {
          "output_type": "stream",
          "text": [
            "\r  5%|▌         | 56/1066 [01:29<27:05,  1.61s/it]"
          ],
          "name": "stderr"
        },
        {
          "output_type": "stream",
          "text": [
            "https://www.sportler.com/it/p/adidas-fast-gfx-maglia-running-a-maniche-lunghe-uomo-10839716?filterFarbe=Black\n"
          ],
          "name": "stdout"
        },
        {
          "output_type": "stream",
          "text": [
            "\r  5%|▌         | 57/1066 [01:30<25:50,  1.54s/it]"
          ],
          "name": "stderr"
        },
        {
          "output_type": "stream",
          "text": [
            "https://www.sportler.com/it/p/salomon-outline-mid-giacca-in-pile-uomo-10865279?filterFarbe=Green\n"
          ],
          "name": "stdout"
        },
        {
          "output_type": "stream",
          "text": [
            "\r  5%|▌         | 58/1066 [01:32<25:04,  1.49s/it]"
          ],
          "name": "stderr"
        },
        {
          "output_type": "stream",
          "text": [
            "https://www.sportler.com/it/p/icebreaker-anatomica-briefs-slip-funzionale-uomo-10869815?filterFarbe=Black\n"
          ],
          "name": "stdout"
        },
        {
          "output_type": "stream",
          "text": [
            "\r  6%|▌         | 59/1066 [01:33<24:57,  1.49s/it]"
          ],
          "name": "stderr"
        },
        {
          "output_type": "stream",
          "text": [
            "https://www.sportler.com/it/p/uyn-motyon-2.0-maglietta-tecnica-uomo-10865500?filterFarbe=Black\n"
          ],
          "name": "stdout"
        },
        {
          "output_type": "stream",
          "text": [
            "\r  6%|▌         | 60/1066 [01:35<24:56,  1.49s/it]"
          ],
          "name": "stderr"
        },
        {
          "output_type": "stream",
          "text": [
            "https://www.sportler.com/it/p/adidas-own-the-run-2n1-pantaloni-running-uomo-10839718?filterFarbe=Black%2FRed\n"
          ],
          "name": "stdout"
        },
        {
          "output_type": "stream",
          "text": [
            "\r  6%|▌         | 61/1066 [01:38<33:46,  2.02s/it]"
          ],
          "name": "stderr"
        },
        {
          "output_type": "stream",
          "text": [
            "https://www.sportler.com/it/p/on-lightweight-pantaloni-corti-running-uomo-10838392?filterFarbe=Black\n"
          ],
          "name": "stdout"
        },
        {
          "output_type": "stream",
          "text": [
            "\r  6%|▌         | 62/1066 [01:39<30:19,  1.81s/it]"
          ],
          "name": "stderr"
        },
        {
          "output_type": "stream",
          "text": [
            "https://www.sportler.com/it/p/x-bionic-energizer-mk3-lt-singlet-maglietta-tecnica-uomo-10756200?filterFarbe=Black\n"
          ],
          "name": "stdout"
        },
        {
          "output_type": "stream",
          "text": [
            "\r  6%|▌         | 63/1066 [01:42<34:14,  2.05s/it]"
          ],
          "name": "stderr"
        },
        {
          "output_type": "stream",
          "text": [
            "https://www.sportler.com/it/p/odlo-millennium-linencool-maglia-running-uomo-10839967?filterFarbe=Grey\n"
          ],
          "name": "stdout"
        },
        {
          "output_type": "stream",
          "text": [
            "\r  6%|▌         | 64/1066 [01:47<47:47,  2.86s/it]"
          ],
          "name": "stderr"
        },
        {
          "output_type": "stream",
          "text": [
            "https://www.sportler.com/it/p/dynafit-alpine-2-pantaloni-corti-trail-running-uomo-10872120?filterFarbe=Black%2FDark+Grey\n"
          ],
          "name": "stdout"
        },
        {
          "output_type": "stream",
          "text": [
            "\r  6%|▌         | 65/1066 [01:48<40:40,  2.44s/it]"
          ],
          "name": "stderr"
        },
        {
          "output_type": "stream",
          "text": [
            "https://www.sportler.com/it/p/odlo-2-in-1-millennium-pro-pantaloni-running-uomo-10839964?filterFarbe=Black\n"
          ],
          "name": "stdout"
        },
        {
          "output_type": "stream",
          "text": [
            "\r  6%|▌         | 66/1066 [01:55<1:01:42,  3.70s/it]"
          ],
          "name": "stderr"
        },
        {
          "output_type": "stream",
          "text": [
            "https://www.sportler.com/it/p/salomon-exo-motion-twinskin-pantaloni-trail-running-uomo-10839241?filterFarbe=Red\n"
          ],
          "name": "stdout"
        },
        {
          "output_type": "stream",
          "text": [
            "\r  6%|▋         | 67/1066 [01:56<50:37,  3.04s/it]  "
          ],
          "name": "stderr"
        },
        {
          "output_type": "stream",
          "text": [
            "https://www.sportler.com/it/p/adidas-own-the-run-maglia-running-uomo-10839713?filterFarbe=White\n"
          ],
          "name": "stdout"
        },
        {
          "output_type": "stream",
          "text": [
            "\r  6%|▋         | 68/1066 [01:57<42:15,  2.54s/it]"
          ],
          "name": "stderr"
        },
        {
          "output_type": "stream",
          "text": [
            "https://www.sportler.com/it/p/adidas-otr-singlet-3s-top-running-uomo-10839939?filterFarbe=Orange\n"
          ],
          "name": "stdout"
        },
        {
          "output_type": "stream",
          "text": [
            "\r  6%|▋         | 69/1066 [01:59<36:58,  2.23s/it]"
          ],
          "name": "stderr"
        },
        {
          "output_type": "stream",
          "text": [
            "https://www.sportler.com/it/p/getfit-perry-pantaloni-running-uomo-10864302?filterFarbe=Black\n"
          ],
          "name": "stdout"
        },
        {
          "output_type": "stream",
          "text": [
            "\r  7%|▋         | 70/1066 [02:00<33:10,  2.00s/it]"
          ],
          "name": "stderr"
        },
        {
          "output_type": "stream",
          "text": [
            "https://www.sportler.com/it/p/getfit-brent-top-running-uomo-10864297?filterFarbe=Grey\n"
          ],
          "name": "stdout"
        },
        {
          "output_type": "stream",
          "text": [
            "\r  7%|▋         | 71/1066 [02:02<29:59,  1.81s/it]"
          ],
          "name": "stderr"
        },
        {
          "output_type": "stream",
          "text": [
            "https://www.sportler.com/it/p/getfit-dorian-maglia-running-uomo-10864296?filterFarbe=Light+Blue\n"
          ],
          "name": "stdout"
        },
        {
          "output_type": "stream",
          "text": [
            "\r  7%|▋         | 72/1066 [02:04<33:51,  2.04s/it]"
          ],
          "name": "stderr"
        },
        {
          "output_type": "stream",
          "text": [
            "https://www.sportler.com/it/p/getfit-billy-5-pantaloni-corti-running-uomo-10864301?filterFarbe=Black\n"
          ],
          "name": "stdout"
        },
        {
          "output_type": "stream",
          "text": [
            "\r  7%|▋         | 73/1066 [02:07<38:13,  2.31s/it]"
          ],
          "name": "stderr"
        },
        {
          "output_type": "stream",
          "text": [
            "https://www.sportler.com/it/p/getfit-quentin-maglia-running-uomo-10864303?filterFarbe=Grey\n"
          ],
          "name": "stdout"
        },
        {
          "output_type": "stream",
          "text": [
            "\r  7%|▋         | 74/1066 [02:09<34:25,  2.08s/it]"
          ],
          "name": "stderr"
        },
        {
          "output_type": "stream",
          "text": [
            "https://www.sportler.com/it/p/nike-running-pantaloni-running-uomo-10829938?filterFarbe=Black\n"
          ],
          "name": "stdout"
        },
        {
          "output_type": "stream",
          "text": [
            "\r  7%|▋         | 75/1066 [02:10<30:54,  1.87s/it]"
          ],
          "name": "stderr"
        },
        {
          "output_type": "stream",
          "text": [
            "https://www.sportler.com/it/p/la-sportiva-advance-maglia-trail-running-uomo-10618422?filterFarbe=Light+Blue%2FBlue\n"
          ],
          "name": "stdout"
        },
        {
          "output_type": "stream",
          "text": [
            "\r  7%|▋         | 76/1066 [02:12<28:30,  1.73s/it]"
          ],
          "name": "stderr"
        },
        {
          "output_type": "stream",
          "text": [
            "https://www.sportler.com/it/p/la-sportiva-vert-top-trail-running-uomo-10839349?filterFarbe=Yellow\n"
          ],
          "name": "stdout"
        },
        {
          "output_type": "stream",
          "text": [
            "\r  7%|▋         | 77/1066 [02:13<27:17,  1.66s/it]"
          ],
          "name": "stderr"
        },
        {
          "output_type": "stream",
          "text": [
            "https://www.sportler.com/it/p/la-sportiva-slipstream-top-trail-running-uomo-10839346?filterFarbe=Black%2FYellow\n"
          ],
          "name": "stdout"
        },
        {
          "output_type": "stream",
          "text": [
            "\r  7%|▋         | 78/1066 [02:15<26:19,  1.60s/it]"
          ],
          "name": "stderr"
        },
        {
          "output_type": "stream",
          "text": [
            "https://www.sportler.com/it/p/la-sportiva-stream-maglia-trail-running-uomo-10839351?filterFarbe=Yellow%2FGrey\n"
          ],
          "name": "stdout"
        },
        {
          "output_type": "stream",
          "text": [
            "\r  7%|▋         | 79/1066 [02:16<25:22,  1.54s/it]"
          ],
          "name": "stderr"
        },
        {
          "output_type": "stream",
          "text": [
            "https://www.sportler.com/it/p/la-sportiva-complex-maglia-trail-running-uomo-10839352?filterFarbe=Blue%2FRed\n"
          ],
          "name": "stdout"
        },
        {
          "output_type": "stream",
          "text": [
            "\r  8%|▊         | 80/1066 [02:18<25:06,  1.53s/it]"
          ],
          "name": "stderr"
        },
        {
          "output_type": "stream",
          "text": [
            "https://www.sportler.com/it/p/la-sportiva-wave-maglia-trail-running-uomo-10839347?filterFarbe=Black%2FYellow\n"
          ],
          "name": "stdout"
        },
        {
          "output_type": "stream",
          "text": [
            "\r  8%|▊         | 81/1066 [02:19<25:15,  1.54s/it]"
          ],
          "name": "stderr"
        },
        {
          "output_type": "stream",
          "text": [
            "https://www.sportler.com/it/p/dynafit-elevation-maglia-trail-running-uomo-10872131?filterFarbe=Blue%2FLight+Blue\n"
          ],
          "name": "stdout"
        },
        {
          "output_type": "stream",
          "text": [
            "\r  8%|▊         | 82/1066 [02:23<35:20,  2.15s/it]"
          ],
          "name": "stderr"
        },
        {
          "output_type": "stream",
          "text": [
            "https://www.sportler.com/it/p/bv-sport-arx-manicotti-a-compressione-10872775?filterFarbe=Black\n"
          ],
          "name": "stdout"
        },
        {
          "output_type": "stream",
          "text": [
            "\r  8%|▊         | 83/1066 [02:24<31:22,  1.92s/it]"
          ],
          "name": "stderr"
        },
        {
          "output_type": "stream",
          "text": [
            "https://www.sportler.com/it/p/bv-sport-booster-original-gambali-compressivi-10845873?filterFarbe=Black\n"
          ],
          "name": "stdout"
        },
        {
          "output_type": "stream",
          "text": [
            "\r  8%|▊         | 84/1066 [02:25<28:55,  1.77s/it]"
          ],
          "name": "stderr"
        },
        {
          "output_type": "stream",
          "text": [
            "https://www.sportler.com/it/p/bv-sport-quadshort-csx-pantaloni-running-a-compressione-uomo-10872757?filterFarbe=Black\n"
          ],
          "name": "stdout"
        },
        {
          "output_type": "stream",
          "text": [
            "\r  8%|▊         | 85/1066 [02:27<27:21,  1.67s/it]"
          ],
          "name": "stderr"
        },
        {
          "output_type": "stream",
          "text": [
            "https://www.sportler.com/it/p/bv-sport-quadshort-csx-light-pantaloni-corti-a-compressione-uomo-10872762?filterFarbe=Black\n"
          ],
          "name": "stdout"
        },
        {
          "output_type": "stream",
          "text": [
            "\r  8%|▊         | 86/1066 [02:28<25:58,  1.59s/it]"
          ],
          "name": "stderr"
        },
        {
          "output_type": "stream",
          "text": [
            "https://www.sportler.com/it/p/bv-sport-csx-pro-pantaloni-corti-trail-running-a-compressione-uomo-10872754?filterFarbe=Black%2FGrey\n"
          ],
          "name": "stdout"
        },
        {
          "output_type": "stream",
          "text": [
            "\r  8%|▊         | 87/1066 [02:30<24:56,  1.53s/it]"
          ],
          "name": "stderr"
        },
        {
          "output_type": "stream",
          "text": [
            "https://www.sportler.com/it/p/salomon-agile-twinskin-pantaloni-corti-trail-running-uomo-10856924?filterFarbe=Light+Blue\n"
          ],
          "name": "stdout"
        },
        {
          "output_type": "stream",
          "text": [
            "\r  8%|▊         | 88/1066 [02:31<24:27,  1.50s/it]"
          ],
          "name": "stderr"
        },
        {
          "output_type": "stream",
          "text": [
            "https://www.sportler.com/it/p/nike-tech-pack-running-maglia-running-uomo-10830193?filterFarbe=Red\n"
          ],
          "name": "stdout"
        },
        {
          "output_type": "stream",
          "text": [
            "\r  8%|▊         | 89/1066 [02:33<24:34,  1.51s/it]"
          ],
          "name": "stderr"
        },
        {
          "output_type": "stream",
          "text": [
            "https://www.sportler.com/it/p/nike-essential-running-giacca-running-uomo-10829936?filterFarbe=Black\n"
          ],
          "name": "stdout"
        },
        {
          "output_type": "stream",
          "text": [
            "\r  8%|▊         | 90/1066 [02:34<24:01,  1.48s/it]"
          ],
          "name": "stderr"
        },
        {
          "output_type": "stream",
          "text": [
            "https://www.sportler.com/it/p/salomon-trail-gaiter-high-ghette-trailrunning-10853460?filterFarbe=Black%2FRed\n"
          ],
          "name": "stdout"
        },
        {
          "output_type": "stream",
          "text": [
            "\r  9%|▊         | 91/1066 [02:35<23:34,  1.45s/it]"
          ],
          "name": "stderr"
        },
        {
          "output_type": "stream",
          "text": [
            "https://www.sportler.com/it/p/dynafit-alpine-maglia-trail-running-uomo-10872119?filterFarbe=Grey%2FBlack%2FYellow\n"
          ],
          "name": "stdout"
        },
        {
          "output_type": "stream",
          "text": [
            "\r  9%|▊         | 92/1066 [02:37<23:12,  1.43s/it]"
          ],
          "name": "stderr"
        },
        {
          "output_type": "stream",
          "text": [
            "https://www.sportler.com/it/p/dynafit-transalper-hybrid-pantaloni-corti-speed-hiking-uomo-10872110?filterFarbe=Green%2FGrey%2FLight+Blue\n"
          ],
          "name": "stdout"
        },
        {
          "output_type": "stream",
          "text": [
            "\r  9%|▊         | 93/1066 [02:38<23:00,  1.42s/it]"
          ],
          "name": "stderr"
        },
        {
          "output_type": "stream",
          "text": [
            "https://www.sportler.com/it/p/dynafit-glockner-ultra-shakedry-giacca-in-gore-tex-uomo-10872142?filterFarbe=Grey%2FGreen\n"
          ],
          "name": "stdout"
        },
        {
          "output_type": "stream",
          "text": [
            "\r  9%|▉         | 94/1066 [02:40<22:29,  1.39s/it]"
          ],
          "name": "stderr"
        },
        {
          "output_type": "stream",
          "text": [
            "https://www.sportler.com/it/p/salomon-agile-training-t-shirt-uomo-10838993?filterFarbe=Grey\n"
          ],
          "name": "stdout"
        },
        {
          "output_type": "stream",
          "text": [
            "\r  9%|▉         | 95/1066 [02:41<22:22,  1.38s/it]"
          ],
          "name": "stderr"
        },
        {
          "output_type": "stream",
          "text": [
            "https://www.sportler.com/it/p/gore-wear-r5-maglia-running-uomo-10839518?filterFarbe=Grey%2FGreen\n"
          ],
          "name": "stdout"
        },
        {
          "output_type": "stream",
          "text": [
            "\r  9%|▉         | 96/1066 [02:42<22:18,  1.38s/it]"
          ],
          "name": "stderr"
        },
        {
          "output_type": "stream",
          "text": [
            "https://www.sportler.com/it/p/gore-wear-r7-partial-gore-tex-infinium-gilet-running-uomo-10839516?filterFarbe=Dark+Blue%2FLight+Blue\n"
          ],
          "name": "stdout"
        },
        {
          "output_type": "stream",
          "text": [
            "\r  9%|▉         | 97/1066 [02:45<29:17,  1.81s/it]"
          ],
          "name": "stderr"
        },
        {
          "output_type": "stream",
          "text": [
            "https://www.sportler.com/it/p/nike-dri-fit-miler-running-maglia-running-uomo-10836689?filterFarbe=White\n"
          ],
          "name": "stdout"
        },
        {
          "output_type": "stream",
          "text": [
            "\r  9%|▉         | 98/1066 [02:46<27:04,  1.68s/it]"
          ],
          "name": "stderr"
        },
        {
          "output_type": "stream",
          "text": [
            "https://www.sportler.com/it/p/nike-techknit-ultra-running-maglia-running-uomo-10830189?filterFarbe=Light+Blue\n"
          ],
          "name": "stdout"
        },
        {
          "output_type": "stream",
          "text": [
            "\r  9%|▉         | 99/1066 [02:48<26:21,  1.64s/it]"
          ],
          "name": "stderr"
        },
        {
          "output_type": "stream",
          "text": [
            "https://www.sportler.com/it/p/nike-phenom-running-pantaloni-running-uomo-10840658?filterFarbe=Black\n"
          ],
          "name": "stdout"
        },
        {
          "output_type": "stream",
          "text": [
            "\r  9%|▉         | 100/1066 [02:49<25:06,  1.56s/it]"
          ],
          "name": "stderr"
        },
        {
          "output_type": "stream",
          "text": [
            "https://www.sportler.com/it/p/nike-tech-pack-running-pantaloni-running-uomo-10830191?filterFarbe=Black\n"
          ],
          "name": "stdout"
        },
        {
          "output_type": "stream",
          "text": [
            "\r  9%|▉         | 101/1066 [02:51<23:49,  1.48s/it]"
          ],
          "name": "stderr"
        },
        {
          "output_type": "stream",
          "text": [
            "https://www.sportler.com/it/p/under-armour-qualifier-iso-chill-run-singlet-top-running-uomo-10840916?filterFarbe=Black\n"
          ],
          "name": "stdout"
        },
        {
          "output_type": "stream",
          "text": [
            "\r 10%|▉         | 102/1066 [02:57<49:13,  3.06s/it]"
          ],
          "name": "stderr"
        },
        {
          "output_type": "stream",
          "text": [
            "https://www.sportler.com/it/p/under-armour-launch-sw-5-pantaloni-corti-running-uomo-10840906?filterFarbe=Black\n"
          ],
          "name": "stdout"
        },
        {
          "output_type": "stream",
          "text": [
            "\r 10%|▉         | 103/1066 [03:03<59:18,  3.70s/it]"
          ],
          "name": "stderr"
        },
        {
          "output_type": "stream",
          "text": [
            "https://www.sportler.com/it/p/under-armour-qualifier-iso-chill-printed-run-maglia-running-uomo-10840912?filterFarbe=Black\n"
          ],
          "name": "stdout"
        },
        {
          "output_type": "stream",
          "text": [
            "\r 10%|▉         | 104/1066 [03:04<48:26,  3.02s/it]"
          ],
          "name": "stderr"
        },
        {
          "output_type": "stream",
          "text": [
            "https://www.sportler.com/it/p/under-armour-streaker-2.0-shift-crew-maglia-running-uomo-10840918?filterFarbe=Black\n"
          ],
          "name": "stdout"
        },
        {
          "output_type": "stream",
          "text": [
            "\r 10%|▉         | 105/1066 [03:06<40:54,  2.55s/it]"
          ],
          "name": "stderr"
        },
        {
          "output_type": "stream",
          "text": [
            "https://www.sportler.com/it/p/under-armour-qualifier-iso-chill-run-maglia-running-uomo-10840915?filterFarbe=Black\n"
          ],
          "name": "stdout"
        },
        {
          "output_type": "stream",
          "text": [
            "\r 10%|▉         | 106/1066 [03:07<35:15,  2.20s/it]"
          ],
          "name": "stderr"
        },
        {
          "output_type": "stream",
          "text": [
            "https://www.sportler.com/it/p/under-armour-qualifier-iso-chill-printed-top-running-uomo-10840914?filterFarbe=Blue\n"
          ],
          "name": "stdout"
        },
        {
          "output_type": "stream",
          "text": [
            "\r 10%|█         | 107/1066 [03:08<31:41,  1.98s/it]"
          ],
          "name": "stderr"
        },
        {
          "output_type": "stream",
          "text": [
            "https://www.sportler.com/it/p/under-armour-storm-launch-2.0-giacca-running-uomo-10840909?filterFarbe=Black\n"
          ],
          "name": "stdout"
        },
        {
          "output_type": "stream",
          "text": [
            "\r 10%|█         | 108/1066 [03:11<32:44,  2.05s/it]"
          ],
          "name": "stderr"
        },
        {
          "output_type": "stream",
          "text": [
            "https://www.sportler.com/it/p/getfit-hi-viz-riu-calzini-running-uomo-10863409?filterFarbe=Black\n"
          ],
          "name": "stdout"
        },
        {
          "output_type": "stream",
          "text": [
            "\r 10%|█         | 109/1066 [03:12<29:23,  1.84s/it]"
          ],
          "name": "stderr"
        },
        {
          "output_type": "stream",
          "text": [
            "https://www.sportler.com/it/p/nike-dri-fit-miler-maglia-running-uomo-10829939?filterFarbe=Orange\n"
          ],
          "name": "stdout"
        },
        {
          "output_type": "stream",
          "text": [
            "\r 10%|█         | 110/1066 [03:13<27:38,  1.73s/it]"
          ],
          "name": "stderr"
        },
        {
          "output_type": "stream",
          "text": [
            "https://www.sportler.com/it/p/nike-dri-fit-miler-running-maglia-running-uomo-10829940?filterFarbe=Black\n"
          ],
          "name": "stdout"
        },
        {
          "output_type": "stream",
          "text": [
            "\r 10%|█         | 111/1066 [03:15<26:13,  1.65s/it]"
          ],
          "name": "stderr"
        },
        {
          "output_type": "stream",
          "text": [
            "https://www.sportler.com/it/p/nike-challenger-7-running-pantaloni-corti-running-uomo-10829941?filterFarbe=Black%2FWhite\n"
          ],
          "name": "stdout"
        },
        {
          "output_type": "stream",
          "text": [
            "\r 11%|█         | 112/1066 [03:16<25:16,  1.59s/it]"
          ],
          "name": "stderr"
        },
        {
          "output_type": "stream",
          "text": [
            "https://www.sportler.com/it/p/nike-dri-fit-miler-maglia-running-uomo-10830194?filterFarbe=Grey\n"
          ],
          "name": "stdout"
        },
        {
          "output_type": "stream",
          "text": [
            "\r 11%|█         | 113/1066 [03:23<49:27,  3.11s/it]"
          ],
          "name": "stderr"
        },
        {
          "output_type": "stream",
          "text": [
            "https://www.sportler.com/it/p/nike-challenger-7-running-pantaloni-corti-running-uomo-10837089?filterFarbe=Black\n"
          ],
          "name": "stdout"
        },
        {
          "output_type": "stream",
          "text": [
            "\r 11%|█         | 114/1066 [03:24<41:41,  2.63s/it]"
          ],
          "name": "stderr"
        },
        {
          "output_type": "stream",
          "text": [
            "https://www.sportler.com/it/p/nike-windrunner-running-giacca-running-uomo-10841022?filterFarbe=Grey%2FOrange\n"
          ],
          "name": "stdout"
        },
        {
          "output_type": "stream",
          "text": [
            "\r 11%|█         | 115/1066 [03:26<36:17,  2.29s/it]"
          ],
          "name": "stderr"
        },
        {
          "output_type": "stream",
          "text": [
            "https://www.sportler.com/it/p/nike-challenger-7-running-pantaloni-corti-running-uomo-10830190?filterFarbe=Black%2FGrey\n"
          ],
          "name": "stdout"
        },
        {
          "output_type": "stream",
          "text": [
            "\r 11%|█         | 116/1066 [03:29<39:03,  2.47s/it]"
          ],
          "name": "stderr"
        },
        {
          "output_type": "stream",
          "text": [
            "https://www.sportler.com/it/p/nike-tech-pack-running-maglia-running-a-maniche-lunghe-uomo-10830192?filterFarbe=Blue\n"
          ],
          "name": "stdout"
        },
        {
          "output_type": "stream",
          "text": [
            "\r 11%|█         | 117/1066 [03:30<34:18,  2.17s/it]"
          ],
          "name": "stderr"
        },
        {
          "output_type": "stream",
          "text": [
            "https://www.sportler.com/it/p/nike-long-sleeve-running-hybrid-maglia-a-maniche-lunghe-uomo-10820907?filterFarbe=Black\n"
          ],
          "name": "stdout"
        },
        {
          "output_type": "stream",
          "text": [
            "\r 11%|█         | 118/1066 [03:32<30:45,  1.95s/it]"
          ],
          "name": "stderr"
        },
        {
          "output_type": "stream",
          "text": [
            "https://www.sportler.com/it/p/nike-shield-running-giacca-running-uomo-10820584?filterFarbe=Dark+Grey\n"
          ],
          "name": "stdout"
        },
        {
          "output_type": "stream",
          "text": [
            "\r 11%|█         | 119/1066 [03:33<28:39,  1.82s/it]"
          ],
          "name": "stderr"
        },
        {
          "output_type": "stream",
          "text": [
            "https://www.sportler.com/it/p/nike-aeroloft-running-giacca-running-uomo-10832018?filterFarbe=Dark+Grey\n"
          ],
          "name": "stdout"
        },
        {
          "output_type": "stream",
          "text": [
            "\r 11%|█▏        | 120/1066 [03:35<26:53,  1.71s/it]"
          ],
          "name": "stderr"
        },
        {
          "output_type": "stream",
          "text": [
            "https://www.sportler.com/it/p/uyn-running-alpha-ow-maglia-running-uomo-10786584?filterFarbe=Black\n"
          ],
          "name": "stdout"
        },
        {
          "output_type": "stream",
          "text": [
            "\r 11%|█▏        | 121/1066 [03:36<26:00,  1.65s/it]"
          ],
          "name": "stderr"
        },
        {
          "output_type": "stream",
          "text": [
            "https://www.sportler.com/it/p/nike-phenom-running-pantaloni-running-uomo-10820902?filterFarbe=Black\n"
          ],
          "name": "stdout"
        },
        {
          "output_type": "stream",
          "text": [
            "\r 11%|█▏        | 122/1066 [03:38<24:19,  1.55s/it]"
          ],
          "name": "stderr"
        },
        {
          "output_type": "stream",
          "text": [
            "https://www.sportler.com/it/p/adidas-phx-ii-giacca-con-cappuccio-running-uomo-10788927?filterFarbe=Black\n"
          ],
          "name": "stdout"
        },
        {
          "output_type": "stream",
          "text": [
            "\r 12%|█▏        | 123/1066 [03:39<23:30,  1.50s/it]"
          ],
          "name": "stderr"
        },
        {
          "output_type": "stream",
          "text": [
            "https://www.sportler.com/it/p/nike-aeroloft-run-pantaloni-corti-running-uomo-10820585?filterFarbe=Dark+Grey\n"
          ],
          "name": "stdout"
        },
        {
          "output_type": "stream",
          "text": [
            "\r 12%|█▏        | 124/1066 [03:40<23:31,  1.50s/it]"
          ],
          "name": "stderr"
        },
        {
          "output_type": "stream",
          "text": [
            "https://www.sportler.com/it/p/uyn-cashmere-shiny-calzamaglia-uomo-10789092?filterFarbe=Grey\n"
          ],
          "name": "stdout"
        },
        {
          "output_type": "stream",
          "text": [
            "\r 12%|█▏        | 125/1066 [03:42<23:16,  1.48s/it]"
          ],
          "name": "stderr"
        },
        {
          "output_type": "stream",
          "text": [
            "https://www.sportler.com/it/p/x-bionic-energizer-4.0-p-m-calzamaglia-uomo-10791508?filterFarbe=Black\n"
          ],
          "name": "stdout"
        },
        {
          "output_type": "stream",
          "text": [
            "\r 12%|█▏        | 126/1066 [03:43<22:37,  1.44s/it]"
          ],
          "name": "stderr"
        },
        {
          "output_type": "stream",
          "text": [
            "https://www.sportler.com/it/p/nike-long-sleeve-running-felpa-running-uomo-10821214?filterFarbe=Black\n"
          ],
          "name": "stdout"
        },
        {
          "output_type": "stream",
          "text": [
            "\r 12%|█▏        | 127/1066 [03:45<22:50,  1.46s/it]"
          ],
          "name": "stderr"
        },
        {
          "output_type": "stream",
          "text": [
            "https://www.sportler.com/it/p/under-armour-rush-run-coldgear-maglia-running-con-zip-uomo-10790170?filterFarbe=Black\n"
          ],
          "name": "stdout"
        },
        {
          "output_type": "stream",
          "text": [
            "\r 12%|█▏        | 128/1066 [03:46<23:00,  1.47s/it]"
          ],
          "name": "stderr"
        },
        {
          "output_type": "stream",
          "text": [
            "https://www.sportler.com/it/p/under-armour-rush-run-coldgear-pantaloni-lunghi-running-uomo-10790171?filterFarbe=Black\n"
          ],
          "name": "stdout"
        },
        {
          "output_type": "stream",
          "text": [
            "\r 12%|█▏        | 129/1066 [03:48<22:10,  1.42s/it]"
          ],
          "name": "stderr"
        },
        {
          "output_type": "stream",
          "text": [
            "https://www.sportler.com/it/p/nike-reversible-neck-warmer-scaldacollo-10830968?filterFarbe=Black%2FGrey\n"
          ],
          "name": "stdout"
        },
        {
          "output_type": "stream",
          "text": [
            "\r 12%|█▏        | 130/1066 [03:49<21:48,  1.40s/it]"
          ],
          "name": "stderr"
        },
        {
          "output_type": "stream",
          "text": [
            "https://www.sportler.com/it/p/nike-jordan-sphere-cold-weather-guanti-10830967?filterFarbe=Black%2FGrey\n"
          ],
          "name": "stdout"
        },
        {
          "output_type": "stream",
          "text": [
            "\r 12%|█▏        | 131/1066 [03:50<21:43,  1.39s/it]"
          ],
          "name": "stderr"
        },
        {
          "output_type": "stream",
          "text": [
            "https://www.sportler.com/it/p/odlo-midlayer-1-2-zip-ceramiwarm-maglia-running-con-zip-1-2-uomo-10783254?filterFarbe=Yellow%2FLight+Grey\n"
          ],
          "name": "stdout"
        },
        {
          "output_type": "stream",
          "text": [
            "\r 12%|█▏        | 132/1066 [03:52<21:55,  1.41s/it]"
          ],
          "name": "stderr"
        },
        {
          "output_type": "stream",
          "text": [
            "https://www.sportler.com/it/p/nike-miler-long-sleeve-running-maglia-running-a-maniche-lunghe-uomo-10820911?filterFarbe=Light+Blue\n"
          ],
          "name": "stdout"
        },
        {
          "output_type": "stream",
          "text": [
            "\r 12%|█▏        | 133/1066 [03:58<46:59,  3.02s/it]"
          ],
          "name": "stderr"
        },
        {
          "output_type": "stream",
          "text": [
            "https://www.sportler.com/it/p/nike-therma-repel-running-pantaloni-running-uomo-10821217?filterFarbe=Black\n"
          ],
          "name": "stdout"
        },
        {
          "output_type": "stream",
          "text": [
            "\r 13%|█▎        | 134/1066 [04:01<45:02,  2.90s/it]"
          ],
          "name": "stderr"
        },
        {
          "output_type": "stream",
          "text": [
            "https://www.sportler.com/it/p/nike-aerolayer-run-gilet-running-uomo-10820904?filterFarbe=Black\n"
          ],
          "name": "stdout"
        },
        {
          "output_type": "stream",
          "text": [
            "\r 13%|█▎        | 135/1066 [04:02<37:47,  2.44s/it]"
          ],
          "name": "stderr"
        },
        {
          "output_type": "stream",
          "text": [
            "https://www.sportler.com/it/p/getfit-top-maglia-a-maniche-lunghe-running-uomo-10827223?filterFarbe=Black\n"
          ],
          "name": "stdout"
        },
        {
          "output_type": "stream",
          "text": [
            "\r 13%|█▎        | 136/1066 [04:04<33:29,  2.16s/it]"
          ],
          "name": "stderr"
        },
        {
          "output_type": "stream",
          "text": [
            "https://www.sportler.com/it/p/getfit-men-200-gr-pantaloni-lunghi-running-uomo-10827230?filterFarbe=Black\n"
          ],
          "name": "stdout"
        },
        {
          "output_type": "stream",
          "text": [
            "\r 13%|█▎        | 137/1066 [04:05<29:34,  1.91s/it]"
          ],
          "name": "stderr"
        },
        {
          "output_type": "stream",
          "text": [
            "https://www.sportler.com/it/p/nike-sphere-run-gloves-2.0-guanti-running-uomo-10784785?filterFarbe=Black%2FGrey\n"
          ],
          "name": "stdout"
        },
        {
          "output_type": "stream",
          "text": [
            "\r 13%|█▎        | 138/1066 [04:07<27:16,  1.76s/it]"
          ],
          "name": "stderr"
        },
        {
          "output_type": "stream",
          "text": [
            "https://www.sportler.com/it/p/nike-knitted-tech-and-grip-guanti-running-10823634?filterFarbe=Black%2FGrey\n"
          ],
          "name": "stdout"
        },
        {
          "output_type": "stream",
          "text": [
            "\r 13%|█▎        | 139/1066 [04:08<25:19,  1.64s/it]"
          ],
          "name": "stderr"
        },
        {
          "output_type": "stream",
          "text": [
            "https://www.sportler.com/it/p/nike-run-therma-sphere-hood-3.0-berretto-passamontagna-running-10784783?filterFarbe=Black%2FGrey\n"
          ],
          "name": "stdout"
        },
        {
          "output_type": "stream",
          "text": [
            "\r 13%|█▎        | 140/1066 [04:09<24:12,  1.57s/it]"
          ],
          "name": "stderr"
        },
        {
          "output_type": "stream",
          "text": [
            "https://www.sportler.com/it/p/buff-original-scaldacollo-10801283?filterFarbe=Black\n"
          ],
          "name": "stdout"
        },
        {
          "output_type": "stream",
          "text": [
            "\r 13%|█▎        | 141/1066 [04:11<23:46,  1.54s/it]"
          ],
          "name": "stderr"
        },
        {
          "output_type": "stream",
          "text": [
            "https://www.sportler.com/it/p/buff-thermonet-scaldacollo-10801285?filterFarbe=Blue%2FYellow\n"
          ],
          "name": "stdout"
        },
        {
          "output_type": "stream",
          "text": [
            "\r 13%|█▎        | 142/1066 [04:12<23:03,  1.50s/it]"
          ],
          "name": "stderr"
        },
        {
          "output_type": "stream",
          "text": [
            "https://www.sportler.com/it/p/under-armour-qualifier-camo-maglia-running-con-zip-uomo-10829011?filterFarbe=White\n"
          ],
          "name": "stdout"
        },
        {
          "output_type": "stream",
          "text": [
            "\r 13%|█▎        | 143/1066 [04:14<22:21,  1.45s/it]"
          ],
          "name": "stderr"
        },
        {
          "output_type": "stream",
          "text": [
            "https://www.sportler.com/it/p/uyn-evolutyon-calzamaglia-uomo-10789081?filterFarbe=Black\n"
          ],
          "name": "stdout"
        },
        {
          "output_type": "stream",
          "text": [
            "\r 14%|█▎        | 144/1066 [04:15<21:45,  1.42s/it]"
          ],
          "name": "stderr"
        },
        {
          "output_type": "stream",
          "text": [
            "https://www.sportler.com/it/p/uyn-ambityon-calzamaglia-uomo-10789082?filterFarbe=Grey%2FOrange%2FYellow\n"
          ],
          "name": "stdout"
        },
        {
          "output_type": "stream",
          "text": [
            "\r 14%|█▎        | 145/1066 [04:16<21:21,  1.39s/it]"
          ],
          "name": "stderr"
        },
        {
          "output_type": "stream",
          "text": [
            "https://www.sportler.com/it/p/nike-flex-stride-5-pantaloncini-running-uomo-10783230?filterFarbe=Black\n"
          ],
          "name": "stdout"
        },
        {
          "output_type": "stream",
          "text": [
            "\r 14%|█▎        | 146/1066 [04:18<22:01,  1.44s/it]"
          ],
          "name": "stderr"
        },
        {
          "output_type": "stream",
          "text": [
            "https://www.sportler.com/it/p/under-armour-qualifier-zip-maglia-running-uomo-10829020?filterFarbe=Black\n"
          ],
          "name": "stdout"
        },
        {
          "output_type": "stream",
          "text": [
            "\r 14%|█▍        | 147/1066 [04:19<21:47,  1.42s/it]"
          ],
          "name": "stderr"
        },
        {
          "output_type": "stream",
          "text": [
            "https://www.sportler.com/it/p/under-armour-outrun-the-storm-giacca-running-uomo-10829003?filterFarbe=Black\n"
          ],
          "name": "stdout"
        },
        {
          "output_type": "stream",
          "text": [
            "\r 14%|█▍        | 148/1066 [04:21<21:56,  1.43s/it]"
          ],
          "name": "stderr"
        },
        {
          "output_type": "stream",
          "text": [
            "https://www.sportler.com/it/p/under-armour-perpetual-storm-run-giacca-running-uomo-10829002?filterFarbe=Brown\n"
          ],
          "name": "stdout"
        },
        {
          "output_type": "stream",
          "text": [
            "\r 14%|█▍        | 149/1066 [04:22<21:56,  1.44s/it]"
          ],
          "name": "stderr"
        },
        {
          "output_type": "stream",
          "text": [
            "https://www.sportler.com/it/p/gore-wear-mid-long-sleeve-zip-maglia-running-con-zip-1-2-uomo-10784628?filterFarbe=Blue\n"
          ],
          "name": "stdout"
        },
        {
          "output_type": "stream",
          "text": [
            "\r 14%|█▍        | 150/1066 [04:24<22:11,  1.45s/it]"
          ],
          "name": "stderr"
        },
        {
          "output_type": "stream",
          "text": [
            "https://www.sportler.com/it/p/gore-wear-r3-mid-tights-pantaloni-running-uomo-10784641?filterFarbe=Black%2FYellow\n"
          ],
          "name": "stdout"
        },
        {
          "output_type": "stream",
          "text": [
            "\r 14%|█▍        | 151/1066 [04:25<21:36,  1.42s/it]"
          ],
          "name": "stderr"
        },
        {
          "output_type": "stream",
          "text": [
            "https://www.sportler.com/it/p/nike-dri-fit-maglia-running-uomo-10783232?filterFarbe=Black\n"
          ],
          "name": "stdout"
        },
        {
          "output_type": "stream",
          "text": [
            "\r 14%|█▍        | 152/1066 [04:26<21:07,  1.39s/it]"
          ],
          "name": "stderr"
        },
        {
          "output_type": "stream",
          "text": [
            "https://www.sportler.com/it/p/nike-flex-stride-5-running-pantaloni-corti-running-uomo-10778236?filterFarbe=Black\n"
          ],
          "name": "stdout"
        },
        {
          "output_type": "stream",
          "text": [
            "\r 14%|█▍        | 153/1066 [04:28<24:39,  1.62s/it]"
          ],
          "name": "stderr"
        },
        {
          "output_type": "stream",
          "text": [
            "https://www.sportler.com/it/p/nike-rise-365-maglia-running-uomo-10783228?filterFarbe=White\n"
          ],
          "name": "stdout"
        },
        {
          "output_type": "stream",
          "text": [
            "\r 14%|█▍        | 154/1066 [04:30<23:48,  1.57s/it]"
          ],
          "name": "stderr"
        },
        {
          "output_type": "stream",
          "text": [
            "https://www.sportler.com/it/p/nike-windrunner-giacca-running-uomo-10783227?filterFarbe=Black\n"
          ],
          "name": "stdout"
        },
        {
          "output_type": "stream",
          "text": [
            "\r 15%|█▍        | 155/1066 [04:31<22:54,  1.51s/it]"
          ],
          "name": "stderr"
        },
        {
          "output_type": "stream",
          "text": [
            "https://www.sportler.com/it/p/gore-wear-gore-tex-infinium-windstopper-gloves-guanti-running-10784652?filterFarbe=Black\n"
          ],
          "name": "stdout"
        },
        {
          "output_type": "stream",
          "text": [
            "\r 15%|█▍        | 156/1066 [04:33<22:16,  1.47s/it]"
          ],
          "name": "stderr"
        },
        {
          "output_type": "stream",
          "text": [
            "https://www.sportler.com/it/p/gore-wear-r3-thermo-tights-pantaloni-running-uomo-10784633?filterFarbe=Black\n"
          ],
          "name": "stdout"
        },
        {
          "output_type": "stream",
          "text": [
            "\r 15%|█▍        | 157/1066 [04:34<21:53,  1.45s/it]"
          ],
          "name": "stderr"
        },
        {
          "output_type": "stream",
          "text": [
            "https://www.sportler.com/it/p/gore-wear-thermo-long-sleeve-zip-maglia-running-uomo-10784626?filterFarbe=Black%2FYellow\n"
          ],
          "name": "stdout"
        },
        {
          "output_type": "stream",
          "text": [
            "\r 15%|█▍        | 158/1066 [04:36<21:58,  1.45s/it]"
          ],
          "name": "stderr"
        },
        {
          "output_type": "stream",
          "text": [
            "https://www.sportler.com/it/p/gore-wear-r5-gore-tex-infinitum-persistent-giacca-running-uomo-10784514?filterFarbe=Black%2FYellow\n"
          ],
          "name": "stdout"
        },
        {
          "output_type": "stream",
          "text": [
            "\r 15%|█▍        | 159/1066 [04:37<21:53,  1.45s/it]"
          ],
          "name": "stderr"
        },
        {
          "output_type": "stream",
          "text": [
            "https://www.sportler.com/it/p/gore-wear-c5-windstopper-insulated-pantaloni-corti-softshell-running-uomo-10784625?filterFarbe=Black\n"
          ],
          "name": "stdout"
        },
        {
          "output_type": "stream",
          "text": [
            "\r 15%|█▌        | 160/1066 [04:38<21:47,  1.44s/it]"
          ],
          "name": "stderr"
        },
        {
          "output_type": "stream",
          "text": [
            "https://www.sportler.com/it/p/nike-mesh-running-maglia-running-uomo-10780979?filterFarbe=Black\n"
          ],
          "name": "stdout"
        },
        {
          "output_type": "stream",
          "text": [
            "\r 15%|█▌        | 161/1066 [04:40<21:06,  1.40s/it]"
          ],
          "name": "stderr"
        },
        {
          "output_type": "stream",
          "text": [
            "https://www.sportler.com/it/p/nike-phenom-track-running-pantaloni-lunghi-running-uomo-10781290?filterFarbe=Grey\n"
          ],
          "name": "stdout"
        },
        {
          "output_type": "stream",
          "text": [
            "\r 15%|█▌        | 162/1066 [04:41<20:38,  1.37s/it]"
          ],
          "name": "stderr"
        },
        {
          "output_type": "stream",
          "text": [
            "https://www.sportler.com/it/p/under-armour-storm-fleece-berretto-running-uomo-10824050?filterFarbe=Black\n"
          ],
          "name": "stdout"
        },
        {
          "output_type": "stream",
          "text": [
            "\r 15%|█▌        | 163/1066 [04:42<21:05,  1.40s/it]"
          ],
          "name": "stderr"
        },
        {
          "output_type": "stream",
          "text": [
            "https://www.sportler.com/it/p/under-armour-launch-sw-7-short-pantaloni-corti-running-uomo-10702309?filterFarbe=Black%2FLight+Grey\n"
          ],
          "name": "stdout"
        },
        {
          "output_type": "stream",
          "text": [
            "\r 15%|█▌        | 164/1066 [04:44<20:51,  1.39s/it]"
          ],
          "name": "stderr"
        },
        {
          "output_type": "stream",
          "text": [
            "https://www.sportler.com/it/p/nike-packable-running-giacca-running-uomo-10781292?filterFarbe=Multicolor\n"
          ],
          "name": "stdout"
        },
        {
          "output_type": "stream",
          "text": [
            "\r 15%|█▌        | 165/1066 [04:45<20:45,  1.38s/it]"
          ],
          "name": "stderr"
        },
        {
          "output_type": "stream",
          "text": [
            "https://www.sportler.com/it/p/on-weather-shirt-maglia-running-uomo-10802446?filterFarbe=Dark+Green\n"
          ],
          "name": "stdout"
        },
        {
          "output_type": "stream",
          "text": [
            "\r 16%|█▌        | 166/1066 [04:47<21:17,  1.42s/it]"
          ],
          "name": "stderr"
        },
        {
          "output_type": "stream",
          "text": [
            "https://www.sportler.com/it/p/on-waterproof-anorak-giacca-antipioggia-uomo-10802441?filterFarbe=Blue\n"
          ],
          "name": "stdout"
        },
        {
          "output_type": "stream",
          "text": [
            "\r 16%|█▌        | 167/1066 [04:48<21:31,  1.44s/it]"
          ],
          "name": "stderr"
        },
        {
          "output_type": "stream",
          "text": [
            "https://www.sportler.com/it/p/nike-mesh-running-top-running-uomo-10781294?filterFarbe=Light+Blue\n"
          ],
          "name": "stdout"
        },
        {
          "output_type": "stream",
          "text": [
            "\r 16%|█▌        | 168/1066 [04:50<21:21,  1.43s/it]"
          ],
          "name": "stderr"
        },
        {
          "output_type": "stream",
          "text": [
            "https://www.sportler.com/it/p/nike-techknit-ultra-running-maglia-running-uomo-10780983?filterFarbe=Yellow\n"
          ],
          "name": "stdout"
        },
        {
          "output_type": "stream",
          "text": [
            "\r 16%|█▌        | 169/1066 [04:51<21:29,  1.44s/it]"
          ],
          "name": "stderr"
        },
        {
          "output_type": "stream",
          "text": [
            "https://www.sportler.com/it/p/nike-vaporknit-1-2-length-running-pantaloni-corti-running-uomo-10780981?filterFarbe=Black\n"
          ],
          "name": "stdout"
        },
        {
          "output_type": "stream",
          "text": [
            "\r 16%|█▌        | 170/1066 [04:52<21:13,  1.42s/it]"
          ],
          "name": "stderr"
        },
        {
          "output_type": "stream",
          "text": [
            "https://www.sportler.com/it/p/nike-vaporknit-2-running-pantaloni-corti-running-uomo-10780980?filterFarbe=Black\n"
          ],
          "name": "stdout"
        },
        {
          "output_type": "stream",
          "text": [
            "\r 16%|█▌        | 171/1066 [04:54<20:56,  1.40s/it]"
          ],
          "name": "stderr"
        },
        {
          "output_type": "stream",
          "text": [
            "https://www.sportler.com/it/p/nike-element-3.0-1-2-zip-running-crew-maglia-running-a-maniche-lunghe-uomo-10781307?filterFarbe=Black\n"
          ],
          "name": "stdout"
        },
        {
          "output_type": "stream",
          "text": [
            "\r 16%|█▌        | 172/1066 [04:55<21:02,  1.41s/it]"
          ],
          "name": "stderr"
        },
        {
          "output_type": "stream",
          "text": [
            "https://www.sportler.com/it/p/odlo-suw-cn-singlet-active-2-pack-maglietta-tecnica-uomo-10779387?filterFarbe=Black%2FWhite\n"
          ],
          "name": "stdout"
        },
        {
          "output_type": "stream",
          "text": [
            "\r 16%|█▌        | 173/1066 [04:58<25:37,  1.72s/it]"
          ],
          "name": "stderr"
        },
        {
          "output_type": "stream",
          "text": [
            "https://www.sportler.com/it/p/under-armour-storm-gaiter-scaldacollo-10788039?filterFarbe=Black%2FGrey\n"
          ],
          "name": "stdout"
        },
        {
          "output_type": "stream",
          "text": [
            "\r 16%|█▋        | 174/1066 [04:59<24:23,  1.64s/it]"
          ],
          "name": "stderr"
        },
        {
          "output_type": "stream",
          "text": [
            "https://www.sportler.com/it/p/adidas-25-7-runr-parley-t-shirt-running-uomo-10781918?filterFarbe=Black\n"
          ],
          "name": "stdout"
        },
        {
          "output_type": "stream",
          "text": [
            "\r 16%|█▋        | 175/1066 [05:01<23:38,  1.59s/it]"
          ],
          "name": "stderr"
        },
        {
          "output_type": "stream",
          "text": [
            "https://www.sportler.com/it/p/nike-tech-running-top-running-uomo-10780977?filterFarbe=Orange\n"
          ],
          "name": "stdout"
        },
        {
          "output_type": "stream",
          "text": [
            "\r 17%|█▋        | 176/1066 [05:02<22:41,  1.53s/it]"
          ],
          "name": "stderr"
        },
        {
          "output_type": "stream",
          "text": [
            "https://www.sportler.com/it/p/nike-running-maglia-running-uomo-10780975?filterFarbe=Light+Grey\n"
          ],
          "name": "stdout"
        },
        {
          "output_type": "stream",
          "text": [
            "\r 17%|█▋        | 177/1066 [05:03<22:04,  1.49s/it]"
          ],
          "name": "stderr"
        },
        {
          "output_type": "stream",
          "text": [
            "https://www.sportler.com/it/p/under-armour-streaker-2.0-maglia-con-zip-running-uomo-10782747?filterFarbe=Black\n"
          ],
          "name": "stdout"
        },
        {
          "output_type": "stream",
          "text": [
            "\r 17%|█▋        | 178/1066 [05:05<22:14,  1.50s/it]"
          ],
          "name": "stderr"
        },
        {
          "output_type": "stream",
          "text": [
            "https://www.sportler.com/it/p/under-armour-rush-run-canotta-running-uomo-10782998?filterFarbe=Black\n"
          ],
          "name": "stdout"
        },
        {
          "output_type": "stream",
          "text": [
            "\r 17%|█▋        | 179/1066 [05:06<22:16,  1.51s/it]"
          ],
          "name": "stderr"
        },
        {
          "output_type": "stream",
          "text": [
            "https://www.sportler.com/it/p/under-armour-qualifier-heatgear-pantaloni-running-uomo-10782759?filterFarbe=%3F%3F%3F\n"
          ],
          "name": "stdout"
        },
        {
          "output_type": "stream",
          "text": [
            "\r 17%|█▋        | 180/1066 [05:08<21:04,  1.43s/it]"
          ],
          "name": "stderr"
        },
        {
          "output_type": "stream",
          "text": [
            "https://www.sportler.com/it/p/under-armour-rush-run-t-shirt-running-uomo-10782763?filterFarbe=Black\n"
          ],
          "name": "stdout"
        },
        {
          "output_type": "stream",
          "text": [
            "\r 17%|█▋        | 181/1066 [05:09<22:15,  1.51s/it]"
          ],
          "name": "stderr"
        },
        {
          "output_type": "stream",
          "text": [
            "https://www.sportler.com/it/p/under-armour-rush-run-pantaloni-corti-running-uomo-10782997?filterFarbe=Black\n"
          ],
          "name": "stdout"
        },
        {
          "output_type": "stream",
          "text": [
            "\r 17%|█▋        | 182/1066 [05:11<22:19,  1.51s/it]"
          ],
          "name": "stderr"
        },
        {
          "output_type": "stream",
          "text": [
            "https://www.sportler.com/it/p/under-armour-qualifier-speedpocket-pantaloni-corti-running-uomo-10782744?filterFarbe=Black\n"
          ],
          "name": "stdout"
        },
        {
          "output_type": "stream",
          "text": [
            "\r 17%|█▋        | 183/1066 [05:12<22:07,  1.50s/it]"
          ],
          "name": "stderr"
        },
        {
          "output_type": "stream",
          "text": [
            "https://www.sportler.com/it/p/under-armour-streaker-2.0-maglia-running-uomo-10782746?filterFarbe=Black\n"
          ],
          "name": "stdout"
        },
        {
          "output_type": "stream",
          "text": [
            "\r 17%|█▋        | 184/1066 [05:14<22:15,  1.51s/it]"
          ],
          "name": "stderr"
        },
        {
          "output_type": "stream",
          "text": [
            "https://www.sportler.com/it/p/under-armour-qualifier-canotta-running-uomo-10782757?filterFarbe=Red\n"
          ],
          "name": "stdout"
        },
        {
          "output_type": "stream",
          "text": [
            "\r 17%|█▋        | 185/1066 [05:16<23:57,  1.63s/it]"
          ],
          "name": "stderr"
        },
        {
          "output_type": "stream",
          "text": [
            "https://www.sportler.com/it/p/under-armour-qualifier-glare-t-shirt-running-uomo-10782766?filterFarbe=Black\n"
          ],
          "name": "stdout"
        },
        {
          "output_type": "stream",
          "text": [
            "\r 17%|█▋        | 186/1066 [05:17<23:32,  1.60s/it]"
          ],
          "name": "stderr"
        },
        {
          "output_type": "stream",
          "text": [
            "https://www.sportler.com/it/p/under-armour-coldgear-run-tight-pantaloni-running-uomo-10782502?filterFarbe=Black\n"
          ],
          "name": "stdout"
        },
        {
          "output_type": "stream",
          "text": [
            "\r 18%|█▊        | 187/1066 [05:19<22:42,  1.55s/it]"
          ],
          "name": "stderr"
        },
        {
          "output_type": "stream",
          "text": [
            "https://www.sportler.com/it/p/nike-run-mobility-flash-running-pantaloni-lunghi-running-uomo-10780989?filterFarbe=Black\n"
          ],
          "name": "stdout"
        },
        {
          "output_type": "stream",
          "text": [
            "\r 18%|█▊        | 188/1066 [05:20<21:37,  1.48s/it]"
          ],
          "name": "stderr"
        },
        {
          "output_type": "stream",
          "text": [
            "https://www.sportler.com/it/p/nike-running-maglia-running-uomo-10781296?filterFarbe=Grey\n"
          ],
          "name": "stdout"
        },
        {
          "output_type": "stream",
          "text": [
            "\r 18%|█▊        | 189/1066 [05:22<21:23,  1.46s/it]"
          ],
          "name": "stderr"
        },
        {
          "output_type": "stream",
          "text": [
            "https://www.sportler.com/it/p/nike-2-in-1-running-pantaloni-corti-running-uomo-10781297?filterFarbe=Brown\n"
          ],
          "name": "stdout"
        },
        {
          "output_type": "stream",
          "text": [
            "\r 18%|█▊        | 190/1066 [05:23<20:47,  1.42s/it]"
          ],
          "name": "stderr"
        },
        {
          "output_type": "stream",
          "text": [
            "https://www.sportler.com/it/p/nike-power-tech-running-pantaloni-lunghi-running-uomo-10781309?filterFarbe=Black\n"
          ],
          "name": "stdout"
        },
        {
          "output_type": "stream",
          "text": [
            "\r 18%|█▊        | 191/1066 [05:24<20:24,  1.40s/it]"
          ],
          "name": "stderr"
        },
        {
          "output_type": "stream",
          "text": [
            "https://www.sportler.com/it/p/nike-pacer-1-2-zip-running-maglia-running-a-maniche-lunghe-uomo-10781312?filterFarbe=Black\n"
          ],
          "name": "stdout"
        },
        {
          "output_type": "stream",
          "text": [
            "\r 18%|█▊        | 192/1066 [05:26<20:35,  1.41s/it]"
          ],
          "name": "stderr"
        },
        {
          "output_type": "stream",
          "text": [
            "https://www.sportler.com/it/p/nike-running-pantaloni-running-uomo-10781310?filterFarbe=Black\n"
          ],
          "name": "stdout"
        },
        {
          "output_type": "stream",
          "text": [
            "\r 18%|█▊        | 193/1066 [05:27<20:00,  1.37s/it]"
          ],
          "name": "stderr"
        },
        {
          "output_type": "stream",
          "text": [
            "https://www.sportler.com/it/p/x-socks-run-discovery-calzini-running-10764417?filterFarbe=White%2FGrey\n"
          ],
          "name": "stdout"
        },
        {
          "output_type": "stream",
          "text": [
            "\r 18%|█▊        | 194/1066 [05:28<20:10,  1.39s/it]"
          ],
          "name": "stderr"
        },
        {
          "output_type": "stream",
          "text": [
            "https://www.sportler.com/it/p/x-socks-sky-run-two-calzini-running-10764416?filterFarbe=Black%2FWhite\n"
          ],
          "name": "stdout"
        },
        {
          "output_type": "stream",
          "text": [
            "\r 18%|█▊        | 195/1066 [05:30<19:56,  1.37s/it]"
          ],
          "name": "stderr"
        },
        {
          "output_type": "stream",
          "text": [
            "https://www.sportler.com/it/p/getfit-bevis-m-pantaloni-running-uomo-10782999?filterFarbe=Black\n"
          ],
          "name": "stdout"
        },
        {
          "output_type": "stream",
          "text": [
            "\r 18%|█▊        | 196/1066 [05:31<20:00,  1.38s/it]"
          ],
          "name": "stderr"
        },
        {
          "output_type": "stream",
          "text": [
            "https://www.sportler.com/it/p/nike-power-running-pantaloni-running-uomo-10778230?filterFarbe=Black\n"
          ],
          "name": "stdout"
        },
        {
          "output_type": "stream",
          "text": [
            "\r 18%|█▊        | 197/1066 [05:33<20:19,  1.40s/it]"
          ],
          "name": "stderr"
        },
        {
          "output_type": "stream",
          "text": [
            "https://www.sportler.com/it/p/x-bionic-energizer-mk3-lt-maglietta-tecnica-uomo-10756197?filterFarbe=Black\n"
          ],
          "name": "stdout"
        },
        {
          "output_type": "stream",
          "text": [
            "\r 19%|█▊        | 198/1066 [05:34<20:13,  1.40s/it]"
          ],
          "name": "stderr"
        },
        {
          "output_type": "stream",
          "text": [
            "https://www.sportler.com/it/p/x-bionic-regulator-run-speed-maglia-running-uomo-10764395?filterFarbe=Blue%2FOrange\n"
          ],
          "name": "stdout"
        },
        {
          "output_type": "stream",
          "text": [
            "\r 19%|█▊        | 199/1066 [05:35<20:18,  1.41s/it]"
          ],
          "name": "stderr"
        },
        {
          "output_type": "stream",
          "text": [
            "https://www.sportler.com/it/p/nike-vaporknit-5-running-pantaloni-corti-running-uomo-10778218?filterFarbe=Black\n"
          ],
          "name": "stdout"
        },
        {
          "output_type": "stream",
          "text": [
            "\r 19%|█▉        | 200/1066 [05:37<20:30,  1.42s/it]"
          ],
          "name": "stderr"
        },
        {
          "output_type": "stream",
          "text": [
            "https://www.sportler.com/it/p/nike-dri-fit-running-tank-canotta-running-uomo-10779711?filterFarbe=Blue\n"
          ],
          "name": "stdout"
        },
        {
          "output_type": "stream",
          "text": [
            "\r 19%|█▉        | 201/1066 [05:39<24:19,  1.69s/it]"
          ],
          "name": "stderr"
        },
        {
          "output_type": "stream",
          "text": [
            "https://www.sportler.com/it/p/x-socks-marathon-calzini-running-10748241?filterFarbe=White%2FOrange\n"
          ],
          "name": "stdout"
        },
        {
          "output_type": "stream",
          "text": [
            "\r 19%|█▉        | 202/1066 [05:41<23:04,  1.60s/it]"
          ],
          "name": "stderr"
        },
        {
          "output_type": "stream",
          "text": [
            "https://www.sportler.com/it/p/x-bionic-energizer-mk3-lt-maglietta-tecnica-uomo-10756199?filterFarbe=White\n"
          ],
          "name": "stdout"
        },
        {
          "output_type": "stream",
          "text": [
            "\r 19%|█▉        | 203/1066 [05:42<21:50,  1.52s/it]"
          ],
          "name": "stderr"
        },
        {
          "output_type": "stream",
          "text": [
            "https://www.sportler.com/it/p/x-bionic-twyce-g2-run-shirt-maglia-running-uomo-10748254?filterFarbe=Black%2FWhite\n"
          ],
          "name": "stdout"
        },
        {
          "output_type": "stream",
          "text": [
            "\r 19%|█▉        | 204/1066 [05:43<21:11,  1.48s/it]"
          ],
          "name": "stderr"
        },
        {
          "output_type": "stream",
          "text": [
            "https://www.sportler.com/it/p/x-socks-run-speed-two-calzini-running-10764413?filterFarbe=Black\n"
          ],
          "name": "stdout"
        },
        {
          "output_type": "stream",
          "text": [
            "\r 19%|█▉        | 205/1066 [05:45<20:55,  1.46s/it]"
          ],
          "name": "stderr"
        },
        {
          "output_type": "stream",
          "text": [
            "https://www.sportler.com/it/p/x-socks-run-energizer-calzini-lunghi-running-10764410?filterFarbe=Black%2FBlue\n"
          ],
          "name": "stdout"
        },
        {
          "output_type": "stream",
          "text": [
            "\r 19%|█▉        | 206/1066 [05:46<20:25,  1.43s/it]"
          ],
          "name": "stderr"
        },
        {
          "output_type": "stream",
          "text": [
            "https://www.sportler.com/it/p/uyn-running-activyon-ow-maglia-running-uomo-10748747?filterFarbe=Black\n"
          ],
          "name": "stdout"
        },
        {
          "output_type": "stream",
          "text": [
            "\r 19%|█▉        | 207/1066 [05:47<20:16,  1.42s/it]"
          ],
          "name": "stderr"
        },
        {
          "output_type": "stream",
          "text": [
            "https://www.sportler.com/it/p/la-sportiva-medal-pantaloni-corti-trail-running-uomo-10747046?filterFarbe=Black%2FGrey\n"
          ],
          "name": "stdout"
        },
        {
          "output_type": "stream",
          "text": [
            "\r 20%|█▉        | 208/1066 [05:49<20:33,  1.44s/it]"
          ],
          "name": "stderr"
        },
        {
          "output_type": "stream",
          "text": [
            "https://www.sportler.com/it/p/nike-vaporknit-top-running-uomo-10778217?filterFarbe=Orange\n"
          ],
          "name": "stdout"
        },
        {
          "output_type": "stream",
          "text": [
            "\r 20%|█▉        | 209/1066 [05:50<20:37,  1.44s/it]"
          ],
          "name": "stderr"
        },
        {
          "output_type": "stream",
          "text": [
            "https://www.sportler.com/it/p/x-bionic-invent-lt-boxer-uomo-10756178?filterFarbe=Black\n"
          ],
          "name": "stdout"
        },
        {
          "output_type": "stream",
          "text": [
            "\r 20%|█▉        | 210/1066 [05:52<20:44,  1.45s/it]"
          ],
          "name": "stderr"
        },
        {
          "output_type": "stream",
          "text": [
            "https://www.sportler.com/it/p/nike-dri-fit-miler-running-top-running-uomo-10778233?filterFarbe=Black\n"
          ],
          "name": "stdout"
        },
        {
          "output_type": "stream",
          "text": [
            "\r 20%|█▉        | 211/1066 [05:53<20:27,  1.44s/it]"
          ],
          "name": "stderr"
        },
        {
          "output_type": "stream",
          "text": [
            "https://www.sportler.com/it/p/nike-rise-365-running-top-running-uomo-10778228?filterFarbe=Orange\n"
          ],
          "name": "stdout"
        },
        {
          "output_type": "stream",
          "text": [
            "\r 20%|█▉        | 212/1066 [05:55<20:07,  1.41s/it]"
          ],
          "name": "stderr"
        },
        {
          "output_type": "stream",
          "text": [
            "https://www.sportler.com/it/p/x-bionic-regulator-run-speed-shorts-pantaloncini-running-uomo-10764389?filterFarbe=Black%2FWhite\n"
          ],
          "name": "stdout"
        },
        {
          "output_type": "stream",
          "text": [
            "\r 20%|█▉        | 213/1066 [05:56<20:16,  1.43s/it]"
          ],
          "name": "stderr"
        },
        {
          "output_type": "stream",
          "text": [
            "https://www.sportler.com/it/p/bv-sport-scr-one-evo-calze-running-10779663?filterFarbe=Black%2FGreen\n"
          ],
          "name": "stdout"
        },
        {
          "output_type": "stream",
          "text": [
            "\r 20%|██        | 214/1066 [05:57<20:03,  1.41s/it]"
          ],
          "name": "stderr"
        },
        {
          "output_type": "stream",
          "text": [
            "https://www.sportler.com/it/p/odlo-performance-light-suw-bottom-slip-funzionali-uomo-10779697?filterFarbe=Black\n"
          ],
          "name": "stdout"
        },
        {
          "output_type": "stream",
          "text": [
            "\r 20%|██        | 215/1066 [05:59<19:43,  1.39s/it]"
          ],
          "name": "stderr"
        },
        {
          "output_type": "stream",
          "text": [
            "https://www.sportler.com/it/p/odlo-performance-light-suw-bottom-boxer-uomo-10779696?filterFarbe=Black\n"
          ],
          "name": "stdout"
        },
        {
          "output_type": "stream",
          "text": [
            "\r 20%|██        | 216/1066 [06:01<22:20,  1.58s/it]"
          ],
          "name": "stderr"
        },
        {
          "output_type": "stream",
          "text": [
            "https://www.sportler.com/it/p/odlo-performance-light-suw-top-tecnico-uomo-10779692?filterFarbe=Black\n"
          ],
          "name": "stdout"
        },
        {
          "output_type": "stream",
          "text": [
            "\r 20%|██        | 217/1066 [06:02<21:32,  1.52s/it]"
          ],
          "name": "stderr"
        },
        {
          "output_type": "stream",
          "text": [
            "https://www.sportler.com/it/p/odlo-performance-light-suw-crew-neck-s-s-maglietta-tecnica-uomo-10779685?filterFarbe=Black\n"
          ],
          "name": "stdout"
        },
        {
          "output_type": "stream",
          "text": [
            "\r 20%|██        | 218/1066 [06:05<29:10,  2.06s/it]"
          ],
          "name": "stderr"
        },
        {
          "output_type": "stream",
          "text": [
            "https://www.sportler.com/it/p/la-sportiva-tempo-pantaloncini-trail-running-uomo-10746239?filterFarbe=Black%2FYellow\n"
          ],
          "name": "stdout"
        },
        {
          "output_type": "stream",
          "text": [
            "\r 21%|██        | 219/1066 [06:07<26:22,  1.87s/it]"
          ],
          "name": "stderr"
        },
        {
          "output_type": "stream",
          "text": [
            "https://www.sportler.com/it/p/la-sportiva-xcelerator-t-shirt-trail-running-uomo-10740282?filterFarbe=Black%2FYellow\n"
          ],
          "name": "stdout"
        },
        {
          "output_type": "stream",
          "text": [
            "\r 21%|██        | 220/1066 [06:08<24:49,  1.76s/it]"
          ],
          "name": "stderr"
        },
        {
          "output_type": "stream",
          "text": [
            "https://www.sportler.com/it/p/uyn-running-activyon-ow-pants-pantaloncini-running-uomo-10757508?filterFarbe=Dark+Grey\n"
          ],
          "name": "stdout"
        },
        {
          "output_type": "stream",
          "text": [
            "\r 21%|██        | 221/1066 [06:10<23:48,  1.69s/it]"
          ],
          "name": "stderr"
        },
        {
          "output_type": "stream",
          "text": [
            "https://www.sportler.com/it/p/uyn-running-alpha-ow-pants-pantaloncini-running-uomo-10748755?filterFarbe=Black\n"
          ],
          "name": "stdout"
        },
        {
          "output_type": "stream",
          "text": [
            "\r 21%|██        | 222/1066 [06:11<22:53,  1.63s/it]"
          ],
          "name": "stderr"
        },
        {
          "output_type": "stream",
          "text": [
            "https://www.sportler.com/it/p/uyn-man-running-alpha-ow-singlet-top-running-uomo-10756808?filterFarbe=Orange%2FGrey\n"
          ],
          "name": "stdout"
        },
        {
          "output_type": "stream",
          "text": [
            "\r 21%|██        | 223/1066 [06:13<21:56,  1.56s/it]"
          ],
          "name": "stderr"
        },
        {
          "output_type": "stream",
          "text": [
            "https://www.sportler.com/it/p/uyn-running-alpha-ow-maglia-running-uomo-10748741?filterFarbe=Orange%2FGrey\n"
          ],
          "name": "stdout"
        },
        {
          "output_type": "stream",
          "text": [
            "\r 21%|██        | 224/1066 [06:14<21:09,  1.51s/it]"
          ],
          "name": "stderr"
        },
        {
          "output_type": "stream",
          "text": [
            "https://www.sportler.com/it/p/odlo-performance-x-light-suw-bottom-boxer-uomo-10755192?filterFarbe=Black\n"
          ],
          "name": "stdout"
        },
        {
          "output_type": "stream",
          "text": [
            "\r 21%|██        | 225/1066 [06:16<20:36,  1.47s/it]"
          ],
          "name": "stderr"
        },
        {
          "output_type": "stream",
          "text": [
            "https://www.sportler.com/it/p/odlo-ceramicool-bl-crew-neck-singlet-top-running-uomo-10756140?filterFarbe=Black\n"
          ],
          "name": "stdout"
        },
        {
          "output_type": "stream",
          "text": [
            "\r 21%|██        | 226/1066 [06:17<20:07,  1.44s/it]"
          ],
          "name": "stderr"
        },
        {
          "output_type": "stream",
          "text": [
            "https://www.sportler.com/it/p/uyn-motion-uw-maglietta-tecnica-uomo-10755220?filterFarbe=Black\n"
          ],
          "name": "stdout"
        },
        {
          "output_type": "stream",
          "text": [
            "\r 21%|██▏       | 227/1066 [06:18<20:05,  1.44s/it]"
          ],
          "name": "stderr"
        },
        {
          "output_type": "stream",
          "text": [
            "https://www.sportler.com/it/p/uyn-motyon-maglietta-funzionale-uomo-10742495?filterFarbe=Black\n"
          ],
          "name": "stdout"
        },
        {
          "output_type": "stream",
          "text": [
            "\r 21%|██▏       | 228/1066 [06:20<20:11,  1.45s/it]"
          ],
          "name": "stderr"
        },
        {
          "output_type": "stream",
          "text": [
            "https://www.sportler.com/it/p/odlo-core-light-pantaloncini-running-uomo-10754648?filterFarbe=Dark+Blue\n"
          ],
          "name": "stdout"
        },
        {
          "output_type": "stream",
          "text": [
            "\r 21%|██▏       | 229/1066 [06:22<23:27,  1.68s/it]"
          ],
          "name": "stderr"
        },
        {
          "output_type": "stream",
          "text": [
            "https://www.sportler.com/it/p/odlo-ceramicool-blackcomb-crew-neck-maglia-running-uomo-10755240?filterFarbe=Light+Blue\n"
          ],
          "name": "stdout"
        },
        {
          "output_type": "stream",
          "text": [
            "\r 22%|██▏       | 230/1066 [06:24<22:39,  1.63s/it]"
          ],
          "name": "stderr"
        },
        {
          "output_type": "stream",
          "text": [
            "https://www.sportler.com/it/p/x-bionic-energizer-mk3-lt-boxer-uomo-10756196?filterFarbe=Black\n"
          ],
          "name": "stdout"
        },
        {
          "output_type": "stream",
          "text": [
            "\r 22%|██▏       | 231/1066 [06:25<21:46,  1.56s/it]"
          ],
          "name": "stderr"
        },
        {
          "output_type": "stream",
          "text": [
            "https://www.sportler.com/it/p/x-bionic-invent-lt-singlet-maglietta-tecnica-uomo-10756184?filterFarbe=Black\n"
          ],
          "name": "stdout"
        },
        {
          "output_type": "stream",
          "text": [
            "\r 22%|██▏       | 232/1066 [06:26<21:07,  1.52s/it]"
          ],
          "name": "stderr"
        },
        {
          "output_type": "stream",
          "text": [
            "https://www.sportler.com/it/p/x-bionic-invent-lt-maglietta-tecnica-uomo-10756181?filterFarbe=Black\n"
          ],
          "name": "stdout"
        },
        {
          "output_type": "stream",
          "text": [
            "\r 22%|██▏       | 233/1066 [06:28<20:26,  1.47s/it]"
          ],
          "name": "stderr"
        },
        {
          "output_type": "stream",
          "text": [
            "https://www.sportler.com/it/p/under-armour-ua-stracker-2.0-maglia-running-uomo-10772663?filterFarbe=Black\n"
          ],
          "name": "stdout"
        },
        {
          "output_type": "stream",
          "text": [
            "\r 22%|██▏       | 234/1066 [06:29<20:29,  1.48s/it]"
          ],
          "name": "stderr"
        },
        {
          "output_type": "stream",
          "text": [
            "https://www.sportler.com/it/p/la-sportiva-track-tank-top-running-uomo-10740291?filterFarbe=Black%2FYellow\n"
          ],
          "name": "stdout"
        },
        {
          "output_type": "stream",
          "text": [
            "\r 22%|██▏       | 235/1066 [06:31<20:17,  1.47s/it]"
          ],
          "name": "stderr"
        },
        {
          "output_type": "stream",
          "text": [
            "https://www.sportler.com/it/p/castelli-free-sanremo-completo-triathlon-uomo-10729595?filterFarbe=Black%2FWhite\n"
          ],
          "name": "stdout"
        },
        {
          "output_type": "stream",
          "text": [
            "\r 22%|██▏       | 236/1066 [06:32<19:36,  1.42s/it]"
          ],
          "name": "stderr"
        },
        {
          "output_type": "stream",
          "text": [
            "https://www.sportler.com/it/p/la-sportiva-stream-tank-m-top-running-uomo-10746814?filterFarbe=Black%2FYellow\n"
          ],
          "name": "stdout"
        },
        {
          "output_type": "stream",
          "text": [
            "\r 22%|██▏       | 237/1066 [06:33<19:43,  1.43s/it]"
          ],
          "name": "stderr"
        },
        {
          "output_type": "stream",
          "text": [
            "https://www.sportler.com/it/p/la-sportiva-motion-maglia-trail-running-uomo-10746806?filterFarbe=Blue%2FRed\n"
          ],
          "name": "stdout"
        },
        {
          "output_type": "stream",
          "text": [
            "\r 22%|██▏       | 238/1066 [06:35<19:28,  1.41s/it]"
          ],
          "name": "stderr"
        },
        {
          "output_type": "stream",
          "text": [
            "https://www.sportler.com/it/p/odlo-active-fdry-light-bottom-slip-uomo-10751144?filterFarbe=Black\n"
          ],
          "name": "stdout"
        },
        {
          "output_type": "stream",
          "text": [
            "\r 22%|██▏       | 239/1066 [06:36<19:25,  1.41s/it]"
          ],
          "name": "stderr"
        },
        {
          "output_type": "stream",
          "text": [
            "https://www.sportler.com/it/p/odlo-active-f-dry-light-top-tecnico-uomo-10751142?filterFarbe=Black\n"
          ],
          "name": "stdout"
        },
        {
          "output_type": "stream",
          "text": [
            "\r 23%|██▎       | 240/1066 [06:38<19:22,  1.41s/it]"
          ],
          "name": "stderr"
        },
        {
          "output_type": "stream",
          "text": [
            "https://www.sportler.com/it/p/odlo-performance-x-light-suw-maglietta-tecnica-uomo-10755189?filterFarbe=Black\n"
          ],
          "name": "stdout"
        },
        {
          "output_type": "stream",
          "text": [
            "\r 23%|██▎       | 241/1066 [06:39<19:15,  1.40s/it]"
          ],
          "name": "stderr"
        },
        {
          "output_type": "stream",
          "text": [
            "https://www.sportler.com/it/p/buff-coolnet-uv-slim-fascia-paraorecchie-10761267?filterFarbe=Black\n"
          ],
          "name": "stdout"
        },
        {
          "output_type": "stream",
          "text": [
            "\r 23%|██▎       | 242/1066 [06:40<19:04,  1.39s/it]"
          ],
          "name": "stderr"
        },
        {
          "output_type": "stream",
          "text": [
            "https://www.sportler.com/it/p/buff-coolnet-uv-fascia-paraorecchie-10761266?filterFarbe=Black\n"
          ],
          "name": "stdout"
        },
        {
          "output_type": "stream",
          "text": [
            "\r 23%|██▎       | 243/1066 [06:42<21:44,  1.59s/it]"
          ],
          "name": "stderr"
        },
        {
          "output_type": "stream",
          "text": [
            "https://www.sportler.com/it/p/buff-hairband-elastico-per-capelli-10762201?filterFarbe=Blue%2FBlack%2FGrey\n"
          ],
          "name": "stdout"
        },
        {
          "output_type": "stream",
          "text": [
            "\r 23%|██▎       | 244/1066 [06:45<24:23,  1.78s/it]"
          ],
          "name": "stderr"
        },
        {
          "output_type": "stream",
          "text": [
            "https://www.sportler.com/it/p/buff-national-geographic-coolnet-uv-scaldacollo-10762203?filterFarbe=Black%2FWhite\n"
          ],
          "name": "stdout"
        },
        {
          "output_type": "stream",
          "text": [
            "\r 23%|██▎       | 245/1066 [06:46<22:34,  1.65s/it]"
          ],
          "name": "stderr"
        },
        {
          "output_type": "stream",
          "text": [
            "https://www.sportler.com/it/p/buff-coolnet-uv-insect-scaldacollo-10761265?filterFarbe=Red%2FBrown%2FLight+Blue\n"
          ],
          "name": "stdout"
        },
        {
          "output_type": "stream",
          "text": [
            "\r 23%|██▎       | 246/1066 [06:47<21:47,  1.59s/it]"
          ],
          "name": "stderr"
        },
        {
          "output_type": "stream",
          "text": [
            "https://www.sportler.com/it/p/buff-coolnet-uv-scaldacollo-10731072?filterFarbe=Multicolor\n"
          ],
          "name": "stdout"
        },
        {
          "output_type": "stream",
          "text": [
            "\r 23%|██▎       | 247/1066 [06:49<20:41,  1.52s/it]"
          ],
          "name": "stderr"
        },
        {
          "output_type": "stream",
          "text": [
            "https://www.sportler.com/it/p/buff-run-visiera-10761259?filterFarbe=Black\n"
          ],
          "name": "stdout"
        },
        {
          "output_type": "stream",
          "text": [
            "\r 23%|██▎       | 248/1066 [06:50<20:25,  1.50s/it]"
          ],
          "name": "stderr"
        },
        {
          "output_type": "stream",
          "text": [
            "https://www.sportler.com/it/p/buff-run-cappellino-10761254?filterFarbe=White%2FBlack%2FLight+Blue\n"
          ],
          "name": "stdout"
        },
        {
          "output_type": "stream",
          "text": [
            "\r 23%|██▎       | 249/1066 [06:52<20:06,  1.48s/it]"
          ],
          "name": "stderr"
        },
        {
          "output_type": "stream",
          "text": [
            "https://www.sportler.com/it/p/buff-run-xl-cappellino-10761258?filterFarbe=Black%2FYellow\n"
          ],
          "name": "stdout"
        },
        {
          "output_type": "stream",
          "text": [
            "\r 23%|██▎       | 250/1066 [06:54<23:17,  1.71s/it]"
          ],
          "name": "stderr"
        },
        {
          "output_type": "stream",
          "text": [
            "https://www.sportler.com/it/p/buff-one-touch-cappellino-10761252?filterFarbe=Grey\n"
          ],
          "name": "stdout"
        },
        {
          "output_type": "stream",
          "text": [
            "\r 24%|██▎       | 251/1066 [06:55<21:51,  1.61s/it]"
          ],
          "name": "stderr"
        },
        {
          "output_type": "stream",
          "text": [
            "https://www.sportler.com/it/p/odlo-bl-element-light-pantaloncini-running-uomo-10743014?filterFarbe=Black\n"
          ],
          "name": "stdout"
        },
        {
          "output_type": "stream",
          "text": [
            "\r 24%|██▎       | 252/1066 [06:57<21:02,  1.55s/it]"
          ],
          "name": "stderr"
        },
        {
          "output_type": "stream",
          "text": [
            "https://www.sportler.com/it/p/under-armour-streaker-2.0-singlet-top-running-uomo-10748481?filterFarbe=Green\n"
          ],
          "name": "stdout"
        },
        {
          "output_type": "stream",
          "text": [
            "\r 24%|██▎       | 253/1066 [06:58<20:24,  1.51s/it]"
          ],
          "name": "stderr"
        },
        {
          "output_type": "stream",
          "text": [
            "https://www.sportler.com/it/p/gore-wear-r7-shirt-maglia-running-uomo-10757845?filterFarbe=Blue%2FGreen\n"
          ],
          "name": "stdout"
        },
        {
          "output_type": "stream",
          "text": [
            "\r 24%|██▍       | 254/1066 [07:00<19:59,  1.48s/it]"
          ],
          "name": "stderr"
        },
        {
          "output_type": "stream",
          "text": [
            "https://www.sportler.com/it/p/gore-wear-r7-pantaloncini-running-uomo-10746764?filterFarbe=Dark+Blue%2FLight+Blue\n"
          ],
          "name": "stdout"
        },
        {
          "output_type": "stream",
          "text": [
            "\r 24%|██▍       | 255/1066 [07:01<19:25,  1.44s/it]"
          ],
          "name": "stderr"
        },
        {
          "output_type": "stream",
          "text": [
            "https://www.sportler.com/it/p/gore-wear-r7-gore-tex-infinium-giacca-running-uomo-10751143?filterFarbe=Yellow%2FBlue\n"
          ],
          "name": "stdout"
        },
        {
          "output_type": "stream",
          "text": [
            "\r 24%|██▍       | 256/1066 [07:02<19:35,  1.45s/it]"
          ],
          "name": "stderr"
        },
        {
          "output_type": "stream",
          "text": [
            "https://www.sportler.com/it/p/nike-knitted-tech-and-grip-guanti-sportivi-10764415?filterFarbe=Black\n"
          ],
          "name": "stdout"
        },
        {
          "output_type": "stream",
          "text": [
            "\r 24%|██▍       | 257/1066 [07:04<19:22,  1.44s/it]"
          ],
          "name": "stderr"
        },
        {
          "output_type": "stream",
          "text": [
            "https://www.sportler.com/it/p/buff-pro-run-cappellino-trail-running-uomo-10613054?filterFarbe=Black\n"
          ],
          "name": "stdout"
        },
        {
          "output_type": "stream",
          "text": [
            "\r 24%|██▍       | 258/1066 [07:05<19:05,  1.42s/it]"
          ],
          "name": "stderr"
        },
        {
          "output_type": "stream",
          "text": [
            "https://www.sportler.com/it/p/bv-sport-booster-elite-ev2-gambali-compressivi-10747914?filterFarbe=Black\n"
          ],
          "name": "stdout"
        },
        {
          "output_type": "stream",
          "text": [
            "\r 24%|██▍       | 259/1066 [07:07<18:58,  1.41s/it]"
          ],
          "name": "stderr"
        },
        {
          "output_type": "stream",
          "text": [
            "https://www.sportler.com/it/p/bv-sport-booster-elite-ev2-gambali-compressivi-10755564?filterFarbe=Black%2FBlue\n"
          ],
          "name": "stdout"
        },
        {
          "output_type": "stream",
          "text": [
            "\r 24%|██▍       | 260/1066 [07:08<18:27,  1.37s/it]"
          ],
          "name": "stderr"
        },
        {
          "output_type": "stream",
          "text": [
            "https://www.sportler.com/it/p/bv-sport-booster-elite-ev2-gambali-compressivi-10779386?filterFarbe=Black%2FGreen\n"
          ],
          "name": "stdout"
        },
        {
          "output_type": "stream",
          "text": [
            "\r 24%|██▍       | 261/1066 [07:09<18:27,  1.38s/it]"
          ],
          "name": "stderr"
        },
        {
          "output_type": "stream",
          "text": [
            "https://www.sportler.com/it/p/skinners-scarpe-calzini-10751139?filterFarbe=Green\n"
          ],
          "name": "stdout"
        },
        {
          "output_type": "stream",
          "text": [
            "\r 25%|██▍       | 262/1066 [07:11<19:54,  1.49s/it]"
          ],
          "name": "stderr"
        },
        {
          "output_type": "stream",
          "text": [
            "https://www.sportler.com/it/p/skinners-scarpe-calzini-10751135?filterFarbe=Grey\n"
          ],
          "name": "stdout"
        },
        {
          "output_type": "stream",
          "text": [
            "\r 25%|██▍       | 263/1066 [07:13<21:13,  1.59s/it]"
          ],
          "name": "stderr"
        },
        {
          "output_type": "stream",
          "text": [
            "https://www.sportler.com/it/p/nike-rise-365-maglia-running-uomo-10724946?filterFarbe=Light+Blue\n"
          ],
          "name": "stdout"
        },
        {
          "output_type": "stream",
          "text": [
            "\r 25%|██▍       | 264/1066 [07:15<25:16,  1.89s/it]"
          ],
          "name": "stderr"
        },
        {
          "output_type": "stream",
          "text": [
            "https://www.sportler.com/it/p/salomon-sense-tank-m-top-running-uomo-10749351?filterFarbe=Light+Blue\n"
          ],
          "name": "stdout"
        },
        {
          "output_type": "stream",
          "text": [
            "\r 25%|██▍       | 265/1066 [07:17<23:40,  1.77s/it]"
          ],
          "name": "stderr"
        },
        {
          "output_type": "stream",
          "text": [
            "https://www.sportler.com/it/p/salomon-agile-top-running-uomo-10740308?filterFarbe=Light+Blue\n"
          ],
          "name": "stdout"
        },
        {
          "output_type": "stream",
          "text": [
            "\r 25%|██▍       | 266/1066 [07:18<22:02,  1.65s/it]"
          ],
          "name": "stderr"
        },
        {
          "output_type": "stream",
          "text": [
            "https://www.sportler.com/it/p/salomon-agile-2in1-short-m-pantaloncini-running-uomo-10749336?filterFarbe=Black\n"
          ],
          "name": "stdout"
        },
        {
          "output_type": "stream",
          "text": [
            "\r 25%|██▌       | 267/1066 [07:20<21:24,  1.61s/it]"
          ],
          "name": "stderr"
        },
        {
          "output_type": "stream",
          "text": [
            "https://www.sportler.com/it/p/salomon-agile-maglia-running-uomo-10749359?filterFarbe=Black\n"
          ],
          "name": "stdout"
        },
        {
          "output_type": "stream",
          "text": [
            "\r 25%|██▌       | 268/1066 [07:21<20:17,  1.53s/it]"
          ],
          "name": "stderr"
        },
        {
          "output_type": "stream",
          "text": [
            "https://www.sportler.com/it/p/salomon-sense-ultra-tee-m-maglietta-running-uomo-10749329?filterFarbe=Blue\n"
          ],
          "name": "stdout"
        },
        {
          "output_type": "stream",
          "text": [
            "\r 25%|██▌       | 269/1066 [07:23<20:01,  1.51s/it]"
          ],
          "name": "stderr"
        },
        {
          "output_type": "stream",
          "text": [
            "https://www.sportler.com/it/p/salomon-sense-maglia-running-uomo-10749346?filterFarbe=Grey\n"
          ],
          "name": "stdout"
        },
        {
          "output_type": "stream",
          "text": [
            "\r 25%|██▌       | 270/1066 [07:24<20:02,  1.51s/it]"
          ],
          "name": "stderr"
        },
        {
          "output_type": "stream",
          "text": [
            "https://www.sportler.com/it/p/salomon-agile-wind-m-giacca-running-uomo-10749321?filterFarbe=Black\n"
          ],
          "name": "stdout"
        },
        {
          "output_type": "stream",
          "text": [
            "\r 25%|██▌       | 271/1066 [07:26<20:06,  1.52s/it]"
          ],
          "name": "stderr"
        },
        {
          "output_type": "stream",
          "text": [
            "https://www.sportler.com/it/p/salomon-sense-pantaloncini-running-uomo-10740313?filterFarbe=Dark+Blue\n"
          ],
          "name": "stdout"
        },
        {
          "output_type": "stream",
          "text": [
            "\r 26%|██▌       | 272/1066 [07:27<20:21,  1.54s/it]"
          ],
          "name": "stderr"
        },
        {
          "output_type": "stream",
          "text": [
            "https://www.sportler.com/it/p/nathan-bandolier-gilet-catarifrangente-running-10756788?filterFarbe=Yellow\n"
          ],
          "name": "stdout"
        },
        {
          "output_type": "stream",
          "text": [
            "\r 26%|██▌       | 273/1066 [07:29<20:26,  1.55s/it]"
          ],
          "name": "stderr"
        },
        {
          "output_type": "stream",
          "text": [
            "https://www.sportler.com/it/p/nike-breathe-rise-365-maglia-running-uomo-10726865?filterFarbe=Light+Blue\n"
          ],
          "name": "stdout"
        },
        {
          "output_type": "stream",
          "text": [
            "\r 26%|██▌       | 274/1066 [07:30<20:06,  1.52s/it]"
          ],
          "name": "stderr"
        },
        {
          "output_type": "stream",
          "text": [
            "https://www.sportler.com/it/p/nike-featherlight-cappellino-running-10726862?filterFarbe=Black\n"
          ],
          "name": "stdout"
        },
        {
          "output_type": "stream",
          "text": [
            "\r 26%|██▌       | 275/1066 [07:32<19:59,  1.52s/it]"
          ],
          "name": "stderr"
        },
        {
          "output_type": "stream",
          "text": [
            "https://www.sportler.com/it/p/nike-tech-maglia-running-uomo-10724941?filterFarbe=Black\n"
          ],
          "name": "stdout"
        },
        {
          "output_type": "stream",
          "text": [
            "\r 26%|██▌       | 276/1066 [07:33<19:45,  1.50s/it]"
          ],
          "name": "stderr"
        },
        {
          "output_type": "stream",
          "text": [
            "https://www.sportler.com/it/p/under-armour-qualifier-heatgear-glare-pantaloni-running-uomo-10748513?filterFarbe=Black\n"
          ],
          "name": "stdout"
        },
        {
          "output_type": "stream",
          "text": [
            "\r 26%|██▌       | 277/1066 [07:34<18:49,  1.43s/it]"
          ],
          "name": "stderr"
        },
        {
          "output_type": "stream",
          "text": [
            "https://www.sportler.com/it/p/under-armour-qualifier-storm-packable-giacca-running-uomo-10758496?filterFarbe=Black\n"
          ],
          "name": "stdout"
        },
        {
          "output_type": "stream",
          "text": [
            "\r 26%|██▌       | 278/1066 [07:36<19:06,  1.45s/it]"
          ],
          "name": "stderr"
        },
        {
          "output_type": "stream",
          "text": [
            "https://www.sportler.com/it/p/nike-sphere-pantaloni-running-uomo-10724943?filterFarbe=Black\n"
          ],
          "name": "stdout"
        },
        {
          "output_type": "stream",
          "text": [
            "\r 26%|██▌       | 279/1066 [07:37<18:47,  1.43s/it]"
          ],
          "name": "stderr"
        },
        {
          "output_type": "stream",
          "text": [
            "https://www.sportler.com/it/p/nike-windrunner-giacca-a-vento-running-uomo-10724944?filterFarbe=Black%2FLight+Blue\n"
          ],
          "name": "stdout"
        },
        {
          "output_type": "stream",
          "text": [
            "\r 26%|██▋       | 280/1066 [07:39<18:41,  1.43s/it]"
          ],
          "name": "stderr"
        },
        {
          "output_type": "stream",
          "text": [
            "https://www.sportler.com/it/p/nike-sphere-dri-fit-transform-maglia-running-a-maniche-lunghe-uomo-10724939?filterFarbe=Light+Blue\n"
          ],
          "name": "stdout"
        },
        {
          "output_type": "stream",
          "text": [
            "\r 26%|██▋       | 281/1066 [07:40<18:39,  1.43s/it]"
          ],
          "name": "stderr"
        },
        {
          "output_type": "stream",
          "text": [
            "https://www.sportler.com/it/p/under-armour-speed-stride-maglia-running-uomo-10748090?filterFarbe=Black\n"
          ],
          "name": "stdout"
        },
        {
          "output_type": "stream",
          "text": [
            "\r 26%|██▋       | 282/1066 [07:42<18:40,  1.43s/it]"
          ],
          "name": "stderr"
        },
        {
          "output_type": "stream",
          "text": [
            "https://www.sportler.com/it/p/under-armour-launch-sw-split-pantaloncini-running-uomo-10748086?filterFarbe=Black\n"
          ],
          "name": "stdout"
        },
        {
          "output_type": "stream",
          "text": [
            "\r 27%|██▋       | 283/1066 [07:43<18:30,  1.42s/it]"
          ],
          "name": "stderr"
        },
        {
          "output_type": "stream",
          "text": [
            "https://www.sportler.com/it/p/under-armour-qualifier-speedpocket-pantaloncini-running-uomo-10747905?filterFarbe=Black\n"
          ],
          "name": "stdout"
        },
        {
          "output_type": "stream",
          "text": [
            "\r 27%|██▋       | 284/1066 [07:45<19:09,  1.47s/it]"
          ],
          "name": "stderr"
        },
        {
          "output_type": "stream",
          "text": [
            "https://www.sportler.com/it/p/uyn-natyon-germany-medium-calzamaglia-uomo-10748074?filterFarbe=Black\n"
          ],
          "name": "stdout"
        },
        {
          "output_type": "stream",
          "text": [
            "\r 27%|██▋       | 285/1066 [07:46<18:41,  1.44s/it]"
          ],
          "name": "stderr"
        },
        {
          "output_type": "stream",
          "text": [
            "https://www.sportler.com/it/p/under-armour-qualifier-t-shirt-running-uomo-10747902?filterFarbe=Black\n"
          ],
          "name": "stdout"
        },
        {
          "output_type": "stream",
          "text": [
            "\r 27%|██▋       | 286/1066 [07:47<18:54,  1.45s/it]"
          ],
          "name": "stderr"
        },
        {
          "output_type": "stream",
          "text": [
            "https://www.sportler.com/it/p/adidas-run-it-pantaloni-corti-running-uomo-10729943?filterFarbe=Black\n"
          ],
          "name": "stdout"
        },
        {
          "output_type": "stream",
          "text": [
            "\r 27%|██▋       | 287/1066 [07:50<21:56,  1.69s/it]"
          ],
          "name": "stderr"
        },
        {
          "output_type": "stream",
          "text": [
            "https://www.sportler.com/it/p/adidas-own-the-run-maglia-a-maniche-lunghe-running-uomo-10729939?filterFarbe=Black\n"
          ],
          "name": "stdout"
        },
        {
          "output_type": "stream",
          "text": [
            "\r 27%|██▋       | 288/1066 [07:51<21:45,  1.68s/it]"
          ],
          "name": "stderr"
        },
        {
          "output_type": "stream",
          "text": [
            "https://www.sportler.com/it/p/nike-shield-ghost-flash-hoodie-giacca-running-uomo-10707759?filterFarbe=Black\n"
          ],
          "name": "stdout"
        },
        {
          "output_type": "stream",
          "text": [
            "\r 27%|██▋       | 289/1066 [07:53<20:44,  1.60s/it]"
          ],
          "name": "stderr"
        },
        {
          "output_type": "stream",
          "text": [
            "https://www.sportler.com/it/p/uyn-superleggera-run-calzini-corti-running-uomo-10683979?filterFarbe=Black\n"
          ],
          "name": "stdout"
        },
        {
          "output_type": "stream",
          "text": [
            "\r 27%|██▋       | 290/1066 [07:54<19:53,  1.54s/it]"
          ],
          "name": "stderr"
        },
        {
          "output_type": "stream",
          "text": [
            "https://www.sportler.com/it/p/uyn-trail-challenge-run-calzini-trail-running-uomo-10683985?filterFarbe=Black%2FWhite\n"
          ],
          "name": "stdout"
        },
        {
          "output_type": "stream",
          "text": [
            "\r 27%|██▋       | 291/1066 [07:56<19:19,  1.50s/it]"
          ],
          "name": "stderr"
        },
        {
          "output_type": "stream",
          "text": [
            "https://www.sportler.com/it/p/uyn-marathon-zero-run-calzini-running-uomo-10683983?filterFarbe=Black%2FYellow\n"
          ],
          "name": "stdout"
        },
        {
          "output_type": "stream",
          "text": [
            "\r 27%|██▋       | 292/1066 [07:57<18:54,  1.47s/it]"
          ],
          "name": "stderr"
        },
        {
          "output_type": "stream",
          "text": [
            "https://www.sportler.com/it/p/uyn-ambityon-pants-medium-melange-calzamaglia-uomo-10683958?filterFarbe=Grey%2FYellow%2FOrange\n"
          ],
          "name": "stdout"
        },
        {
          "output_type": "stream",
          "text": [
            "\r 27%|██▋       | 293/1066 [07:58<18:35,  1.44s/it]"
          ],
          "name": "stderr"
        },
        {
          "output_type": "stream",
          "text": [
            "https://www.sportler.com/it/p/nike-sphere-transform-giacca-running-antipioggia-uomo-10709922?filterFarbe=Black\n"
          ],
          "name": "stdout"
        },
        {
          "output_type": "stream",
          "text": [
            "\r 28%|██▊       | 294/1066 [08:00<18:20,  1.43s/it]"
          ],
          "name": "stderr"
        },
        {
          "output_type": "stream",
          "text": [
            "https://www.sportler.com/it/p/uyn-evolutyon-long-sl.-melange-maglietta-tecnica-uomo-10683964?filterFarbe=Grey%2FBlue\n"
          ],
          "name": "stdout"
        },
        {
          "output_type": "error",
          "ename": "KeyboardInterrupt",
          "evalue": "ignored",
          "traceback": [
            "\u001b[0;31m---------------------------------------------------------------------------\u001b[0m",
            "\u001b[0;31mTypeError\u001b[0m                                 Traceback (most recent call last)",
            "\u001b[0;32m/usr/local/lib/python3.6/dist-packages/urllib3/connectionpool.py\u001b[0m in \u001b[0;36m_make_request\u001b[0;34m(self, conn, method, url, timeout, chunked, **httplib_request_kw)\u001b[0m\n\u001b[1;32m    376\u001b[0m             \u001b[0;32mtry\u001b[0m\u001b[0;34m:\u001b[0m  \u001b[0;31m# Python 2.7, use buffering of HTTP responses\u001b[0m\u001b[0;34m\u001b[0m\u001b[0;34m\u001b[0m\u001b[0m\n\u001b[0;32m--> 377\u001b[0;31m                 \u001b[0mhttplib_response\u001b[0m \u001b[0;34m=\u001b[0m \u001b[0mconn\u001b[0m\u001b[0;34m.\u001b[0m\u001b[0mgetresponse\u001b[0m\u001b[0;34m(\u001b[0m\u001b[0mbuffering\u001b[0m\u001b[0;34m=\u001b[0m\u001b[0;32mTrue\u001b[0m\u001b[0;34m)\u001b[0m\u001b[0;34m\u001b[0m\u001b[0;34m\u001b[0m\u001b[0m\n\u001b[0m\u001b[1;32m    378\u001b[0m             \u001b[0;32mexcept\u001b[0m \u001b[0mTypeError\u001b[0m\u001b[0;34m:\u001b[0m  \u001b[0;31m# Python 3\u001b[0m\u001b[0;34m\u001b[0m\u001b[0;34m\u001b[0m\u001b[0m\n",
            "\u001b[0;31mTypeError\u001b[0m: getresponse() got an unexpected keyword argument 'buffering'",
            "\nDuring handling of the above exception, another exception occurred:\n",
            "\u001b[0;31mKeyboardInterrupt\u001b[0m                         Traceback (most recent call last)",
            "\u001b[0;32m<ipython-input-56-4a545b7cb234>\u001b[0m in \u001b[0;36m<module>\u001b[0;34m()\u001b[0m\n\u001b[1;32m     33\u001b[0m    \u001b[0;31m#   except:\u001b[0m\u001b[0;34m\u001b[0m\u001b[0;34m\u001b[0m\u001b[0;34m\u001b[0m\u001b[0m\n\u001b[1;32m     34\u001b[0m    \u001b[0;31m#     continue\u001b[0m\u001b[0;34m\u001b[0m\u001b[0;34m\u001b[0m\u001b[0;34m\u001b[0m\u001b[0m\n\u001b[0;32m---> 35\u001b[0;31m     \u001b[0mwd\u001b[0m\u001b[0;34m.\u001b[0m\u001b[0msave_screenshot\u001b[0m\u001b[0;34m(\u001b[0m\u001b[0;34mf'screenshot_{id}.png'\u001b[0m\u001b[0;34m)\u001b[0m\u001b[0;34m\u001b[0m\u001b[0;34m\u001b[0m\u001b[0m\n\u001b[0m\u001b[1;32m     36\u001b[0m     \u001b[0mbrand\u001b[0m \u001b[0;34m=\u001b[0m \u001b[0mwd\u001b[0m\u001b[0;34m.\u001b[0m\u001b[0mfind_elements_by_css_selector\u001b[0m\u001b[0;34m(\u001b[0m\u001b[0;34m\"span.text-upercase.shades-text.text-greydarkText\"\u001b[0m\u001b[0;34m)\u001b[0m\u001b[0;34m\u001b[0m\u001b[0;34m\u001b[0m\u001b[0m\n\u001b[1;32m     37\u001b[0m     \u001b[0mname\u001b[0m \u001b[0;34m=\u001b[0m \u001b[0mwd\u001b[0m\u001b[0;34m.\u001b[0m\u001b[0mfind_elements_by_css_selector\u001b[0m\u001b[0;34m(\u001b[0m\u001b[0;34m'div h1 span[itemprop=name]'\u001b[0m\u001b[0;34m)\u001b[0m\u001b[0;31m#mettere [0]\u001b[0m\u001b[0;34m\u001b[0m\u001b[0;34m\u001b[0m\u001b[0m\n",
            "\u001b[0;32m/usr/local/lib/python3.6/dist-packages/selenium/webdriver/remote/webdriver.py\u001b[0m in \u001b[0;36msave_screenshot\u001b[0;34m(self, filename)\u001b[0m\n\u001b[1;32m   1053\u001b[0m             \u001b[0mdriver\u001b[0m\u001b[0;34m.\u001b[0m\u001b[0msave_screenshot\u001b[0m\u001b[0;34m(\u001b[0m\u001b[0;34m'/Screenshots/foo.png'\u001b[0m\u001b[0;34m)\u001b[0m\u001b[0;34m\u001b[0m\u001b[0;34m\u001b[0m\u001b[0m\n\u001b[1;32m   1054\u001b[0m         \"\"\"\n\u001b[0;32m-> 1055\u001b[0;31m         \u001b[0;32mreturn\u001b[0m \u001b[0mself\u001b[0m\u001b[0;34m.\u001b[0m\u001b[0mget_screenshot_as_file\u001b[0m\u001b[0;34m(\u001b[0m\u001b[0mfilename\u001b[0m\u001b[0;34m)\u001b[0m\u001b[0;34m\u001b[0m\u001b[0;34m\u001b[0m\u001b[0m\n\u001b[0m\u001b[1;32m   1056\u001b[0m \u001b[0;34m\u001b[0m\u001b[0m\n\u001b[1;32m   1057\u001b[0m     \u001b[0;32mdef\u001b[0m \u001b[0mget_screenshot_as_png\u001b[0m\u001b[0;34m(\u001b[0m\u001b[0mself\u001b[0m\u001b[0;34m)\u001b[0m\u001b[0;34m:\u001b[0m\u001b[0;34m\u001b[0m\u001b[0;34m\u001b[0m\u001b[0m\n",
            "\u001b[0;32m/usr/local/lib/python3.6/dist-packages/selenium/webdriver/remote/webdriver.py\u001b[0m in \u001b[0;36mget_screenshot_as_file\u001b[0;34m(self, filename)\u001b[0m\n\u001b[1;32m   1030\u001b[0m             warnings.warn(\"name used for saved screenshot does not match file \"\n\u001b[1;32m   1031\u001b[0m                           \"type. It should end with a `.png` extension\", UserWarning)\n\u001b[0;32m-> 1032\u001b[0;31m         \u001b[0mpng\u001b[0m \u001b[0;34m=\u001b[0m \u001b[0mself\u001b[0m\u001b[0;34m.\u001b[0m\u001b[0mget_screenshot_as_png\u001b[0m\u001b[0;34m(\u001b[0m\u001b[0;34m)\u001b[0m\u001b[0;34m\u001b[0m\u001b[0;34m\u001b[0m\u001b[0m\n\u001b[0m\u001b[1;32m   1033\u001b[0m         \u001b[0;32mtry\u001b[0m\u001b[0;34m:\u001b[0m\u001b[0;34m\u001b[0m\u001b[0;34m\u001b[0m\u001b[0m\n\u001b[1;32m   1034\u001b[0m             \u001b[0;32mwith\u001b[0m \u001b[0mopen\u001b[0m\u001b[0;34m(\u001b[0m\u001b[0mfilename\u001b[0m\u001b[0;34m,\u001b[0m \u001b[0;34m'wb'\u001b[0m\u001b[0;34m)\u001b[0m \u001b[0;32mas\u001b[0m \u001b[0mf\u001b[0m\u001b[0;34m:\u001b[0m\u001b[0;34m\u001b[0m\u001b[0;34m\u001b[0m\u001b[0m\n",
            "\u001b[0;32m/usr/local/lib/python3.6/dist-packages/selenium/webdriver/remote/webdriver.py\u001b[0m in \u001b[0;36mget_screenshot_as_png\u001b[0;34m(self)\u001b[0m\n\u001b[1;32m   1062\u001b[0m             \u001b[0mdriver\u001b[0m\u001b[0;34m.\u001b[0m\u001b[0mget_screenshot_as_png\u001b[0m\u001b[0;34m(\u001b[0m\u001b[0;34m)\u001b[0m\u001b[0;34m\u001b[0m\u001b[0;34m\u001b[0m\u001b[0m\n\u001b[1;32m   1063\u001b[0m         \"\"\"\n\u001b[0;32m-> 1064\u001b[0;31m         \u001b[0;32mreturn\u001b[0m \u001b[0mbase64\u001b[0m\u001b[0;34m.\u001b[0m\u001b[0mb64decode\u001b[0m\u001b[0;34m(\u001b[0m\u001b[0mself\u001b[0m\u001b[0;34m.\u001b[0m\u001b[0mget_screenshot_as_base64\u001b[0m\u001b[0;34m(\u001b[0m\u001b[0;34m)\u001b[0m\u001b[0;34m.\u001b[0m\u001b[0mencode\u001b[0m\u001b[0;34m(\u001b[0m\u001b[0;34m'ascii'\u001b[0m\u001b[0;34m)\u001b[0m\u001b[0;34m)\u001b[0m\u001b[0;34m\u001b[0m\u001b[0;34m\u001b[0m\u001b[0m\n\u001b[0m\u001b[1;32m   1065\u001b[0m \u001b[0;34m\u001b[0m\u001b[0m\n\u001b[1;32m   1066\u001b[0m     \u001b[0;32mdef\u001b[0m \u001b[0mget_screenshot_as_base64\u001b[0m\u001b[0;34m(\u001b[0m\u001b[0mself\u001b[0m\u001b[0;34m)\u001b[0m\u001b[0;34m:\u001b[0m\u001b[0;34m\u001b[0m\u001b[0;34m\u001b[0m\u001b[0m\n",
            "\u001b[0;32m/usr/local/lib/python3.6/dist-packages/selenium/webdriver/remote/webdriver.py\u001b[0m in \u001b[0;36mget_screenshot_as_base64\u001b[0;34m(self)\u001b[0m\n\u001b[1;32m   1072\u001b[0m             \u001b[0mdriver\u001b[0m\u001b[0;34m.\u001b[0m\u001b[0mget_screenshot_as_base64\u001b[0m\u001b[0;34m(\u001b[0m\u001b[0;34m)\u001b[0m\u001b[0;34m\u001b[0m\u001b[0;34m\u001b[0m\u001b[0m\n\u001b[1;32m   1073\u001b[0m         \"\"\"\n\u001b[0;32m-> 1074\u001b[0;31m         \u001b[0;32mreturn\u001b[0m \u001b[0mself\u001b[0m\u001b[0;34m.\u001b[0m\u001b[0mexecute\u001b[0m\u001b[0;34m(\u001b[0m\u001b[0mCommand\u001b[0m\u001b[0;34m.\u001b[0m\u001b[0mSCREENSHOT\u001b[0m\u001b[0;34m)\u001b[0m\u001b[0;34m[\u001b[0m\u001b[0;34m'value'\u001b[0m\u001b[0;34m]\u001b[0m\u001b[0;34m\u001b[0m\u001b[0;34m\u001b[0m\u001b[0m\n\u001b[0m\u001b[1;32m   1075\u001b[0m \u001b[0;34m\u001b[0m\u001b[0m\n\u001b[1;32m   1076\u001b[0m     \u001b[0;32mdef\u001b[0m \u001b[0mset_window_size\u001b[0m\u001b[0;34m(\u001b[0m\u001b[0mself\u001b[0m\u001b[0;34m,\u001b[0m \u001b[0mwidth\u001b[0m\u001b[0;34m,\u001b[0m \u001b[0mheight\u001b[0m\u001b[0;34m,\u001b[0m \u001b[0mwindowHandle\u001b[0m\u001b[0;34m=\u001b[0m\u001b[0;34m'current'\u001b[0m\u001b[0;34m)\u001b[0m\u001b[0;34m:\u001b[0m\u001b[0;34m\u001b[0m\u001b[0;34m\u001b[0m\u001b[0m\n",
            "\u001b[0;32m/usr/local/lib/python3.6/dist-packages/selenium/webdriver/remote/webdriver.py\u001b[0m in \u001b[0;36mexecute\u001b[0;34m(self, driver_command, params)\u001b[0m\n\u001b[1;32m    317\u001b[0m \u001b[0;34m\u001b[0m\u001b[0m\n\u001b[1;32m    318\u001b[0m         \u001b[0mparams\u001b[0m \u001b[0;34m=\u001b[0m \u001b[0mself\u001b[0m\u001b[0;34m.\u001b[0m\u001b[0m_wrap_value\u001b[0m\u001b[0;34m(\u001b[0m\u001b[0mparams\u001b[0m\u001b[0;34m)\u001b[0m\u001b[0;34m\u001b[0m\u001b[0;34m\u001b[0m\u001b[0m\n\u001b[0;32m--> 319\u001b[0;31m         \u001b[0mresponse\u001b[0m \u001b[0;34m=\u001b[0m \u001b[0mself\u001b[0m\u001b[0;34m.\u001b[0m\u001b[0mcommand_executor\u001b[0m\u001b[0;34m.\u001b[0m\u001b[0mexecute\u001b[0m\u001b[0;34m(\u001b[0m\u001b[0mdriver_command\u001b[0m\u001b[0;34m,\u001b[0m \u001b[0mparams\u001b[0m\u001b[0;34m)\u001b[0m\u001b[0;34m\u001b[0m\u001b[0;34m\u001b[0m\u001b[0m\n\u001b[0m\u001b[1;32m    320\u001b[0m         \u001b[0;32mif\u001b[0m \u001b[0mresponse\u001b[0m\u001b[0;34m:\u001b[0m\u001b[0;34m\u001b[0m\u001b[0;34m\u001b[0m\u001b[0m\n\u001b[1;32m    321\u001b[0m             \u001b[0mself\u001b[0m\u001b[0;34m.\u001b[0m\u001b[0merror_handler\u001b[0m\u001b[0;34m.\u001b[0m\u001b[0mcheck_response\u001b[0m\u001b[0;34m(\u001b[0m\u001b[0mresponse\u001b[0m\u001b[0;34m)\u001b[0m\u001b[0;34m\u001b[0m\u001b[0;34m\u001b[0m\u001b[0m\n",
            "\u001b[0;32m/usr/local/lib/python3.6/dist-packages/selenium/webdriver/remote/remote_connection.py\u001b[0m in \u001b[0;36mexecute\u001b[0;34m(self, command, params)\u001b[0m\n\u001b[1;32m    372\u001b[0m         \u001b[0mdata\u001b[0m \u001b[0;34m=\u001b[0m \u001b[0mutils\u001b[0m\u001b[0;34m.\u001b[0m\u001b[0mdump_json\u001b[0m\u001b[0;34m(\u001b[0m\u001b[0mparams\u001b[0m\u001b[0;34m)\u001b[0m\u001b[0;34m\u001b[0m\u001b[0;34m\u001b[0m\u001b[0m\n\u001b[1;32m    373\u001b[0m         \u001b[0murl\u001b[0m \u001b[0;34m=\u001b[0m \u001b[0;34m'%s%s'\u001b[0m \u001b[0;34m%\u001b[0m \u001b[0;34m(\u001b[0m\u001b[0mself\u001b[0m\u001b[0;34m.\u001b[0m\u001b[0m_url\u001b[0m\u001b[0;34m,\u001b[0m \u001b[0mpath\u001b[0m\u001b[0;34m)\u001b[0m\u001b[0;34m\u001b[0m\u001b[0;34m\u001b[0m\u001b[0m\n\u001b[0;32m--> 374\u001b[0;31m         \u001b[0;32mreturn\u001b[0m \u001b[0mself\u001b[0m\u001b[0;34m.\u001b[0m\u001b[0m_request\u001b[0m\u001b[0;34m(\u001b[0m\u001b[0mcommand_info\u001b[0m\u001b[0;34m[\u001b[0m\u001b[0;36m0\u001b[0m\u001b[0;34m]\u001b[0m\u001b[0;34m,\u001b[0m \u001b[0murl\u001b[0m\u001b[0;34m,\u001b[0m \u001b[0mbody\u001b[0m\u001b[0;34m=\u001b[0m\u001b[0mdata\u001b[0m\u001b[0;34m)\u001b[0m\u001b[0;34m\u001b[0m\u001b[0;34m\u001b[0m\u001b[0m\n\u001b[0m\u001b[1;32m    375\u001b[0m \u001b[0;34m\u001b[0m\u001b[0m\n\u001b[1;32m    376\u001b[0m     \u001b[0;32mdef\u001b[0m \u001b[0m_request\u001b[0m\u001b[0;34m(\u001b[0m\u001b[0mself\u001b[0m\u001b[0;34m,\u001b[0m \u001b[0mmethod\u001b[0m\u001b[0;34m,\u001b[0m \u001b[0murl\u001b[0m\u001b[0;34m,\u001b[0m \u001b[0mbody\u001b[0m\u001b[0;34m=\u001b[0m\u001b[0;32mNone\u001b[0m\u001b[0;34m)\u001b[0m\u001b[0;34m:\u001b[0m\u001b[0;34m\u001b[0m\u001b[0;34m\u001b[0m\u001b[0m\n",
            "\u001b[0;32m/usr/local/lib/python3.6/dist-packages/selenium/webdriver/remote/remote_connection.py\u001b[0m in \u001b[0;36m_request\u001b[0;34m(self, method, url, body)\u001b[0m\n\u001b[1;32m    395\u001b[0m \u001b[0;34m\u001b[0m\u001b[0m\n\u001b[1;32m    396\u001b[0m         \u001b[0;32mif\u001b[0m \u001b[0mself\u001b[0m\u001b[0;34m.\u001b[0m\u001b[0mkeep_alive\u001b[0m\u001b[0;34m:\u001b[0m\u001b[0;34m\u001b[0m\u001b[0;34m\u001b[0m\u001b[0m\n\u001b[0;32m--> 397\u001b[0;31m             \u001b[0mresp\u001b[0m \u001b[0;34m=\u001b[0m \u001b[0mself\u001b[0m\u001b[0;34m.\u001b[0m\u001b[0m_conn\u001b[0m\u001b[0;34m.\u001b[0m\u001b[0mrequest\u001b[0m\u001b[0;34m(\u001b[0m\u001b[0mmethod\u001b[0m\u001b[0;34m,\u001b[0m \u001b[0murl\u001b[0m\u001b[0;34m,\u001b[0m \u001b[0mbody\u001b[0m\u001b[0;34m=\u001b[0m\u001b[0mbody\u001b[0m\u001b[0;34m,\u001b[0m \u001b[0mheaders\u001b[0m\u001b[0;34m=\u001b[0m\u001b[0mheaders\u001b[0m\u001b[0;34m)\u001b[0m\u001b[0;34m\u001b[0m\u001b[0;34m\u001b[0m\u001b[0m\n\u001b[0m\u001b[1;32m    398\u001b[0m \u001b[0;34m\u001b[0m\u001b[0m\n\u001b[1;32m    399\u001b[0m             \u001b[0mstatuscode\u001b[0m \u001b[0;34m=\u001b[0m \u001b[0mresp\u001b[0m\u001b[0;34m.\u001b[0m\u001b[0mstatus\u001b[0m\u001b[0;34m\u001b[0m\u001b[0;34m\u001b[0m\u001b[0m\n",
            "\u001b[0;32m/usr/local/lib/python3.6/dist-packages/urllib3/request.py\u001b[0m in \u001b[0;36mrequest\u001b[0;34m(self, method, url, fields, headers, **urlopen_kw)\u001b[0m\n\u001b[1;32m     66\u001b[0m             return self.request_encode_url(method, url, fields=fields,\n\u001b[1;32m     67\u001b[0m                                            \u001b[0mheaders\u001b[0m\u001b[0;34m=\u001b[0m\u001b[0mheaders\u001b[0m\u001b[0;34m,\u001b[0m\u001b[0;34m\u001b[0m\u001b[0;34m\u001b[0m\u001b[0m\n\u001b[0;32m---> 68\u001b[0;31m                                            **urlopen_kw)\n\u001b[0m\u001b[1;32m     69\u001b[0m         \u001b[0;32melse\u001b[0m\u001b[0;34m:\u001b[0m\u001b[0;34m\u001b[0m\u001b[0;34m\u001b[0m\u001b[0m\n\u001b[1;32m     70\u001b[0m             return self.request_encode_body(method, url, fields=fields,\n",
            "\u001b[0;32m/usr/local/lib/python3.6/dist-packages/urllib3/request.py\u001b[0m in \u001b[0;36mrequest_encode_url\u001b[0;34m(self, method, url, fields, headers, **urlopen_kw)\u001b[0m\n\u001b[1;32m     87\u001b[0m             \u001b[0murl\u001b[0m \u001b[0;34m+=\u001b[0m \u001b[0;34m'?'\u001b[0m \u001b[0;34m+\u001b[0m \u001b[0murlencode\u001b[0m\u001b[0;34m(\u001b[0m\u001b[0mfields\u001b[0m\u001b[0;34m)\u001b[0m\u001b[0;34m\u001b[0m\u001b[0;34m\u001b[0m\u001b[0m\n\u001b[1;32m     88\u001b[0m \u001b[0;34m\u001b[0m\u001b[0m\n\u001b[0;32m---> 89\u001b[0;31m         \u001b[0;32mreturn\u001b[0m \u001b[0mself\u001b[0m\u001b[0;34m.\u001b[0m\u001b[0murlopen\u001b[0m\u001b[0;34m(\u001b[0m\u001b[0mmethod\u001b[0m\u001b[0;34m,\u001b[0m \u001b[0murl\u001b[0m\u001b[0;34m,\u001b[0m \u001b[0;34m**\u001b[0m\u001b[0mextra_kw\u001b[0m\u001b[0;34m)\u001b[0m\u001b[0;34m\u001b[0m\u001b[0;34m\u001b[0m\u001b[0m\n\u001b[0m\u001b[1;32m     90\u001b[0m \u001b[0;34m\u001b[0m\u001b[0m\n\u001b[1;32m     91\u001b[0m     def request_encode_body(self, method, url, fields=None, headers=None,\n",
            "\u001b[0;32m/usr/local/lib/python3.6/dist-packages/urllib3/poolmanager.py\u001b[0m in \u001b[0;36murlopen\u001b[0;34m(self, method, url, redirect, **kw)\u001b[0m\n\u001b[1;32m    322\u001b[0m             \u001b[0mresponse\u001b[0m \u001b[0;34m=\u001b[0m \u001b[0mconn\u001b[0m\u001b[0;34m.\u001b[0m\u001b[0murlopen\u001b[0m\u001b[0;34m(\u001b[0m\u001b[0mmethod\u001b[0m\u001b[0;34m,\u001b[0m \u001b[0murl\u001b[0m\u001b[0;34m,\u001b[0m \u001b[0;34m**\u001b[0m\u001b[0mkw\u001b[0m\u001b[0;34m)\u001b[0m\u001b[0;34m\u001b[0m\u001b[0;34m\u001b[0m\u001b[0m\n\u001b[1;32m    323\u001b[0m         \u001b[0;32melse\u001b[0m\u001b[0;34m:\u001b[0m\u001b[0;34m\u001b[0m\u001b[0;34m\u001b[0m\u001b[0m\n\u001b[0;32m--> 324\u001b[0;31m             \u001b[0mresponse\u001b[0m \u001b[0;34m=\u001b[0m \u001b[0mconn\u001b[0m\u001b[0;34m.\u001b[0m\u001b[0murlopen\u001b[0m\u001b[0;34m(\u001b[0m\u001b[0mmethod\u001b[0m\u001b[0;34m,\u001b[0m \u001b[0mu\u001b[0m\u001b[0;34m.\u001b[0m\u001b[0mrequest_uri\u001b[0m\u001b[0;34m,\u001b[0m \u001b[0;34m**\u001b[0m\u001b[0mkw\u001b[0m\u001b[0;34m)\u001b[0m\u001b[0;34m\u001b[0m\u001b[0;34m\u001b[0m\u001b[0m\n\u001b[0m\u001b[1;32m    325\u001b[0m \u001b[0;34m\u001b[0m\u001b[0m\n\u001b[1;32m    326\u001b[0m         \u001b[0mredirect_location\u001b[0m \u001b[0;34m=\u001b[0m \u001b[0mredirect\u001b[0m \u001b[0;32mand\u001b[0m \u001b[0mresponse\u001b[0m\u001b[0;34m.\u001b[0m\u001b[0mget_redirect_location\u001b[0m\u001b[0;34m(\u001b[0m\u001b[0;34m)\u001b[0m\u001b[0;34m\u001b[0m\u001b[0;34m\u001b[0m\u001b[0m\n",
            "\u001b[0;32m/usr/local/lib/python3.6/dist-packages/urllib3/connectionpool.py\u001b[0m in \u001b[0;36murlopen\u001b[0;34m(self, method, url, body, headers, retries, redirect, assert_same_host, timeout, pool_timeout, release_conn, chunked, body_pos, **response_kw)\u001b[0m\n\u001b[1;32m    598\u001b[0m                                                   \u001b[0mtimeout\u001b[0m\u001b[0;34m=\u001b[0m\u001b[0mtimeout_obj\u001b[0m\u001b[0;34m,\u001b[0m\u001b[0;34m\u001b[0m\u001b[0;34m\u001b[0m\u001b[0m\n\u001b[1;32m    599\u001b[0m                                                   \u001b[0mbody\u001b[0m\u001b[0;34m=\u001b[0m\u001b[0mbody\u001b[0m\u001b[0;34m,\u001b[0m \u001b[0mheaders\u001b[0m\u001b[0;34m=\u001b[0m\u001b[0mheaders\u001b[0m\u001b[0;34m,\u001b[0m\u001b[0;34m\u001b[0m\u001b[0;34m\u001b[0m\u001b[0m\n\u001b[0;32m--> 600\u001b[0;31m                                                   chunked=chunked)\n\u001b[0m\u001b[1;32m    601\u001b[0m \u001b[0;34m\u001b[0m\u001b[0m\n\u001b[1;32m    602\u001b[0m             \u001b[0;31m# If we're going to release the connection in ``finally:``, then\u001b[0m\u001b[0;34m\u001b[0m\u001b[0;34m\u001b[0m\u001b[0;34m\u001b[0m\u001b[0m\n",
            "\u001b[0;32m/usr/local/lib/python3.6/dist-packages/urllib3/connectionpool.py\u001b[0m in \u001b[0;36m_make_request\u001b[0;34m(self, conn, method, url, timeout, chunked, **httplib_request_kw)\u001b[0m\n\u001b[1;32m    378\u001b[0m             \u001b[0;32mexcept\u001b[0m \u001b[0mTypeError\u001b[0m\u001b[0;34m:\u001b[0m  \u001b[0;31m# Python 3\u001b[0m\u001b[0;34m\u001b[0m\u001b[0;34m\u001b[0m\u001b[0m\n\u001b[1;32m    379\u001b[0m                 \u001b[0;32mtry\u001b[0m\u001b[0;34m:\u001b[0m\u001b[0;34m\u001b[0m\u001b[0;34m\u001b[0m\u001b[0m\n\u001b[0;32m--> 380\u001b[0;31m                     \u001b[0mhttplib_response\u001b[0m \u001b[0;34m=\u001b[0m \u001b[0mconn\u001b[0m\u001b[0;34m.\u001b[0m\u001b[0mgetresponse\u001b[0m\u001b[0;34m(\u001b[0m\u001b[0;34m)\u001b[0m\u001b[0;34m\u001b[0m\u001b[0;34m\u001b[0m\u001b[0m\n\u001b[0m\u001b[1;32m    381\u001b[0m                 \u001b[0;32mexcept\u001b[0m \u001b[0mException\u001b[0m \u001b[0;32mas\u001b[0m \u001b[0me\u001b[0m\u001b[0;34m:\u001b[0m\u001b[0;34m\u001b[0m\u001b[0;34m\u001b[0m\u001b[0m\n\u001b[1;32m    382\u001b[0m                     \u001b[0;31m# Remove the TypeError from the exception chain in Python 3;\u001b[0m\u001b[0;34m\u001b[0m\u001b[0;34m\u001b[0m\u001b[0;34m\u001b[0m\u001b[0m\n",
            "\u001b[0;32m/usr/lib/python3.6/http/client.py\u001b[0m in \u001b[0;36mgetresponse\u001b[0;34m(self)\u001b[0m\n\u001b[1;32m   1354\u001b[0m         \u001b[0;32mtry\u001b[0m\u001b[0;34m:\u001b[0m\u001b[0;34m\u001b[0m\u001b[0;34m\u001b[0m\u001b[0m\n\u001b[1;32m   1355\u001b[0m             \u001b[0;32mtry\u001b[0m\u001b[0;34m:\u001b[0m\u001b[0;34m\u001b[0m\u001b[0;34m\u001b[0m\u001b[0m\n\u001b[0;32m-> 1356\u001b[0;31m                 \u001b[0mresponse\u001b[0m\u001b[0;34m.\u001b[0m\u001b[0mbegin\u001b[0m\u001b[0;34m(\u001b[0m\u001b[0;34m)\u001b[0m\u001b[0;34m\u001b[0m\u001b[0;34m\u001b[0m\u001b[0m\n\u001b[0m\u001b[1;32m   1357\u001b[0m             \u001b[0;32mexcept\u001b[0m \u001b[0mConnectionError\u001b[0m\u001b[0;34m:\u001b[0m\u001b[0;34m\u001b[0m\u001b[0;34m\u001b[0m\u001b[0m\n\u001b[1;32m   1358\u001b[0m                 \u001b[0mself\u001b[0m\u001b[0;34m.\u001b[0m\u001b[0mclose\u001b[0m\u001b[0;34m(\u001b[0m\u001b[0;34m)\u001b[0m\u001b[0;34m\u001b[0m\u001b[0;34m\u001b[0m\u001b[0m\n",
            "\u001b[0;32m/usr/lib/python3.6/http/client.py\u001b[0m in \u001b[0;36mbegin\u001b[0;34m(self)\u001b[0m\n\u001b[1;32m    305\u001b[0m         \u001b[0;31m# read until we get a non-100 response\u001b[0m\u001b[0;34m\u001b[0m\u001b[0;34m\u001b[0m\u001b[0;34m\u001b[0m\u001b[0m\n\u001b[1;32m    306\u001b[0m         \u001b[0;32mwhile\u001b[0m \u001b[0;32mTrue\u001b[0m\u001b[0;34m:\u001b[0m\u001b[0;34m\u001b[0m\u001b[0;34m\u001b[0m\u001b[0m\n\u001b[0;32m--> 307\u001b[0;31m             \u001b[0mversion\u001b[0m\u001b[0;34m,\u001b[0m \u001b[0mstatus\u001b[0m\u001b[0;34m,\u001b[0m \u001b[0mreason\u001b[0m \u001b[0;34m=\u001b[0m \u001b[0mself\u001b[0m\u001b[0;34m.\u001b[0m\u001b[0m_read_status\u001b[0m\u001b[0;34m(\u001b[0m\u001b[0;34m)\u001b[0m\u001b[0;34m\u001b[0m\u001b[0;34m\u001b[0m\u001b[0m\n\u001b[0m\u001b[1;32m    308\u001b[0m             \u001b[0;32mif\u001b[0m \u001b[0mstatus\u001b[0m \u001b[0;34m!=\u001b[0m \u001b[0mCONTINUE\u001b[0m\u001b[0;34m:\u001b[0m\u001b[0;34m\u001b[0m\u001b[0;34m\u001b[0m\u001b[0m\n\u001b[1;32m    309\u001b[0m                 \u001b[0;32mbreak\u001b[0m\u001b[0;34m\u001b[0m\u001b[0;34m\u001b[0m\u001b[0m\n",
            "\u001b[0;32m/usr/lib/python3.6/http/client.py\u001b[0m in \u001b[0;36m_read_status\u001b[0;34m(self)\u001b[0m\n\u001b[1;32m    266\u001b[0m \u001b[0;34m\u001b[0m\u001b[0m\n\u001b[1;32m    267\u001b[0m     \u001b[0;32mdef\u001b[0m \u001b[0m_read_status\u001b[0m\u001b[0;34m(\u001b[0m\u001b[0mself\u001b[0m\u001b[0;34m)\u001b[0m\u001b[0;34m:\u001b[0m\u001b[0;34m\u001b[0m\u001b[0;34m\u001b[0m\u001b[0m\n\u001b[0;32m--> 268\u001b[0;31m         \u001b[0mline\u001b[0m \u001b[0;34m=\u001b[0m \u001b[0mstr\u001b[0m\u001b[0;34m(\u001b[0m\u001b[0mself\u001b[0m\u001b[0;34m.\u001b[0m\u001b[0mfp\u001b[0m\u001b[0;34m.\u001b[0m\u001b[0mreadline\u001b[0m\u001b[0;34m(\u001b[0m\u001b[0m_MAXLINE\u001b[0m \u001b[0;34m+\u001b[0m \u001b[0;36m1\u001b[0m\u001b[0;34m)\u001b[0m\u001b[0;34m,\u001b[0m \u001b[0;34m\"iso-8859-1\"\u001b[0m\u001b[0;34m)\u001b[0m\u001b[0;34m\u001b[0m\u001b[0;34m\u001b[0m\u001b[0m\n\u001b[0m\u001b[1;32m    269\u001b[0m         \u001b[0;32mif\u001b[0m \u001b[0mlen\u001b[0m\u001b[0;34m(\u001b[0m\u001b[0mline\u001b[0m\u001b[0;34m)\u001b[0m \u001b[0;34m>\u001b[0m \u001b[0m_MAXLINE\u001b[0m\u001b[0;34m:\u001b[0m\u001b[0;34m\u001b[0m\u001b[0;34m\u001b[0m\u001b[0m\n\u001b[1;32m    270\u001b[0m             \u001b[0;32mraise\u001b[0m \u001b[0mLineTooLong\u001b[0m\u001b[0;34m(\u001b[0m\u001b[0;34m\"status line\"\u001b[0m\u001b[0;34m)\u001b[0m\u001b[0;34m\u001b[0m\u001b[0;34m\u001b[0m\u001b[0m\n",
            "\u001b[0;32m/usr/lib/python3.6/socket.py\u001b[0m in \u001b[0;36mreadinto\u001b[0;34m(self, b)\u001b[0m\n\u001b[1;32m    584\u001b[0m         \u001b[0;32mwhile\u001b[0m \u001b[0;32mTrue\u001b[0m\u001b[0;34m:\u001b[0m\u001b[0;34m\u001b[0m\u001b[0;34m\u001b[0m\u001b[0m\n\u001b[1;32m    585\u001b[0m             \u001b[0;32mtry\u001b[0m\u001b[0;34m:\u001b[0m\u001b[0;34m\u001b[0m\u001b[0;34m\u001b[0m\u001b[0m\n\u001b[0;32m--> 586\u001b[0;31m                 \u001b[0;32mreturn\u001b[0m \u001b[0mself\u001b[0m\u001b[0;34m.\u001b[0m\u001b[0m_sock\u001b[0m\u001b[0;34m.\u001b[0m\u001b[0mrecv_into\u001b[0m\u001b[0;34m(\u001b[0m\u001b[0mb\u001b[0m\u001b[0;34m)\u001b[0m\u001b[0;34m\u001b[0m\u001b[0;34m\u001b[0m\u001b[0m\n\u001b[0m\u001b[1;32m    587\u001b[0m             \u001b[0;32mexcept\u001b[0m \u001b[0mtimeout\u001b[0m\u001b[0;34m:\u001b[0m\u001b[0;34m\u001b[0m\u001b[0;34m\u001b[0m\u001b[0m\n\u001b[1;32m    588\u001b[0m                 \u001b[0mself\u001b[0m\u001b[0;34m.\u001b[0m\u001b[0m_timeout_occurred\u001b[0m \u001b[0;34m=\u001b[0m \u001b[0;32mTrue\u001b[0m\u001b[0;34m\u001b[0m\u001b[0;34m\u001b[0m\u001b[0m\n",
            "\u001b[0;31mKeyboardInterrupt\u001b[0m: "
          ]
        }
      ]
    },
    {
      "cell_type": "code",
      "metadata": {
        "id": "MJL8RRLIMIvV",
        "colab_type": "code",
        "colab": {
          "base_uri": "https://localhost:8080/",
          "height": 34
        },
        "outputId": "2d09a12c-c1d8-42ec-ae5e-c83a43a9b105"
      },
      "source": [
        "print(len(details))\n"
      ],
      "execution_count": null,
      "outputs": [
        {
          "output_type": "stream",
          "text": [
            "1051\n"
          ],
          "name": "stdout"
        }
      ]
    },
    {
      "cell_type": "markdown",
      "metadata": {
        "id": "fcfGcK4O4R2-",
        "colab_type": "text"
      },
      "source": [
        "Store the data with *pandas*"
      ]
    },
    {
      "cell_type": "code",
      "metadata": {
        "id": "4xik7JIr4J-n",
        "colab_type": "code",
        "colab": {
          "base_uri": "https://localhost:8080/",
          "height": 290
        },
        "outputId": "59f60e48-ab61-470b-a2c5-69ae18b2794f"
      },
      "source": [
        "import pandas as pd\n",
        "ds_details = pd.DataFrame(details)\n",
        "ds_details.set_index(\"id\")\n",
        "ds_details.info()\n",
        "ds_details.to_csv(\"ds_details_completo.csv\")\n"
      ],
      "execution_count": null,
      "outputs": [
        {
          "output_type": "stream",
          "text": [
            "<class 'pandas.core.frame.DataFrame'>\n",
            "RangeIndex: 1051 entries, 0 to 1050\n",
            "Data columns (total 9 columns):\n",
            " #   Column    Non-Null Count  Dtype \n",
            "---  ------    --------------  ----- \n",
            " 0   id        1051 non-null   int64 \n",
            " 1   url       1051 non-null   object\n",
            " 2   name      1051 non-null   object\n",
            " 3   brand     1051 non-null   object\n",
            " 4   colour    1051 non-null   object\n",
            " 5   Detail    1051 non-null   object\n",
            " 6   Material  1051 non-null   object\n",
            " 7   Sex       1051 non-null   object\n",
            " 8   tipo      1051 non-null   object\n",
            "dtypes: int64(1), object(8)\n",
            "memory usage: 74.0+ KB\n"
          ],
          "name": "stdout"
        }
      ]
    },
    {
      "cell_type": "markdown",
      "metadata": {
        "id": "dJdurd8345Jp",
        "colab_type": "text"
      },
      "source": [
        "# Sportler item images\n",
        "\n",
        "\n",
        "Now we're going to download Kickstarter images for each project.\n",
        "\n",
        "Our goal is to create a dataset of images and a `Dataframe` composed by:\n",
        "- `project_id`\n",
        "- `image_id`\n",
        "\n",
        "We will use the library `requests`.\n",
        "\n",
        "The `requests` library is python library for making HTTP requests.\n",
        "It abstracts the complexities of making requests behind a simple API so that you can focus on interacting with services and consuming data in your application."
      ]
    },
    {
      "cell_type": "code",
      "metadata": {
        "id": "QzKkNfwwXLE0",
        "colab_type": "code",
        "colab": {}
      },
      "source": [
        "def parse_id(item):\n",
        "  url = item.find_elements_by_css_selector(\"a\")[0].get_attribute(\"href\")\n",
        "  print(url)\n",
        "  try: \n",
        "    id = str(re.findall(r'\\D([0-9]{8})\\D',url))[2:10]\n",
        "  except:\n",
        "    id='no 8 digits'\n",
        "\n",
        "  #brand=item.find_elements_by_css_selector(\"h1 span.text-upercase\")[0].text\n",
        "  #name = item.find_elements_by_xpath(\"//*[@id='Detail_MainForm']/div/h1/span[3]\").text\n",
        "  return id\n"
      ],
      "execution_count": null,
      "outputs": []
    },
    {
      "cell_type": "code",
      "metadata": {
        "id": "mOX-ndDtmt7G",
        "colab_type": "code",
        "colab": {
          "base_uri": "https://localhost:8080/",
          "height": 636
        },
        "outputId": "664c06a7-c79e-4771-e4af-11b12ab59b6a"
      },
      "source": [
        "# open csv file\n",
        "import pandas as pd\n",
        "ds_detail_items = pd.read_csv(\"ds_details_completo.csv\", index_col=\"id\")\n",
        "ds_detail_items.head()"
      ],
      "execution_count": null,
      "outputs": [
        {
          "output_type": "execute_result",
          "data": {
            "text/html": [
              "<div>\n",
              "<style scoped>\n",
              "    .dataframe tbody tr th:only-of-type {\n",
              "        vertical-align: middle;\n",
              "    }\n",
              "\n",
              "    .dataframe tbody tr th {\n",
              "        vertical-align: top;\n",
              "    }\n",
              "\n",
              "    .dataframe thead th {\n",
              "        text-align: right;\n",
              "    }\n",
              "</style>\n",
              "<table border=\"1\" class=\"dataframe\">\n",
              "  <thead>\n",
              "    <tr style=\"text-align: right;\">\n",
              "      <th></th>\n",
              "      <th>Unnamed: 0</th>\n",
              "      <th>url</th>\n",
              "      <th>name</th>\n",
              "      <th>brand</th>\n",
              "      <th>colour</th>\n",
              "      <th>Detail</th>\n",
              "      <th>Material</th>\n",
              "      <th>Sex</th>\n",
              "      <th>tipo</th>\n",
              "    </tr>\n",
              "    <tr>\n",
              "      <th>id</th>\n",
              "      <th></th>\n",
              "      <th></th>\n",
              "      <th></th>\n",
              "      <th></th>\n",
              "      <th></th>\n",
              "      <th></th>\n",
              "      <th></th>\n",
              "      <th></th>\n",
              "      <th></th>\n",
              "    </tr>\n",
              "  </thead>\n",
              "  <tbody>\n",
              "    <tr>\n",
              "      <th>10886958</th>\n",
              "      <td>0</td>\n",
              "      <td>https://www.sportler.com/it/p/nike-dri-fit-mil...</td>\n",
              "      <td>Dri-FIT Miler Wild Run Graphic Running - magli...</td>\n",
              "      <td>NIKE</td>\n",
              "      <td>Black</td>\n",
              "      <td>Maglia running da uomo Dri-FIT Miler Wild Run ...</td>\n",
              "      <td>Composizione 100% polyester</td>\n",
              "      <td>uomo</td>\n",
              "      <td>abbigliamento</td>\n",
              "    </tr>\n",
              "    <tr>\n",
              "      <th>10886946</th>\n",
              "      <td>1</td>\n",
              "      <td>https://www.sportler.com/it/p/nike-pacer-1-2-z...</td>\n",
              "      <td>Pacer 1/2-Zip Running - maglia running a manic...</td>\n",
              "      <td>NIKE</td>\n",
              "      <td>Grey</td>\n",
              "      <td>Maglia running a maniche lunghe da uomo Pacer ...</td>\n",
              "      <td>Composizione 100% polyester</td>\n",
              "      <td>uomo</td>\n",
              "      <td>abbigliamento</td>\n",
              "    </tr>\n",
              "    <tr>\n",
              "      <th>10886961</th>\n",
              "      <td>2</td>\n",
              "      <td>https://www.sportler.com/it/p/nike-flex-stride...</td>\n",
              "      <td>Flex Stride 5\" Brief Running - pantaloni runni...</td>\n",
              "      <td>NIKE</td>\n",
              "      <td>Black</td>\n",
              "      <td>Pantaloni running da uomo Flex Stride 5\" Brief...</td>\n",
              "      <td>Composizione 100% polyester</td>\n",
              "      <td>uomo</td>\n",
              "      <td>abbigliamento</td>\n",
              "    </tr>\n",
              "    <tr>\n",
              "      <th>10842942</th>\n",
              "      <td>3</td>\n",
              "      <td>https://www.sportler.com/it/p/nike-flex-stride...</td>\n",
              "      <td>Flex Stride 5\" Trail - pantaloni trail running...</td>\n",
              "      <td>NIKE</td>\n",
              "      <td>Green</td>\n",
              "      <td>Pantaloni trail running da uomo Flex Stride 5\"...</td>\n",
              "      <td>Composizione 100% recycled polyester</td>\n",
              "      <td>uomo</td>\n",
              "      <td>abbigliamento</td>\n",
              "    </tr>\n",
              "    <tr>\n",
              "      <th>10893181</th>\n",
              "      <td>4</td>\n",
              "      <td>https://www.sportler.com/it/p/adidas-yg-essent...</td>\n",
              "      <td>YG Essentials Linear - pantaloni lunghi fitnes...</td>\n",
              "      <td>ADIDAS</td>\n",
              "      <td>Black</td>\n",
              "      <td>YG Essentials Linear Tight di Adidas, leggings...</td>\n",
              "      <td>Composizione 92% cotton, 8% elastane</td>\n",
              "      <td>uomo</td>\n",
              "      <td>abbigliamento</td>\n",
              "    </tr>\n",
              "  </tbody>\n",
              "</table>\n",
              "</div>"
            ],
            "text/plain": [
              "          Unnamed: 0  ...           tipo\n",
              "id                    ...               \n",
              "10886958           0  ...  abbigliamento\n",
              "10886946           1  ...  abbigliamento\n",
              "10886961           2  ...  abbigliamento\n",
              "10842942           3  ...  abbigliamento\n",
              "10893181           4  ...  abbigliamento\n",
              "\n",
              "[5 rows x 9 columns]"
            ]
          },
          "metadata": {
            "tags": []
          },
          "execution_count": 25
        }
      ]
    },
    {
      "cell_type": "code",
      "metadata": {
        "id": "q1cy5Jzt6ab-",
        "colab_type": "code",
        "colab": {
          "base_uri": "https://localhost:8080/",
          "height": 1000
        },
        "outputId": "ca5b5ba3-167b-48cd-adbb-0f3f5e347f76"
      },
      "source": [
        "import time\n",
        "import requests\n",
        "import tqdm as tqdm\n",
        "from random import randint\n",
        "\n",
        "detail_projects = []\n",
        "list_images = []\n",
        "sex = ['uomo','donna']\n",
        "tipo = ['abbigliamento','scarpe']\n",
        "\n",
        "for id, product in tqdm.tqdm(ds_detail_items.iterrows(), total=ds_detail_items.shape[0]):\n",
        "  link = product['url']\n",
        "  wd.get(link)\n",
        "  time.sleep(1)\n",
        "  src = wd.find_element_by_css_selector(\"img.cloudzoom.cp.lazyautosizes\").get_attribute(\"src\")\n",
        "  list_images.append({\"id\": id,\n",
        "                          \"img_file\": \"img_\" + str(id) + \".jpg\"})\n",
        "  img_file = requests.get(src, stream=True)\n",
        "  if img_file.status_code == 200:\n",
        "      with open(\"/content/Final_images/img_\" + str(id) + \".jpg\", 'wb') as f:\n",
        "       f.write(img_file.content)\n",
        "    #except Exception as e:\n",
        "    #  print(e)\n",
        "    \n",
        "\n",
        "\n"
      ],
      "execution_count": null,
      "outputs": [
        {
          "output_type": "stream",
          "text": [
            "\n",
            "  0%|          | 0/1066 [00:00<?, ?it/s]\u001b[A\n",
            "  0%|          | 1/1066 [00:01<29:00,  1.63s/it]\u001b[A\n",
            "  0%|          | 2/1066 [00:03<30:13,  1.70s/it]\u001b[A\n",
            "  0%|          | 3/1066 [00:05<30:38,  1.73s/it]\u001b[A\n",
            "  0%|          | 4/1066 [00:07<31:05,  1.76s/it]\u001b[A\n",
            "  0%|          | 5/1066 [00:09<32:58,  1.86s/it]\u001b[A\n",
            "  1%|          | 6/1066 [00:11<32:54,  1.86s/it]\u001b[A\n",
            "  1%|          | 7/1066 [00:13<36:18,  2.06s/it]\u001b[A\n",
            "  1%|          | 8/1066 [00:15<33:47,  1.92s/it]\u001b[A\n",
            "  1%|          | 9/1066 [00:16<31:46,  1.80s/it]\u001b[A\n",
            "  1%|          | 10/1066 [00:18<32:34,  1.85s/it]\u001b[A\n",
            "  1%|          | 11/1066 [00:20<32:55,  1.87s/it]\u001b[A\n",
            "  1%|          | 12/1066 [00:22<32:18,  1.84s/it]\u001b[A\n",
            "  1%|          | 13/1066 [00:24<32:39,  1.86s/it]\u001b[A\n",
            "  1%|▏         | 14/1066 [00:26<32:42,  1.87s/it]\u001b[A\n",
            "  1%|▏         | 15/1066 [00:27<32:13,  1.84s/it]\u001b[A\n",
            "  2%|▏         | 16/1066 [00:29<30:48,  1.76s/it]\u001b[A\n",
            "  2%|▏         | 17/1066 [00:31<31:25,  1.80s/it]\u001b[A\n",
            "  2%|▏         | 18/1066 [00:33<31:48,  1.82s/it]\u001b[A\n",
            "  2%|▏         | 19/1066 [00:34<30:03,  1.72s/it]\u001b[A\n",
            "  2%|▏         | 20/1066 [00:36<30:47,  1.77s/it]\u001b[A\n",
            "  2%|▏         | 21/1066 [00:38<29:26,  1.69s/it]\u001b[A\n",
            "  2%|▏         | 22/1066 [00:39<28:33,  1.64s/it]\u001b[A\n",
            "  2%|▏         | 23/1066 [00:41<27:58,  1.61s/it]\u001b[A\n",
            "  2%|▏         | 24/1066 [00:43<29:06,  1.68s/it]\u001b[A\n",
            "  2%|▏         | 25/1066 [00:45<30:51,  1.78s/it]\u001b[A\n",
            "  2%|▏         | 26/1066 [00:47<32:27,  1.87s/it]\u001b[A\n",
            "  3%|▎         | 27/1066 [00:49<32:19,  1.87s/it]\u001b[A\n",
            "  3%|▎         | 28/1066 [00:50<30:48,  1.78s/it]\u001b[A\n",
            "  3%|▎         | 29/1066 [00:52<31:37,  1.83s/it]\u001b[A\n",
            "  3%|▎         | 30/1066 [00:54<31:36,  1.83s/it]\u001b[A\n",
            "  3%|▎         | 31/1066 [00:55<29:41,  1.72s/it]\u001b[A\n",
            "  3%|▎         | 32/1066 [00:57<30:32,  1.77s/it]\u001b[A\n",
            "  3%|▎         | 33/1066 [00:59<30:52,  1.79s/it]\u001b[A\n",
            "  3%|▎         | 34/1066 [01:01<29:25,  1.71s/it]\u001b[A\n",
            "  3%|▎         | 35/1066 [01:02<30:17,  1.76s/it]\u001b[A\n",
            "  3%|▎         | 36/1066 [01:04<29:01,  1.69s/it]\u001b[A\n",
            "  3%|▎         | 37/1066 [01:06<28:11,  1.64s/it]\u001b[A\n",
            "  4%|▎         | 38/1066 [01:07<29:14,  1.71s/it]\u001b[A\n",
            "  4%|▎         | 39/1066 [01:09<29:59,  1.75s/it]\u001b[A\n",
            "  4%|▍         | 40/1066 [01:11<31:01,  1.81s/it]\u001b[A\n",
            "  4%|▍         | 41/1066 [01:16<44:56,  2.63s/it]\u001b[A\n",
            "  4%|▍         | 42/1066 [01:22<1:04:03,  3.75s/it]\u001b[A\n",
            "  4%|▍         | 43/1066 [01:25<1:00:16,  3.54s/it]\u001b[A\n",
            "  4%|▍         | 44/1066 [01:29<59:26,  3.49s/it]  \u001b[A\n",
            "  4%|▍         | 45/1066 [01:34<1:08:45,  4.04s/it]\u001b[A\n",
            "  4%|▍         | 46/1066 [01:38<1:07:24,  3.96s/it]\u001b[A\n",
            "  4%|▍         | 47/1066 [01:41<1:05:52,  3.88s/it]\u001b[A\n",
            "  5%|▍         | 48/1066 [01:44<1:00:43,  3.58s/it]\u001b[A\n",
            "  5%|▍         | 49/1066 [01:48<1:01:14,  3.61s/it]\u001b[A\n",
            "  5%|▍         | 50/1066 [01:52<1:04:28,  3.81s/it]\u001b[A\n",
            "  5%|▍         | 51/1066 [01:55<59:35,  3.52s/it]  \u001b[A\n",
            "  5%|▍         | 52/1066 [01:57<54:05,  3.20s/it]\u001b[A\n",
            "  5%|▍         | 53/1066 [02:01<56:12,  3.33s/it]\u001b[A\n",
            "  5%|▌         | 54/1066 [02:05<57:30,  3.41s/it]\u001b[A\n",
            "  5%|▌         | 55/1066 [02:09<1:04:10,  3.81s/it]\u001b[A\n",
            "  5%|▌         | 56/1066 [02:13<1:01:58,  3.68s/it]\u001b[A\n",
            "  5%|▌         | 57/1066 [02:16<1:00:24,  3.59s/it]\u001b[A\n",
            "  5%|▌         | 58/1066 [02:20<1:00:22,  3.59s/it]\u001b[A\n",
            "  6%|▌         | 59/1066 [02:23<57:19,  3.42s/it]  \u001b[A\n",
            "  6%|▌         | 60/1066 [02:26<58:42,  3.50s/it]\u001b[A\n",
            "  6%|▌         | 61/1066 [02:30<57:36,  3.44s/it]\u001b[A\n",
            "  6%|▌         | 62/1066 [02:33<55:40,  3.33s/it]\u001b[A\n",
            "  6%|▌         | 63/1066 [02:36<56:29,  3.38s/it]\u001b[A\n",
            "  6%|▌         | 64/1066 [02:40<59:42,  3.58s/it]\u001b[A\n",
            "  6%|▌         | 65/1066 [02:44<59:24,  3.56s/it]\u001b[A\n",
            "  6%|▌         | 66/1066 [02:46<54:19,  3.26s/it]\u001b[A\n",
            "  6%|▋         | 67/1066 [02:49<52:48,  3.17s/it]\u001b[A\n",
            "  6%|▋         | 68/1066 [02:53<56:07,  3.37s/it]\u001b[A\n",
            "  6%|▋         | 69/1066 [02:57<55:57,  3.37s/it]\u001b[A\n",
            "  7%|▋         | 70/1066 [03:00<53:38,  3.23s/it]\u001b[A\n",
            "  7%|▋         | 71/1066 [03:03<57:00,  3.44s/it]\u001b[A\n",
            "  7%|▋         | 72/1066 [03:07<55:17,  3.34s/it]\u001b[A\n",
            "  7%|▋         | 73/1066 [03:09<51:24,  3.11s/it]\u001b[A\n",
            "  7%|▋         | 74/1066 [03:12<52:10,  3.16s/it]\u001b[A\n",
            "  7%|▋         | 75/1066 [03:15<50:09,  3.04s/it]\u001b[A\n",
            "  7%|▋         | 76/1066 [03:18<50:02,  3.03s/it]\u001b[A\n",
            "  7%|▋         | 77/1066 [03:21<49:38,  3.01s/it]\u001b[A\n",
            "  7%|▋         | 78/1066 [03:24<48:44,  2.96s/it]\u001b[A\n",
            "  7%|▋         | 79/1066 [03:27<49:27,  3.01s/it]\u001b[A\n",
            "  8%|▊         | 80/1066 [03:30<48:09,  2.93s/it]\u001b[A\n",
            "  8%|▊         | 81/1066 [03:33<47:09,  2.87s/it]\u001b[A\n",
            "  8%|▊         | 82/1066 [03:38<57:38,  3.51s/it]\u001b[A\n",
            "  8%|▊         | 83/1066 [03:42<1:00:55,  3.72s/it]\u001b[A\n",
            "  8%|▊         | 84/1066 [03:45<56:39,  3.46s/it]  \u001b[A\n",
            "  8%|▊         | 85/1066 [03:48<54:04,  3.31s/it]\u001b[A\n",
            "  8%|▊         | 86/1066 [03:50<51:10,  3.13s/it]\u001b[A\n",
            "  8%|▊         | 87/1066 [03:53<46:37,  2.86s/it]\u001b[A\n",
            "  8%|▊         | 88/1066 [03:55<45:31,  2.79s/it]\u001b[A\n",
            "  8%|▊         | 89/1066 [03:58<47:19,  2.91s/it]\u001b[A\n",
            "  8%|▊         | 90/1066 [04:01<46:28,  2.86s/it]\u001b[A\n",
            "  9%|▊         | 91/1066 [04:05<53:47,  3.31s/it]\u001b[A\n",
            "  9%|▊         | 92/1066 [04:09<55:23,  3.41s/it]\u001b[A\n",
            "  9%|▊         | 93/1066 [04:13<59:34,  3.67s/it]\u001b[A\n",
            "  9%|▉         | 94/1066 [04:17<59:09,  3.65s/it]\u001b[A\n",
            "  9%|▉         | 95/1066 [04:20<57:30,  3.55s/it]\u001b[A\n",
            "  9%|▉         | 96/1066 [04:23<52:40,  3.26s/it]\u001b[A\n",
            "  9%|▉         | 97/1066 [04:26<50:39,  3.14s/it]\u001b[A\n",
            "  9%|▉         | 98/1066 [04:29<49:25,  3.06s/it]\u001b[A\n",
            "  9%|▉         | 99/1066 [04:31<46:22,  2.88s/it]\u001b[A\n",
            "  9%|▉         | 100/1066 [04:34<45:01,  2.80s/it]\u001b[A\n",
            "  9%|▉         | 101/1066 [04:37<48:28,  3.01s/it]\u001b[A\n",
            " 10%|▉         | 102/1066 [04:40<47:33,  2.96s/it]\u001b[A\n",
            " 10%|▉         | 103/1066 [04:44<53:07,  3.31s/it]\u001b[A\n",
            " 10%|▉         | 104/1066 [04:51<1:07:44,  4.23s/it]\u001b[A\n",
            " 10%|▉         | 105/1066 [04:53<58:49,  3.67s/it]  \u001b[A\n",
            " 10%|▉         | 106/1066 [04:57<58:33,  3.66s/it]\u001b[A\n",
            " 10%|█         | 107/1066 [05:00<55:40,  3.48s/it]\u001b[A\n",
            " 10%|█         | 108/1066 [05:02<50:47,  3.18s/it]\u001b[A\n",
            " 10%|█         | 109/1066 [05:06<53:38,  3.36s/it]\u001b[A\n",
            " 10%|█         | 110/1066 [05:09<52:42,  3.31s/it]\u001b[A\n",
            " 10%|█         | 111/1066 [05:12<51:04,  3.21s/it]\u001b[A\n",
            " 11%|█         | 112/1066 [05:15<48:18,  3.04s/it]\u001b[A\n",
            " 11%|█         | 113/1066 [05:17<46:50,  2.95s/it]\u001b[A\n",
            " 11%|█         | 114/1066 [05:21<51:45,  3.26s/it]\u001b[A\n",
            " 11%|█         | 115/1066 [05:25<51:57,  3.28s/it]\u001b[A\n",
            " 11%|█         | 116/1066 [05:28<49:59,  3.16s/it]\u001b[A\n",
            " 11%|█         | 117/1066 [05:30<48:38,  3.08s/it]\u001b[A\n",
            " 11%|█         | 118/1066 [05:33<48:19,  3.06s/it]\u001b[A\n",
            " 11%|█         | 119/1066 [05:38<52:46,  3.34s/it]\u001b[A\n",
            " 11%|█▏        | 120/1066 [05:41<52:07,  3.31s/it]\u001b[A\n",
            " 11%|█▏        | 121/1066 [05:44<53:44,  3.41s/it]\u001b[A\n",
            " 11%|█▏        | 122/1066 [05:48<52:33,  3.34s/it]\u001b[A\n",
            " 12%|█▏        | 123/1066 [05:51<52:59,  3.37s/it]\u001b[A\n",
            " 12%|█▏        | 124/1066 [05:54<50:57,  3.25s/it]\u001b[A\n",
            " 12%|█▏        | 125/1066 [05:56<47:11,  3.01s/it]\u001b[A\n",
            " 12%|█▏        | 126/1066 [06:00<48:37,  3.10s/it]\u001b[A\n",
            " 12%|█▏        | 127/1066 [06:05<58:28,  3.74s/it]\u001b[A\n",
            " 12%|█▏        | 128/1066 [06:10<1:03:50,  4.08s/it]\u001b[A\n",
            " 12%|█▏        | 129/1066 [06:13<1:00:25,  3.87s/it]\u001b[A\n",
            " 12%|█▏        | 130/1066 [06:16<57:03,  3.66s/it]  \u001b[A\n",
            " 12%|█▏        | 131/1066 [06:19<53:41,  3.45s/it]\u001b[A\n",
            " 12%|█▏        | 132/1066 [06:24<1:00:01,  3.86s/it]\u001b[A\n",
            " 12%|█▏        | 133/1066 [06:27<57:27,  3.70s/it]  \u001b[A\n",
            " 13%|█▎        | 134/1066 [06:30<51:26,  3.31s/it]\u001b[A\n",
            " 13%|█▎        | 135/1066 [06:33<50:37,  3.26s/it]\u001b[A\n",
            " 13%|█▎        | 136/1066 [06:36<50:09,  3.24s/it]\u001b[A\n",
            " 13%|█▎        | 137/1066 [06:41<56:45,  3.67s/it]\u001b[A\n",
            " 13%|█▎        | 138/1066 [06:44<56:28,  3.65s/it]\u001b[A\n",
            " 13%|█▎        | 139/1066 [06:47<52:34,  3.40s/it]\u001b[A\n",
            " 13%|█▎        | 140/1066 [06:50<49:43,  3.22s/it]\u001b[A\n",
            " 13%|█▎        | 141/1066 [06:53<47:47,  3.10s/it]\u001b[A\n",
            " 13%|█▎        | 142/1066 [06:55<44:40,  2.90s/it]\u001b[A\n",
            " 13%|█▎        | 143/1066 [06:58<45:24,  2.95s/it]\u001b[A\n",
            " 14%|█▎        | 144/1066 [07:02<47:43,  3.11s/it]\u001b[A\n",
            " 14%|█▎        | 145/1066 [07:05<48:07,  3.14s/it]\u001b[A\n",
            " 14%|█▎        | 146/1066 [07:08<45:47,  2.99s/it]\u001b[A\n",
            " 14%|█▍        | 147/1066 [07:13<58:10,  3.80s/it]\u001b[A\n",
            " 14%|█▍        | 148/1066 [07:18<1:01:22,  4.01s/it]\u001b[A\n",
            " 14%|█▍        | 149/1066 [07:21<56:43,  3.71s/it]  \u001b[A\n",
            " 14%|█▍        | 150/1066 [07:24<53:56,  3.53s/it]\u001b[A\n",
            " 14%|█▍        | 151/1066 [07:28<54:12,  3.55s/it]\u001b[A\n",
            " 14%|█▍        | 152/1066 [07:31<51:37,  3.39s/it]\u001b[A\n",
            " 14%|█▍        | 153/1066 [07:33<47:28,  3.12s/it]\u001b[A\n",
            " 14%|█▍        | 154/1066 [07:36<46:26,  3.06s/it]\u001b[A\n",
            " 15%|█▍        | 155/1066 [07:41<52:41,  3.47s/it]\u001b[A\n",
            " 15%|█▍        | 156/1066 [07:43<50:15,  3.31s/it]\u001b[A\n",
            " 15%|█▍        | 157/1066 [07:46<45:31,  3.01s/it]\u001b[A\n",
            " 15%|█▍        | 158/1066 [07:49<44:41,  2.95s/it]\u001b[A\n",
            " 15%|█▍        | 159/1066 [07:51<44:03,  2.91s/it]\u001b[A\n",
            " 15%|█▌        | 160/1066 [07:55<46:40,  3.09s/it]\u001b[A\n",
            " 15%|█▌        | 161/1066 [07:58<47:15,  3.13s/it]\u001b[A\n",
            " 15%|█▌        | 162/1066 [08:01<45:07,  3.00s/it]\u001b[A\n",
            " 15%|█▌        | 163/1066 [08:06<54:34,  3.63s/it]\u001b[A\n",
            " 15%|█▌        | 164/1066 [08:15<1:17:48,  5.18s/it]\u001b[A\n",
            " 15%|█▌        | 165/1066 [08:17<1:04:55,  4.32s/it]\u001b[A\n",
            " 16%|█▌        | 166/1066 [08:20<1:00:59,  4.07s/it]\u001b[A\n",
            " 16%|█▌        | 167/1066 [08:24<57:05,  3.81s/it]  \u001b[A\n",
            " 16%|█▌        | 168/1066 [08:27<52:47,  3.53s/it]\u001b[A\n",
            " 16%|█▌        | 169/1066 [08:30<51:33,  3.45s/it]\u001b[A\n",
            " 16%|█▌        | 170/1066 [08:32<47:23,  3.17s/it]\u001b[A\n",
            " 16%|█▌        | 171/1066 [08:35<44:29,  2.98s/it]\u001b[A\n",
            " 16%|█▌        | 172/1066 [08:39<48:06,  3.23s/it]\u001b[A\n",
            " 16%|█▌        | 173/1066 [08:41<45:14,  3.04s/it]\u001b[A\n",
            " 16%|█▋        | 174/1066 [08:44<44:37,  3.00s/it]\u001b[A\n",
            " 16%|█▋        | 175/1066 [08:48<46:00,  3.10s/it]\u001b[A\n",
            " 17%|█▋        | 176/1066 [08:50<43:38,  2.94s/it]\u001b[A\n",
            " 17%|█▋        | 177/1066 [08:53<42:25,  2.86s/it]\u001b[A\n",
            " 17%|█▋        | 178/1066 [08:56<43:00,  2.91s/it]\u001b[A\n",
            " 17%|█▋        | 179/1066 [09:00<47:03,  3.18s/it]\u001b[A\n",
            " 17%|█▋        | 180/1066 [09:04<50:23,  3.41s/it]\u001b[A\n",
            " 17%|█▋        | 181/1066 [09:06<47:25,  3.22s/it]\u001b[A\n",
            " 17%|█▋        | 182/1066 [09:10<49:41,  3.37s/it]\u001b[A\n",
            " 17%|█▋        | 183/1066 [09:15<56:25,  3.83s/it]\u001b[A\n",
            " 17%|█▋        | 184/1066 [09:18<54:32,  3.71s/it]\u001b[A\n",
            " 17%|█▋        | 185/1066 [09:21<49:18,  3.36s/it]\u001b[A\n",
            " 17%|█▋        | 186/1066 [09:28<1:07:08,  4.58s/it]\u001b[A\n",
            " 18%|█▊        | 187/1066 [09:32<1:01:07,  4.17s/it]\u001b[A\n",
            " 18%|█▊        | 188/1066 [09:35<57:10,  3.91s/it]  \u001b[A\n",
            " 18%|█▊        | 189/1066 [09:38<52:50,  3.61s/it]\u001b[A\n",
            " 18%|█▊        | 190/1066 [09:41<51:39,  3.54s/it]\u001b[A\n",
            " 18%|█▊        | 191/1066 [09:44<49:58,  3.43s/it]\u001b[A\n",
            " 18%|█▊        | 192/1066 [09:47<46:11,  3.17s/it]\u001b[A\n",
            " 18%|█▊        | 193/1066 [09:50<45:32,  3.13s/it]\u001b[A\n",
            " 18%|█▊        | 194/1066 [09:53<46:44,  3.22s/it]\u001b[A\n",
            " 18%|█▊        | 195/1066 [09:57<47:16,  3.26s/it]\u001b[A\n",
            " 18%|█▊        | 196/1066 [10:01<51:09,  3.53s/it]\u001b[A\n",
            " 18%|█▊        | 197/1066 [10:03<46:28,  3.21s/it]\u001b[A\n",
            " 19%|█▊        | 198/1066 [10:08<53:05,  3.67s/it]\u001b[A\n",
            " 19%|█▊        | 199/1066 [10:12<52:07,  3.61s/it]\u001b[A\n",
            " 19%|█▉        | 200/1066 [10:14<48:40,  3.37s/it]\u001b[A\n",
            " 19%|█▉        | 201/1066 [10:17<47:00,  3.26s/it]\u001b[A\n",
            " 19%|█▉        | 202/1066 [10:20<45:57,  3.19s/it]\u001b[A\n",
            " 19%|█▉        | 203/1066 [10:23<45:25,  3.16s/it]\u001b[A\n",
            " 19%|█▉        | 204/1066 [10:28<52:07,  3.63s/it]\u001b[A\n",
            " 19%|█▉        | 205/1066 [10:31<48:53,  3.41s/it]\u001b[A\n",
            " 19%|█▉        | 206/1066 [10:36<53:59,  3.77s/it]\u001b[A\n",
            " 19%|█▉        | 207/1066 [10:42<1:04:34,  4.51s/it]\u001b[A\n",
            " 20%|█▉        | 208/1066 [10:45<58:26,  4.09s/it]  \u001b[A\n",
            " 20%|█▉        | 209/1066 [10:48<52:20,  3.66s/it]\u001b[A\n",
            " 20%|█▉        | 210/1066 [10:50<47:50,  3.35s/it]\u001b[A\n",
            " 20%|█▉        | 211/1066 [10:54<48:45,  3.42s/it]\u001b[A\n",
            " 20%|█▉        | 212/1066 [10:56<43:08,  3.03s/it]\u001b[A\n",
            " 20%|█▉        | 213/1066 [10:59<43:48,  3.08s/it]\u001b[A\n",
            " 20%|██        | 214/1066 [11:03<44:31,  3.14s/it]\u001b[A\n",
            " 20%|██        | 215/1066 [11:05<42:06,  2.97s/it]\u001b[A\n",
            " 20%|██        | 216/1066 [11:08<43:07,  3.04s/it]\u001b[A\n",
            " 20%|██        | 217/1066 [11:11<40:56,  2.89s/it]\u001b[A\n",
            " 20%|██        | 218/1066 [11:15<48:01,  3.40s/it]\u001b[A\n",
            " 21%|██        | 219/1066 [11:18<46:11,  3.27s/it]\u001b[A\n",
            " 21%|██        | 220/1066 [11:22<48:11,  3.42s/it]\u001b[A\n",
            " 21%|██        | 221/1066 [11:25<45:43,  3.25s/it]\u001b[A\n",
            " 21%|██        | 222/1066 [11:28<44:33,  3.17s/it]\u001b[A\n",
            " 21%|██        | 223/1066 [11:31<41:48,  2.98s/it]\u001b[A\n",
            " 21%|██        | 224/1066 [11:33<40:47,  2.91s/it]\u001b[A\n",
            " 21%|██        | 225/1066 [11:37<44:53,  3.20s/it]\u001b[A\n",
            " 21%|██        | 226/1066 [11:41<45:22,  3.24s/it]\u001b[A\n",
            " 21%|██▏       | 227/1066 [11:43<40:18,  2.88s/it]\u001b[A\n",
            " 21%|██▏       | 228/1066 [11:46<41:29,  2.97s/it]\u001b[A\n",
            " 21%|██▏       | 229/1066 [11:49<41:13,  2.95s/it]\u001b[A\n",
            " 22%|██▏       | 230/1066 [11:52<41:23,  2.97s/it]\u001b[A\n",
            " 22%|██▏       | 231/1066 [11:54<38:33,  2.77s/it]\u001b[A\n",
            " 22%|██▏       | 232/1066 [11:57<40:51,  2.94s/it]\u001b[A\n",
            " 22%|██▏       | 233/1066 [12:01<43:00,  3.10s/it]\u001b[A\n",
            " 22%|██▏       | 234/1066 [12:05<46:50,  3.38s/it]\u001b[A\n",
            " 22%|██▏       | 235/1066 [12:08<45:31,  3.29s/it]\u001b[A\n",
            " 22%|██▏       | 236/1066 [12:11<45:19,  3.28s/it]\u001b[A\n",
            " 22%|██▏       | 237/1066 [12:14<42:48,  3.10s/it]\u001b[A\n",
            " 22%|██▏       | 238/1066 [12:17<41:38,  3.02s/it]\u001b[A\n",
            " 22%|██▏       | 239/1066 [12:20<43:30,  3.16s/it]\u001b[A\n",
            " 23%|██▎       | 240/1066 [12:23<41:35,  3.02s/it]\u001b[A\n",
            " 23%|██▎       | 241/1066 [12:26<41:37,  3.03s/it]\u001b[A\n",
            " 23%|██▎       | 242/1066 [12:30<47:16,  3.44s/it]\u001b[A\n",
            " 23%|██▎       | 243/1066 [12:33<43:39,  3.18s/it]\u001b[A\n",
            " 23%|██▎       | 244/1066 [12:37<46:06,  3.36s/it]\u001b[A\n",
            " 23%|██▎       | 245/1066 [12:39<43:03,  3.15s/it]\u001b[A\n",
            " 23%|██▎       | 246/1066 [12:42<41:18,  3.02s/it]\u001b[A\n",
            " 23%|██▎       | 247/1066 [12:45<39:24,  2.89s/it]\u001b[A\n",
            " 23%|██▎       | 248/1066 [12:48<40:49,  2.99s/it]\u001b[A\n",
            " 23%|██▎       | 249/1066 [12:52<44:14,  3.25s/it]\u001b[A\n",
            " 23%|██▎       | 250/1066 [12:55<42:44,  3.14s/it]\u001b[A\n",
            " 24%|██▎       | 251/1066 [12:57<41:12,  3.03s/it]\u001b[A\n",
            " 24%|██▎       | 252/1066 [13:01<43:51,  3.23s/it]\u001b[A\n",
            " 24%|██▎       | 253/1066 [13:05<47:49,  3.53s/it]\u001b[A\n",
            " 24%|██▍       | 254/1066 [13:09<48:18,  3.57s/it]\u001b[A\n",
            " 24%|██▍       | 255/1066 [13:12<48:14,  3.57s/it]\u001b[A\n",
            " 24%|██▍       | 256/1066 [13:17<51:10,  3.79s/it]\u001b[A\n",
            " 24%|██▍       | 257/1066 [13:21<51:48,  3.84s/it]\u001b[A\n",
            " 24%|██▍       | 258/1066 [13:24<47:58,  3.56s/it]\u001b[A\n",
            " 24%|██▍       | 259/1066 [13:27<46:41,  3.47s/it]\u001b[A\n",
            " 24%|██▍       | 260/1066 [13:30<43:21,  3.23s/it]\u001b[A\n",
            " 24%|██▍       | 261/1066 [13:32<41:10,  3.07s/it]\u001b[A\n",
            " 25%|██▍       | 262/1066 [13:36<43:32,  3.25s/it]\u001b[A\n",
            " 25%|██▍       | 263/1066 [13:39<40:42,  3.04s/it]\u001b[A\n",
            " 25%|██▍       | 264/1066 [13:43<46:01,  3.44s/it]\u001b[A\n",
            " 25%|██▍       | 265/1066 [13:46<42:54,  3.21s/it]\u001b[A\n",
            " 25%|██▍       | 266/1066 [13:48<39:34,  2.97s/it]\u001b[A\n",
            " 25%|██▌       | 267/1066 [13:50<36:08,  2.71s/it]\u001b[A\n",
            " 25%|██▌       | 268/1066 [13:53<35:09,  2.64s/it]\u001b[A\n",
            " 25%|██▌       | 269/1066 [13:56<39:42,  2.99s/it]\u001b[A\n",
            " 25%|██▌       | 270/1066 [13:59<37:52,  2.85s/it]\u001b[A\n",
            " 25%|██▌       | 271/1066 [14:03<42:03,  3.17s/it]\u001b[A\n",
            " 26%|██▌       | 272/1066 [14:06<43:28,  3.28s/it]\u001b[A\n",
            " 26%|██▌       | 273/1066 [14:09<41:07,  3.11s/it]\u001b[A\n",
            " 26%|██▌       | 274/1066 [14:13<44:29,  3.37s/it]\u001b[A\n",
            " 26%|██▌       | 275/1066 [14:16<41:54,  3.18s/it]\u001b[A\n",
            " 26%|██▌       | 276/1066 [14:18<37:37,  2.86s/it]\u001b[A\n",
            " 26%|██▌       | 277/1066 [14:21<37:21,  2.84s/it]\u001b[A\n",
            " 26%|██▌       | 278/1066 [14:27<49:01,  3.73s/it]\u001b[A\n",
            " 26%|██▌       | 279/1066 [14:30<46:32,  3.55s/it]\u001b[A\n",
            " 26%|██▋       | 280/1066 [14:33<45:27,  3.47s/it]\u001b[A\n",
            " 26%|██▋       | 281/1066 [14:36<43:20,  3.31s/it]\u001b[A\n",
            " 26%|██▋       | 282/1066 [14:39<43:49,  3.35s/it]\u001b[A\n",
            " 27%|██▋       | 283/1066 [14:43<43:06,  3.30s/it]\u001b[A\n",
            " 27%|██▋       | 284/1066 [14:46<44:13,  3.39s/it]\u001b[A\n",
            " 27%|██▋       | 285/1066 [14:49<42:12,  3.24s/it]\u001b[A\n",
            " 27%|██▋       | 286/1066 [14:52<41:03,  3.16s/it]\u001b[A\n",
            " 27%|██▋       | 287/1066 [14:55<40:31,  3.12s/it]\u001b[A\n",
            " 27%|██▋       | 288/1066 [14:57<37:30,  2.89s/it]\u001b[A\n",
            " 27%|██▋       | 289/1066 [15:00<37:09,  2.87s/it]\u001b[A\n",
            " 27%|██▋       | 290/1066 [15:03<37:19,  2.89s/it]\u001b[A\n",
            " 27%|██▋       | 291/1066 [15:06<37:40,  2.92s/it]\u001b[A\n",
            " 27%|██▋       | 292/1066 [15:09<38:27,  2.98s/it]\u001b[A\n",
            " 27%|██▋       | 293/1066 [15:12<38:29,  2.99s/it]\u001b[A\n",
            " 28%|██▊       | 294/1066 [15:15<38:04,  2.96s/it]\u001b[A\n",
            " 28%|██▊       | 295/1066 [15:20<45:52,  3.57s/it]\u001b[A\n",
            " 28%|██▊       | 296/1066 [15:24<45:24,  3.54s/it]\u001b[A\n",
            " 28%|██▊       | 297/1066 [15:31<1:01:10,  4.77s/it]\u001b[A\n",
            " 28%|██▊       | 298/1066 [15:34<52:17,  4.09s/it]  \u001b[A\n",
            " 28%|██▊       | 299/1066 [15:38<51:51,  4.06s/it]\u001b[A\n",
            " 28%|██▊       | 300/1066 [15:40<45:50,  3.59s/it]\u001b[A\n",
            " 28%|██▊       | 301/1066 [15:43<44:30,  3.49s/it]\u001b[A\n",
            " 28%|██▊       | 302/1066 [15:47<44:41,  3.51s/it]\u001b[A\n",
            " 28%|██▊       | 303/1066 [15:50<41:29,  3.26s/it]\u001b[A\n",
            " 29%|██▊       | 304/1066 [15:52<38:31,  3.03s/it]\u001b[A\n",
            " 29%|██▊       | 305/1066 [15:56<39:54,  3.15s/it]\u001b[A\n",
            " 29%|██▊       | 306/1066 [15:59<41:38,  3.29s/it]\u001b[A\n",
            " 29%|██▉       | 307/1066 [16:02<41:13,  3.26s/it]\u001b[A\n",
            " 29%|██▉       | 308/1066 [16:06<41:41,  3.30s/it]\u001b[A\n",
            " 29%|██▉       | 309/1066 [16:08<38:22,  3.04s/it]\u001b[A\n",
            " 29%|██▉       | 310/1066 [16:11<38:26,  3.05s/it]\u001b[A\n",
            " 29%|██▉       | 311/1066 [16:15<39:20,  3.13s/it]\u001b[A\n",
            " 29%|██▉       | 312/1066 [16:17<37:27,  2.98s/it]\u001b[A\n",
            " 29%|██▉       | 313/1066 [16:20<35:12,  2.80s/it]\u001b[A\n",
            " 29%|██▉       | 314/1066 [16:22<33:56,  2.71s/it]\u001b[A\n",
            " 30%|██▉       | 315/1066 [16:26<37:33,  3.00s/it]\u001b[A\n",
            " 30%|██▉       | 316/1066 [16:29<38:54,  3.11s/it]\u001b[A\n",
            " 30%|██▉       | 317/1066 [16:36<50:49,  4.07s/it]\u001b[A\n",
            " 30%|██▉       | 318/1066 [16:41<57:36,  4.62s/it]\u001b[A\n",
            " 30%|██▉       | 319/1066 [16:45<53:19,  4.28s/it]\u001b[A\n",
            " 30%|███       | 320/1066 [16:48<50:01,  4.02s/it]\u001b[A\n",
            " 30%|███       | 321/1066 [16:51<45:38,  3.68s/it]\u001b[A\n",
            " 30%|███       | 322/1066 [16:54<42:09,  3.40s/it]\u001b[A\n",
            " 30%|███       | 323/1066 [16:57<40:52,  3.30s/it]\u001b[A\n",
            " 30%|███       | 324/1066 [17:00<40:38,  3.29s/it]\u001b[A\n",
            " 30%|███       | 325/1066 [17:04<40:34,  3.29s/it]\u001b[A\n",
            " 31%|███       | 326/1066 [17:09<47:12,  3.83s/it]\u001b[A\n",
            " 31%|███       | 327/1066 [17:12<46:39,  3.79s/it]\u001b[A\n",
            " 31%|███       | 328/1066 [17:15<43:28,  3.53s/it]\u001b[A\n",
            " 31%|███       | 329/1066 [17:19<42:33,  3.46s/it]\u001b[A\n",
            " 31%|███       | 330/1066 [17:22<41:40,  3.40s/it]\u001b[A\n",
            " 31%|███       | 331/1066 [17:25<40:51,  3.34s/it]\u001b[A\n",
            " 31%|███       | 332/1066 [17:29<41:29,  3.39s/it]\u001b[A\n",
            " 31%|███       | 333/1066 [17:31<39:00,  3.19s/it]\u001b[A\n",
            " 31%|███▏      | 334/1066 [17:34<39:01,  3.20s/it]\u001b[A\n",
            " 31%|███▏      | 335/1066 [17:38<39:00,  3.20s/it]\u001b[A\n",
            " 32%|███▏      | 336/1066 [17:41<37:42,  3.10s/it]\u001b[A\n",
            " 32%|███▏      | 337/1066 [17:44<38:32,  3.17s/it]\u001b[A\n",
            " 32%|███▏      | 338/1066 [17:47<39:08,  3.23s/it]\u001b[A\n",
            " 32%|███▏      | 339/1066 [17:50<36:47,  3.04s/it]\u001b[A\n",
            " 32%|███▏      | 340/1066 [17:52<35:02,  2.90s/it]\u001b[A\n",
            " 32%|███▏      | 341/1066 [17:55<34:20,  2.84s/it]\u001b[A\n",
            " 32%|███▏      | 342/1066 [17:59<38:13,  3.17s/it]\u001b[A\n",
            " 32%|███▏      | 343/1066 [18:03<40:26,  3.36s/it]\u001b[A\n",
            " 32%|███▏      | 344/1066 [18:06<40:26,  3.36s/it]\u001b[A\n",
            " 32%|███▏      | 345/1066 [18:10<40:56,  3.41s/it]\u001b[A\n",
            " 32%|███▏      | 346/1066 [18:13<41:45,  3.48s/it]\u001b[A\n",
            " 33%|███▎      | 347/1066 [18:18<45:09,  3.77s/it]\u001b[A\n",
            " 33%|███▎      | 348/1066 [18:20<40:32,  3.39s/it]\u001b[A\n",
            " 33%|███▎      | 349/1066 [18:23<38:54,  3.26s/it]\u001b[A\n",
            " 33%|███▎      | 350/1066 [18:26<37:38,  3.15s/it]\u001b[A\n",
            " 33%|███▎      | 351/1066 [18:29<36:05,  3.03s/it]\u001b[A\n",
            " 33%|███▎      | 352/1066 [18:32<35:47,  3.01s/it]\u001b[A\n",
            " 33%|███▎      | 353/1066 [18:35<35:22,  2.98s/it]\u001b[A\n",
            " 33%|███▎      | 354/1066 [18:38<36:18,  3.06s/it]\u001b[A\n",
            " 33%|███▎      | 355/1066 [18:41<34:59,  2.95s/it]\u001b[A\n",
            " 33%|███▎      | 356/1066 [18:44<34:43,  2.93s/it]\u001b[A\n",
            " 33%|███▎      | 357/1066 [18:47<34:28,  2.92s/it]\u001b[A\n",
            " 34%|███▎      | 358/1066 [18:49<34:16,  2.90s/it]\u001b[A\n",
            " 34%|███▎      | 359/1066 [18:53<36:17,  3.08s/it]\u001b[A\n",
            " 34%|███▍      | 360/1066 [18:55<33:18,  2.83s/it]\u001b[A\n",
            " 34%|███▍      | 361/1066 [19:00<42:04,  3.58s/it]\u001b[A\n",
            " 34%|███▍      | 362/1066 [19:07<51:29,  4.39s/it]\u001b[A\n",
            " 34%|███▍      | 363/1066 [19:10<47:05,  4.02s/it]\u001b[A\n",
            " 34%|███▍      | 364/1066 [19:13<43:44,  3.74s/it]\u001b[A\n",
            " 34%|███▍      | 365/1066 [19:17<43:48,  3.75s/it]\u001b[A\n",
            " 34%|███▍      | 366/1066 [19:19<40:12,  3.45s/it]\u001b[A\n",
            " 34%|███▍      | 367/1066 [19:23<41:21,  3.55s/it]\u001b[A\n",
            " 35%|███▍      | 368/1066 [19:26<39:51,  3.43s/it]\u001b[A\n",
            " 35%|███▍      | 369/1066 [19:29<38:28,  3.31s/it]\u001b[A\n",
            " 35%|███▍      | 370/1066 [19:32<36:51,  3.18s/it]\u001b[A\n",
            " 35%|███▍      | 371/1066 [19:35<35:17,  3.05s/it]\u001b[A\n",
            " 35%|███▍      | 372/1066 [19:39<38:24,  3.32s/it]\u001b[A\n",
            " 35%|███▍      | 373/1066 [19:42<36:49,  3.19s/it]\u001b[A\n",
            " 35%|███▌      | 374/1066 [19:45<37:32,  3.26s/it]\u001b[A\n",
            " 35%|███▌      | 375/1066 [19:48<36:31,  3.17s/it]\u001b[A\n",
            " 35%|███▌      | 376/1066 [19:52<37:04,  3.22s/it]\u001b[A\n",
            " 35%|███▌      | 377/1066 [19:54<34:13,  2.98s/it]\u001b[A\n",
            " 35%|███▌      | 378/1066 [19:57<32:31,  2.84s/it]\u001b[A\n",
            " 36%|███▌      | 379/1066 [20:00<33:09,  2.90s/it]\u001b[A\n",
            " 36%|███▌      | 380/1066 [20:02<32:55,  2.88s/it]\u001b[A\n",
            " 36%|███▌      | 381/1066 [20:06<36:08,  3.17s/it]\u001b[A\n",
            " 36%|███▌      | 382/1066 [20:09<33:49,  2.97s/it]\u001b[A\n",
            " 36%|███▌      | 383/1066 [20:12<35:58,  3.16s/it]\u001b[A\n",
            " 36%|███▌      | 384/1066 [20:16<36:28,  3.21s/it]\u001b[A\n",
            " 36%|███▌      | 385/1066 [20:19<35:40,  3.14s/it]\u001b[A\n",
            " 36%|███▌      | 386/1066 [20:22<35:06,  3.10s/it]\u001b[A\n",
            " 36%|███▋      | 387/1066 [20:25<37:02,  3.27s/it]\u001b[A\n",
            " 36%|███▋      | 388/1066 [20:29<37:03,  3.28s/it]\u001b[A\n",
            " 36%|███▋      | 389/1066 [20:33<39:13,  3.48s/it]\u001b[A\n",
            " 37%|███▋      | 390/1066 [20:36<39:11,  3.48s/it]\u001b[A\n",
            " 37%|███▋      | 391/1066 [20:40<41:06,  3.65s/it]\u001b[A\n",
            " 37%|███▋      | 392/1066 [20:44<42:44,  3.80s/it]\u001b[A\n",
            " 37%|███▋      | 393/1066 [20:47<40:03,  3.57s/it]\u001b[A\n",
            " 37%|███▋      | 394/1066 [20:50<38:27,  3.43s/it]\u001b[A\n",
            " 37%|███▋      | 395/1066 [20:54<38:27,  3.44s/it]\u001b[A\n",
            " 37%|███▋      | 396/1066 [20:57<37:56,  3.40s/it]\u001b[A\n",
            " 37%|███▋      | 397/1066 [21:00<37:28,  3.36s/it]\u001b[A\n",
            " 37%|███▋      | 398/1066 [21:04<37:21,  3.36s/it]\u001b[A\n",
            " 37%|███▋      | 399/1066 [21:07<37:23,  3.36s/it]\u001b[A\n",
            " 38%|███▊      | 400/1066 [21:12<43:11,  3.89s/it]\u001b[A\n",
            " 38%|███▊      | 401/1066 [21:16<41:30,  3.75s/it]\u001b[A\n",
            " 38%|███▊      | 402/1066 [21:18<37:24,  3.38s/it]\u001b[A\n",
            " 38%|███▊      | 403/1066 [21:23<42:56,  3.89s/it]\u001b[A\n",
            " 38%|███▊      | 404/1066 [21:27<43:50,  3.97s/it]\u001b[A\n",
            " 38%|███▊      | 405/1066 [21:30<39:28,  3.58s/it]\u001b[A\n",
            " 38%|███▊      | 406/1066 [21:34<39:24,  3.58s/it]\u001b[A\n",
            " 38%|███▊      | 407/1066 [21:36<36:06,  3.29s/it]\u001b[A\n",
            " 38%|███▊      | 408/1066 [21:42<45:12,  4.12s/it]\u001b[A\n",
            " 38%|███▊      | 409/1066 [21:47<45:11,  4.13s/it]\u001b[A\n",
            " 38%|███▊      | 410/1066 [21:49<40:26,  3.70s/it]\u001b[A\n",
            " 39%|███▊      | 411/1066 [21:52<38:46,  3.55s/it]\u001b[A\n",
            " 39%|███▊      | 412/1066 [21:56<40:14,  3.69s/it]\u001b[A\n",
            " 39%|███▊      | 413/1066 [21:59<37:39,  3.46s/it]\u001b[A\n",
            " 39%|███▉      | 414/1066 [22:02<34:30,  3.18s/it]\u001b[A\n",
            " 39%|███▉      | 415/1066 [22:05<35:48,  3.30s/it]\u001b[A\n",
            " 39%|███▉      | 416/1066 [22:11<41:54,  3.87s/it]\u001b[A\n",
            " 39%|███▉      | 417/1066 [22:14<38:54,  3.60s/it]\u001b[A\n",
            " 39%|███▉      | 418/1066 [22:17<39:09,  3.63s/it]\u001b[A\n",
            " 39%|███▉      | 419/1066 [22:20<36:37,  3.40s/it]\u001b[A\n",
            " 39%|███▉      | 420/1066 [22:23<35:39,  3.31s/it]\u001b[A\n",
            " 39%|███▉      | 421/1066 [22:26<35:06,  3.27s/it]\u001b[A\n",
            " 40%|███▉      | 422/1066 [22:30<36:20,  3.39s/it]\u001b[A\n",
            " 40%|███▉      | 423/1066 [22:33<34:25,  3.21s/it]\u001b[A\n",
            " 40%|███▉      | 424/1066 [22:36<32:15,  3.01s/it]\u001b[A\n",
            " 40%|███▉      | 425/1066 [22:39<34:51,  3.26s/it]\u001b[A\n",
            " 40%|███▉      | 426/1066 [22:43<34:45,  3.26s/it]\u001b[A\n",
            " 40%|████      | 427/1066 [22:47<38:12,  3.59s/it]\u001b[A\n",
            " 40%|████      | 428/1066 [22:50<35:59,  3.38s/it]\u001b[A\n",
            " 40%|████      | 429/1066 [22:52<32:55,  3.10s/it]\u001b[A\n",
            " 40%|████      | 430/1066 [22:55<30:56,  2.92s/it]\u001b[A\n",
            " 40%|████      | 431/1066 [22:57<29:09,  2.76s/it]\u001b[A\n",
            " 41%|████      | 432/1066 [23:03<40:08,  3.80s/it]\u001b[A\n",
            " 41%|████      | 433/1066 [23:06<35:43,  3.39s/it]\u001b[A\n",
            " 41%|████      | 434/1066 [23:10<37:54,  3.60s/it]\u001b[A\n",
            " 41%|████      | 435/1066 [23:13<36:02,  3.43s/it]\u001b[A\n",
            " 41%|████      | 436/1066 [23:16<34:14,  3.26s/it]\u001b[A\n",
            " 41%|████      | 437/1066 [23:19<34:12,  3.26s/it]\u001b[A\n",
            " 41%|████      | 438/1066 [23:23<35:16,  3.37s/it]\u001b[A\n",
            " 41%|████      | 439/1066 [23:26<35:46,  3.42s/it]\u001b[A\n",
            " 41%|████▏     | 440/1066 [23:30<37:44,  3.62s/it]\u001b[A\n",
            " 41%|████▏     | 441/1066 [23:33<34:58,  3.36s/it]\u001b[A\n",
            " 41%|████▏     | 442/1066 [23:36<33:24,  3.21s/it]\u001b[A\n",
            " 42%|████▏     | 443/1066 [23:38<31:01,  2.99s/it]\u001b[A\n",
            " 42%|████▏     | 444/1066 [23:41<29:16,  2.82s/it]\u001b[A\n",
            " 42%|████▏     | 445/1066 [23:43<26:44,  2.58s/it]\u001b[A\n",
            " 42%|████▏     | 446/1066 [23:46<26:50,  2.60s/it]\u001b[A\n",
            " 42%|████▏     | 447/1066 [23:48<25:01,  2.43s/it]\u001b[A\n",
            " 42%|████▏     | 448/1066 [23:50<24:37,  2.39s/it]\u001b[A\n",
            " 42%|████▏     | 449/1066 [23:53<27:17,  2.65s/it]\u001b[A\n",
            " 42%|████▏     | 450/1066 [23:56<28:23,  2.77s/it]\u001b[A\n",
            " 42%|████▏     | 451/1066 [23:59<29:15,  2.85s/it]\u001b[A\n",
            " 42%|████▏     | 452/1066 [24:02<29:21,  2.87s/it]\u001b[A\n",
            " 42%|████▏     | 453/1066 [24:05<29:34,  2.90s/it]\u001b[A\n",
            " 43%|████▎     | 454/1066 [24:08<31:04,  3.05s/it]\u001b[A\n",
            " 43%|████▎     | 455/1066 [24:12<31:58,  3.14s/it]\u001b[A\n",
            " 43%|████▎     | 456/1066 [24:15<32:41,  3.22s/it]\u001b[A\n",
            " 43%|████▎     | 457/1066 [24:20<36:34,  3.60s/it]\u001b[A\n",
            " 43%|████▎     | 458/1066 [24:23<34:20,  3.39s/it]\u001b[A\n",
            " 43%|████▎     | 459/1066 [24:27<35:55,  3.55s/it]\u001b[A\n",
            " 43%|████▎     | 460/1066 [24:29<34:00,  3.37s/it]\u001b[A\n",
            " 43%|████▎     | 461/1066 [24:33<33:38,  3.34s/it]\u001b[A\n",
            " 43%|████▎     | 462/1066 [24:37<35:11,  3.50s/it]\u001b[A\n",
            " 43%|████▎     | 463/1066 [24:39<32:04,  3.19s/it]\u001b[A\n",
            " 44%|████▎     | 464/1066 [24:42<30:15,  3.02s/it]\u001b[A\n",
            " 44%|████▎     | 465/1066 [24:45<30:44,  3.07s/it]\u001b[A\n",
            " 44%|████▎     | 466/1066 [24:49<32:40,  3.27s/it]\u001b[A\n",
            " 44%|████▍     | 467/1066 [24:52<31:40,  3.17s/it]\u001b[A\n",
            " 44%|████▍     | 468/1066 [24:55<31:10,  3.13s/it]\u001b[A\n",
            " 44%|████▍     | 469/1066 [24:59<34:27,  3.46s/it]\u001b[A\n",
            " 44%|████▍     | 470/1066 [25:02<32:33,  3.28s/it]\u001b[A\n",
            " 44%|████▍     | 471/1066 [25:05<31:21,  3.16s/it]\u001b[A\n",
            " 44%|████▍     | 472/1066 [25:07<29:19,  2.96s/it]\u001b[A\n",
            " 44%|████▍     | 473/1066 [25:10<30:02,  3.04s/it]\u001b[A\n",
            " 44%|████▍     | 474/1066 [25:13<30:00,  3.04s/it]\u001b[A\n",
            " 45%|████▍     | 475/1066 [25:17<31:04,  3.16s/it]\u001b[A\n",
            " 45%|████▍     | 476/1066 [25:20<30:02,  3.05s/it]\u001b[A\n",
            " 45%|████▍     | 477/1066 [25:22<29:35,  3.01s/it]\u001b[A\n",
            " 45%|████▍     | 478/1066 [25:28<36:28,  3.72s/it]\u001b[A\n",
            " 45%|████▍     | 479/1066 [25:30<32:43,  3.35s/it]\u001b[A\n",
            " 45%|████▌     | 480/1066 [25:33<30:11,  3.09s/it]\u001b[A\n",
            " 45%|████▌     | 481/1066 [25:37<34:34,  3.55s/it]\u001b[A\n",
            " 45%|████▌     | 482/1066 [25:40<32:33,  3.35s/it]\u001b[A\n",
            " 45%|████▌     | 483/1066 [25:45<35:07,  3.62s/it]\u001b[A\n",
            " 45%|████▌     | 484/1066 [25:48<33:16,  3.43s/it]\u001b[A\n",
            " 45%|████▌     | 485/1066 [25:52<36:25,  3.76s/it]\u001b[A\n",
            " 46%|████▌     | 486/1066 [25:55<34:12,  3.54s/it]\u001b[A\n",
            " 46%|████▌     | 487/1066 [25:58<32:52,  3.41s/it]\u001b[A\n",
            " 46%|████▌     | 488/1066 [26:01<29:38,  3.08s/it]\u001b[A\n",
            " 46%|████▌     | 489/1066 [26:04<30:32,  3.18s/it]\u001b[A\n",
            " 46%|████▌     | 490/1066 [26:08<32:23,  3.37s/it]\u001b[A\n",
            " 46%|████▌     | 491/1066 [26:10<30:12,  3.15s/it]\u001b[A\n",
            " 46%|████▌     | 492/1066 [26:13<29:25,  3.07s/it]\u001b[A\n",
            " 46%|████▌     | 493/1066 [26:17<30:42,  3.22s/it]\u001b[A\n",
            " 46%|████▋     | 494/1066 [26:19<28:16,  2.97s/it]\u001b[A\n",
            " 46%|████▋     | 495/1066 [26:23<30:12,  3.17s/it]\u001b[A\n",
            " 47%|████▋     | 496/1066 [26:26<29:42,  3.13s/it]\u001b[A\n",
            " 47%|████▋     | 497/1066 [26:29<29:49,  3.15s/it]\u001b[A\n",
            " 47%|████▋     | 498/1066 [26:31<27:31,  2.91s/it]\u001b[A\n",
            " 47%|████▋     | 499/1066 [26:34<27:33,  2.92s/it]\u001b[A\n",
            " 47%|████▋     | 500/1066 [26:38<30:11,  3.20s/it]\u001b[A\n",
            " 47%|████▋     | 501/1066 [26:41<29:07,  3.09s/it]\u001b[A\n",
            " 47%|████▋     | 502/1066 [26:45<32:28,  3.46s/it]\u001b[A\n",
            " 47%|████▋     | 503/1066 [26:48<31:25,  3.35s/it]\u001b[A\n",
            " 47%|████▋     | 504/1066 [26:51<30:18,  3.24s/it]\u001b[A\n",
            " 47%|████▋     | 505/1066 [26:54<27:59,  2.99s/it]\u001b[A\n",
            " 47%|████▋     | 506/1066 [26:57<28:00,  3.00s/it]\u001b[A\n",
            " 48%|████▊     | 507/1066 [27:00<29:16,  3.14s/it]\u001b[A\n",
            " 48%|████▊     | 508/1066 [27:03<27:33,  2.96s/it]\u001b[A\n",
            " 48%|████▊     | 509/1066 [27:07<29:42,  3.20s/it]\u001b[A\n",
            " 48%|████▊     | 510/1066 [27:10<30:13,  3.26s/it]\u001b[A\n",
            " 48%|████▊     | 511/1066 [27:13<29:25,  3.18s/it]\u001b[A\n",
            " 48%|████▊     | 512/1066 [27:16<27:32,  2.98s/it]\u001b[A\n",
            " 48%|████▊     | 513/1066 [27:18<26:25,  2.87s/it]\u001b[A\n",
            " 48%|████▊     | 514/1066 [27:21<26:22,  2.87s/it]\u001b[A\n",
            " 48%|████▊     | 515/1066 [27:26<31:30,  3.43s/it]\u001b[A\n",
            " 48%|████▊     | 516/1066 [27:28<28:50,  3.15s/it]\u001b[A\n",
            " 48%|████▊     | 517/1066 [27:31<28:25,  3.11s/it]\u001b[A\n",
            " 49%|████▊     | 518/1066 [27:34<26:12,  2.87s/it]\u001b[A\n",
            " 49%|████▊     | 519/1066 [27:36<25:44,  2.82s/it]\u001b[A\n",
            " 49%|████▉     | 520/1066 [27:39<26:12,  2.88s/it]\u001b[A\n",
            " 49%|████▉     | 521/1066 [27:44<30:51,  3.40s/it]\u001b[A\n",
            " 49%|████▉     | 522/1066 [27:47<31:11,  3.44s/it]\u001b[A\n",
            " 49%|████▉     | 523/1066 [27:50<28:42,  3.17s/it]\u001b[A\n",
            " 49%|████▉     | 524/1066 [27:53<29:14,  3.24s/it]\u001b[A\n",
            " 49%|████▉     | 525/1066 [27:58<33:40,  3.74s/it]\u001b[A\n",
            " 49%|████▉     | 526/1066 [28:02<33:51,  3.76s/it]\u001b[A\n",
            " 49%|████▉     | 527/1066 [28:05<32:11,  3.58s/it]\u001b[A\n",
            " 50%|████▉     | 528/1066 [28:08<30:20,  3.38s/it]\u001b[A\n",
            " 50%|████▉     | 529/1066 [28:11<29:36,  3.31s/it]\u001b[A\n",
            " 50%|████▉     | 530/1066 [28:14<28:35,  3.20s/it]\u001b[A\n",
            " 50%|████▉     | 531/1066 [28:19<33:37,  3.77s/it]\u001b[A\n",
            " 50%|████▉     | 532/1066 [28:25<38:52,  4.37s/it]\u001b[A\n",
            " 50%|█████     | 533/1066 [28:28<35:37,  4.01s/it]\u001b[A\n",
            " 50%|█████     | 534/1066 [28:32<33:34,  3.79s/it]\u001b[A\n",
            " 50%|█████     | 535/1066 [28:35<31:24,  3.55s/it]\u001b[A\n",
            " 50%|█████     | 536/1066 [28:38<31:12,  3.53s/it]\u001b[A\n",
            " 50%|█████     | 537/1066 [28:41<28:12,  3.20s/it]\u001b[A\n",
            " 50%|█████     | 538/1066 [28:43<25:59,  2.95s/it]\u001b[A\n",
            " 51%|█████     | 539/1066 [28:48<30:33,  3.48s/it]\u001b[A\n",
            " 51%|█████     | 540/1066 [28:50<28:07,  3.21s/it]\u001b[A\n",
            " 51%|█████     | 541/1066 [28:54<29:14,  3.34s/it]\u001b[A\n",
            " 51%|█████     | 542/1066 [28:56<26:32,  3.04s/it]\u001b[A\n",
            " 51%|█████     | 543/1066 [28:59<25:50,  2.96s/it]\u001b[A\n",
            " 51%|█████     | 544/1066 [29:04<29:56,  3.44s/it]\u001b[A\n",
            " 51%|█████     | 545/1066 [29:07<29:53,  3.44s/it]\u001b[A\n",
            " 51%|█████     | 546/1066 [29:10<28:47,  3.32s/it]\u001b[A\n",
            " 51%|█████▏    | 547/1066 [29:13<28:30,  3.30s/it]\u001b[A\n",
            " 51%|█████▏    | 548/1066 [29:17<30:47,  3.57s/it]\u001b[A\n",
            " 52%|█████▏    | 549/1066 [29:20<28:00,  3.25s/it]\u001b[A\n",
            " 52%|█████▏    | 550/1066 [29:23<26:15,  3.05s/it]\u001b[A\n",
            " 52%|█████▏    | 551/1066 [29:25<25:35,  2.98s/it]\u001b[A\n",
            " 52%|█████▏    | 552/1066 [29:29<26:59,  3.15s/it]\u001b[A\n",
            " 52%|█████▏    | 553/1066 [29:33<28:18,  3.31s/it]\u001b[A\n",
            " 52%|█████▏    | 554/1066 [29:37<30:29,  3.57s/it]\u001b[A\n",
            " 52%|█████▏    | 555/1066 [29:40<30:02,  3.53s/it]\u001b[A\n",
            " 52%|█████▏    | 556/1066 [29:44<29:54,  3.52s/it]\u001b[A\n",
            " 52%|█████▏    | 557/1066 [29:48<32:59,  3.89s/it]\u001b[A\n",
            " 52%|█████▏    | 558/1066 [29:52<31:20,  3.70s/it]\u001b[A\n",
            " 52%|█████▏    | 559/1066 [29:54<28:17,  3.35s/it]\u001b[A\n",
            " 53%|█████▎    | 560/1066 [29:57<26:33,  3.15s/it]\u001b[A\n",
            " 53%|█████▎    | 561/1066 [29:59<24:23,  2.90s/it]\u001b[A\n",
            " 53%|█████▎    | 562/1066 [30:02<24:49,  2.95s/it]\u001b[A\n",
            " 53%|█████▎    | 563/1066 [30:05<23:49,  2.84s/it]\u001b[A\n",
            " 53%|█████▎    | 564/1066 [30:08<24:28,  2.93s/it]\u001b[A\n",
            " 53%|█████▎    | 565/1066 [30:11<23:39,  2.83s/it]\u001b[A\n",
            " 53%|█████▎    | 566/1066 [30:14<24:02,  2.89s/it]\u001b[A\n",
            " 53%|█████▎    | 567/1066 [30:18<28:39,  3.45s/it]\u001b[A\n",
            " 53%|█████▎    | 568/1066 [30:21<26:20,  3.17s/it]\u001b[A\n",
            " 53%|█████▎    | 569/1066 [30:24<25:45,  3.11s/it]\u001b[A\n",
            " 53%|█████▎    | 570/1066 [30:26<23:55,  2.89s/it]\u001b[A\n",
            " 54%|█████▎    | 571/1066 [30:29<23:36,  2.86s/it]\u001b[A\n",
            " 54%|█████▎    | 572/1066 [30:32<23:54,  2.90s/it]\u001b[A\n",
            " 54%|█████▍    | 573/1066 [30:35<22:44,  2.77s/it]\u001b[A\n",
            " 54%|█████▍    | 574/1066 [30:38<23:21,  2.85s/it]\u001b[A\n",
            " 54%|█████▍    | 575/1066 [30:40<22:51,  2.79s/it]\u001b[A\n",
            " 54%|█████▍    | 576/1066 [30:48<35:10,  4.31s/it]\u001b[A\n",
            " 54%|█████▍    | 577/1066 [30:51<32:10,  3.95s/it]\u001b[A\n",
            " 54%|█████▍    | 578/1066 [30:54<29:42,  3.65s/it]\u001b[A\n",
            " 54%|█████▍    | 579/1066 [30:57<28:47,  3.55s/it]\u001b[A\n",
            " 54%|█████▍    | 580/1066 [31:00<27:27,  3.39s/it]\u001b[A\n",
            " 55%|█████▍    | 581/1066 [31:06<32:29,  4.02s/it]\u001b[A\n",
            " 55%|█████▍    | 582/1066 [31:09<29:54,  3.71s/it]\u001b[A\n",
            " 55%|█████▍    | 583/1066 [31:12<28:43,  3.57s/it]\u001b[A\n",
            " 55%|█████▍    | 584/1066 [31:16<29:12,  3.64s/it]\u001b[A\n",
            " 55%|█████▍    | 585/1066 [31:20<29:13,  3.65s/it]\u001b[A\n",
            " 55%|█████▍    | 586/1066 [31:23<29:22,  3.67s/it]\u001b[A\n",
            " 55%|█████▌    | 587/1066 [31:27<29:35,  3.71s/it]\u001b[A\n",
            " 55%|█████▌    | 588/1066 [31:31<29:36,  3.72s/it]\u001b[A\n",
            " 55%|█████▌    | 589/1066 [31:35<30:03,  3.78s/it]\u001b[A\n",
            " 55%|█████▌    | 590/1066 [31:53<1:04:26,  8.12s/it]\u001b[A\n",
            " 55%|█████▌    | 591/1066 [32:08<1:19:46, 10.08s/it]\u001b[A\n",
            " 56%|█████▌    | 592/1066 [32:15<1:12:07,  9.13s/it]\u001b[A\n",
            " 56%|█████▌    | 593/1066 [32:18<59:18,  7.52s/it]  \u001b[A\n",
            " 56%|█████▌    | 594/1066 [32:22<50:20,  6.40s/it]\u001b[A\n",
            " 56%|█████▌    | 595/1066 [32:27<45:56,  5.85s/it]\u001b[A\n",
            " 56%|█████▌    | 596/1066 [32:31<41:19,  5.28s/it]\u001b[A\n",
            " 56%|█████▌    | 597/1066 [32:35<37:54,  4.85s/it]\u001b[A\n",
            " 56%|█████▌    | 598/1066 [32:37<31:24,  4.03s/it]\u001b[A\n",
            " 56%|█████▌    | 599/1066 [32:44<39:03,  5.02s/it]\u001b[A\n",
            " 56%|█████▋    | 600/1066 [32:49<39:51,  5.13s/it]\u001b[A\n",
            " 56%|█████▋    | 601/1066 [32:53<35:06,  4.53s/it]\u001b[A\n",
            " 56%|█████▋    | 602/1066 [32:56<31:55,  4.13s/it]\u001b[A\n",
            " 57%|█████▋    | 603/1066 [33:01<34:10,  4.43s/it]\u001b[A\n",
            " 57%|█████▋    | 604/1066 [33:04<30:29,  3.96s/it]\u001b[A\n",
            " 57%|█████▋    | 605/1066 [33:06<27:07,  3.53s/it]\u001b[A\n",
            " 57%|█████▋    | 606/1066 [33:09<24:45,  3.23s/it]\u001b[A\n",
            " 57%|█████▋    | 607/1066 [33:11<23:32,  3.08s/it]\u001b[A\n",
            " 57%|█████▋    | 608/1066 [33:16<26:01,  3.41s/it]\u001b[A\n",
            " 57%|█████▋    | 609/1066 [33:21<29:31,  3.88s/it]\u001b[A\n",
            " 57%|█████▋    | 610/1066 [33:26<33:16,  4.38s/it]\u001b[A\n",
            " 57%|█████▋    | 611/1066 [33:30<31:13,  4.12s/it]\u001b[A\n",
            " 57%|█████▋    | 612/1066 [33:34<31:17,  4.14s/it]\u001b[A\n",
            " 58%|█████▊    | 613/1066 [33:36<27:24,  3.63s/it]\u001b[A\n",
            " 58%|█████▊    | 614/1066 [33:39<25:19,  3.36s/it]\u001b[A\n",
            " 58%|█████▊    | 615/1066 [33:42<25:22,  3.38s/it]\u001b[A\n",
            " 58%|█████▊    | 616/1066 [33:45<23:28,  3.13s/it]\u001b[A\n",
            " 58%|█████▊    | 617/1066 [33:48<23:18,  3.12s/it]\u001b[A\n",
            " 58%|█████▊    | 618/1066 [33:51<21:49,  2.92s/it]\u001b[A\n",
            " 58%|█████▊    | 619/1066 [33:53<21:42,  2.91s/it]\u001b[A\n",
            " 58%|█████▊    | 620/1066 [33:58<24:39,  3.32s/it]\u001b[A\n",
            " 58%|█████▊    | 621/1066 [34:01<23:30,  3.17s/it]\u001b[A\n",
            " 58%|█████▊    | 622/1066 [34:05<25:51,  3.50s/it]\u001b[A\n",
            " 58%|█████▊    | 623/1066 [34:08<25:00,  3.39s/it]\u001b[A\n",
            " 59%|█████▊    | 624/1066 [34:10<22:53,  3.11s/it]\u001b[A\n",
            " 59%|█████▊    | 625/1066 [34:15<25:33,  3.48s/it]\u001b[A\n",
            " 59%|█████▊    | 626/1066 [34:21<30:37,  4.18s/it]\u001b[A\n",
            " 59%|█████▉    | 627/1066 [34:25<31:00,  4.24s/it]\u001b[A\n",
            " 59%|█████▉    | 628/1066 [34:28<29:28,  4.04s/it]\u001b[A\n",
            " 59%|█████▉    | 629/1066 [34:32<27:59,  3.84s/it]\u001b[A\n",
            " 59%|█████▉    | 630/1066 [34:37<31:06,  4.28s/it]\u001b[A\n",
            " 59%|█████▉    | 631/1066 [34:40<28:27,  3.93s/it]\u001b[A\n",
            " 59%|█████▉    | 632/1066 [34:43<26:09,  3.62s/it]\u001b[A\n",
            " 59%|█████▉    | 633/1066 [34:46<24:30,  3.40s/it]\u001b[A\n",
            " 59%|█████▉    | 634/1066 [34:49<23:33,  3.27s/it]\u001b[A\n",
            " 60%|█████▉    | 635/1066 [34:52<23:40,  3.30s/it]\u001b[A\n",
            " 60%|█████▉    | 636/1066 [34:56<24:37,  3.44s/it]\u001b[A\n",
            " 60%|█████▉    | 637/1066 [34:59<23:29,  3.29s/it]\u001b[A\n",
            " 60%|█████▉    | 638/1066 [35:02<22:55,  3.21s/it]\u001b[A\n",
            " 60%|█████▉    | 639/1066 [35:06<23:16,  3.27s/it]\u001b[A\n",
            " 60%|██████    | 640/1066 [35:08<22:19,  3.14s/it]\u001b[A\n",
            " 60%|██████    | 641/1066 [35:11<20:34,  2.90s/it]\u001b[A\n",
            " 60%|██████    | 642/1066 [35:14<20:43,  2.93s/it]\u001b[A\n",
            " 60%|██████    | 643/1066 [35:17<22:12,  3.15s/it]\u001b[A\n",
            " 60%|██████    | 644/1066 [35:21<22:26,  3.19s/it]\u001b[A\n",
            " 61%|██████    | 645/1066 [35:23<21:20,  3.04s/it]\u001b[A\n",
            " 61%|██████    | 646/1066 [35:26<19:47,  2.83s/it]\u001b[A\n",
            " 61%|██████    | 647/1066 [35:33<29:17,  4.19s/it]\u001b[A\n",
            " 61%|██████    | 648/1066 [35:36<26:29,  3.80s/it]\u001b[A\n",
            " 61%|██████    | 649/1066 [35:39<24:27,  3.52s/it]\u001b[A\n",
            " 61%|██████    | 650/1066 [35:42<23:53,  3.45s/it]\u001b[A\n",
            " 61%|██████    | 651/1066 [35:44<21:00,  3.04s/it]\u001b[A\n",
            " 61%|██████    | 652/1066 [35:47<21:15,  3.08s/it]\u001b[A\n",
            " 61%|██████▏   | 653/1066 [35:50<20:27,  2.97s/it]\u001b[A\n",
            " 61%|██████▏   | 654/1066 [35:53<20:16,  2.95s/it]\u001b[A\n",
            " 61%|██████▏   | 655/1066 [35:57<22:53,  3.34s/it]\u001b[A\n",
            " 62%|██████▏   | 656/1066 [36:01<23:35,  3.45s/it]\u001b[A\n",
            " 62%|██████▏   | 657/1066 [36:05<23:52,  3.50s/it]\u001b[A\n",
            " 62%|██████▏   | 658/1066 [36:07<21:51,  3.22s/it]\u001b[A\n",
            " 62%|██████▏   | 659/1066 [36:09<19:31,  2.88s/it]\u001b[A\n",
            " 62%|██████▏   | 660/1066 [36:14<22:30,  3.33s/it]\u001b[A\n",
            " 62%|██████▏   | 661/1066 [36:17<22:51,  3.39s/it]\u001b[A\n",
            " 62%|██████▏   | 662/1066 [36:22<25:57,  3.86s/it]\u001b[A\n",
            " 62%|██████▏   | 663/1066 [36:25<23:20,  3.48s/it]\u001b[A\n",
            " 62%|██████▏   | 664/1066 [36:27<20:21,  3.04s/it]\u001b[A\n",
            " 62%|██████▏   | 665/1066 [36:30<20:26,  3.06s/it]\u001b[A\n",
            " 62%|██████▏   | 666/1066 [36:33<19:53,  2.98s/it]\u001b[A\n",
            " 63%|██████▎   | 667/1066 [36:36<21:04,  3.17s/it]\u001b[A\n",
            " 63%|██████▎   | 668/1066 [36:39<20:58,  3.16s/it]\u001b[A\n",
            " 63%|██████▎   | 669/1066 [36:46<27:36,  4.17s/it]\u001b[A\n",
            " 63%|██████▎   | 670/1066 [36:50<26:46,  4.06s/it]\u001b[A\n",
            " 63%|██████▎   | 671/1066 [36:52<24:10,  3.67s/it]\u001b[A\n",
            " 63%|██████▎   | 672/1066 [36:55<22:15,  3.39s/it]\u001b[A\n",
            " 63%|██████▎   | 673/1066 [36:58<21:07,  3.23s/it]\u001b[A\n",
            " 63%|██████▎   | 674/1066 [37:01<21:25,  3.28s/it]\u001b[A\n",
            " 63%|██████▎   | 675/1066 [37:04<20:15,  3.11s/it]\u001b[A\n",
            " 63%|██████▎   | 676/1066 [37:06<18:22,  2.83s/it]\u001b[A\n",
            " 64%|██████▎   | 677/1066 [37:09<19:02,  2.94s/it]\u001b[A\n",
            " 64%|██████▎   | 678/1066 [37:12<17:49,  2.76s/it]\u001b[A\n",
            " 64%|██████▎   | 679/1066 [37:15<17:50,  2.77s/it]\u001b[A\n",
            " 64%|██████▍   | 680/1066 [37:18<19:25,  3.02s/it]\u001b[A\n",
            " 64%|██████▍   | 681/1066 [37:21<18:07,  2.82s/it]\u001b[A\n",
            " 64%|██████▍   | 682/1066 [37:23<18:08,  2.84s/it]\u001b[A\n",
            " 64%|██████▍   | 683/1066 [37:26<18:00,  2.82s/it]\u001b[A\n",
            " 64%|██████▍   | 684/1066 [37:30<19:17,  3.03s/it]\u001b[A\n",
            " 64%|██████▍   | 685/1066 [37:33<19:16,  3.04s/it]\u001b[A\n",
            " 64%|██████▍   | 686/1066 [37:35<17:18,  2.73s/it]\u001b[A\n",
            " 64%|██████▍   | 687/1066 [37:38<17:25,  2.76s/it]\u001b[A\n",
            " 65%|██████▍   | 688/1066 [37:41<17:45,  2.82s/it]\u001b[A\n",
            " 65%|██████▍   | 689/1066 [37:44<17:56,  2.86s/it]\u001b[A\n",
            " 65%|██████▍   | 690/1066 [37:46<16:22,  2.61s/it]\u001b[A\n",
            " 65%|██████▍   | 691/1066 [37:48<16:27,  2.63s/it]\u001b[A\n",
            " 65%|██████▍   | 692/1066 [37:51<16:01,  2.57s/it]\u001b[A\n",
            " 65%|██████▌   | 693/1066 [37:53<15:15,  2.45s/it]\u001b[A\n",
            " 65%|██████▌   | 694/1066 [37:56<15:46,  2.54s/it]\u001b[A\n",
            " 65%|██████▌   | 695/1066 [37:58<15:37,  2.53s/it]\u001b[A\n",
            " 65%|██████▌   | 696/1066 [38:01<15:34,  2.52s/it]\u001b[A\n",
            " 65%|██████▌   | 697/1066 [38:03<15:58,  2.60s/it]\u001b[A\n",
            " 65%|██████▌   | 698/1066 [38:06<16:27,  2.68s/it]\u001b[A\n",
            " 66%|██████▌   | 699/1066 [38:08<15:32,  2.54s/it]\u001b[A\n",
            " 66%|██████▌   | 700/1066 [38:11<15:11,  2.49s/it]\u001b[A\n",
            " 66%|██████▌   | 701/1066 [38:14<16:37,  2.73s/it]\u001b[A\n",
            " 66%|██████▌   | 702/1066 [38:17<16:39,  2.75s/it]\u001b[A\n",
            " 66%|██████▌   | 703/1066 [38:19<15:51,  2.62s/it]\u001b[A\n",
            " 66%|██████▌   | 704/1066 [38:22<15:38,  2.59s/it]\u001b[A\n",
            " 66%|██████▌   | 705/1066 [38:25<16:24,  2.73s/it]\u001b[A\n",
            " 66%|██████▌   | 706/1066 [38:27<15:10,  2.53s/it]\u001b[A\n",
            " 66%|██████▋   | 707/1066 [38:29<15:07,  2.53s/it]\u001b[A\n",
            " 66%|██████▋   | 708/1066 [38:32<15:16,  2.56s/it]\u001b[A\n",
            " 67%|██████▋   | 709/1066 [38:35<15:34,  2.62s/it]\u001b[A\n",
            " 67%|██████▋   | 710/1066 [38:37<14:33,  2.46s/it]\u001b[A\n",
            " 67%|██████▋   | 711/1066 [38:39<14:39,  2.48s/it]\u001b[A\n",
            " 67%|██████▋   | 712/1066 [38:43<17:18,  2.93s/it]\u001b[A\n",
            " 67%|██████▋   | 713/1066 [38:46<17:05,  2.91s/it]\u001b[A\n",
            " 67%|██████▋   | 714/1066 [38:49<16:44,  2.85s/it]\u001b[A\n",
            " 67%|██████▋   | 715/1066 [38:54<20:19,  3.47s/it]\u001b[A\n",
            " 67%|██████▋   | 716/1066 [38:57<18:56,  3.25s/it]\u001b[A\n",
            " 67%|██████▋   | 717/1066 [39:00<18:17,  3.15s/it]\u001b[A\n",
            " 67%|██████▋   | 718/1066 [39:02<17:10,  2.96s/it]\u001b[A\n",
            " 67%|██████▋   | 719/1066 [39:05<17:00,  2.94s/it]\u001b[A\n",
            " 68%|██████▊   | 720/1066 [39:08<16:39,  2.89s/it]\u001b[A\n",
            " 68%|██████▊   | 721/1066 [39:10<15:49,  2.75s/it]\u001b[A\n",
            " 68%|██████▊   | 722/1066 [39:14<16:52,  2.94s/it]\u001b[A\n",
            " 68%|██████▊   | 723/1066 [39:17<16:53,  2.95s/it]\u001b[A\n",
            " 68%|██████▊   | 724/1066 [39:20<17:12,  3.02s/it]\u001b[A\n",
            " 68%|██████▊   | 725/1066 [39:23<16:53,  2.97s/it]\u001b[A\n",
            " 68%|██████▊   | 726/1066 [39:25<16:04,  2.84s/it]\u001b[A\n",
            " 68%|██████▊   | 727/1066 [39:28<15:58,  2.83s/it]\u001b[A\n",
            " 68%|██████▊   | 728/1066 [39:30<15:10,  2.70s/it]\u001b[A\n",
            " 68%|██████▊   | 729/1066 [39:33<14:33,  2.59s/it]\u001b[A\n",
            " 68%|██████▊   | 730/1066 [39:35<13:45,  2.46s/it]\u001b[A\n",
            " 69%|██████▊   | 731/1066 [39:37<13:01,  2.33s/it]\u001b[A\n",
            " 69%|██████▊   | 732/1066 [39:40<14:05,  2.53s/it]\u001b[A\n",
            " 69%|██████▉   | 733/1066 [39:42<14:00,  2.52s/it]\u001b[A\n",
            " 69%|██████▉   | 734/1066 [39:46<15:16,  2.76s/it]\u001b[A\n",
            " 69%|██████▉   | 735/1066 [39:49<15:27,  2.80s/it]\u001b[A\n",
            " 69%|██████▉   | 736/1066 [39:51<15:02,  2.73s/it]\u001b[A\n",
            " 69%|██████▉   | 737/1066 [39:54<14:31,  2.65s/it]\u001b[A\n",
            " 69%|██████▉   | 738/1066 [39:57<15:24,  2.82s/it]\u001b[A\n",
            " 69%|██████▉   | 739/1066 [40:00<15:33,  2.86s/it]\u001b[A\n",
            " 69%|██████▉   | 740/1066 [40:02<14:33,  2.68s/it]\u001b[A\n",
            " 70%|██████▉   | 741/1066 [40:04<13:54,  2.57s/it]\u001b[A\n",
            " 70%|██████▉   | 742/1066 [40:07<13:44,  2.54s/it]\u001b[A\n",
            " 70%|██████▉   | 743/1066 [40:10<14:25,  2.68s/it]\u001b[A\n",
            " 70%|██████▉   | 744/1066 [40:13<15:34,  2.90s/it]\u001b[A\n",
            " 70%|██████▉   | 745/1066 [40:16<15:43,  2.94s/it]\u001b[A\n",
            " 70%|██████▉   | 746/1066 [40:18<14:26,  2.71s/it]\u001b[A\n",
            " 70%|███████   | 747/1066 [40:21<13:47,  2.59s/it]\u001b[A\n",
            " 70%|███████   | 748/1066 [40:23<13:10,  2.49s/it]\u001b[A\n",
            " 70%|███████   | 749/1066 [40:25<12:45,  2.42s/it]\u001b[A\n",
            " 70%|███████   | 750/1066 [40:28<13:10,  2.50s/it]\u001b[A\n",
            " 70%|███████   | 751/1066 [40:30<12:46,  2.43s/it]\u001b[A\n",
            " 71%|███████   | 752/1066 [40:32<12:32,  2.40s/it]\u001b[A\n",
            " 71%|███████   | 753/1066 [40:35<13:07,  2.52s/it]\u001b[A\n",
            " 71%|███████   | 754/1066 [40:38<13:25,  2.58s/it]\u001b[A\n",
            " 71%|███████   | 755/1066 [40:41<13:19,  2.57s/it]\u001b[A\n",
            " 71%|███████   | 756/1066 [40:43<13:19,  2.58s/it]\u001b[A\n",
            " 71%|███████   | 757/1066 [40:47<14:46,  2.87s/it]\u001b[A\n",
            " 71%|███████   | 758/1066 [40:50<14:55,  2.91s/it]\u001b[A\n",
            " 71%|███████   | 759/1066 [40:53<14:44,  2.88s/it]\u001b[A\n",
            " 71%|███████▏  | 760/1066 [40:55<14:20,  2.81s/it]\u001b[A\n",
            " 71%|███████▏  | 761/1066 [40:57<13:31,  2.66s/it]\u001b[A\n",
            " 71%|███████▏  | 762/1066 [41:00<13:36,  2.69s/it]\u001b[A\n",
            " 72%|███████▏  | 763/1066 [41:03<14:09,  2.80s/it]\u001b[A\n",
            " 72%|███████▏  | 764/1066 [41:06<13:17,  2.64s/it]\u001b[A\n",
            " 72%|███████▏  | 765/1066 [41:08<13:11,  2.63s/it]\u001b[A\n",
            " 72%|███████▏  | 766/1066 [41:11<13:23,  2.68s/it]\u001b[A\n",
            " 72%|███████▏  | 767/1066 [41:14<13:25,  2.69s/it]\u001b[A\n",
            " 72%|███████▏  | 768/1066 [41:17<13:37,  2.74s/it]\u001b[A\n",
            " 72%|███████▏  | 769/1066 [41:19<13:19,  2.69s/it]\u001b[A\n",
            " 72%|███████▏  | 770/1066 [41:22<13:22,  2.71s/it]\u001b[A\n",
            " 72%|███████▏  | 771/1066 [41:24<12:41,  2.58s/it]\u001b[A\n",
            " 72%|███████▏  | 772/1066 [41:27<12:27,  2.54s/it]\u001b[A\n",
            " 73%|███████▎  | 773/1066 [41:30<12:58,  2.66s/it]\u001b[A\n",
            " 73%|███████▎  | 774/1066 [41:32<12:36,  2.59s/it]\u001b[A\n",
            " 73%|███████▎  | 775/1066 [41:35<12:51,  2.65s/it]\u001b[A\n",
            " 73%|███████▎  | 776/1066 [41:37<12:39,  2.62s/it]\u001b[A\n",
            " 73%|███████▎  | 777/1066 [41:40<12:39,  2.63s/it]\u001b[A\n",
            " 73%|███████▎  | 778/1066 [41:42<12:21,  2.57s/it]\u001b[A\n",
            " 73%|███████▎  | 779/1066 [41:45<12:46,  2.67s/it]\u001b[A\n",
            " 73%|███████▎  | 780/1066 [41:48<12:58,  2.72s/it]\u001b[A\n",
            " 73%|███████▎  | 781/1066 [41:51<12:38,  2.66s/it]\u001b[A\n",
            " 73%|███████▎  | 782/1066 [41:53<12:26,  2.63s/it]\u001b[A\n",
            " 73%|███████▎  | 783/1066 [41:56<12:24,  2.63s/it]\u001b[A\n",
            " 74%|███████▎  | 784/1066 [42:02<17:02,  3.63s/it]\u001b[A\n",
            " 74%|███████▎  | 785/1066 [42:04<15:38,  3.34s/it]\u001b[A\n",
            " 74%|███████▎  | 786/1066 [42:08<15:11,  3.26s/it]\u001b[A\n",
            " 74%|███████▍  | 787/1066 [42:11<15:31,  3.34s/it]\u001b[A\n",
            " 74%|███████▍  | 788/1066 [42:14<14:43,  3.18s/it]\u001b[A\n",
            " 74%|███████▍  | 789/1066 [42:17<14:12,  3.08s/it]\u001b[A\n",
            " 74%|███████▍  | 790/1066 [42:19<13:25,  2.92s/it]\u001b[A\n",
            " 74%|███████▍  | 791/1066 [42:22<13:07,  2.86s/it]\u001b[A\n",
            " 74%|███████▍  | 792/1066 [42:25<12:57,  2.84s/it]\u001b[A\n",
            " 74%|███████▍  | 793/1066 [42:27<12:29,  2.74s/it]\u001b[A\n",
            " 74%|███████▍  | 794/1066 [42:29<11:37,  2.56s/it]\u001b[A\n",
            " 75%|███████▍  | 795/1066 [42:32<11:57,  2.65s/it]\u001b[A\n",
            " 75%|███████▍  | 796/1066 [42:35<11:42,  2.60s/it]\u001b[A\n",
            " 75%|███████▍  | 797/1066 [42:37<11:12,  2.50s/it]\u001b[A\n",
            " 75%|███████▍  | 798/1066 [42:40<11:48,  2.64s/it]\u001b[A\n",
            " 75%|███████▍  | 799/1066 [42:43<12:01,  2.70s/it]\u001b[A\n",
            " 75%|███████▌  | 800/1066 [42:46<12:09,  2.74s/it]\u001b[A\n",
            " 75%|███████▌  | 801/1066 [42:48<11:18,  2.56s/it]\u001b[A\n",
            " 75%|███████▌  | 802/1066 [42:51<11:31,  2.62s/it]\u001b[A\n",
            " 75%|███████▌  | 803/1066 [42:54<11:59,  2.74s/it]\u001b[A\n",
            " 75%|███████▌  | 804/1066 [42:56<11:36,  2.66s/it]\u001b[A\n",
            " 76%|███████▌  | 805/1066 [43:00<13:42,  3.15s/it]\u001b[A\n",
            " 76%|███████▌  | 806/1066 [43:03<12:51,  2.97s/it]\u001b[A\n",
            " 76%|███████▌  | 807/1066 [43:06<12:45,  2.96s/it]\u001b[A\n",
            " 76%|███████▌  | 808/1066 [43:08<12:04,  2.81s/it]\u001b[A\n",
            " 76%|███████▌  | 809/1066 [43:14<15:43,  3.67s/it]\u001b[A\n",
            " 76%|███████▌  | 810/1066 [43:18<15:43,  3.69s/it]\u001b[A\n",
            " 76%|███████▌  | 811/1066 [43:21<15:22,  3.62s/it]\u001b[A\n",
            " 76%|███████▌  | 812/1066 [43:24<14:39,  3.46s/it]\u001b[A\n",
            " 76%|███████▋  | 813/1066 [43:27<13:51,  3.29s/it]\u001b[A\n",
            " 76%|███████▋  | 814/1066 [43:31<14:00,  3.33s/it]\u001b[A\n",
            " 76%|███████▋  | 815/1066 [43:34<13:43,  3.28s/it]\u001b[A\n",
            " 77%|███████▋  | 816/1066 [43:36<12:36,  3.03s/it]\u001b[A\n",
            " 77%|███████▋  | 817/1066 [43:38<11:24,  2.75s/it]\u001b[A\n",
            " 77%|███████▋  | 818/1066 [43:42<12:54,  3.12s/it]\u001b[A\n",
            " 77%|███████▋  | 819/1066 [43:45<12:07,  2.95s/it]\u001b[A\n",
            " 77%|███████▋  | 820/1066 [43:48<11:59,  2.92s/it]\u001b[A\n",
            " 77%|███████▋  | 821/1066 [43:50<11:47,  2.89s/it]\u001b[A\n",
            " 77%|███████▋  | 822/1066 [43:53<11:48,  2.90s/it]\u001b[A\n",
            " 77%|███████▋  | 823/1066 [43:56<11:45,  2.90s/it]\u001b[A\n",
            " 77%|███████▋  | 824/1066 [43:59<11:57,  2.96s/it]\u001b[A\n",
            " 77%|███████▋  | 825/1066 [44:04<13:47,  3.43s/it]\u001b[A\n",
            " 77%|███████▋  | 826/1066 [44:06<12:11,  3.05s/it]\u001b[A\n",
            " 78%|███████▊  | 827/1066 [44:10<12:42,  3.19s/it]\u001b[A\n",
            " 78%|███████▊  | 828/1066 [44:13<12:27,  3.14s/it]\u001b[A\n",
            " 78%|███████▊  | 829/1066 [44:17<13:26,  3.40s/it]\u001b[A\n",
            " 78%|███████▊  | 830/1066 [44:20<13:28,  3.43s/it]\u001b[A\n",
            " 78%|███████▊  | 831/1066 [44:23<12:12,  3.12s/it]\u001b[A\n",
            " 78%|███████▊  | 832/1066 [44:26<12:06,  3.11s/it]\u001b[A\n",
            " 78%|███████▊  | 833/1066 [44:28<11:20,  2.92s/it]\u001b[A\n",
            " 78%|███████▊  | 834/1066 [44:33<13:12,  3.42s/it]\u001b[A\n",
            " 78%|███████▊  | 835/1066 [44:36<12:50,  3.33s/it]\u001b[A\n",
            " 78%|███████▊  | 836/1066 [44:39<12:28,  3.26s/it]\u001b[A\n",
            " 79%|███████▊  | 837/1066 [44:42<11:42,  3.07s/it]\u001b[A\n",
            " 79%|███████▊  | 838/1066 [44:44<11:28,  3.02s/it]\u001b[A\n",
            " 79%|███████▊  | 839/1066 [44:48<11:51,  3.14s/it]\u001b[A\n",
            " 79%|███████▉  | 840/1066 [44:51<11:38,  3.09s/it]\u001b[A\n",
            " 79%|███████▉  | 841/1066 [44:53<10:37,  2.83s/it]\u001b[A\n",
            " 79%|███████▉  | 842/1066 [44:58<13:02,  3.49s/it]\u001b[A\n",
            " 79%|███████▉  | 843/1066 [45:04<15:46,  4.24s/it]\u001b[A\n",
            " 79%|███████▉  | 844/1066 [45:09<16:07,  4.36s/it]\u001b[A\n",
            " 79%|███████▉  | 845/1066 [45:12<14:41,  3.99s/it]\u001b[A\n",
            " 79%|███████▉  | 846/1066 [45:14<12:59,  3.55s/it]\u001b[A\n",
            " 79%|███████▉  | 847/1066 [45:17<12:20,  3.38s/it]\u001b[A\n",
            " 80%|███████▉  | 848/1066 [45:21<12:31,  3.45s/it]\u001b[A\n",
            " 80%|███████▉  | 849/1066 [45:24<12:00,  3.32s/it]\u001b[A\n",
            " 80%|███████▉  | 850/1066 [45:27<11:45,  3.27s/it]\u001b[A\n",
            " 80%|███████▉  | 851/1066 [45:31<12:09,  3.39s/it]\u001b[A\n",
            " 80%|███████▉  | 852/1066 [45:34<11:41,  3.28s/it]\u001b[A\n",
            " 80%|████████  | 853/1066 [45:37<11:05,  3.12s/it]\u001b[A\n",
            " 80%|████████  | 854/1066 [45:39<10:44,  3.04s/it]\u001b[A\n",
            " 80%|████████  | 855/1066 [45:42<10:28,  2.98s/it]\u001b[A\n",
            " 80%|████████  | 856/1066 [45:45<10:40,  3.05s/it]\u001b[A\n",
            " 80%|████████  | 857/1066 [45:48<10:11,  2.93s/it]\u001b[A\n",
            " 80%|████████  | 858/1066 [45:53<12:18,  3.55s/it]\u001b[A\n",
            " 81%|████████  | 859/1066 [45:57<12:05,  3.50s/it]\u001b[A\n",
            " 81%|████████  | 860/1066 [46:00<11:30,  3.35s/it]\u001b[A\n",
            " 81%|████████  | 861/1066 [46:04<12:43,  3.72s/it]\u001b[A\n",
            " 81%|████████  | 862/1066 [46:08<12:58,  3.81s/it]\u001b[A\n",
            " 81%|████████  | 863/1066 [46:12<13:22,  3.95s/it]\u001b[A\n",
            " 81%|████████  | 864/1066 [46:15<12:13,  3.63s/it]\u001b[A\n",
            " 81%|████████  | 865/1066 [46:20<13:36,  4.06s/it]\u001b[A\n",
            " 81%|████████  | 866/1066 [46:23<12:34,  3.77s/it]\u001b[A\n",
            " 81%|████████▏ | 867/1066 [46:27<12:23,  3.74s/it]\u001b[A\n",
            " 81%|████████▏ | 868/1066 [46:29<10:57,  3.32s/it]\u001b[A\n",
            " 82%|████████▏ | 869/1066 [46:32<10:28,  3.19s/it]\u001b[A\n",
            " 82%|████████▏ | 870/1066 [46:37<12:02,  3.69s/it]\u001b[A\n",
            " 82%|████████▏ | 871/1066 [46:41<12:17,  3.78s/it]\u001b[A\n",
            " 82%|████████▏ | 872/1066 [46:45<12:42,  3.93s/it]\u001b[A\n",
            " 82%|████████▏ | 873/1066 [46:49<12:17,  3.82s/it]\u001b[A\n",
            " 82%|████████▏ | 874/1066 [46:52<11:35,  3.62s/it]\u001b[A\n",
            " 82%|████████▏ | 875/1066 [46:58<14:06,  4.43s/it]\u001b[A\n",
            " 82%|████████▏ | 876/1066 [47:03<14:29,  4.58s/it]\u001b[A\n",
            " 82%|████████▏ | 877/1066 [47:07<13:01,  4.14s/it]\u001b[A\n",
            " 82%|████████▏ | 878/1066 [47:11<13:12,  4.22s/it]\u001b[A\n",
            " 82%|████████▏ | 879/1066 [47:14<11:50,  3.80s/it]\u001b[A\n",
            " 83%|████████▎ | 880/1066 [47:17<11:11,  3.61s/it]\u001b[A\n",
            " 83%|████████▎ | 881/1066 [47:20<10:47,  3.50s/it]\u001b[A\n",
            " 83%|████████▎ | 882/1066 [47:23<09:49,  3.21s/it]\u001b[A\n",
            " 83%|████████▎ | 883/1066 [47:26<09:58,  3.27s/it]\u001b[A\n",
            " 83%|████████▎ | 884/1066 [47:29<09:17,  3.06s/it]\u001b[A\n",
            " 83%|████████▎ | 885/1066 [47:33<10:34,  3.51s/it]\u001b[A\n",
            " 83%|████████▎ | 886/1066 [47:38<11:37,  3.87s/it]\u001b[A\n",
            " 83%|████████▎ | 887/1066 [47:41<10:40,  3.58s/it]\u001b[A\n",
            " 83%|████████▎ | 888/1066 [47:44<09:57,  3.36s/it]\u001b[A\n",
            " 83%|████████▎ | 889/1066 [47:46<09:05,  3.08s/it]\u001b[A\n",
            " 83%|████████▎ | 890/1066 [47:49<08:30,  2.90s/it]\u001b[A\n",
            " 84%|████████▎ | 891/1066 [47:51<08:17,  2.84s/it]\u001b[A\n",
            " 84%|████████▎ | 892/1066 [47:54<07:47,  2.69s/it]\u001b[A\n",
            " 84%|████████▍ | 893/1066 [47:58<09:07,  3.16s/it]\u001b[A\n",
            " 84%|████████▍ | 894/1066 [48:01<08:56,  3.12s/it]\u001b[A\n",
            " 84%|████████▍ | 895/1066 [48:03<08:16,  2.90s/it]\u001b[A\n",
            " 84%|████████▍ | 896/1066 [48:06<08:20,  2.94s/it]\u001b[A\n",
            " 84%|████████▍ | 897/1066 [48:10<09:09,  3.25s/it]\u001b[A\n",
            " 84%|████████▍ | 898/1066 [48:14<09:29,  3.39s/it]\u001b[A\n",
            " 84%|████████▍ | 899/1066 [48:21<12:06,  4.35s/it]\u001b[A\n",
            " 84%|████████▍ | 900/1066 [48:23<10:37,  3.84s/it]\u001b[A\n",
            " 85%|████████▍ | 901/1066 [48:27<10:10,  3.70s/it]\u001b[A\n",
            " 85%|████████▍ | 902/1066 [48:29<09:20,  3.42s/it]\u001b[A\n",
            " 85%|████████▍ | 903/1066 [48:33<09:40,  3.56s/it]\u001b[A\n",
            " 85%|████████▍ | 904/1066 [48:36<08:35,  3.18s/it]\u001b[A\n",
            " 85%|████████▍ | 905/1066 [48:38<08:06,  3.02s/it]\u001b[A\n",
            " 85%|████████▍ | 906/1066 [48:41<07:57,  2.99s/it]\u001b[A\n",
            " 85%|████████▌ | 907/1066 [48:44<07:47,  2.94s/it]\u001b[A\n",
            " 85%|████████▌ | 908/1066 [48:47<07:44,  2.94s/it]\u001b[A\n",
            " 85%|████████▌ | 909/1066 [48:50<07:39,  2.92s/it]\u001b[A\n",
            " 85%|████████▌ | 910/1066 [48:52<07:14,  2.79s/it]\u001b[A\n",
            " 85%|████████▌ | 911/1066 [48:56<08:14,  3.19s/it]\u001b[A\n",
            " 86%|████████▌ | 912/1066 [49:00<08:33,  3.33s/it]\u001b[A\n",
            " 86%|████████▌ | 913/1066 [49:07<10:53,  4.27s/it]\u001b[A\n",
            " 86%|████████▌ | 914/1066 [49:09<09:08,  3.61s/it]\u001b[A\n",
            " 86%|████████▌ | 915/1066 [49:11<08:05,  3.22s/it]\u001b[A\n",
            " 86%|████████▌ | 916/1066 [49:13<07:24,  2.96s/it]\u001b[A\n",
            " 86%|████████▌ | 917/1066 [49:16<07:17,  2.94s/it]\u001b[A\n",
            " 86%|████████▌ | 918/1066 [49:19<07:26,  3.02s/it]\u001b[A\n",
            " 86%|████████▌ | 919/1066 [49:23<07:41,  3.14s/it]\u001b[A\n",
            " 86%|████████▋ | 920/1066 [49:26<07:48,  3.21s/it]\u001b[A\n",
            " 86%|████████▋ | 921/1066 [49:29<07:35,  3.14s/it]\u001b[A\n",
            " 86%|████████▋ | 922/1066 [49:32<07:02,  2.93s/it]\u001b[A\n",
            " 87%|████████▋ | 923/1066 [49:34<06:57,  2.92s/it]\u001b[A\n",
            " 87%|████████▋ | 924/1066 [49:37<06:28,  2.73s/it]\u001b[A\n",
            " 87%|████████▋ | 925/1066 [49:40<06:28,  2.75s/it]\u001b[A\n",
            " 87%|████████▋ | 926/1066 [49:42<06:31,  2.80s/it]\u001b[A\n",
            " 87%|████████▋ | 927/1066 [49:45<06:14,  2.69s/it]\u001b[A\n",
            " 87%|████████▋ | 928/1066 [49:48<06:17,  2.73s/it]\u001b[A\n",
            " 87%|████████▋ | 929/1066 [49:50<06:03,  2.65s/it]\u001b[A\n",
            " 87%|████████▋ | 930/1066 [49:53<05:50,  2.58s/it]\u001b[A\n",
            " 87%|████████▋ | 931/1066 [49:55<05:53,  2.62s/it]\u001b[A\n",
            " 87%|████████▋ | 932/1066 [49:58<05:58,  2.68s/it]\u001b[A\n",
            " 88%|████████▊ | 933/1066 [50:01<06:05,  2.75s/it]\u001b[A\n",
            " 88%|████████▊ | 934/1066 [50:04<06:04,  2.76s/it]\u001b[A\n",
            " 88%|████████▊ | 935/1066 [50:07<06:09,  2.82s/it]\u001b[A\n",
            " 88%|████████▊ | 936/1066 [50:10<06:13,  2.87s/it]\u001b[A\n",
            " 88%|████████▊ | 937/1066 [50:12<05:57,  2.77s/it]\u001b[A\n",
            " 88%|████████▊ | 938/1066 [50:15<06:00,  2.81s/it]\u001b[A\n",
            " 88%|████████▊ | 939/1066 [50:18<05:39,  2.67s/it]\u001b[A\n",
            " 88%|████████▊ | 940/1066 [50:20<05:30,  2.63s/it]\u001b[A\n",
            " 88%|████████▊ | 941/1066 [50:22<05:17,  2.54s/it]\u001b[A\n",
            " 88%|████████▊ | 942/1066 [50:25<05:31,  2.68s/it]\u001b[A\n",
            " 88%|████████▊ | 943/1066 [50:28<05:26,  2.65s/it]\u001b[A\n",
            " 89%|████████▊ | 944/1066 [50:30<05:10,  2.55s/it]\u001b[A\n",
            " 89%|████████▊ | 945/1066 [50:33<05:13,  2.59s/it]\u001b[A\n",
            " 89%|████████▊ | 946/1066 [50:36<05:19,  2.66s/it]\u001b[A\n",
            " 89%|████████▉ | 947/1066 [50:38<05:10,  2.61s/it]\u001b[A\n",
            " 89%|████████▉ | 948/1066 [50:41<05:17,  2.69s/it]\u001b[A\n",
            " 89%|████████▉ | 949/1066 [50:44<05:02,  2.58s/it]\u001b[A\n",
            " 89%|████████▉ | 950/1066 [50:46<04:50,  2.50s/it]\u001b[A\n",
            " 89%|████████▉ | 951/1066 [50:49<04:53,  2.55s/it]\u001b[A\n",
            " 89%|████████▉ | 952/1066 [50:51<04:55,  2.59s/it]\u001b[A\n",
            " 89%|████████▉ | 953/1066 [50:54<05:04,  2.69s/it]\u001b[A\n",
            " 89%|████████▉ | 954/1066 [50:58<05:31,  2.96s/it]\u001b[A\n",
            " 90%|████████▉ | 955/1066 [51:00<05:18,  2.87s/it]\u001b[A\n",
            " 90%|████████▉ | 956/1066 [51:03<04:55,  2.69s/it]\u001b[A\n",
            " 90%|████████▉ | 957/1066 [51:05<04:49,  2.66s/it]\u001b[A\n",
            " 90%|████████▉ | 958/1066 [51:08<04:49,  2.68s/it]\u001b[A\n",
            " 90%|████████▉ | 959/1066 [51:10<04:29,  2.52s/it]\u001b[A\n",
            " 90%|█████████ | 960/1066 [51:13<04:39,  2.64s/it]\u001b[A\n",
            " 90%|█████████ | 961/1066 [51:16<04:42,  2.69s/it]\u001b[A\n",
            " 90%|█████████ | 962/1066 [51:19<04:38,  2.67s/it]\u001b[A\n",
            " 90%|█████████ | 963/1066 [51:21<04:41,  2.73s/it]\u001b[A\n",
            " 90%|█████████ | 964/1066 [51:24<04:39,  2.74s/it]\u001b[A\n",
            " 91%|█████████ | 965/1066 [51:27<04:48,  2.85s/it]\u001b[A\n",
            " 91%|█████████ | 966/1066 [51:29<04:22,  2.63s/it]\u001b[A\n",
            " 91%|█████████ | 967/1066 [51:32<04:27,  2.71s/it]\u001b[A\n",
            " 91%|█████████ | 968/1066 [51:37<05:12,  3.19s/it]\u001b[A\n",
            " 91%|█████████ | 969/1066 [51:40<05:02,  3.12s/it]\u001b[A\n",
            " 91%|█████████ | 970/1066 [51:42<04:54,  3.06s/it]\u001b[A\n",
            " 91%|█████████ | 971/1066 [51:45<04:46,  3.01s/it]\u001b[A\n",
            " 91%|█████████ | 972/1066 [51:48<04:37,  2.95s/it]\u001b[A\n",
            " 91%|█████████▏| 973/1066 [51:51<04:30,  2.91s/it]\u001b[A\n",
            " 91%|█████████▏| 974/1066 [51:54<04:23,  2.86s/it]\u001b[A\n",
            " 91%|█████████▏| 975/1066 [51:57<04:22,  2.88s/it]\u001b[A\n",
            " 92%|█████████▏| 976/1066 [52:00<04:21,  2.91s/it]\u001b[A\n",
            " 92%|█████████▏| 977/1066 [52:02<04:09,  2.81s/it]\u001b[A\n",
            " 92%|█████████▏| 978/1066 [52:04<03:51,  2.63s/it]\u001b[A\n",
            " 92%|█████████▏| 979/1066 [52:07<03:50,  2.65s/it]\u001b[A\n",
            " 92%|█████████▏| 980/1066 [52:10<03:52,  2.70s/it]\u001b[A\n",
            " 92%|█████████▏| 981/1066 [52:13<03:54,  2.75s/it]\u001b[A\n",
            " 92%|█████████▏| 982/1066 [52:15<03:39,  2.61s/it]\u001b[A\n",
            " 92%|█████████▏| 983/1066 [52:18<03:40,  2.66s/it]\u001b[A\n",
            " 92%|█████████▏| 984/1066 [52:21<03:41,  2.70s/it]\u001b[A\n",
            " 92%|█████████▏| 985/1066 [52:23<03:42,  2.75s/it]\u001b[A\n",
            " 92%|█████████▏| 986/1066 [52:26<03:39,  2.75s/it]\u001b[A\n",
            " 93%|█████████▎| 987/1066 [52:29<03:31,  2.68s/it]\u001b[A\n",
            " 93%|█████████▎| 988/1066 [52:32<03:34,  2.75s/it]\u001b[A\n",
            " 93%|█████████▎| 989/1066 [52:34<03:21,  2.62s/it]\u001b[A\n",
            " 93%|█████████▎| 990/1066 [52:37<03:35,  2.83s/it]\u001b[A\n",
            " 93%|█████████▎| 991/1066 [52:40<03:32,  2.84s/it]\u001b[A\n",
            " 93%|█████████▎| 992/1066 [52:43<03:19,  2.70s/it]\u001b[A\n",
            " 93%|█████████▎| 993/1066 [52:45<03:11,  2.63s/it]\u001b[A\n",
            " 93%|█████████▎| 994/1066 [52:48<03:15,  2.72s/it]\u001b[A\n",
            " 93%|█████████▎| 995/1066 [52:51<03:15,  2.76s/it]\u001b[A\n",
            " 93%|█████████▎| 996/1066 [52:53<02:58,  2.55s/it]\u001b[A\n",
            " 94%|█████████▎| 997/1066 [52:55<02:47,  2.43s/it]\u001b[A\n",
            " 94%|█████████▎| 998/1066 [52:57<02:44,  2.42s/it]\u001b[A\n",
            " 94%|█████████▎| 999/1066 [53:04<04:15,  3.82s/it]\u001b[A\n",
            " 94%|█████████▍| 1000/1066 [53:07<03:51,  3.50s/it]\u001b[A\n",
            " 94%|█████████▍| 1001/1066 [53:10<03:40,  3.39s/it]\u001b[A\n",
            " 94%|█████████▍| 1002/1066 [53:13<03:22,  3.16s/it]\u001b[A\n",
            " 94%|█████████▍| 1003/1066 [53:17<03:27,  3.29s/it]\u001b[A\n",
            " 94%|█████████▍| 1004/1066 [53:21<03:44,  3.62s/it]\u001b[A\n",
            " 94%|█████████▍| 1005/1066 [53:24<03:21,  3.31s/it]\u001b[A\n",
            " 94%|█████████▍| 1006/1066 [53:26<03:03,  3.06s/it]\u001b[A\n",
            " 94%|█████████▍| 1007/1066 [53:29<03:03,  3.12s/it]\u001b[A\n",
            " 95%|█████████▍| 1008/1066 [53:33<03:08,  3.24s/it]\u001b[A\n",
            " 95%|█████████▍| 1009/1066 [53:35<02:54,  3.06s/it]\u001b[A\n",
            " 95%|█████████▍| 1010/1066 [53:38<02:37,  2.81s/it]\u001b[A\n",
            " 95%|█████████▍| 1011/1066 [53:40<02:27,  2.68s/it]\u001b[A\n",
            " 95%|█████████▍| 1012/1066 [53:43<02:25,  2.69s/it]\u001b[A\n",
            " 95%|█████████▌| 1013/1066 [53:45<02:20,  2.65s/it]\u001b[A\n",
            " 95%|█████████▌| 1014/1066 [53:48<02:25,  2.79s/it]\u001b[A\n",
            " 95%|█████████▌| 1015/1066 [53:51<02:14,  2.64s/it]\u001b[A\n",
            " 95%|█████████▌| 1016/1066 [53:53<02:08,  2.58s/it]\u001b[A\n",
            " 95%|█████████▌| 1017/1066 [53:56<02:09,  2.64s/it]\u001b[A\n",
            " 95%|█████████▌| 1018/1066 [54:00<02:31,  3.15s/it]\u001b[A\n",
            " 96%|█████████▌| 1019/1066 [54:12<04:33,  5.83s/it]\u001b[A\n",
            " 96%|█████████▌| 1020/1066 [54:17<04:07,  5.39s/it]\u001b[A\n",
            " 96%|█████████▌| 1021/1066 [54:20<03:29,  4.65s/it]\u001b[A\n",
            " 96%|█████████▌| 1022/1066 [54:22<02:55,  3.98s/it]\u001b[A\n",
            " 96%|█████████▌| 1023/1066 [54:26<02:46,  3.87s/it]\u001b[A\n",
            " 96%|█████████▌| 1024/1066 [54:29<02:30,  3.59s/it]\u001b[A\n",
            " 96%|█████████▌| 1025/1066 [54:31<02:16,  3.34s/it]\u001b[A\n",
            " 96%|█████████▌| 1026/1066 [54:34<02:05,  3.15s/it]\u001b[A\n",
            " 96%|█████████▋| 1027/1066 [54:37<01:54,  2.93s/it]\u001b[A\n",
            " 96%|█████████▋| 1028/1066 [54:39<01:43,  2.73s/it]\u001b[A\n",
            " 97%|█████████▋| 1029/1066 [54:42<01:43,  2.80s/it]\u001b[A\n",
            " 97%|█████████▋| 1030/1066 [54:45<01:42,  2.84s/it]\u001b[A\n",
            " 97%|█████████▋| 1031/1066 [54:47<01:36,  2.75s/it]\u001b[A\n",
            " 97%|█████████▋| 1032/1066 [54:50<01:34,  2.78s/it]\u001b[A\n",
            " 97%|█████████▋| 1033/1066 [54:52<01:27,  2.65s/it]\u001b[A\n",
            " 97%|█████████▋| 1034/1066 [54:55<01:21,  2.54s/it]\u001b[A\n",
            " 97%|█████████▋| 1035/1066 [54:58<01:22,  2.66s/it]\u001b[A\n",
            " 97%|█████████▋| 1036/1066 [55:02<01:34,  3.15s/it]\u001b[A\n",
            " 97%|█████████▋| 1037/1066 [55:05<01:28,  3.06s/it]\u001b[A\n",
            " 97%|█████████▋| 1038/1066 [55:08<01:27,  3.11s/it]\u001b[A\n",
            " 97%|█████████▋| 1039/1066 [55:11<01:26,  3.21s/it]\u001b[A\n",
            " 98%|█████████▊| 1040/1066 [55:15<01:25,  3.28s/it]\u001b[A\n",
            " 98%|█████████▊| 1041/1066 [55:19<01:31,  3.66s/it]\u001b[A\n",
            " 98%|█████████▊| 1042/1066 [55:22<01:16,  3.19s/it]\u001b[A\n",
            " 98%|█████████▊| 1043/1066 [55:25<01:14,  3.22s/it]\u001b[A\n",
            " 98%|█████████▊| 1044/1066 [55:28<01:10,  3.21s/it]\u001b[A\n",
            " 98%|█████████▊| 1045/1066 [55:32<01:11,  3.41s/it]\u001b[A\n",
            " 98%|█████████▊| 1046/1066 [55:35<01:06,  3.33s/it]\u001b[A\n",
            " 98%|█████████▊| 1047/1066 [55:37<00:58,  3.07s/it]\u001b[A\n",
            " 98%|█████████▊| 1048/1066 [55:43<01:08,  3.81s/it]\u001b[A\n",
            " 98%|█████████▊| 1049/1066 [55:46<01:00,  3.53s/it]\u001b[A\n",
            " 98%|█████████▊| 1050/1066 [55:49<00:54,  3.39s/it]\u001b[A\n",
            " 99%|█████████▊| 1051/1066 [55:51<00:46,  3.10s/it]\u001b[A\n",
            " 99%|█████████▊| 1052/1066 [55:55<00:43,  3.12s/it]\u001b[A\n",
            " 99%|█████████▉| 1053/1066 [55:57<00:37,  2.85s/it]\u001b[A\n",
            " 99%|█████████▉| 1054/1066 [56:00<00:33,  2.83s/it]\u001b[A\n",
            " 99%|█████████▉| 1055/1066 [56:03<00:32,  2.96s/it]\u001b[A\n",
            " 99%|█████████▉| 1056/1066 [56:06<00:29,  2.94s/it]\u001b[A\n",
            " 99%|█████████▉| 1057/1066 [56:10<00:30,  3.38s/it]\u001b[A\n",
            " 99%|█████████▉| 1058/1066 [56:13<00:26,  3.25s/it]\u001b[A\n",
            " 99%|█████████▉| 1059/1066 [56:16<00:21,  3.03s/it]\u001b[A\n",
            " 99%|█████████▉| 1060/1066 [56:18<00:17,  2.88s/it]\u001b[A\n",
            "100%|█████████▉| 1061/1066 [56:21<00:13,  2.78s/it]\u001b[A\n",
            "100%|█████████▉| 1062/1066 [56:23<00:11,  2.79s/it]\u001b[A\n",
            "100%|█████████▉| 1063/1066 [56:27<00:08,  2.94s/it]\u001b[A\n",
            "100%|█████████▉| 1064/1066 [56:30<00:05,  2.90s/it]\u001b[A\n",
            "100%|█████████▉| 1065/1066 [56:32<00:02,  2.80s/it]\u001b[A\n",
            "100%|██████████| 1066/1066 [56:35<00:00,  3.19s/it]\n"
          ],
          "name": "stderr"
        }
      ]
    },
    {
      "cell_type": "code",
      "metadata": {
        "id": "wy5AJ3iUj-DO",
        "colab_type": "code",
        "colab": {
          "base_uri": "https://localhost:8080/",
          "height": 34
        },
        "outputId": "073a1823-66f4-4246-8ff8-29eb77243f12"
      },
      "source": [
        "print(len(list_images))"
      ],
      "execution_count": null,
      "outputs": [
        {
          "output_type": "stream",
          "text": [
            "1066\n"
          ],
          "name": "stdout"
        }
      ]
    },
    {
      "cell_type": "code",
      "metadata": {
        "id": "BSPk4TWtAvWj",
        "colab_type": "code",
        "colab": {}
      },
      "source": [
        "#%pylab inline\n",
        "#import matplotlib.pyplot as plt\n",
        "#import matplotlib.image as mpimg\n",
        "#img=mpimg.imread('/content/images/img_10842942.jpg')\n",
        "#imgplot = plt.imshow(img)\n",
        "#plt.show()"
      ],
      "execution_count": null,
      "outputs": []
    },
    {
      "cell_type": "code",
      "metadata": {
        "id": "9oq-mP-v8LZl",
        "colab_type": "code",
        "colab": {
          "base_uri": "https://localhost:8080/",
          "height": 197
        },
        "outputId": "568fab74-731a-498f-b88c-2c7affc870dc"
      },
      "source": [
        "import pandas as pd\n",
        "ds_images = pd.DataFrame(list_images)\n",
        "ds_images.set_index(\"id\")\n",
        "ds_images.head()"
      ],
      "execution_count": null,
      "outputs": [
        {
          "output_type": "execute_result",
          "data": {
            "text/html": [
              "<div>\n",
              "<style scoped>\n",
              "    .dataframe tbody tr th:only-of-type {\n",
              "        vertical-align: middle;\n",
              "    }\n",
              "\n",
              "    .dataframe tbody tr th {\n",
              "        vertical-align: top;\n",
              "    }\n",
              "\n",
              "    .dataframe thead th {\n",
              "        text-align: right;\n",
              "    }\n",
              "</style>\n",
              "<table border=\"1\" class=\"dataframe\">\n",
              "  <thead>\n",
              "    <tr style=\"text-align: right;\">\n",
              "      <th></th>\n",
              "      <th>id</th>\n",
              "      <th>img_file</th>\n",
              "    </tr>\n",
              "  </thead>\n",
              "  <tbody>\n",
              "    <tr>\n",
              "      <th>0</th>\n",
              "      <td>10886958</td>\n",
              "      <td>img_10886958.jpg</td>\n",
              "    </tr>\n",
              "    <tr>\n",
              "      <th>1</th>\n",
              "      <td>10886946</td>\n",
              "      <td>img_10886946.jpg</td>\n",
              "    </tr>\n",
              "    <tr>\n",
              "      <th>2</th>\n",
              "      <td>10886961</td>\n",
              "      <td>img_10886961.jpg</td>\n",
              "    </tr>\n",
              "    <tr>\n",
              "      <th>3</th>\n",
              "      <td>10842942</td>\n",
              "      <td>img_10842942.jpg</td>\n",
              "    </tr>\n",
              "    <tr>\n",
              "      <th>4</th>\n",
              "      <td>10893181</td>\n",
              "      <td>img_10893181.jpg</td>\n",
              "    </tr>\n",
              "  </tbody>\n",
              "</table>\n",
              "</div>"
            ],
            "text/plain": [
              "         id          img_file\n",
              "0  10886958  img_10886958.jpg\n",
              "1  10886946  img_10886946.jpg\n",
              "2  10886961  img_10886961.jpg\n",
              "3  10842942  img_10842942.jpg\n",
              "4  10893181  img_10893181.jpg"
            ]
          },
          "metadata": {
            "tags": []
          },
          "execution_count": 29
        }
      ]
    },
    {
      "cell_type": "code",
      "metadata": {
        "id": "v1A0HPUPhmdT",
        "colab_type": "code",
        "colab": {
          "base_uri": "https://localhost:8080/",
          "height": 170
        },
        "outputId": "98425bc4-03ca-46e1-99a4-933b2f07ea35"
      },
      "source": [
        "ds_images.info()"
      ],
      "execution_count": null,
      "outputs": [
        {
          "output_type": "stream",
          "text": [
            "<class 'pandas.core.frame.DataFrame'>\n",
            "RangeIndex: 1066 entries, 0 to 1065\n",
            "Data columns (total 2 columns):\n",
            " #   Column    Non-Null Count  Dtype \n",
            "---  ------    --------------  ----- \n",
            " 0   id        1066 non-null   int64 \n",
            " 1   img_file  1066 non-null   object\n",
            "dtypes: int64(1), object(1)\n",
            "memory usage: 16.8+ KB\n"
          ],
          "name": "stdout"
        }
      ]
    },
    {
      "cell_type": "code",
      "metadata": {
        "id": "2CLUnkOW8O0Q",
        "colab_type": "code",
        "colab": {}
      },
      "source": [
        "ds_images.to_csv(\"/content/drive/My Drive/sportler_scarpe_abbigliamento_uomo_donna/ds_images.csv\")"
      ],
      "execution_count": null,
      "outputs": []
    },
    {
      "cell_type": "code",
      "metadata": {
        "id": "_o62-Ox9lf5g",
        "colab_type": "code",
        "colab": {
          "base_uri": "https://localhost:8080/",
          "height": 1000
        },
        "outputId": "07c00e84-2f35-4bc5-e4ac-c7cca93c3813"
      },
      "source": [
        "!zip -r \"/content/drive/My Drive/sportler_scarpe_abbigliamento_uomo_donna/images.zip\" \"/content/Final_images/\""
      ],
      "execution_count": null,
      "outputs": [
        {
          "output_type": "stream",
          "text": [
            "  adding: content/Final_images/ (stored 0%)\n",
            "  adding: content/Final_images/img_10781292.jpg (deflated 1%)\n",
            "  adding: content/Final_images/img_10821249.jpg (deflated 3%)\n",
            "  adding: content/Final_images/img_10721380.jpg (deflated 6%)\n",
            "  adding: content/Final_images/img_10748519.jpg (deflated 9%)\n",
            "  adding: content/Final_images/img_10705573.jpg (deflated 3%)\n",
            "  adding: content/Final_images/img_10830191.jpg (deflated 9%)\n",
            "  adding: content/Final_images/img_10748522.jpg (deflated 7%)\n",
            "  adding: content/Final_images/img_10746801.jpg (deflated 3%)\n",
            "  adding: content/Final_images/img_10781307.jpg (deflated 3%)\n",
            "  adding: content/Final_images/img_10829857.jpg (deflated 6%)\n",
            "  adding: content/Final_images/img_10781309.jpg (deflated 3%)\n",
            "  adding: content/Final_images/img_10791508.jpg (deflated 5%)\n",
            "  adding: content/Final_images/img_10879154.jpg (deflated 6%)\n",
            "  adding: content/Final_images/img_10789064.jpg (deflated 2%)\n",
            "  adding: content/Final_images/img_10840916.jpg (deflated 2%)\n",
            "  adding: content/Final_images/img_10782999.jpg (deflated 5%)\n",
            "  adding: content/Final_images/img_10683964.jpg (deflated 2%)\n",
            "  adding: content/Final_images/img_10872766.jpg (deflated 3%)\n",
            "  adding: content/Final_images/img_10783230.jpg (deflated 1%)\n",
            "  adding: content/Final_images/img_10856837.jpg (deflated 3%)\n",
            "  adding: content/Final_images/img_10839942.jpg (deflated 4%)\n",
            "  adding: content/Final_images/img_10743011.jpg (deflated 4%)\n",
            "  adding: content/Final_images/img_10864297.jpg (deflated 6%)\n",
            "  adding: content/Final_images/img_10781297.jpg (deflated 4%)\n",
            "  adding: content/Final_images/img_10781325.jpg (deflated 4%)\n",
            "  adding: content/Final_images/img_10877246.jpg (deflated 3%)\n",
            "  adding: content/Final_images/img_10863988.jpg (deflated 10%)\n",
            "  adding: content/Final_images/img_10841022.jpg (deflated 3%)\n",
            "  adding: content/Final_images/img_10863409.jpg (deflated 4%)\n",
            "  adding: content/Final_images/img_10049002.jpg (deflated 4%)\n",
            "  adding: content/Final_images/img_10850896.jpg (deflated 3%)\n",
            "  adding: content/Final_images/img_10822517.jpg (deflated 5%)\n",
            "  adding: content/Final_images/img_10839939.jpg (deflated 2%)\n",
            "  adding: content/Final_images/img_10779670.jpg (deflated 4%)\n",
            "  adding: content/Final_images/img_10779685.jpg (deflated 3%)\n",
            "  adding: content/Final_images/img_10758496.jpg (deflated 4%)\n",
            "  adding: content/Final_images/img_10779966.jpg (deflated 5%)\n",
            "  adding: content/Final_images/img_10743014.jpg (deflated 4%)\n",
            "  adding: content/Final_images/img_10724421.jpg (deflated 3%)\n",
            "  adding: content/Final_images/img_10079945.jpg (deflated 1%)\n",
            "  adding: content/Final_images/img_10756199.jpg (deflated 5%)\n",
            "  adding: content/Final_images/img_10742495.jpg (deflated 3%)\n",
            "  adding: content/Final_images/img_10781312.jpg (deflated 5%)\n",
            "  adding: content/Final_images/img_10839482.jpg (deflated 5%)\n",
            "  adding: content/Final_images/img_10590805.jpg (deflated 3%)\n",
            "  adding: content/Final_images/img_10761266.jpg (deflated 3%)\n",
            "  adding: content/Final_images/img_10723368.jpg (deflated 4%)\n",
            "  adding: content/Final_images/img_10821567.jpg (deflated 4%)\n",
            "  adding: content/Final_images/img_10876838.jpg (deflated 6%)\n",
            "  adding: content/Final_images/img_10683975.jpg (deflated 3%)\n",
            "  adding: content/Final_images/img_10588312.jpg (deflated 6%)\n",
            "  adding: content/Final_images/img_10027431.jpg (deflated 2%)\n",
            "  adding: content/Final_images/img_10886975.jpg (deflated 3%)\n",
            "  adding: content/Final_images/img_10610264.jpg (deflated 2%)\n",
            "  adding: content/Final_images/img_10893272.jpg (deflated 5%)\n",
            "  adding: content/Final_images/img_10836337.jpg (deflated 6%)\n",
            "  adding: content/Final_images/img_10898644.jpg (deflated 4%)\n",
            "  adding: content/Final_images/img_10662576.jpg (deflated 4%)\n",
            "  adding: content/Final_images/img_10762201.jpg (deflated 3%)\n",
            "  adding: content/Final_images/img_10750768.jpg (deflated 5%)\n",
            "  adding: content/Final_images/img_10840926.jpg (deflated 3%)\n",
            "  adding: content/Final_images/img_10829930.jpg (deflated 3%)\n",
            "  adding: content/Final_images/img_10779370.jpg (deflated 2%)\n",
            "  adding: content/Final_images/img_10725199.jpg (deflated 2%)\n",
            "  adding: content/Final_images/img_10785308.jpg (deflated 3%)\n",
            "  adding: content/Final_images/img_10820577.jpg (deflated 6%)\n",
            "  adding: content/Final_images/img_10829002.jpg (deflated 3%)\n",
            "  adding: content/Final_images/img_10854767.jpg (deflated 3%)\n",
            "  adding: content/Final_images/img_10683969.jpg (deflated 2%)\n",
            "  adding: content/Final_images/img_10721389.jpg (deflated 6%)\n",
            "  adding: content/Final_images/img_10650688.jpg (deflated 4%)\n",
            "  adding: content/Final_images/img_10832046.jpg (deflated 6%)\n",
            "  adding: content/Final_images/img_10851485.jpg (deflated 4%)\n",
            "  adding: content/Final_images/img_10864303.jpg (deflated 2%)\n",
            "  adding: content/Final_images/img_10748481.jpg (deflated 4%)\n",
            "  adding: content/Final_images/img_10895682.jpg (deflated 2%)\n",
            "  adding: content/Final_images/img_10785318.jpg (deflated 4%)\n",
            "  adding: content/Final_images/img_10725192.jpg (deflated 4%)\n",
            "  adding: content/Final_images/img_10839263.jpg (deflated 4%)\n",
            "  adding: content/Final_images/img_10839362.jpg (deflated 6%)\n",
            "  adding: content/Final_images/img_10921362.jpg (deflated 2%)\n",
            "  adding: content/Final_images/img_10839271.jpg (deflated 3%)\n",
            "  adding: content/Final_images/img_10898285.jpg (deflated 6%)\n",
            "  adding: content/Final_images/img_10879783.jpg (deflated 6%)\n",
            "  adding: content/Final_images/img_10837105.jpg (deflated 3%)\n",
            "  adding: content/Final_images/img_10326259.jpg (deflated 3%)\n",
            "  adding: content/Final_images/img_10790170.jpg (deflated 3%)\n",
            "  adding: content/Final_images/img_10839970.jpg (deflated 3%)\n",
            "  adding: content/Final_images/img_10342398.jpg (deflated 3%)\n",
            "  adding: content/Final_images/img_10829832.jpg (deflated 5%)\n",
            "  adding: content/Final_images/img_10778223.jpg (deflated 6%)\n",
            "  adding: content/Final_images/img_10789797.jpg (deflated 2%)\n",
            "  adding: content/Final_images/img_10886285.jpg (deflated 7%)\n",
            "  adding: content/Final_images/img_10724939.jpg (deflated 5%)\n",
            "  adding: content/Final_images/img_10473633.jpg (deflated 5%)\n",
            "  adding: content/Final_images/img_10840924.jpg (deflated 2%)\n",
            "  adding: content/Final_images/img_10802443.jpg (deflated 3%)\n",
            "  adding: content/Final_images/img_10763121.jpg (deflated 1%)\n",
            "  adding: content/Final_images/img_10748518.jpg (deflated 4%)\n",
            "  adding: content/Final_images/img_10829936.jpg (deflated 3%)\n",
            "  adding: content/Final_images/img_10311210.jpg (deflated 4%)\n",
            "  adding: content/Final_images/img_10510793.jpg (deflated 4%)\n",
            "  adding: content/Final_images/img_10778217.jpg (deflated 2%)\n",
            "  adding: content/Final_images/img_10839260.jpg (deflated 4%)\n",
            "  adding: content/Final_images/img_10779672.jpg (deflated 6%)\n",
            "  adding: content/Final_images/img_10820904.jpg (deflated 2%)\n",
            "  adding: content/Final_images/img_10502464.jpg (deflated 5%)\n",
            "  adding: content/Final_images/img_10846106.jpg (deflated 2%)\n",
            "  adding: content/Final_images/img_10322444.jpg (deflated 8%)\n",
            "  adding: content/Final_images/img_10721391.jpg (deflated 6%)\n",
            "  adding: content/Final_images/img_10833066.jpg (deflated 5%)\n",
            "  adding: content/Final_images/img_10886360.jpg (deflated 7%)\n",
            "  adding: content/Final_images/img_10864291.jpg (deflated 3%)\n",
            "  adding: content/Final_images/img_10832044.jpg (deflated 9%)\n",
            "  adding: content/Final_images/img_10829841.jpg (deflated 3%)\n",
            "  adding: content/Final_images/img_10888553.jpg (deflated 4%)\n",
            "  adding: content/Final_images/img_10865522.jpg (deflated 3%)\n",
            "  adding: content/Final_images/img_10829829.jpg (deflated 7%)\n",
            "  adding: content/Final_images/img_10886978.jpg (deflated 2%)\n",
            "  adding: content/Final_images/img_10610271.jpg (deflated 2%)\n",
            "  adding: content/Final_images/img_10872135.jpg (deflated 2%)\n",
            "  adding: content/Final_images/img_10613311.jpg (deflated 1%)\n",
            "  adding: content/Final_images/img_10722998.jpg (deflated 4%)\n",
            "  adding: content/Final_images/img_10832018.jpg (deflated 2%)\n",
            "  adding: content/Final_images/img_10886961.jpg (deflated 3%)\n",
            "  adding: content/Final_images/img_10726874.jpg (deflated 5%)\n",
            "  adding: content/Final_images/img_10888525.jpg (deflated 4%)\n",
            "  adding: content/Final_images/img_10586512.jpg (deflated 5%)\n",
            "  adding: content/Final_images/img_10781290.jpg (deflated 4%)\n",
            "  adding: content/Final_images/img_10829007.jpg (deflated 4%)\n",
            "  adding: content/Final_images/img_10724882.jpg (deflated 4%)\n",
            "  adding: content/Final_images/img_10839480.jpg (deflated 5%)\n",
            "  adding: content/Final_images/img_10724941.jpg (deflated 7%)\n",
            "  adding: content/Final_images/img_10872116.jpg (deflated 2%)\n",
            "  adding: content/Final_images/img_10905325.jpg (deflated 6%)\n",
            "  adding: content/Final_images/img_10783021.jpg (deflated 4%)\n",
            "  adding: content/Final_images/img_10840906.jpg (deflated 3%)\n",
            "  adding: content/Final_images/img_10705246.jpg (deflated 3%)\n",
            "  adding: content/Final_images/img_10830190.jpg (deflated 2%)\n",
            "  adding: content/Final_images/img_10747046.jpg (deflated 3%)\n",
            "  adding: content/Final_images/img_10777410.jpg (deflated 3%)\n",
            "  adding: content/Final_images/img_10836340.jpg (deflated 4%)\n",
            "  adding: content/Final_images/img_10590742.jpg (deflated 6%)\n",
            "  adding: content/Final_images/img_10591881.jpg (deflated 5%)\n",
            "  adding: content/Final_images/img_10829938.jpg (deflated 7%)\n",
            "  adding: content/Final_images/img_10886964.jpg (deflated 4%)\n",
            "  adding: content/Final_images/img_10784641.jpg (deflated 5%)\n",
            "  adding: content/Final_images/img_10783235.jpg (deflated 4%)\n",
            "  adding: content/Final_images/img_10839494.jpg (deflated 5%)\n",
            "  adding: content/Final_images/img_10726877.jpg (deflated 5%)\n",
            "  adding: content/Final_images/img_10836026.jpg (deflated 3%)\n",
            "  adding: content/Final_images/img_10660322.jpg (deflated 3%)\n",
            "  adding: content/Final_images/img_10821234.jpg (deflated 3%)\n",
            "  adding: content/Final_images/img_10748090.jpg (deflated 4%)\n",
            "  adding: content/Final_images/img_10784633.jpg (deflated 6%)\n",
            "  adding: content/Final_images/img_10839685.jpg (deflated 6%)\n",
            "  adding: content/Final_images/img_10590117.jpg (deflated 4%)\n",
            "  adding: content/Final_images/img_10107071.jpg (deflated 3%)\n",
            "  adding: content/Final_images/img_10746270.jpg (deflated 4%)\n",
            "  adding: content/Final_images/img_10756204.jpg (deflated 4%)\n",
            "  adding: content/Final_images/img_10864289.jpg (deflated 3%)\n",
            "  adding: content/Final_images/img_10833092.jpg (deflated 5%)\n",
            "  adding: content/Final_images/img_10839665.jpg (deflated 3%)\n",
            "  adding: content/Final_images/img_10886947.jpg (deflated 7%)\n",
            "  adding: content/Final_images/img_10589958.jpg (deflated 2%)\n",
            "  adding: content/Final_images/img_10680297.jpg (deflated 3%)\n",
            "  adding: content/Final_images/img_10580147.jpg (deflated 4%)\n",
            "  adding: content/Final_images/img_10840904.jpg (deflated 5%)\n",
            "  adding: content/Final_images/img_10833072.jpg (deflated 4%)\n",
            "  adding: content/Final_images/img_10762203.jpg (deflated 1%)\n",
            "  adding: content/Final_images/img_10589955.jpg (deflated 7%)\n",
            "  adding: content/Final_images/img_10326420.jpg (deflated 5%)\n",
            "  adding: content/Final_images/img_10840925.jpg (deflated 3%)\n",
            "  adding: content/Final_images/img_10779697.jpg (deflated 6%)\n",
            "  adding: content/Final_images/img_10700550.jpg (deflated 1%)\n",
            "  adding: content/Final_images/img_10221862.jpg (deflated 3%)\n",
            "  adding: content/Final_images/img_10839967.jpg (deflated 3%)\n",
            "  adding: content/Final_images/img_10781533.jpg (deflated 3%)\n",
            "  adding: content/Final_images/img_10610950.jpg (deflated 5%)\n",
            "  adding: content/Final_images/img_10839953.jpg (deflated 4%)\n",
            "  adding: content/Final_images/img_10893181.jpg (deflated 11%)\n",
            "  adding: content/Final_images/img_10662896.jpg (deflated 5%)\n",
            "  adding: content/Final_images/img_10838979.jpg (deflated 7%)\n",
            "  adding: content/Final_images/img_10763129.jpg (deflated 2%)\n",
            "  adding: content/Final_images/img_10755240.jpg (deflated 2%)\n",
            "  adding: content/Final_images/img_10853460.jpg (deflated 3%)\n",
            "  adding: content/Final_images/img_10780977.jpg (deflated 4%)\n",
            "  adding: content/Final_images/img_10829020.jpg (deflated 5%)\n",
            "  adding: content/Final_images/img_10758495.jpg (deflated 5%)\n",
            "  adding: content/Final_images/img_10591237.jpg (deflated 6%)\n",
            "  adding: content/Final_images/img_10872143.jpg (deflated 4%)\n",
            "  adding: content/Final_images/img_10869791.jpg (deflated 3%)\n",
            "  adding: content/Final_images/img_10663131.jpg (deflated 7%)\n",
            "  adding: content/Final_images/img_10583066.jpg (deflated 5%)\n",
            "  adding: content/Final_images/img_10781498.jpg (deflated 4%)\n",
            "  adding: content/Final_images/img_10747051.jpg (deflated 4%)\n",
            "  adding: content/Final_images/img_10750791.jpg (deflated 4%)\n",
            "  adding: content/Final_images/img_10842942.jpg (deflated 1%)\n",
            "  adding: content/Final_images/img_10458755.jpg (deflated 5%)\n",
            "  adding: content/Final_images/img_10833065.jpg (deflated 5%)\n",
            "  adding: content/Final_images/img_10838961.jpg (deflated 6%)\n",
            "  adding: content/Final_images/img_10829008.jpg (deflated 5%)\n",
            "  adding: content/Final_images/img_10724944.jpg (deflated 5%)\n",
            "  adding: content/Final_images/img_10823634.jpg (deflated 4%)\n",
            "  adding: content/Final_images/img_10782744.jpg (deflated 3%)\n",
            "  adding: content/Final_images/img_10821250.jpg (deflated 4%)\n",
            "  adding: content/Final_images/img_10708491.jpg (deflated 3%)\n",
            "  adding: content/Final_images/img_10748763.jpg (deflated 3%)\n",
            "  adding: content/Final_images/img_10838976.jpg (deflated 5%)\n",
            "  adding: content/Final_images/img_10829833.jpg (deflated 7%)\n",
            "  adding: content/Final_images/img_10755220.jpg (deflated 3%)\n",
            "  adding: content/Final_images/img_10320902.jpg (deflated 3%)\n",
            "  adding: content/Final_images/img_10782505.jpg (deflated 6%)\n",
            "  adding: content/Final_images/img_10840934.jpg (deflated 5%)\n",
            "  adding: content/Final_images/img_10321065.jpg (deflated 11%)\n",
            "  adding: content/Final_images/img_10751143.jpg (deflated 2%)\n",
            "  adding: content/Final_images/img_10820907.jpg (deflated 2%)\n",
            "  adding: content/Final_images/img_10820579.jpg (deflated 6%)\n",
            "  adding: content/Final_images/img_10782502.jpg (deflated 6%)\n",
            "  adding: content/Final_images/img_10707773.jpg (deflated 4%)\n",
            "  adding: content/Final_images/img_10748106.jpg (deflated 5%)\n",
            "  adding: content/Final_images/img_10782492.jpg (deflated 5%)\n",
            "  adding: content/Final_images/img_10838388.jpg (deflated 4%)\n",
            "  adding: content/Final_images/img_10840920.jpg (deflated 4%)\n",
            "  adding: content/Final_images/img_10705849.jpg (deflated 2%)\n",
            "  adding: content/Final_images/img_10837661.jpg (deflated 4%)\n",
            "  adding: content/Final_images/img_10839981.jpg (deflated 5%)\n",
            "  adding: content/Final_images/img_10879146.jpg (deflated 7%)\n",
            "  adding: content/Final_images/img_10838391.jpg (deflated 3%)\n",
            "  adding: content/Final_images/img_10839347.jpg (deflated 1%)\n",
            "  adding: content/Final_images/img_10790164.jpg (deflated 3%)\n",
            "  adding: content/Final_images/img_10683987.jpg (deflated 3%)\n",
            "  adding: content/Final_images/img_10790171.jpg (deflated 5%)\n",
            "  adding: content/Final_images/img_10746814.jpg (deflated 3%)\n",
            "  adding: content/Final_images/img_10821238.jpg (deflated 4%)\n",
            "  adding: content/Final_images/img_10761252.jpg (deflated 6%)\n",
            "  adding: content/Final_images/img_10863819.jpg (deflated 5%)\n",
            "  adding: content/Final_images/img_10723357.jpg (deflated 2%)\n",
            "  adding: content/Final_images/img_10839986.jpg (deflated 6%)\n",
            "  adding: content/Final_images/img_10829828.jpg (deflated 5%)\n",
            "  adding: content/Final_images/img_10739617.jpg (deflated 6%)\n",
            "  adding: content/Final_images/img_10707760.jpg (deflated 4%)\n",
            "  adding: content/Final_images/img_4524562.jpg (deflated 8%)\n",
            "  adding: content/Final_images/img_10833095.jpg (deflated 4%)\n",
            "  adding: content/Final_images/img_10763118.jpg (deflated 1%)\n",
            "  adding: content/Final_images/img_10764395.jpg (deflated 3%)\n",
            "  adding: content/Final_images/img_10821574.jpg (deflated 2%)\n",
            "  adding: content/Final_images/img_10523127.jpg (deflated 3%)\n",
            "  adding: content/Final_images/img_10864290.jpg (deflated 4%)\n",
            "  adding: content/Final_images/img_10439259.jpg (deflated 3%)\n",
            "  adding: content/Final_images/img_10699934.jpg (deflated 3%)\n",
            "  adding: content/Final_images/img_10876823.jpg (deflated 3%)\n",
            "  adding: content/Final_images/img_9796512.jpg (deflated 18%)\n",
            "  adding: content/Final_images/img_10781294.jpg (deflated 4%)\n",
            "  adding: content/Final_images/img_10872762.jpg (deflated 3%)\n",
            "  adding: content/Final_images/img_10359148.jpg (deflated 5%)\n",
            "  adding: content/Final_images/img_10781918.jpg (deflated 3%)\n",
            "  adding: content/Final_images/img_10708473.jpg (deflated 4%)\n",
            "  adding: content/Final_images/img_10892551.jpg (deflated 5%)\n",
            "  adding: content/Final_images/img_10783051.jpg (deflated 3%)\n",
            "  adding: content/Final_images/img_10829835.jpg (deflated 4%)\n",
            "  adding: content/Final_images/img_10680301.jpg (deflated 7%)\n",
            "  adding: content/Final_images/img_10781310.jpg (deflated 5%)\n",
            "  adding: content/Final_images/img_10751150.jpg (deflated 5%)\n",
            "  adding: content/Final_images/img_10761233.jpg (deflated 7%)\n",
            "  adding: content/Final_images/img_10738025.jpg (deflated 7%)\n",
            "  adding: content/Final_images/img_10079942.jpg (deflated 2%)\n",
            "  adding: content/Final_images/img_10590109.jpg (deflated 2%)\n",
            "  adding: content/Final_images/img_10761265.jpg (deflated 3%)\n",
            "  adding: content/Final_images/img_10782743.jpg (deflated 4%)\n",
            "  adding: content/Final_images/img_10833075.jpg (deflated 5%)\n",
            "  adding: content/Final_images/img_10906588.jpg (deflated 5%)\n",
            "  adding: content/Final_images/img_10902557.jpg (deflated 5%)\n",
            "  adding: content/Final_images/img_10749359.jpg (deflated 4%)\n",
            "  adding: content/Final_images/img_10840919.jpg (deflated 3%)\n",
            "  adding: content/Final_images/img_10829853.jpg (deflated 6%)\n",
            "  adding: content/Final_images/img_10747914.jpg (deflated 4%)\n",
            "  adding: content/Final_images/img_10781941.jpg (deflated 6%)\n",
            "  adding: content/Final_images/img_10865500.jpg (deflated 3%)\n",
            "  adding: content/Final_images/img_10837097.jpg (deflated 5%)\n",
            "  adding: content/Final_images/img_10840902.jpg (deflated 7%)\n",
            "  adding: content/Final_images/img_10782486.jpg (deflated 4%)\n",
            "  adding: content/Final_images/img_10839487.jpg (deflated 6%)\n",
            "  adding: content/Final_images/img_10588296.jpg (deflated 2%)\n",
            "  adding: content/Final_images/img_10802446.jpg (deflated 3%)\n",
            "  adding: content/Final_images/img_10865580.jpg (deflated 5%)\n",
            "  adding: content/Final_images/img_10877243.jpg (deflated 6%)\n",
            "  adding: content/Final_images/img_10683968.jpg (deflated 4%)\n",
            "  adding: content/Final_images/img_10525690.jpg (deflated 3%)\n",
            "  adding: content/Final_images/img_10782768.jpg (deflated 7%)\n",
            "  adding: content/Final_images/img_10761259.jpg (deflated 2%)\n",
            "  adding: content/Final_images/img_10864294.jpg (deflated 5%)\n",
            "  adding: content/Final_images/img_10781922.jpg (deflated 3%)\n",
            "  adding: content/Final_images/img_10856880.jpg (deflated 3%)\n",
            "  adding: content/Final_images/img_10763115.jpg (deflated 1%)\n",
            "  adding: content/Final_images/img_10660213.jpg (deflated 6%)\n",
            "  adding: content/Final_images/img_10834663.jpg (deflated 2%)\n",
            "  adding: content/Final_images/img_10707759.jpg (deflated 2%)\n",
            "  adding: content/Final_images/img_10751135.jpg (deflated 2%)\n",
            "  adding: content/Final_images/img_10610949.jpg (deflated 6%)\n",
            "  adding: content/Final_images/img_10872133.jpg (deflated 3%)\n",
            "  adding: content/Final_images/img_10590821.jpg (deflated 5%)\n",
            "  adding: content/Final_images/img_10837089.jpg (deflated 1%)\n",
            "  adding: content/Final_images/img_10906587.jpg (deflated 5%)\n",
            "  adding: content/Final_images/img_10748747.jpg (deflated 4%)\n",
            "  adding: content/Final_images/img_10748074.jpg (deflated 2%)\n",
            "  adding: content/Final_images/img_10905328.jpg (deflated 6%)\n",
            "  adding: content/Final_images/img_10879153.jpg (deflated 4%)\n",
            "  adding: content/Final_images/img_10878365.jpg (deflated 8%)\n",
            "  adding: content/Final_images/img_10898645.jpg (deflated 4%)\n",
            "  adding: content/Final_images/img_10838973.jpg (deflated 5%)\n",
            "  adding: content/Final_images/img_10784767.jpg (deflated 4%)\n",
            "  adding: content/Final_images/img_10820558.jpg (deflated 5%)\n",
            "  adding: content/Final_images/img_10723200.jpg (deflated 6%)\n",
            "  adding: content/Final_images/img_10782763.jpg (deflated 3%)\n",
            "  adding: content/Final_images/img_10886306.jpg (deflated 5%)\n",
            "  adding: content/Final_images/img_10674747.jpg (deflated 3%)\n",
            "  adding: content/Final_images/img_10680294.jpg (deflated 3%)\n",
            "  adding: content/Final_images/img_10663135.jpg (deflated 3%)\n",
            "  adding: content/Final_images/img_10683980.jpg (deflated 4%)\n",
            "  adding: content/Final_images/img_10872769.jpg (deflated 5%)\n",
            "  adding: content/Final_images/img_10741210.jpg (deflated 2%)\n",
            "  adding: content/Final_images/img_10708471.jpg (deflated 4%)\n",
            "  adding: content/Final_images/img_10789092.jpg (deflated 4%)\n",
            "  adding: content/Final_images/img_10840921.jpg (deflated 4%)\n",
            "  adding: content/Final_images/img_10772675.jpg (deflated 3%)\n",
            "  adding: content/Final_images/img_10837095.jpg (deflated 7%)\n",
            "  adding: content/Final_images/img_10838389.jpg (deflated 7%)\n",
            "  adding: content/Final_images/img_10839718.jpg (deflated 3%)\n",
            "  adding: content/Final_images/img_10707804.jpg (deflated 3%)\n",
            "  adding: content/Final_images/img_10863990.jpg (deflated 2%)\n",
            "  adding: content/Final_images/img_10610959.jpg (deflated 5%)\n",
            "  adding: content/Final_images/img_10740282.jpg (deflated 1%)\n",
            "  adding: content/Final_images/img_10580155.jpg (deflated 6%)\n",
            "  adding: content/Final_images/img_10796620.jpg (deflated 4%)\n",
            "  adding: content/Final_images/img_10756197.jpg (deflated 3%)\n",
            "  adding: content/Final_images/img_10876857.jpg (deflated 6%)\n",
            "  adding: content/Final_images/img_10821217.jpg (deflated 5%)\n",
            "  adding: content/Final_images/img_10821564.jpg (deflated 3%)\n",
            "  adding: content/Final_images/img_10735168.jpg (deflated 4%)\n",
            "  adding: content/Final_images/img_10731202.jpg (deflated 4%)\n",
            "  adding: content/Final_images/img_10838960.jpg (deflated 6%)\n",
            "  adding: content/Final_images/img_10840935.jpg (deflated 2%)\n",
            "  adding: content/Final_images/img_10756180.jpg (deflated 4%)\n",
            "  adding: content/Final_images/img_10756201.jpg (deflated 7%)\n",
            "  adding: content/Final_images/img_10772663.jpg (deflated 4%)\n",
            "  adding: content/Final_images/img_10729595.jpg (deflated 6%)\n",
            "  adding: content/Final_images/img_10838986.jpg (deflated 6%)\n",
            "  adding: content/Final_images/img_10886334.jpg (deflated 7%)\n",
            "  adding: content/Final_images/img_10836689.jpg (deflated 3%)\n",
            "  adding: content/Final_images/img_10879782.jpg (deflated 5%)\n",
            "  adding: content/Final_images/img_10586297.jpg (deflated 9%)\n",
            "  adding: content/Final_images/img_10590818.jpg (deflated 4%)\n",
            "  adding: content/Final_images/img_10724943.jpg (deflated 6%)\n",
            "  adding: content/Final_images/img_10075150.jpg (deflated 3%)\n",
            "  adding: content/Final_images/img_10764389.jpg (deflated 4%)\n",
            "  adding: content/Final_images/img_10780969.jpg (deflated 5%)\n",
            "  adding: content/Final_images/img_10790140.jpg (deflated 4%)\n",
            "  adding: content/Final_images/img_10820575.jpg (deflated 4%)\n",
            "  adding: content/Final_images/img_10837124.jpg (deflated 7%)\n",
            "  adding: content/Final_images/img_10829921.jpg (deflated 2%)\n",
            "  adding: content/Final_images/img_10837478.jpg (deflated 8%)\n",
            "  adding: content/Final_images/img_10618422.jpg (deflated 6%)\n",
            "  adding: content/Final_images/img_10789084.jpg (deflated 3%)\n",
            "  adding: content/Final_images/img_10854757.jpg (deflated 5%)\n",
            "  adding: content/Final_images/img_10781534.jpg (deflated 5%)\n",
            "  adding: content/Final_images/img_10784514.jpg (deflated 2%)\n",
            "  adding: content/Final_images/img_10634384.jpg (deflated 7%)\n",
            "  adding: content/Final_images/img_10848543.jpg (deflated 4%)\n",
            "  adding: content/Final_images/img_10820902.jpg (deflated 4%)\n",
            "  adding: content/Final_images/img_10454599.jpg (deflated 4%)\n",
            "  adding: content/Final_images/img_10850897.jpg (deflated 3%)\n",
            "  adding: content/Final_images/img_10886349.jpg (deflated 7%)\n",
            "  adding: content/Final_images/img_10610295.jpg (deflated 2%)\n",
            "  adding: content/Final_images/img_10782508.jpg (deflated 6%)\n",
            "  adding: content/Final_images/img_10779387.jpg (deflated 5%)\n",
            "  adding: content/Final_images/img_10746764.jpg (deflated 3%)\n",
            "  adding: content/Final_images/img_10756202.jpg (deflated 4%)\n",
            "  adding: content/Final_images/img_10872775.jpg (deflated 6%)\n",
            "  adding: content/Final_images/img_10783040.jpg (deflated 3%)\n",
            "  adding: content/Final_images/img_10926474.jpg (deflated 4%)\n",
            "  adding: content/Final_images/img_10864296.jpg (deflated 2%)\n",
            "  adding: content/Final_images/img_10722994.jpg (deflated 6%)\n",
            "  adding: content/Final_images/img_10827230.jpg (deflated 5%)\n",
            "  adding: content/Final_images/img_10782766.jpg (deflated 5%)\n",
            "  adding: content/Final_images/img_10801283.jpg (deflated 4%)\n",
            "  adding: content/Final_images/img_10893365.jpg (deflated 5%)\n",
            "  adding: content/Final_images/img_10820553.jpg (deflated 4%)\n",
            "  adding: content/Final_images/img_10837099.jpg (deflated 7%)\n",
            "  adding: content/Final_images/img_10740308.jpg (deflated 4%)\n",
            "  adding: content/Final_images/img_10796625.jpg (deflated 2%)\n",
            "  adding: content/Final_images/img_10679767.jpg (deflated 3%)\n",
            "  adding: content/Final_images/img_10839667.jpg (deflated 5%)\n",
            "  adding: content/Final_images/img_10784628.jpg (deflated 3%)\n",
            "  adding: content/Final_images/img_10833086.jpg (deflated 4%)\n",
            "  adding: content/Final_images/img_10821252.jpg (deflated 2%)\n",
            "  adding: content/Final_images/img_10895438.jpg (deflated 4%)\n",
            "  adding: content/Final_images/img_10751734.jpg (deflated 2%)\n",
            "  adding: content/Final_images/img_9924979.jpg (deflated 2%)\n",
            "  adding: content/Final_images/img_10833091.jpg (deflated 4%)\n",
            "  adding: content/Final_images/img_10839248.jpg (deflated 5%)\n",
            "  adding: content/Final_images/img_10829864.jpg (deflated 3%)\n",
            "  adding: content/Final_images/img_10862928.jpg (deflated 4%)\n",
            "  adding: content/Final_images/img_10840905.jpg (deflated 7%)\n",
            "  adding: content/Final_images/img_10590110.jpg (deflated 4%)\n",
            "  adding: content/Final_images/img_10781321.jpg (deflated 5%)\n",
            "  adding: content/Final_images/img_10784642.jpg (deflated 4%)\n",
            "  adding: content/Final_images/img_10779711.jpg (deflated 4%)\n",
            "  adding: content/Final_images/img_10780989.jpg (deflated 5%)\n",
            "  adding: content/Final_images/img_10693130.jpg (deflated 4%)\n",
            "  adding: content/Final_images/img_10829933.jpg (deflated 2%)\n",
            "  adding: content/Final_images/img_10840910.jpg (deflated 3%)\n",
            "  adding: content/Final_images/img_10840922.jpg (deflated 2%)\n",
            "  adding: content/Final_images/img_10888551.jpg (deflated 5%)\n",
            "  adding: content/Final_images/img_10590115.jpg (deflated 3%)\n",
            "  adding: content/Final_images/img_10837113.jpg (deflated 5%)\n",
            "  adding: content/Final_images/img_10779696.jpg (deflated 5%)\n",
            "  adding: content/Final_images/img_10534122.jpg (deflated 2%)\n",
            "  adding: content/Final_images/img_10840927.jpg (deflated 3%)\n",
            "  adding: content/Final_images/img_10740296.jpg (deflated 5%)\n",
            "  adding: content/Final_images/img_10419453.jpg (deflated 3%)\n",
            "  adding: content/Final_images/img_10832042.jpg (deflated 6%)\n",
            "  adding: content/Final_images/img_10833083.jpg (deflated 4%)\n",
            "  adding: content/Final_images/img_10821251.jpg (deflated 4%)\n",
            "  adding: content/Final_images/img_10590801.jpg (deflated 6%)\n",
            "  adding: content/Final_images/img_10782750.jpg (deflated 3%)\n",
            "  adding: content/Final_images/img_10829834.jpg (deflated 6%)\n",
            "  adding: content/Final_images/img_10829836.jpg (deflated 5%)\n",
            "  adding: content/Final_images/img_10839985.jpg (deflated 5%)\n",
            "  adding: content/Final_images/img_10778218.jpg (deflated 3%)\n",
            "  adding: content/Final_images/img_10879148.jpg (deflated 7%)\n",
            "  adding: content/Final_images/img_10781949.jpg (deflated 5%)\n",
            "  adding: content/Final_images/img_10848551.jpg (deflated 4%)\n",
            "  adding: content/Final_images/img_10840912.jpg (deflated 2%)\n",
            "  adding: content/Final_images/img_10796041.jpg (deflated 5%)\n",
            "  adding: content/Final_images/img_10838984.jpg (deflated 6%)\n",
            "  adding: content/Final_images/img_10658491.jpg (deflated 4%)\n",
            "  adding: content/Final_images/img_10705587.jpg (deflated 5%)\n",
            "  adding: content/Final_images/img_10844744.jpg (deflated 4%)\n",
            "  adding: content/Final_images/img_10780980.jpg (deflated 3%)\n",
            "  adding: content/Final_images/img_10840658.jpg (deflated 4%)\n",
            "  adding: content/Final_images/img_10898276.jpg (deflated 2%)\n",
            "  adding: content/Final_images/img_10886284.jpg (deflated 6%)\n",
            "  adding: content/Final_images/img_10886969.jpg (deflated 13%)\n",
            "  adding: content/Final_images/img_10801285.jpg (deflated 2%)\n",
            "  adding: content/Final_images/img_10829838.jpg (deflated 4%)\n",
            "  adding: content/Final_images/img_10641357.jpg (deflated 3%)\n",
            "  adding: content/Final_images/img_10856840.jpg (deflated 3%)\n",
            "  adding: content/Final_images/img_10892546.jpg (deflated 4%)\n",
            "  adding: content/Final_images/img_10821243.jpg (deflated 5%)\n",
            "  adding: content/Final_images/img_10663354.jpg (deflated 3%)\n",
            "  adding: content/Final_images/img_10699928.jpg (deflated 5%)\n",
            "  adding: content/Final_images/img_10729456.jpg (deflated 4%)\n",
            "  adding: content/Final_images/img_10888552.jpg (deflated 4%)\n",
            "  adding: content/Final_images/img_10833085.jpg (deflated 4%)\n",
            "  adding: content/Final_images/img_10848242.jpg (deflated 3%)\n",
            "  adding: content/Final_images/img_10756200.jpg (deflated 4%)\n",
            "  adding: content/Final_images/img_10781531.jpg (deflated 2%)\n",
            "  adding: content/Final_images/img_10908481.jpg (deflated 3%)\n",
            "  adding: content/Final_images/img_10839491.jpg (deflated 5%)\n",
            "  adding: content/Final_images/img_10788039.jpg (deflated 2%)\n",
            "  adding: content/Final_images/img_10662897.jpg (deflated 4%)\n",
            "  adding: content/Final_images/img_10906592.jpg (deflated 9%)\n",
            "  adding: content/Final_images/img_10727587.jpg (deflated 3%)\n",
            "  adding: content/Final_images/img_10724422.jpg (deflated 3%)\n",
            "  adding: content/Final_images/img_10865520.jpg (deflated 2%)\n",
            "  adding: content/Final_images/img_10590823.jpg (deflated 4%)\n",
            "  adding: content/Final_images/img_10788927.jpg (deflated 3%)\n",
            "  adding: content/Final_images/img_10461543.jpg (deflated 4%)\n",
            "  adding: content/Final_images/img_10683959.jpg (deflated 2%)\n",
            "  adding: content/Final_images/img_10838962.jpg (deflated 3%)\n",
            "  adding: content/Final_images/img_10784645.jpg (deflated 6%)\n",
            "  adding: content/Final_images/img_10781500.jpg (deflated 8%)\n",
            "  adding: content/Final_images/img_10829940.jpg (deflated 3%)\n",
            "  adding: content/Final_images/img_10899763.jpg (deflated 5%)\n",
            "  adding: content/Final_images/img_10886629.jpg (deflated 6%)\n",
            "  adding: content/Final_images/img_10872765.jpg (deflated 4%)\n",
            "  adding: content/Final_images/img_10821235.jpg (deflated 2%)\n",
            "  adding: content/Final_images/img_10046756.jpg (deflated 4%)\n",
            "  adding: content/Final_images/img_10829827.jpg (deflated 4%)\n",
            "  adding: content/Final_images/img_10821214.jpg (deflated 2%)\n",
            "  adding: content/Final_images/img_10893033.jpg (deflated 4%)\n",
            "  adding: content/Final_images/img_10749351.jpg (deflated 2%)\n",
            "  adding: content/Final_images/img_10839516.jpg (deflated 4%)\n",
            "  adding: content/Final_images/img_10756186.jpg (deflated 5%)\n",
            "  adding: content/Final_images/img_10661092.jpg (deflated 4%)\n",
            "  adding: content/Final_images/img_10610285.jpg (deflated 3%)\n",
            "  adding: content/Final_images/img_10832026.jpg (deflated 6%)\n",
            "  adding: content/Final_images/img_10049003.jpg (deflated 4%)\n",
            "  adding: content/Final_images/img_10888185.jpg (deflated 9%)\n",
            "  adding: content/Final_images/img_10784785.jpg (deflated 2%)\n",
            "  adding: content/Final_images/img_10665190.jpg (deflated 3%)\n",
            "  adding: content/Final_images/img_10829683.jpg (deflated 6%)\n",
            "  adding: content/Final_images/img_10756140.jpg (deflated 5%)\n",
            "  adding: content/Final_images/img_10872757.jpg (deflated 3%)\n",
            "  adding: content/Final_images/img_10836342.jpg (deflated 5%)\n",
            "  adding: content/Final_images/img_10830197.jpg (deflated 5%)\n",
            "  adding: content/Final_images/img_10782757.jpg (deflated 3%)\n",
            "  adding: content/Final_images/img_10781920.jpg (deflated 4%)\n",
            "  adding: content/Final_images/img_10761254.jpg (deflated 2%)\n",
            "  adding: content/Final_images/img_10892798.jpg (deflated 2%)\n",
            "  adding: content/Final_images/img_10077196.jpg (deflated 3%)\n",
            "  adding: content/Final_images/img_10829850.jpg (deflated 6%)\n",
            "  adding: content/Final_images/img_10706147.jpg (deflated 5%)\n",
            "  adding: content/Final_images/img_10832021.jpg (deflated 5%)\n",
            "  adding: content/Final_images/img_10829931.jpg (deflated 7%)\n",
            "  adding: content/Final_images/img_10610956.jpg (deflated 5%)\n",
            "  adding: content/Final_images/img_10863993.jpg (deflated 8%)\n",
            "  adding: content/Final_images/img_10141761.jpg (deflated 7%)\n",
            "  adding: content/Final_images/img_10721605.jpg (deflated 7%)\n",
            "  adding: content/Final_images/img_10749336.jpg (deflated 3%)\n",
            "  adding: content/Final_images/img_10865279.jpg (deflated 2%)\n",
            "  adding: content/Final_images/img_10590810.jpg (deflated 4%)\n",
            "  adding: content/Final_images/img_10833093.jpg (deflated 5%)\n",
            "  adding: content/Final_images/img_10661098.jpg (deflated 4%)\n",
            "  adding: content/Final_images/img_10607414.jpg (deflated 2%)\n",
            "  adding: content/Final_images/img_10830192.jpg (deflated 2%)\n",
            "  adding: content/Final_images/img_10865581.jpg (deflated 2%)\n",
            "  adding: content/Final_images/img_10748094.jpg (deflated 5%)\n",
            "  adding: content/Final_images/img_10779673.jpg (deflated 6%)\n",
            "  adding: content/Final_images/img_10746798.jpg (deflated 6%)\n",
            "  adding: content/Final_images/img_10746239.jpg (deflated 3%)\n",
            "  adding: content/Final_images/img_10725208.jpg (deflated 5%)\n",
            "  adding: content/Final_images/img_10838968.jpg (deflated 4%)\n",
            "  adding: content/Final_images/img_10864298.jpg (deflated 2%)\n",
            "  adding: content/Final_images/img_10781489.jpg (deflated 5%)\n",
            "  adding: content/Final_images/img_10590803.jpg (deflated 4%)\n",
            "  adding: content/Final_images/img_10839518.jpg (deflated 3%)\n",
            "  adding: content/Final_images/img_10872754.jpg (deflated 3%)\n",
            "  adding: content/Final_images/img_10892805.jpg (deflated 4%)\n",
            "  adding: content/Final_images/img_10726862.jpg (deflated 6%)\n",
            "  adding: content/Final_images/img_10863817.jpg (deflated 5%)\n",
            "  adding: content/Final_images/img_10781524.jpg (deflated 5%)\n",
            "  adding: content/Final_images/img_10872774.jpg (deflated 2%)\n",
            "  adding: content/Final_images/img_10838972.jpg (deflated 4%)\n",
            "  adding: content/Final_images/img_10864306.jpg (deflated 3%)\n",
            "  adding: content/Final_images/img_10848237.jpg (deflated 2%)\n",
            "  adding: content/Final_images/img_10666260.jpg (deflated 4%)\n",
            "  adding: content/Final_images/img_10839978.jpg (deflated 6%)\n",
            "  adding: content/Final_images/img_10784626.jpg (deflated 2%)\n",
            "  adding: content/Final_images/img_10830968.jpg (deflated 5%)\n",
            "  adding: content/Final_images/img_10779676.jpg (deflated 8%)\n",
            "  adding: content/Final_images/img_10782993.jpg (deflated 4%)\n",
            "  adding: content/Final_images/img_10872110.jpg (deflated 2%)\n",
            "  adding: content/Final_images/img_10839361.jpg (deflated 5%)\n",
            "  adding: content/Final_images/img_10586496.jpg (deflated 4%)\n",
            "  adding: content/Final_images/img_10761258.jpg (deflated 2%)\n",
            "  adding: content/Final_images/img_10764410.jpg (deflated 3%)\n",
            "  adding: content/Final_images/img_10886949.jpg (deflated 5%)\n",
            "  adding: content/Final_images/img_10841028.jpg (deflated 6%)\n",
            "  adding: content/Final_images/img_10839369.jpg (deflated 5%)\n",
            "  adding: content/Final_images/img_10829840.jpg (deflated 5%)\n",
            "  adding: content/Final_images/img_10748241.jpg (deflated 3%)\n",
            "  adding: content/Final_images/img_10757497.jpg (deflated 2%)\n",
            "  adding: content/Final_images/img_10779692.jpg (deflated 5%)\n",
            "  adding: content/Final_images/img_10893034.jpg (deflated 4%)\n",
            "  adding: content/Final_images/img_10778228.jpg (deflated 4%)\n",
            "  adding: content/Final_images/img_10888547.jpg (deflated 5%)\n",
            "  adding: content/Final_images/img_10789085.jpg (deflated 3%)\n",
            "  adding: content/Final_images/img_10892542.jpg (deflated 4%)\n",
            "  adding: content/Final_images/img_10740291.jpg (deflated 3%)\n",
            "  adding: content/Final_images/img_10610948.jpg (deflated 5%)\n",
            "  adding: content/Final_images/img_10839365.jpg (deflated 5%)\n",
            "  adding: content/Final_images/img_10830196.jpg (deflated 7%)\n",
            "  adding: content/Final_images/img_10829862.jpg (deflated 1%)\n",
            "  adding: content/Final_images/img_10784625.jpg (deflated 3%)\n",
            "  adding: content/Final_images/img_10590858.jpg (deflated 4%)\n",
            "  adding: content/Final_images/img_10910174.jpg (deflated 4%)\n",
            "  adding: content/Final_images/img_10886958.jpg (deflated 3%)\n",
            "  adding: content/Final_images/img_10783029.jpg (deflated 4%)\n",
            "  adding: content/Final_images/img_10824050.jpg (deflated 1%)\n",
            "  adding: content/Final_images/img_10833073.jpg (deflated 4%)\n",
            "  adding: content/Final_images/img_10876822.jpg (deflated 4%)\n",
            "  adding: content/Final_images/img_10837619.jpg (deflated 7%)\n",
            "  adding: content/Final_images/img_10724413.jpg (deflated 3%)\n",
            "  adding: content/Final_images/img_10782487.jpg (deflated 4%)\n",
            "  adding: content/Final_images/img_10646121.jpg (deflated 5%)\n",
            "  adding: content/Final_images/img_10873983.jpg (deflated 4%)\n",
            "  adding: content/Final_images/img_10906596.jpg (deflated 6%)\n",
            "  adding: content/Final_images/img_10780966.jpg (deflated 4%)\n",
            "  adding: content/Final_images/img_10830189.jpg (deflated 2%)\n",
            "  adding: content/Final_images/img_10419457.jpg (deflated 3%)\n",
            "  adding: content/Final_images/img_10837660.jpg (deflated 5%)\n",
            "  adding: content/Final_images/img_10821573.jpg (deflated 2%)\n",
            "  adding: content/Final_images/img_10729939.jpg (deflated 2%)\n",
            "  adding: content/Final_images/img_10829830.jpg (deflated 4%)\n",
            "  adding: content/Final_images/img_10680283.jpg (deflated 3%)\n",
            "  adding: content/Final_images/img_10894151.jpg (deflated 3%)\n",
            "  adding: content/Final_images/img_10674748.jpg (deflated 3%)\n",
            "  adding: content/Final_images/img_10845582.jpg (deflated 5%)\n",
            "  adding: content/Final_images/img_10754642.jpg (deflated 5%)\n",
            "  adding: content/Final_images/img_10905311.jpg (deflated 5%)\n",
            "  adding: content/Final_images/img_10781491.jpg (deflated 2%)\n",
            "  adding: content/Final_images/img_10836028.jpg (deflated 4%)\n",
            "  adding: content/Final_images/img_10829849.jpg (deflated 5%)\n",
            "  adding: content/Final_images/img_10846115.jpg (deflated 6%)\n",
            "  adding: content/Final_images/img_10840903.jpg (deflated 6%)\n",
            "  adding: content/Final_images/img_10780979.jpg (deflated 3%)\n",
            "  adding: content/Final_images/img_10834666.jpg (deflated 5%)\n",
            "  adding: content/Final_images/img_10610275.jpg (deflated 4%)\n",
            "  adding: content/Final_images/img_10829845.jpg (deflated 5%)\n",
            "  adding: content/Final_images/img_10837662.jpg (deflated 5%)\n",
            "  adding: content/Final_images/img_10869815.jpg (deflated 7%)\n",
            "  adding: content/Final_images/img_10869445.jpg (deflated 8%)\n",
            "  adding: content/Final_images/img_10820563.jpg (deflated 4%)\n",
            "  adding: content/Final_images/img_10724414.jpg (deflated 3%)\n",
            "  adding: content/Final_images/img_10783001.jpg (deflated 3%)\n",
            "  adding: content/Final_images/img_10781520.jpg (deflated 3%)\n",
            "  adding: content/Final_images/img_10761267.jpg (deflated 4%)\n",
            "  adding: content/Final_images/img_10586494.jpg (deflated 3%)\n",
            "  adding: content/Final_images/img_10886945.jpg (deflated 2%)\n",
            "  adding: content/Final_images/img_10702317.jpg (deflated 5%)\n",
            "  adding: content/Final_images/img_10698541.jpg (deflated 4%)\n",
            "  adding: content/Final_images/img_10892649.jpg (deflated 4%)\n",
            "  adding: content/Final_images/img_10781516.jpg (deflated 4%)\n",
            "  adding: content/Final_images/img_10683947.jpg (deflated 1%)\n",
            "  adding: content/Final_images/img_10865593.jpg (deflated 3%)\n",
            "  adding: content/Final_images/img_10833069.jpg (deflated 4%)\n",
            "  adding: content/Final_images/img_10610945.jpg (deflated 5%)\n",
            "  adding: content/Final_images/img_10661089.jpg (deflated 3%)\n",
            "  adding: content/Final_images/img_10839963.jpg (deflated 3%)\n",
            "  adding: content/Final_images/img_10886941.jpg (deflated 3%)\n",
            "  adding: content/Final_images/img_10780983.jpg (deflated 5%)\n",
            "  adding: content/Final_images/img_10722992.jpg (deflated 6%)\n",
            "  adding: content/Final_images/img_10756192.jpg (deflated 2%)\n",
            "  adding: content/Final_images/img_10763126.jpg (deflated 1%)\n",
            "  adding: content/Final_images/img_10886939.jpg (deflated 3%)\n",
            "  adding: content/Final_images/img_10751147.jpg (deflated 6%)\n",
            "  adding: content/Final_images/img_10839716.jpg (deflated 4%)\n",
            "  adding: content/Final_images/img_10830194.jpg (deflated 3%)\n",
            "  adding: content/Final_images/img_10725204.jpg (deflated 6%)\n",
            "  adding: content/Final_images/img_10837115.jpg (deflated 7%)\n",
            "  adding: content/Final_images/img_10827229.jpg (deflated 5%)\n",
            "  adding: content/Final_images/img_10613056.jpg (deflated 3%)\n",
            "  adding: content/Final_images/img_10419452.jpg (deflated 3%)\n",
            "  adding: content/Final_images/img_10755214.jpg (deflated 3%)\n",
            "  adding: content/Final_images/img_10820585.jpg (deflated 2%)\n",
            "  adding: content/Final_images/img_10419455.jpg (deflated 4%)\n",
            "  adding: content/Final_images/img_10748741.jpg (deflated 1%)\n",
            "  adding: content/Final_images/img_10903271.jpg (deflated 3%)\n",
            "  adding: content/Final_images/img_10923345.jpg (deflated 7%)\n",
            "  adding: content/Final_images/img_10839983.jpg (deflated 5%)\n",
            "  adding: content/Final_images/img_10820551.jpg (deflated 4%)\n",
            "  adding: content/Final_images/img_10839489.jpg (deflated 6%)\n",
            "  adding: content/Final_images/img_10872741.jpg (deflated 6%)\n",
            "  adding: content/Final_images/img_10864295.jpg (deflated 8%)\n",
            "  adding: content/Final_images/img_10821255.jpg (deflated 7%)\n",
            "  adding: content/Final_images/img_10845059.jpg (deflated 8%)\n",
            "  adding: content/Final_images/img_10837123.jpg (deflated 6%)\n",
            "  adding: content/Final_images/img_10910612.jpg (deflated 5%)\n",
            "  adding: content/Final_images/img_10585638.jpg (deflated 5%)\n",
            "  adding: content/Final_images/img_10872771.jpg (deflated 5%)\n",
            "  adding: content/Final_images/img_10845536.jpg (deflated 3%)\n",
            "  adding: content/Final_images/img_10680299.jpg (deflated 5%)\n",
            "  adding: content/Final_images/img_10702309.jpg (deflated 3%)\n",
            "  adding: content/Final_images/img_10683967.jpg (deflated 4%)\n",
            "  adding: content/Final_images/img_10888550.jpg (deflated 5%)\n",
            "  adding: content/Final_images/img_10892667.jpg (deflated 3%)\n",
            "  adding: content/Final_images/img_10583046.jpg (deflated 5%)\n",
            "  adding: content/Final_images/img_10910219.jpg (deflated 4%)\n",
            "  adding: content/Final_images/img_10836343.jpg (deflated 3%)\n",
            "  adding: content/Final_images/img_10705586.jpg (deflated 4%)\n",
            "  adding: content/Final_images/img_10590728.jpg (deflated 4%)\n",
            "  adding: content/Final_images/img_10821232.jpg (deflated 4%)\n",
            "  adding: content/Final_images/img_10837648.jpg (deflated 6%)\n",
            "  adding: content/Final_images/img_10786584.jpg (deflated 4%)\n",
            "  adding: content/Final_images/img_10845562.jpg (deflated 3%)\n",
            "  adding: content/Final_images/img_10574696.jpg (deflated 4%)\n",
            "  adding: content/Final_images/img_10833090.jpg (deflated 4%)\n",
            "  adding: content/Final_images/img_10886646.jpg (deflated 7%)\n",
            "  adding: content/Final_images/img_10829851.jpg (deflated 6%)\n",
            "  adding: content/Final_images/img_10839483.jpg (deflated 5%)\n",
            "  adding: content/Final_images/img_10886943.jpg (deflated 5%)\n",
            "  adding: content/Final_images/img_10846108.jpg (deflated 2%)\n",
            "  adding: content/Final_images/img_10590112.jpg (deflated 2%)\n",
            "  adding: content/Final_images/img_10839346.jpg (deflated 1%)\n",
            "  adding: content/Final_images/img_10892648.jpg (deflated 3%)\n",
            "  adding: content/Final_images/img_10838967.jpg (deflated 6%)\n",
            "  adding: content/Final_images/img_10845873.jpg (deflated 6%)\n",
            "  adding: content/Final_images/img_10729948.jpg (deflated 4%)\n",
            "  adding: content/Final_images/img_10706146.jpg (deflated 5%)\n",
            "  adding: content/Final_images/img_10781323.jpg (deflated 5%)\n",
            "  adding: content/Final_images/img_10707762.jpg (deflated 5%)\n",
            "  adding: content/Final_images/img_10838970.jpg (deflated 3%)\n",
            "  adding: content/Final_images/img_10683966.jpg (deflated 2%)\n",
            "  adding: content/Final_images/img_10888541.jpg (deflated 5%)\n",
            "  adding: content/Final_images/img_10840933.jpg (deflated 2%)\n",
            "  adding: content/Final_images/img_10833084.jpg (deflated 3%)\n",
            "  adding: content/Final_images/img_10829022.jpg (deflated 4%)\n",
            "  adding: content/Final_images/img_10872729.jpg (deflated 4%)\n",
            "  adding: content/Final_images/img_10781296.jpg (deflated 4%)\n",
            "  adding: content/Final_images/img_10749346.jpg (deflated 3%)\n",
            "  adding: content/Final_images/img_10783227.jpg (deflated 2%)\n",
            "  adding: content/Final_images/img_10782998.jpg (deflated 2%)\n",
            "  adding: content/Final_images/img_10838392.jpg (deflated 3%)\n",
            "  adding: content/Final_images/img_10680291.jpg (deflated 3%)\n",
            "  adding: content/Final_images/img_10789082.jpg (deflated 3%)\n",
            "  adding: content/Final_images/img_10777412.jpg (deflated 3%)\n",
            "  adding: content/Final_images/img_10876841.jpg (deflated 6%)\n",
            "  adding: content/Final_images/img_10864301.jpg (deflated 4%)\n",
            "  adding: content/Final_images/img_10821229.jpg (deflated 2%)\n",
            "  adding: content/Final_images/img_10839668.jpg (deflated 5%)\n",
            "  adding: content/Final_images/img_10833063.jpg (deflated 3%)\n",
            "  adding: content/Final_images/img_10829939.jpg (deflated 2%)\n",
            "  adding: content/Final_images/img_10877245.jpg (deflated 4%)\n",
            "  adding: content/Final_images/img_10865524.jpg (deflated 2%)\n",
            "  adding: content/Final_images/img_10610267.jpg (deflated 4%)\n",
            "  adding: content/Final_images/img_10709922.jpg (deflated 2%)\n",
            "  adding: content/Final_images/img_10821253.jpg (deflated 4%)\n",
            "  adding: content/Final_images/img_10509759.jpg (deflated 4%)\n",
            "  adding: content/Final_images/img_10588566.jpg (deflated 3%)\n",
            "  adding: content/Final_images/img_10075498.jpg (deflated 8%)\n",
            "  adding: content/Final_images/img_10820560.jpg (deflated 4%)\n",
            "  adding: content/Final_images/img_10586495.jpg (deflated 4%)\n",
            "  adding: content/Final_images/img_10781304.jpg (deflated 6%)\n",
            "  adding: content/Final_images/img_10783003.jpg (deflated 7%)\n",
            "  adding: content/Final_images/img_10840931.jpg (deflated 2%)\n",
            "  adding: content/Final_images/img_10748523.jpg (deflated 4%)\n",
            "  adding: content/Final_images/img_10707801.jpg (deflated 3%)\n",
            "  adding: content/Final_images/img_10864305.jpg (deflated 2%)\n",
            "  adding: content/Final_images/img_10790156.jpg (deflated 3%)\n",
            "  adding: content/Final_images/img_10588295.jpg (deflated 3%)\n",
            "  adding: content/Final_images/img_10781497.jpg (deflated 4%)\n",
            "  adding: content/Final_images/img_10751149.jpg (deflated 6%)\n",
            "  adding: content/Final_images/img_10755226.jpg (deflated 3%)\n",
            "  adding: content/Final_images/img_10864286.jpg (deflated 2%)\n",
            "  adding: content/Final_images/img_10838982.jpg (deflated 5%)\n",
            "  adding: content/Final_images/img_10735172.jpg (deflated 3%)\n",
            "  adding: content/Final_images/img_10782769.jpg (deflated 4%)\n",
            "  adding: content/Final_images/img_10830193.jpg (deflated 3%)\n",
            "  adding: content/Final_images/img_10783232.jpg (deflated 5%)\n",
            "  adding: content/Final_images/img_10839349.jpg (deflated 2%)\n",
            "  adding: content/Final_images/img_10908485.jpg (deflated 3%)\n",
            "  adding: content/Final_images/img_10641354.jpg (deflated 2%)\n",
            "  adding: content/Final_images/img_10864009.jpg (deflated 4%)\n",
            "  adding: content/Final_images/img_10746806.jpg (deflated 4%)\n",
            "  adding: content/Final_images/img_10829006.jpg (deflated 6%)\n",
            "  adding: content/Final_images/img_10790166.jpg (deflated 6%)\n",
            "  adding: content/Final_images/img_10796622.jpg (deflated 3%)\n",
            "  adding: content/Final_images/img_10705245.jpg (deflated 3%)\n",
            "  adding: content/Final_images/img_10517419.jpg (deflated 5%)\n",
            "  adding: content/Final_images/img_10872120.jpg (deflated 2%)\n",
            "  adding: content/Final_images/img_10683958.jpg (deflated 2%)\n",
            "  adding: content/Final_images/img_10598890.jpg (deflated 5%)\n",
            "  adding: content/Final_images/img_10326864.jpg (deflated 3%)\n",
            "  adding: content/Final_images/img_10590092.jpg (deflated 4%)\n",
            "  adding: content/Final_images/img_10781511.jpg (deflated 5%)\n",
            "  adding: content/Final_images/img_10820911.jpg (deflated 2%)\n",
            "  adding: content/Final_images/img_10895441.jpg (deflated 2%)\n",
            "  adding: content/Final_images/img_10783228.jpg (deflated 3%)\n",
            "  adding: content/Final_images/img_10708492.jpg (deflated 4%)\n",
            "  adding: content/Final_images/img_10827223.jpg (deflated 4%)\n",
            "  adding: content/Final_images/img_10780976.jpg (deflated 5%)\n",
            "  adding: content/Final_images/img_10721355.jpg (deflated 6%)\n",
            "  adding: content/Final_images/img_10699927.jpg (deflated 6%)\n",
            "  adding: content/Final_images/img_10872758.jpg (deflated 4%)\n",
            "  adding: content/Final_images/img_10748739.jpg (deflated 1%)\n",
            "  adding: content/Final_images/img_10829682.jpg (deflated 3%)\n",
            "  adding: content/Final_images/img_10204142.jpg (deflated 7%)\n",
            "  adding: content/Final_images/img_10829856.jpg (deflated 5%)\n",
            "  adding: content/Final_images/img_10838981.jpg (deflated 8%)\n",
            "  adding: content/Final_images/img_10782997.jpg (deflated 2%)\n",
            "  adding: content/Final_images/img_10780981.jpg (deflated 4%)\n",
            "  adding: content/Final_images/img_10872142.jpg (deflated 3%)\n",
            "  adding: content/Final_images/img_10845584.jpg (deflated 3%)\n",
            "  adding: content/Final_images/img_10614313.jpg (deflated 1%)\n",
            "  adding: content/Final_images/img_10748086.jpg (deflated 3%)\n",
            "  adding: content/Final_images/img_10839949.jpg (deflated 3%)\n",
            "  adding: content/Final_images/img_10756178.jpg (deflated 4%)\n",
            "  adding: content/Final_images/img_10779965.jpg (deflated 5%)\n",
            "  adding: content/Final_images/img_10419456.jpg (deflated 4%)\n",
            "  adding: content/Final_images/img_10772260.jpg (deflated 3%)\n",
            "  adding: content/Final_images/img_10662573.jpg (deflated 4%)\n",
            "  adding: content/Final_images/img_10864293.jpg (deflated 6%)\n",
            "  adding: content/Final_images/img_10840909.jpg (deflated 3%)\n",
            "  adding: content/Final_images/img_10613309.jpg (deflated 2%)\n",
            "  adding: content/Final_images/img_10511391.jpg (deflated 4%)\n",
            "  adding: content/Final_images/img_10839358.jpg (deflated 3%)\n",
            "  adding: content/Final_images/img_10830198.jpg (deflated 7%)\n",
            "  adding: content/Final_images/img_10848239.jpg (deflated 2%)\n",
            "  adding: content/Final_images/img_10820556.jpg (deflated 5%)\n",
            "  adding: content/Final_images/img_10782491.jpg (deflated 5%)\n",
            "  adding: content/Final_images/img_10840918.jpg (deflated 2%)\n",
            "  adding: content/Final_images/img_10782473.jpg (deflated 4%)\n",
            "  adding: content/Final_images/img_10829839.jpg (deflated 5%)\n",
            "  adding: content/Final_images/img_10750773.jpg (deflated 6%)\n",
            "  adding: content/Final_images/img_10778233.jpg (deflated 3%)\n",
            "  adding: content/Final_images/img_10829843.jpg (deflated 5%)\n",
            "  adding: content/Final_images/img_10845568.jpg (deflated 3%)\n",
            "  adding: content/Final_images/img_10892553.jpg (deflated 6%)\n",
            "  adding: content/Final_images/img_10757508.jpg (deflated 2%)\n",
            "  adding: content/Final_images/img_10866842.jpg (deflated 3%)\n",
            "  adding: content/Final_images/img_10613054.jpg (deflated 5%)\n",
            "  adding: content/Final_images/img_10740313.jpg (deflated 3%)\n",
            "  adding: content/Final_images/img_10740294.jpg (deflated 4%)\n",
            "  adding: content/Final_images/img_10722961.jpg (deflated 7%)\n",
            "  adding: content/Final_images/img_10610954.jpg (deflated 6%)\n",
            "  adding: content/Final_images/img_10789094.jpg (deflated 3%)\n",
            "  adding: content/Final_images/img_10872761.jpg (deflated 4%)\n",
            "  adding: content/Final_images/img_10838993.jpg (deflated 5%)\n",
            "  adding: content/Final_images/img_10751139.jpg (deflated 2%)\n",
            "  adding: content/Final_images/img_10783038.jpg (deflated 3%)\n",
            "  adding: content/Final_images/img_10610961.jpg (deflated 5%)\n",
            "  adding: content/Final_images/img_10865511.jpg (deflated 2%)\n",
            "  adding: content/Final_images/img_10764417.jpg (deflated 3%)\n",
            "  adding: content/Final_images/img_10482166.jpg (deflated 3%)\n",
            "  adding: content/Final_images/img_10837449.jpg (deflated 5%)\n",
            "  adding: content/Final_images/img_10921323.jpg (deflated 4%)\n",
            "  adding: content/Final_images/img_10722953.jpg (deflated 4%)\n",
            "  adding: content/Final_images/img_10886633.jpg (deflated 8%)\n",
            "  adding: content/Final_images/img_10837121.jpg (deflated 5%)\n",
            "  adding: content/Final_images/img_10722978.jpg (deflated 6%)\n",
            "  adding: content/Final_images/img_10748755.jpg (deflated 3%)\n",
            "  adding: content/Final_images/img_10864292.jpg (deflated 10%)\n",
            "  adding: content/Final_images/img_10729441.jpg (deflated 3%)\n",
            "  adding: content/Final_images/img_10590807.jpg (deflated 3%)\n",
            "  adding: content/Final_images/img_10590812.jpg (deflated 5%)\n",
            "  adding: content/Final_images/img_10782488.jpg (deflated 3%)\n",
            "  adding: content/Final_images/img_10709803.jpg (deflated 5%)\n",
            "  adding: content/Final_images/img_10749329.jpg (deflated 3%)\n",
            "  adding: content/Final_images/img_10766906.jpg (deflated 4%)\n",
            "  adding: content/Final_images/img_10751146.jpg (deflated 4%)\n",
            "  adding: content/Final_images/img_10906574.jpg (deflated 6%)\n",
            "  adding: content/Final_images/img_10821240.jpg (deflated 7%)\n",
            "  adding: content/Final_images/img_10683952.jpg (deflated 4%)\n",
            "  adding: content/Final_images/img_10833098.jpg (deflated 5%)\n",
            "  adding: content/Final_images/img_10751142.jpg (deflated 5%)\n",
            "  adding: content/Final_images/img_10580579.jpg (deflated 2%)\n",
            "  adding: content/Final_images/img_10906598.jpg (deflated 9%)\n",
            "  adding: content/Final_images/img_10590806.jpg (deflated 4%)\n",
            "  adding: content/Final_images/img_10755564.jpg (deflated 3%)\n",
            "  adding: content/Final_images/img_10475854.jpg (deflated 5%)\n",
            "  adding: content/Final_images/img_10839274.jpg (deflated 3%)\n",
            "  adding: content/Final_images/img_10326865.jpg (deflated 3%)\n",
            "  adding: content/Final_images/img_10749920.jpg (deflated 3%)\n",
            "  adding: content/Final_images/img_10886946.jpg (deflated 2%)\n",
            "  adding: content/Final_images/img_10698539.jpg (deflated 3%)\n",
            "  adding: content/Final_images/img_10836339.jpg (deflated 6%)\n",
            "  adding: content/Final_images/img_10839713.jpg (deflated 3%)\n",
            "  adding: content/Final_images/img_10524414.jpg (deflated 3%)\n",
            "  adding: content/Final_images/img_10783234.jpg (deflated 2%)\n",
            "  adding: content/Final_images/img_10906590.jpg (deflated 4%)\n",
            "  adding: content/Final_images/img_10832020.jpg (deflated 7%)\n",
            "  adding: content/Final_images/img_10838959.jpg (deflated 4%)\n",
            "  adding: content/Final_images/img_10820561.jpg (deflated 5%)\n",
            "  adding: content/Final_images/img_10784643.jpg (deflated 3%)\n",
            "  adding: content/Final_images/img_10845560.jpg (deflated 3%)\n",
            "  adding: content/Final_images/img_10838975.jpg (deflated 7%)\n",
            "  adding: content/Final_images/img_10821587.jpg (deflated 2%)\n",
            "  adding: content/Final_images/img_10821231.jpg (deflated 4%)\n",
            "  adding: content/Final_images/img_10756184.jpg (deflated 5%)\n",
            "  adding: content/Final_images/img_10783019.jpg (deflated 5%)\n",
            "  adding: content/Final_images/img_10832047.jpg (deflated 6%)\n",
            "  adding: content/Final_images/img_10829855.jpg (deflated 8%)\n",
            "  adding: content/Final_images/img_10892665.jpg (deflated 2%)\n",
            "  adding: content/Final_images/img_10833061.jpg (deflated 4%)\n",
            "  adding: content/Final_images/img_10830199.jpg (deflated 5%)\n",
            "  adding: content/Final_images/img_10837111.jpg (deflated 7%)\n",
            "  adding: content/Final_images/img_10683949.jpg (deflated 1%)\n",
            "  adding: content/Final_images/img_10782747.jpg (deflated 3%)\n",
            "  adding: content/Final_images/img_10833087.jpg (deflated 5%)\n",
            "  adding: content/Final_images/img_10888544.jpg (deflated 4%)\n",
            "  adding: content/Final_images/img_10590111.jpg (deflated 3%)\n",
            "  adding: content/Final_images/img_10872131.jpg (deflated 2%)\n",
            "  adding: content/Final_images/img_10839366.jpg (deflated 5%)\n",
            "  adding: content/Final_images/img_10838965.jpg (deflated 3%)\n",
            "  adding: content/Final_images/img_10699925.jpg (deflated 3%)\n",
            "  adding: content/Final_images/img_10892532.jpg (deflated 3%)\n",
            "  adding: content/Final_images/img_10753585.jpg (deflated 4%)\n",
            "  adding: content/Final_images/img_10662938.jpg (deflated 3%)\n",
            "  adding: content/Final_images/img_10840932.jpg (deflated 2%)\n",
            "  adding: content/Final_images/img_10886955.jpg (deflated 4%)\n",
            "  adding: content/Final_images/img_10888543.jpg (deflated 5%)\n",
            "  adding: content/Final_images/img_10829003.jpg (deflated 4%)\n",
            "  adding: content/Final_images/img_10886960.jpg (deflated 3%)\n",
            "  adding: content/Final_images/img_10680302.jpg (deflated 4%)\n",
            "  adding: content/Final_images/img_10872119.jpg (deflated 3%)\n",
            "  adding: content/Final_images/img_10705575.jpg (deflated 6%)\n",
            "  adding: content/Final_images/img_10864302.jpg (deflated 5%)\n",
            "  adding: content/Final_images/img_10802448.jpg (deflated 2%)\n",
            "  adding: content/Final_images/img_10829847.jpg (deflated 1%)\n",
            "  adding: content/Final_images/img_10408864.jpg (deflated 3%)\n",
            "  adding: content/Final_images/img_10705584.jpg (deflated 4%)\n",
            "  adding: content/Final_images/img_10751137.jpg (deflated 5%)\n",
            "  adding: content/Final_images/img_10886957.jpg (deflated 4%)\n",
            "  adding: content/Final_images/img_10829842.jpg (deflated 4%)\n",
            "  adding: content/Final_images/img_10707766.jpg (deflated 3%)\n",
            "  adding: content/Final_images/img_10781490.jpg (deflated 5%)\n",
            "  adding: content/Final_images/img_10781504.jpg (deflated 4%)\n",
            "  adding: content/Final_images/img_10341242.jpg (deflated 3%)\n",
            "  adding: content/Final_images/img_10749321.jpg (deflated 3%)\n",
            "  adding: content/Final_images/img_10898280.jpg (deflated 3%)\n",
            "  adding: content/Final_images/img_10772257.jpg (deflated 3%)\n",
            "  adding: content/Final_images/img_10781930.jpg (deflated 3%)\n",
            "  adding: content/Final_images/img_10781527.jpg (deflated 3%)\n",
            "  adding: content/Final_images/img_10781308.jpg (deflated 5%)\n",
            "  adding: content/Final_images/img_10747048.jpg (deflated 4%)\n",
            "  adding: content/Final_images/img_10320904.jpg (deflated 3%)\n",
            "  adding: content/Final_images/img_10802441.jpg (deflated 3%)\n",
            "  adding: content/Final_images/img_10836341.jpg (deflated 3%)\n",
            "  adding: content/Final_images/img_10746259.jpg (deflated 3%)\n",
            "  adding: content/Final_images/img_10757845.jpg (deflated 3%)\n",
            "  adding: content/Final_images/img_10748513.jpg (deflated 7%)\n",
            "  adding: content/Final_images/img_10857374.jpg (deflated 2%)\n",
            "  adding: content/Final_images/img_10839982.jpg (deflated 5%)\n",
            "  adding: content/Final_images/img_10726865.jpg (deflated 3%)\n",
            "  adding: content/Final_images/img_10840915.jpg (deflated 2%)\n",
            "  adding: content/Final_images/img_10864299.jpg (deflated 2%)\n",
            "  adding: content/Final_images/img_10839241.jpg (deflated 2%)\n",
            "  adding: content/Final_images/img_10784652.jpg (deflated 4%)\n",
            "  adding: content/Final_images/img_10610279.jpg (deflated 3%)\n",
            "  adding: content/Final_images/img_10893271.jpg (deflated 4%)\n",
            "  adding: content/Final_images/img_10724946.jpg (deflated 1%)\n",
            "  adding: content/Final_images/img_10683978.jpg (deflated 3%)\n",
            "  adding: content/Final_images/img_10838977.jpg (deflated 8%)\n",
            "  adding: content/Final_images/img_10821757.jpg (deflated 4%)\n",
            "  adding: content/Final_images/img_10900995.jpg (deflated 3%)\n",
            "  adding: content/Final_images/img_10845556.jpg (deflated 3%)\n",
            "  adding: content/Final_images/img_10840914.jpg (deflated 2%)\n",
            "  adding: content/Final_images/img_10721385.jpg (deflated 4%)\n",
            "  adding: content/Final_images/img_10756183.jpg (deflated 4%)\n",
            "  adding: content/Final_images/img_10839261.jpg (deflated 4%)\n",
            "  adding: content/Final_images/img_10748254.jpg (deflated 2%)\n",
            "  adding: content/Final_images/img_10864287.jpg (deflated 3%)\n",
            "  adding: content/Final_images/img_10804952.jpg (deflated 3%)\n",
            "  adding: content/Final_images/img_10829859.jpg (deflated 4%)\n",
            "  adding: content/Final_images/img_10781948.jpg (deflated 4%)\n",
            "  adding: content/Final_images/img_10829831.jpg (deflated 7%)\n",
            "  adding: content/Final_images/img_10751731.jpg (deflated 4%)\n",
            "  adding: content/Final_images/img_10764413.jpg (deflated 7%)\n",
            "  adding: content/Final_images/img_10820584.jpg (deflated 2%)\n",
            "  adding: content/Final_images/img_10173835.jpg (deflated 3%)\n",
            "  adding: content/Final_images/img_10683970.jpg (deflated 2%)\n",
            "  adding: content/Final_images/img_10731197.jpg (deflated 4%)\n",
            "  adding: content/Final_images/img_10779386.jpg (deflated 3%)\n",
            "  adding: content/Final_images/img_10829852.jpg (deflated 6%)\n",
            "  adding: content/Final_images/img_10755189.jpg (deflated 4%)\n",
            "  adding: content/Final_images/img_10833088.jpg (deflated 4%)\n",
            "  adding: content/Final_images/img_10460947.jpg (deflated 7%)\n",
            "  adding: content/Final_images/img_10833064.jpg (deflated 5%)\n",
            "  adding: content/Final_images/img_10482161.jpg (deflated 4%)\n",
            "  adding: content/Final_images/img_10778230.jpg (deflated 4%)\n",
            "  adding: content/Final_images/img_10075500.jpg (deflated 6%)\n",
            "  adding: content/Final_images/img_10836030.jpg (deflated 3%)\n",
            "  adding: content/Final_images/img_10729943.jpg (deflated 4%)\n",
            "  adding: content/Final_images/img_10856852.jpg (deflated 3%)\n",
            "  adding: content/Final_images/img_10781488.jpg (deflated 5%)\n",
            "  adding: content/Final_images/img_10782765.jpg (deflated 3%)\n",
            "  adding: content/Final_images/img_10839352.jpg (deflated 3%)\n",
            "  adding: content/Final_images/img_10764416.jpg (deflated 5%)\n",
            "  adding: content/Final_images/img_10829932.jpg (deflated 6%)\n",
            "  adding: content/Final_images/img_10845571.jpg (deflated 3%)\n",
            "  adding: content/Final_images/img_10615746.jpg (deflated 3%)\n",
            "  adding: content/Final_images/img_10837103.jpg (deflated 6%)\n",
            "  adding: content/Final_images/img_10660307.jpg (deflated 5%)\n",
            "  adding: content/Final_images/img_10780973.jpg (deflated 5%)\n",
            "  adding: content/Final_images/img_10650697.jpg (deflated 3%)\n",
            "  adding: content/Final_images/img_10780975.jpg (deflated 5%)\n",
            "  adding: content/Final_images/img_10586492.jpg (deflated 3%)\n",
            "  adding: content/Final_images/img_10662595.jpg (deflated 3%)\n",
            "  adding: content/Final_images/img_10705581.jpg (deflated 4%)\n",
            "  adding: content/Final_images/img_10829837.jpg (deflated 5%)\n",
            "  adding: content/Final_images/img_10829013.jpg (deflated 3%)\n",
            "  adding: content/Final_images/img_10583064.jpg (deflated 5%)\n",
            "  adding: content/Final_images/img_10864315.jpg (deflated 6%)\n",
            "  adding: content/Final_images/img_10586720.jpg (deflated 3%)\n",
            "  adding: content/Final_images/img_10871249.jpg (deflated 3%)\n",
            "  adding: content/Final_images/img_10607415.jpg (deflated 4%)\n",
            "  adding: content/Final_images/img_10683974.jpg (deflated 2%)\n",
            "  adding: content/Final_images/img_10899771.jpg (deflated 4%)\n",
            "  adding: content/Final_images/img_10583056.jpg (deflated 7%)\n",
            "  adding: content/Final_images/img_10845537.jpg (deflated 5%)\n",
            "  adding: content/Final_images/img_10590745.jpg (deflated 6%)\n",
            "  adding: content/Final_images/img_10764415.jpg (deflated 3%)\n",
            "  adding: content/Final_images/img_10778236.jpg (deflated 3%)\n",
            "  adding: content/Final_images/img_10837645.jpg (deflated 6%)\n",
            "  adding: content/Final_images/img_10782742.jpg (deflated 7%)\n",
            "  adding: content/Final_images/img_10905314.jpg (deflated 5%)\n",
            "  adding: content/Final_images/img_10829941.jpg (deflated 1%)\n",
            "  adding: content/Final_images/img_10754650.jpg (deflated 4%)\n",
            "  adding: content/Final_images/img_10892803.jpg (deflated 5%)\n",
            "  adding: content/Final_images/img_10781507.jpg (deflated 4%)\n",
            "  adding: content/Final_images/img_10836033.jpg (deflated 5%)\n",
            "  adding: content/Final_images/img_10780967.jpg (deflated 5%)\n",
            "  adding: content/Final_images/img_10903275.jpg (deflated 3%)\n",
            "  adding: content/Final_images/img_10731072.jpg (deflated 2%)\n",
            "  adding: content/Final_images/img_10598888.jpg (deflated 5%)\n",
            "  adding: content/Final_images/img_10829848.jpg (deflated 6%)\n",
            "  adding: content/Final_images/img_10892539.jpg (deflated 4%)\n",
            "  adding: content/Final_images/img_10747902.jpg (deflated 4%)\n",
            "  adding: content/Final_images/img_10522081.jpg (deflated 4%)\n",
            "  adding: content/Final_images/img_10590743.jpg (deflated 7%)\n",
            "  adding: content/Final_images/img_10789081.jpg (deflated 3%)\n",
            "  adding: content/Final_images/img_10665192.jpg (deflated 3%)\n",
            "  adding: content/Final_images/img_10778760.jpg (deflated 3%)\n",
            "  adding: content/Final_images/img_10756181.jpg (deflated 3%)\n",
            "  adding: content/Final_images/img_10772048.jpg (deflated 5%)\n",
            "  adding: content/Final_images/img_10756808.jpg (deflated 1%)\n",
            "  adding: content/Final_images/img_10838963.jpg (deflated 3%)\n",
            "  adding: content/Final_images/img_10856924.jpg (deflated 2%)\n",
            "  adding: content/Final_images/img_10836690.jpg (deflated 3%)\n",
            "  adding: content/Final_images/img_10782746.jpg (deflated 3%)\n",
            "  adding: content/Final_images/img_10763124.jpg (deflated 2%)\n",
            "  adding: content/Final_images/img_10830967.jpg (deflated 3%)\n",
            "  adding: content/Final_images/img_10839344.jpg (deflated 1%)\n",
            "  adding: content/Final_images/img_10705259.jpg (deflated 6%)\n",
            "  adding: content/Final_images/img_10610946.jpg (deflated 5%)\n",
            "  adding: content/Final_images/img_10724425.jpg (deflated 4%)\n",
            "  adding: content/Final_images/img_10660060.jpg (deflated 2%)\n",
            "  adding: content/Final_images/img_10903278.jpg (deflated 3%)\n",
            "  adding: content/Final_images/img_10827227.jpg (deflated 3%)\n",
            "  adding: content/Final_images/img_10839272.jpg (deflated 3%)\n",
            "  adding: content/Final_images/img_10683979.jpg (deflated 3%)\n",
            "  adding: content/Final_images/img_10656304.jpg (deflated 4%)\n",
            "  adding: content/Final_images/img_10721608.jpg (deflated 4%)\n",
            "  adding: content/Final_images/img_10832031.jpg (deflated 4%)\n",
            "  adding: content/Final_images/img_10905316.jpg (deflated 5%)\n",
            "  adding: content/Final_images/img_10784783.jpg (deflated 4%)\n",
            "  adding: content/Final_images/img_10783254.jpg (deflated 2%)\n",
            "  adding: content/Final_images/img_10839351.jpg (deflated 2%)\n",
            "  adding: content/Final_images/img_10830200.jpg (deflated 6%)\n",
            "  adding: content/Final_images/img_10590816.jpg (deflated 3%)\n",
            "  adding: content/Final_images/img_10782760.jpg (deflated 3%)\n",
            "  adding: content/Final_images/img_10879156.jpg (deflated 4%)\n",
            "  adding: content/Final_images/img_10754648.jpg (deflated 2%)\n",
            "  adding: content/Final_images/img_10748110.jpg (deflated 3%)\n",
            "  adding: content/Final_images/img_10756196.jpg (deflated 4%)\n",
            "  adding: content/Final_images/img_10886956.jpg (deflated 4%)\n",
            "  adding: content/Final_images/img_10782489.jpg (deflated 4%)\n",
            "  adding: content/Final_images/img_10779663.jpg (deflated 3%)\n",
            "  adding: content/Final_images/img_10724426.jpg (deflated 3%)\n",
            "  adding: content/Final_images/img_10906585.jpg (deflated 6%)\n",
            "  adding: content/Final_images/img_10763119.jpg (deflated 2%)\n",
            "  adding: content/Final_images/img_10782759.jpg (deflated 75%)\n",
            "  adding: content/Final_images/img_10839964.jpg (deflated 3%)\n",
            "  adding: content/Final_images/img_10683985.jpg (deflated 3%)\n",
            "  adding: content/Final_images/img_10839960.jpg (deflated 5%)\n",
            "  adding: content/Final_images/img_10747905.jpg (deflated 5%)\n",
            "  adding: content/Final_images/img_10829011.jpg (deflated 2%)\n",
            "  adding: content/Final_images/img_10586300.jpg (deflated 5%)\n",
            "  adding: content/Final_images/img_10781947.jpg (deflated 4%)\n",
            "  adding: content/Final_images/img_10751144.jpg (deflated 7%)\n",
            "  adding: content/Final_images/img_10655403.jpg (deflated 2%)\n",
            "  adding: content/Final_images/img_10839526.jpg (deflated 4%)\n",
            "  adding: content/Final_images/img_10419458.jpg (deflated 5%)\n",
            "  adding: content/Final_images/img_10781538.jpg (deflated 3%)\n",
            "  adding: content/Final_images/img_10729452.jpg (deflated 3%)\n",
            "  adding: content/Final_images/img_10763122.jpg (deflated 2%)\n",
            "  adding: content/Final_images/img_9768522.jpg (deflated 4%)\n",
            "  adding: content/Final_images/img_10833096.jpg (deflated 4%)\n",
            "  adding: content/Final_images/img_10699923.jpg (deflated 3%)\n",
            "  adding: content/Final_images/img_10756788.jpg (deflated 3%)\n",
            "  adding: content/Final_images/img_10781329.jpg (deflated 4%)\n",
            "  adding: content/Final_images/img_10837474.jpg (deflated 6%)\n",
            "  adding: content/Final_images/img_10833094.jpg (deflated 4%)\n",
            "  adding: content/Final_images/img_10280615.jpg (deflated 4%)\n",
            "  adding: content/Final_images/img_10755192.jpg (deflated 5%)\n",
            "  adding: content/Final_images/img_10683983.jpg (deflated 2%)\n",
            "  adding: content/Final_images/img_10837101.jpg (deflated 7%)\n",
            "  adding: content/Final_images/img_10886300.jpg (deflated 5%)\n",
            "  adding: content/Final_images/img_10525304.jpg (deflated 4%)\n",
            "  adding: content/Final_images/img_10781499.jpg (deflated 4%)\n",
            "  adding: content/Final_images/img_10872742.jpg (deflated 3%)\n",
            "  adding: content/Final_images/img_10837118.jpg (deflated 3%)\n",
            "  adding: content/Final_images/img_10757975.jpg (deflated 2%)\n",
            "  adding: content/Final_images/img_10839345.jpg (deflated 3%)\n"
          ],
          "name": "stdout"
        }
      ]
    }
  ]
}